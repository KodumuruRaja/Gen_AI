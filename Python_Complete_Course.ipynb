{
 "cells": [
  {
   "cell_type": "markdown",
   "id": "46136950",
   "metadata": {},
   "source": [
    "### 1) Pyhton was developed by Guido Van Rossum in the year 1991\n",
    "### 2) Features of Python are:-\n",
    "####   1) Simple\n",
    "####   2) Easy to learn\n",
    "####   3) Open Source\n",
    "####   4) High Level Language\n",
    "####  5) Dynamically Typed\n",
    "####   6) Scalable \n",
    "####   7) Portable\n",
    "####   8) Procedure and Object Oriented\n",
    "####   9) Interpreted\n",
    "####   10) Embeddable\n",
    "####   11) Extensible \n",
    "####   12) Database Connectivy\n",
    "####   13) Scripting Language\n",
    "####   14) Huge Library \n",
    "####   15) Platform Independent"
   ]
  },
  {
   "cell_type": "markdown",
   "id": "096a56b0",
   "metadata": {},
   "source": [
    "### 3) Comments : These are of 2 types. They are :-\n",
    "#### 1) Single Line Comments :- We use # followed by a sentence."
   ]
  },
  {
   "cell_type": "code",
   "execution_count": 1,
   "id": "0063dac0",
   "metadata": {},
   "outputs": [],
   "source": [
    "# My name is Raja"
   ]
  },
  {
   "cell_type": "markdown",
   "id": "b5889b5c",
   "metadata": {},
   "source": [
    "#### 2) Multi Line Comments :- In this we write Multi Line Sentences in between \"\"\" \"\"\""
   ]
  },
  {
   "cell_type": "code",
   "execution_count": 2,
   "id": "01c9c674",
   "metadata": {},
   "outputs": [
    {
     "data": {
      "text/plain": [
       "'My name is Raja.\\nI have experience in the fields of Data Science, Machine Learning, Deep Learning, NLP, Python, Generative AI, LangChain etc.\\nI love to code.'"
      ]
     },
     "execution_count": 2,
     "metadata": {},
     "output_type": "execute_result"
    }
   ],
   "source": [
    "\"\"\"My name is Raja.\n",
    "I have experience in the fields of Data Science, Machine Learning, Deep Learning, NLP, Python, Generative AI, LangChain etc.\n",
    "I love to code.\"\"\""
   ]
  },
  {
   "cell_type": "markdown",
   "id": "7b0cfff4",
   "metadata": {},
   "source": [
    "### 4) Data Types :- These are 5 types. They are :-"
   ]
  },
  {
   "cell_type": "markdown",
   "id": "3731c6fd",
   "metadata": {},
   "source": [
    "#### 1) None Type :- Object which does not contain any value\n",
    "#### 2) Numeric Types :- int, float, complex"
   ]
  },
  {
   "cell_type": "markdown",
   "id": "a2ee4608",
   "metadata": {},
   "source": [
    "#### int represents integers :- Ex :- 1, 20, 100\n",
    "#### float represents float numbers :- Ex :- 2.5, 13.7, 22.9\n",
    "#### complex represents complex numbers :- Ex :-  2+3j, 10+13j"
   ]
  },
  {
   "cell_type": "markdown",
   "id": "4b2d1136",
   "metadata": {},
   "source": [
    "#### 3) Boolean Type represents any of the two Boolean Values Ex :- True or False, 0 or 1."
   ]
  },
  {
   "cell_type": "markdown",
   "id": "2c3f2311",
   "metadata": {},
   "source": [
    "#### 4) Sequence Type :- List, Tuple, Set, Dictionary, Str, Range, Byte, Bytearray."
   ]
  },
  {
   "cell_type": "markdown",
   "id": "23c22915",
   "metadata": {},
   "source": [
    "#### 1) List :- This is represented by Square Braces []. It is similar to an array which can store a group of elements, but it can store different kinds of elements. \n",
    "#### Characteristics of Lists\n",
    "#### The characteristics of the List are as follows:\n",
    "\n",
    "#### The lists are in order.\n",
    "#### The list element can be accessed via the index.\n",
    "#### List is mutable\n",
    "#### The rundowns are changeable sorts.\n",
    "#### The number of various elements can be stored in a list."
   ]
  },
  {
   "cell_type": "code",
   "execution_count": 3,
   "id": "856c2c11",
   "metadata": {},
   "outputs": [
    {
     "data": {
      "text/plain": [
       "[1, 2, 3, 4, 5]"
      ]
     },
     "execution_count": 3,
     "metadata": {},
     "output_type": "execute_result"
    }
   ],
   "source": [
    "l = [1,2,3,4,5]\n",
    "l"
   ]
  },
  {
   "cell_type": "markdown",
   "id": "db2fde49",
   "metadata": {},
   "source": [
    "#### Accessing elements via Index"
   ]
  },
  {
   "cell_type": "code",
   "execution_count": 4,
   "id": "5cec38bf",
   "metadata": {},
   "outputs": [
    {
     "data": {
      "text/plain": [
       "1"
      ]
     },
     "execution_count": 4,
     "metadata": {},
     "output_type": "execute_result"
    }
   ],
   "source": [
    "l[0]"
   ]
  },
  {
   "cell_type": "code",
   "execution_count": 5,
   "id": "0731b801",
   "metadata": {},
   "outputs": [
    {
     "data": {
      "text/plain": [
       "2"
      ]
     },
     "execution_count": 5,
     "metadata": {},
     "output_type": "execute_result"
    }
   ],
   "source": [
    "l[1]"
   ]
  },
  {
   "cell_type": "code",
   "execution_count": 6,
   "id": "33bf93cd",
   "metadata": {},
   "outputs": [
    {
     "data": {
      "text/plain": [
       "[2, 3, 4, 5]"
      ]
     },
     "execution_count": 6,
     "metadata": {},
     "output_type": "execute_result"
    }
   ],
   "source": [
    "l[1:]"
   ]
  },
  {
   "cell_type": "code",
   "execution_count": 7,
   "id": "a3ee8465",
   "metadata": {},
   "outputs": [
    {
     "data": {
      "text/plain": [
       "[1, 2, 3]"
      ]
     },
     "execution_count": 7,
     "metadata": {},
     "output_type": "execute_result"
    }
   ],
   "source": [
    "l[:3]"
   ]
  },
  {
   "cell_type": "code",
   "execution_count": 8,
   "id": "7e3ded98",
   "metadata": {},
   "outputs": [
    {
     "data": {
      "text/plain": [
       "5"
      ]
     },
     "execution_count": 8,
     "metadata": {},
     "output_type": "execute_result"
    }
   ],
   "source": [
    "l[-1]"
   ]
  },
  {
   "cell_type": "code",
   "execution_count": 9,
   "id": "0a43b7b0",
   "metadata": {},
   "outputs": [
    {
     "data": {
      "text/plain": [
       "[1, 2, 3, 4, 5]"
      ]
     },
     "execution_count": 9,
     "metadata": {},
     "output_type": "execute_result"
    }
   ],
   "source": [
    "l[:]"
   ]
  },
  {
   "cell_type": "code",
   "execution_count": 10,
   "id": "b1b84a16",
   "metadata": {},
   "outputs": [
    {
     "data": {
      "text/plain": [
       "[3, 4]"
      ]
     },
     "execution_count": 10,
     "metadata": {},
     "output_type": "execute_result"
    }
   ],
   "source": [
    "l[-3:-1]"
   ]
  },
  {
   "cell_type": "markdown",
   "id": "cefe82e1",
   "metadata": {},
   "source": [
    "#### Append\n",
    "#### append(x): Add an item to the end of the list."
   ]
  },
  {
   "cell_type": "code",
   "execution_count": 11,
   "id": "d5743f99",
   "metadata": {},
   "outputs": [
    {
     "data": {
      "text/plain": [
       "[1, 2, 3, 4, 5, 6]"
      ]
     },
     "execution_count": 11,
     "metadata": {},
     "output_type": "execute_result"
    }
   ],
   "source": [
    "l.append(6)\n",
    "l"
   ]
  },
  {
   "cell_type": "markdown",
   "id": "b97f0d61",
   "metadata": {},
   "source": [
    "#### Index\n",
    "#### index(x[, start[, end]]): Return the index of the first occurrence of a value."
   ]
  },
  {
   "cell_type": "code",
   "execution_count": 12,
   "id": "1ded8d93",
   "metadata": {},
   "outputs": [
    {
     "data": {
      "text/plain": [
       "5"
      ]
     },
     "execution_count": 12,
     "metadata": {},
     "output_type": "execute_result"
    }
   ],
   "source": [
    "l.index(6)"
   ]
  },
  {
   "cell_type": "markdown",
   "id": "02626197",
   "metadata": {},
   "source": [
    "#### Insert\n",
    "#### insert(i, x): Insert an item at a given position."
   ]
  },
  {
   "cell_type": "code",
   "execution_count": 13,
   "id": "f618d7fa",
   "metadata": {},
   "outputs": [
    {
     "data": {
      "text/plain": [
       "[1, 10, 2, 3, 4, 5, 6]"
      ]
     },
     "execution_count": 13,
     "metadata": {},
     "output_type": "execute_result"
    }
   ],
   "source": [
    "l.insert(1,10)\n",
    "l"
   ]
  },
  {
   "cell_type": "markdown",
   "id": "40b5ed92",
   "metadata": {},
   "source": [
    "#### Copy\n",
    "#### copy(): Return a shallow copy of the list."
   ]
  },
  {
   "cell_type": "code",
   "execution_count": 14,
   "id": "b52fa92d",
   "metadata": {},
   "outputs": [
    {
     "data": {
      "text/plain": [
       "[1, 10, 2, 3, 4, 5, 6]"
      ]
     },
     "execution_count": 14,
     "metadata": {},
     "output_type": "execute_result"
    }
   ],
   "source": [
    "l1 = l.copy()\n",
    "l1"
   ]
  },
  {
   "cell_type": "markdown",
   "id": "f8109aac",
   "metadata": {},
   "source": [
    "#### Extend\n",
    "#### extend(iterable): Extend the list by appending elements from the iterable."
   ]
  },
  {
   "cell_type": "code",
   "execution_count": 15,
   "id": "b1f57392",
   "metadata": {},
   "outputs": [
    {
     "data": {
      "text/plain": [
       "[1, 10, 2, 3, 4, 5, 6, 1, 10, 2, 3, 4, 5, 6]"
      ]
     },
     "execution_count": 15,
     "metadata": {},
     "output_type": "execute_result"
    }
   ],
   "source": [
    "l.extend(l1)\n",
    "l"
   ]
  },
  {
   "cell_type": "markdown",
   "id": "f4d1a4c6",
   "metadata": {},
   "source": [
    "#### Sort\n",
    "#### sort(key=None, reverse=False): Sort the items of the list in place."
   ]
  },
  {
   "cell_type": "code",
   "execution_count": 16,
   "id": "be0c0c9a",
   "metadata": {},
   "outputs": [
    {
     "data": {
      "text/plain": [
       "[1, 1, 2, 2, 3, 3, 4, 4, 5, 5, 6, 6, 10, 10]"
      ]
     },
     "execution_count": 16,
     "metadata": {},
     "output_type": "execute_result"
    }
   ],
   "source": [
    "l.sort()\n",
    "l"
   ]
  },
  {
   "cell_type": "code",
   "execution_count": 17,
   "id": "b47fb3af",
   "metadata": {},
   "outputs": [
    {
     "data": {
      "text/plain": [
       "[10, 10, 6, 6, 5, 5, 4, 4, 3, 3, 2, 2, 1, 1]"
      ]
     },
     "execution_count": 17,
     "metadata": {},
     "output_type": "execute_result"
    }
   ],
   "source": [
    "l.sort(reverse=True)\n",
    "l"
   ]
  },
  {
   "cell_type": "markdown",
   "id": "2811dfdf",
   "metadata": {},
   "source": [
    "#### Reverse\n",
    "#### reverse(): Reverse the elements of the list in place."
   ]
  },
  {
   "cell_type": "code",
   "execution_count": 18,
   "id": "c8709754",
   "metadata": {},
   "outputs": [
    {
     "data": {
      "text/plain": [
       "[1, 1, 2, 2, 3, 3, 4, 4, 5, 5, 6, 6, 10, 10]"
      ]
     },
     "execution_count": 18,
     "metadata": {},
     "output_type": "execute_result"
    }
   ],
   "source": [
    "l.reverse()\n",
    "l"
   ]
  },
  {
   "cell_type": "markdown",
   "id": "ad4e2c3b",
   "metadata": {},
   "source": [
    "#### Count\n",
    "#### count(x): Return the number of occurrences of a value."
   ]
  },
  {
   "cell_type": "code",
   "execution_count": 19,
   "id": "f097c899",
   "metadata": {},
   "outputs": [
    {
     "data": {
      "text/plain": [
       "2"
      ]
     },
     "execution_count": 19,
     "metadata": {},
     "output_type": "execute_result"
    }
   ],
   "source": [
    "l.count(5)"
   ]
  },
  {
   "cell_type": "markdown",
   "id": "91ec5d20",
   "metadata": {},
   "source": [
    "#### Remove\n",
    "#### remove(x): Remove the first occurrence of a value from the list."
   ]
  },
  {
   "cell_type": "code",
   "execution_count": 20,
   "id": "de375242",
   "metadata": {},
   "outputs": [
    {
     "data": {
      "text/plain": [
       "[1, 1, 2, 2, 3, 4, 4, 5, 5, 6, 6, 10, 10]"
      ]
     },
     "execution_count": 20,
     "metadata": {},
     "output_type": "execute_result"
    }
   ],
   "source": [
    "l.remove(3)\n",
    "l"
   ]
  },
  {
   "cell_type": "markdown",
   "id": "d0d220b0",
   "metadata": {},
   "source": [
    "#### Pop\n",
    "#### pop([i]): Remove the item at the given position in the list, and return it."
   ]
  },
  {
   "cell_type": "code",
   "execution_count": 21,
   "id": "bfff11cf",
   "metadata": {},
   "outputs": [
    {
     "data": {
      "text/plain": [
       "[1, 1, 2, 2, 3, 4, 4, 5, 5, 6, 6, 10]"
      ]
     },
     "execution_count": 21,
     "metadata": {},
     "output_type": "execute_result"
    }
   ],
   "source": [
    "l.pop()\n",
    "l"
   ]
  },
  {
   "cell_type": "code",
   "execution_count": 22,
   "id": "91876ddd",
   "metadata": {},
   "outputs": [
    {
     "data": {
      "text/plain": [
       "[1, 1, 2, 2, 3, 4, 5, 5, 6, 6, 10]"
      ]
     },
     "execution_count": 22,
     "metadata": {},
     "output_type": "execute_result"
    }
   ],
   "source": [
    "l.pop(6)\n",
    "l"
   ]
  },
  {
   "cell_type": "markdown",
   "id": "4afad6a8",
   "metadata": {},
   "source": [
    "#### Len\n",
    "#### len(x) : Finds the number of elements present "
   ]
  },
  {
   "cell_type": "code",
   "execution_count": 23,
   "id": "e09fce28",
   "metadata": {},
   "outputs": [
    {
     "data": {
      "text/plain": [
       "11"
      ]
     },
     "execution_count": 23,
     "metadata": {},
     "output_type": "execute_result"
    }
   ],
   "source": [
    "len(l)"
   ]
  },
  {
   "cell_type": "markdown",
   "id": "9c21af8f",
   "metadata": {},
   "source": [
    "#### Max\n",
    "#### max(x) : finds the maximum number"
   ]
  },
  {
   "cell_type": "code",
   "execution_count": 24,
   "id": "0c45bedd",
   "metadata": {},
   "outputs": [
    {
     "data": {
      "text/plain": [
       "10"
      ]
     },
     "execution_count": 24,
     "metadata": {},
     "output_type": "execute_result"
    }
   ],
   "source": [
    "max(l)"
   ]
  },
  {
   "cell_type": "markdown",
   "id": "87cf0c70",
   "metadata": {},
   "source": [
    "#### Min\n",
    "#### min(x) : finds the minimum number"
   ]
  },
  {
   "cell_type": "code",
   "execution_count": 25,
   "id": "a2fc5721",
   "metadata": {},
   "outputs": [
    {
     "data": {
      "text/plain": [
       "1"
      ]
     },
     "execution_count": 25,
     "metadata": {},
     "output_type": "execute_result"
    }
   ],
   "source": [
    "min(l)"
   ]
  },
  {
   "cell_type": "markdown",
   "id": "06b99d76",
   "metadata": {},
   "source": [
    "#### Clear\n",
    "#### clear(): Remove all items from the list."
   ]
  },
  {
   "cell_type": "code",
   "execution_count": 26,
   "id": "f838e8b5",
   "metadata": {},
   "outputs": [
    {
     "data": {
      "text/plain": [
       "[]"
      ]
     },
     "execution_count": 26,
     "metadata": {},
     "output_type": "execute_result"
    }
   ],
   "source": [
    "l.clear()\n",
    "l"
   ]
  },
  {
   "cell_type": "code",
   "execution_count": null,
   "id": "2eadd7cf",
   "metadata": {},
   "outputs": [],
   "source": []
  },
  {
   "cell_type": "markdown",
   "id": "afb9e162",
   "metadata": {},
   "source": [
    "#### 2) Tuple"
   ]
  },
  {
   "cell_type": "markdown",
   "id": "8cc5fcc2",
   "metadata": {},
   "source": [
    "#### A tuple in Python is an immutable sequence of values. Immutable means that once a tuple is created, its elements cannot be changed or modified. Tuples are similar to lists, but they have some key differences:\n",
    "\n",
    "#### Immutability: Tuples are immutable, whereas lists are mutable. Once a tuple is created, you cannot change, add, or remove its elements.\n",
    "#### Syntax: Tuples are defined using parentheses ( )\n",
    "#### Ordered: Tuples maintain the order of elements as they are added.\n",
    "#### Heterogeneous: Tuples can contain elements of different data types, including integers, floats, strings, booleans, and even other tuples."
   ]
  },
  {
   "cell_type": "code",
   "execution_count": 27,
   "id": "4a4ea083",
   "metadata": {},
   "outputs": [
    {
     "data": {
      "text/plain": [
       "(1, 2, 3, 4, 5)"
      ]
     },
     "execution_count": 27,
     "metadata": {},
     "output_type": "execute_result"
    }
   ],
   "source": [
    "t = (1,2,3,4,5)\n",
    "t"
   ]
  },
  {
   "cell_type": "code",
   "execution_count": 28,
   "id": "00258cc0",
   "metadata": {},
   "outputs": [
    {
     "data": {
      "text/plain": [
       "1"
      ]
     },
     "execution_count": 28,
     "metadata": {},
     "output_type": "execute_result"
    }
   ],
   "source": [
    "t[0]"
   ]
  },
  {
   "cell_type": "code",
   "execution_count": 29,
   "id": "b9f4d3a7",
   "metadata": {},
   "outputs": [
    {
     "data": {
      "text/plain": [
       "(1, 2, 3, 4, 5)"
      ]
     },
     "execution_count": 29,
     "metadata": {},
     "output_type": "execute_result"
    }
   ],
   "source": [
    "t[:]"
   ]
  },
  {
   "cell_type": "code",
   "execution_count": 30,
   "id": "f12feb50",
   "metadata": {},
   "outputs": [
    {
     "data": {
      "text/plain": [
       "(2, 3, 4, 5)"
      ]
     },
     "execution_count": 30,
     "metadata": {},
     "output_type": "execute_result"
    }
   ],
   "source": [
    "t[1:]"
   ]
  },
  {
   "cell_type": "code",
   "execution_count": 31,
   "id": "e9d9b590",
   "metadata": {},
   "outputs": [
    {
     "data": {
      "text/plain": [
       "(1, 2, 3, 4, 5)"
      ]
     },
     "execution_count": 31,
     "metadata": {},
     "output_type": "execute_result"
    }
   ],
   "source": [
    "t[:5]"
   ]
  },
  {
   "cell_type": "code",
   "execution_count": 32,
   "id": "959cd9e0",
   "metadata": {},
   "outputs": [
    {
     "data": {
      "text/plain": [
       "5"
      ]
     },
     "execution_count": 32,
     "metadata": {},
     "output_type": "execute_result"
    }
   ],
   "source": [
    "t[-1]"
   ]
  },
  {
   "cell_type": "code",
   "execution_count": 33,
   "id": "d289d56f",
   "metadata": {},
   "outputs": [
    {
     "data": {
      "text/plain": [
       "(3, 4)"
      ]
     },
     "execution_count": 33,
     "metadata": {},
     "output_type": "execute_result"
    }
   ],
   "source": [
    "t[-3:-1]"
   ]
  },
  {
   "cell_type": "markdown",
   "id": "fceab23a",
   "metadata": {},
   "source": [
    "#### Index\n",
    "#### index(x): Returns the index of the first occurrence of value x in the tuple."
   ]
  },
  {
   "cell_type": "code",
   "execution_count": 34,
   "id": "460ce423",
   "metadata": {},
   "outputs": [
    {
     "data": {
      "text/plain": [
       "4"
      ]
     },
     "execution_count": 34,
     "metadata": {},
     "output_type": "execute_result"
    }
   ],
   "source": [
    "t.index(5)"
   ]
  },
  {
   "cell_type": "markdown",
   "id": "746b5300",
   "metadata": {},
   "source": [
    "#### Count\n",
    "#### count(x): Returns the number of times the value x appears in the tuple."
   ]
  },
  {
   "cell_type": "code",
   "execution_count": 35,
   "id": "17a7c167",
   "metadata": {},
   "outputs": [
    {
     "data": {
      "text/plain": [
       "1"
      ]
     },
     "execution_count": 35,
     "metadata": {},
     "output_type": "execute_result"
    }
   ],
   "source": [
    "t.count(5)"
   ]
  },
  {
   "cell_type": "markdown",
   "id": "987e5091",
   "metadata": {},
   "source": [
    "#### Len\n",
    "#### len(x) : It is used find the number of elements present"
   ]
  },
  {
   "cell_type": "code",
   "execution_count": 36,
   "id": "76e5296a",
   "metadata": {},
   "outputs": [
    {
     "data": {
      "text/plain": [
       "5"
      ]
     },
     "execution_count": 36,
     "metadata": {},
     "output_type": "execute_result"
    }
   ],
   "source": [
    "len(t)"
   ]
  },
  {
   "cell_type": "markdown",
   "id": "56c2759c",
   "metadata": {},
   "source": [
    "#### Max\n",
    "#### max(x) : It is used to find the largest number"
   ]
  },
  {
   "cell_type": "code",
   "execution_count": 37,
   "id": "d1614819",
   "metadata": {},
   "outputs": [
    {
     "data": {
      "text/plain": [
       "5"
      ]
     },
     "execution_count": 37,
     "metadata": {},
     "output_type": "execute_result"
    }
   ],
   "source": [
    "max(t)"
   ]
  },
  {
   "cell_type": "markdown",
   "id": "86364ff7",
   "metadata": {},
   "source": [
    "#### Min\n",
    "#### min(x) : It is used to find the minimum number"
   ]
  },
  {
   "cell_type": "code",
   "execution_count": 38,
   "id": "f48e274c",
   "metadata": {},
   "outputs": [
    {
     "data": {
      "text/plain": [
       "1"
      ]
     },
     "execution_count": 38,
     "metadata": {},
     "output_type": "execute_result"
    }
   ],
   "source": [
    "min(t)"
   ]
  },
  {
   "cell_type": "markdown",
   "id": "597df46f",
   "metadata": {},
   "source": [
    "#### Sorted\n",
    "#### sorted(x) : It is used to sort it in both Ascending and Descending"
   ]
  },
  {
   "cell_type": "code",
   "execution_count": 39,
   "id": "911e0723",
   "metadata": {},
   "outputs": [
    {
     "data": {
      "text/plain": [
       "[1, 2, 3, 4, 5]"
      ]
     },
     "execution_count": 39,
     "metadata": {},
     "output_type": "execute_result"
    }
   ],
   "source": [
    "sorted(t)"
   ]
  },
  {
   "cell_type": "code",
   "execution_count": 40,
   "id": "1ed8d6d3",
   "metadata": {},
   "outputs": [
    {
     "data": {
      "text/plain": [
       "[5, 4, 3, 2, 1]"
      ]
     },
     "execution_count": 40,
     "metadata": {},
     "output_type": "execute_result"
    }
   ],
   "source": [
    "sorted(t,reverse = True)"
   ]
  },
  {
   "cell_type": "markdown",
   "id": "455b125f",
   "metadata": {},
   "source": [
    "#### 3) Set\n",
    "#### A set in Python is an unordered collection of unique elements. Unlike lists or tuples, sets do not maintain the order of elements as they are added, and they do not allow duplicate elements. Sets are mutable, meaning you can add or remove elements from them, but the elements themselves must be immutable (e.g., integers, strings, tuples) since sets are implemented using hash tables.\n",
    "#### Sets are defined by enclosing a comma-separated list of elements within curly braces {}, or by using the set() constructor. "
   ]
  },
  {
   "cell_type": "markdown",
   "id": "0d79a120",
   "metadata": {},
   "source": [
    "#### Unordered: Sets do not maintain the order of elements as they are added. The elements are stored in an arbitrary order.\n",
    "#### Mutable: The set itself is mutable, meaning you can add or remove elements from it. \n",
    "#### Unique Elements: Sets do not allow duplicate elements. If you try to add an element that already exists in the set, it won't be added again.\n",
    "#### No Indexing: Since sets are unordered, you cannot access elements by index like in lists or tuples."
   ]
  },
  {
   "cell_type": "code",
   "execution_count": 41,
   "id": "3f919774",
   "metadata": {},
   "outputs": [
    {
     "data": {
      "text/plain": [
       "{1, 2, 3, 4, 5}"
      ]
     },
     "execution_count": 41,
     "metadata": {},
     "output_type": "execute_result"
    }
   ],
   "source": [
    "s = {1,2,3,4,5}\n",
    "s"
   ]
  },
  {
   "cell_type": "markdown",
   "id": "acaa0c0b",
   "metadata": {},
   "source": [
    "#### Len\n",
    "#### len(x) : Finds the number of elements present"
   ]
  },
  {
   "cell_type": "code",
   "execution_count": 42,
   "id": "0e29b473",
   "metadata": {},
   "outputs": [
    {
     "data": {
      "text/plain": [
       "5"
      ]
     },
     "execution_count": 42,
     "metadata": {},
     "output_type": "execute_result"
    }
   ],
   "source": [
    "len(s)"
   ]
  },
  {
   "cell_type": "markdown",
   "id": "99d4a9b0",
   "metadata": {},
   "source": [
    "#### Max\n",
    "#### max(x) : Finds the largest number"
   ]
  },
  {
   "cell_type": "code",
   "execution_count": 43,
   "id": "74e74e39",
   "metadata": {},
   "outputs": [
    {
     "data": {
      "text/plain": [
       "5"
      ]
     },
     "execution_count": 43,
     "metadata": {},
     "output_type": "execute_result"
    }
   ],
   "source": [
    "max(s)"
   ]
  },
  {
   "cell_type": "markdown",
   "id": "8fdb9ac6",
   "metadata": {},
   "source": [
    "#### Min\n",
    "#### min(x) : Finds the smallest number"
   ]
  },
  {
   "cell_type": "code",
   "execution_count": 44,
   "id": "fb182974",
   "metadata": {},
   "outputs": [
    {
     "data": {
      "text/plain": [
       "1"
      ]
     },
     "execution_count": 44,
     "metadata": {},
     "output_type": "execute_result"
    }
   ],
   "source": [
    "min(s)"
   ]
  },
  {
   "cell_type": "markdown",
   "id": "2cc1893b",
   "metadata": {},
   "source": [
    "#### add\n",
    "#### add(element): Adds a single element to the set. If the element is already present, it does nothing."
   ]
  },
  {
   "cell_type": "code",
   "execution_count": 45,
   "id": "80d8b448",
   "metadata": {},
   "outputs": [
    {
     "data": {
      "text/plain": [
       "{1, 2, 3, 4, 5, 6}"
      ]
     },
     "execution_count": 45,
     "metadata": {},
     "output_type": "execute_result"
    }
   ],
   "source": [
    "s.add(6)\n",
    "s"
   ]
  },
  {
   "cell_type": "markdown",
   "id": "ae48293a",
   "metadata": {},
   "source": [
    "#### copy\n",
    "#### copy(): Returns a shallow copy of the set."
   ]
  },
  {
   "cell_type": "code",
   "execution_count": 46,
   "id": "5ba9a997",
   "metadata": {},
   "outputs": [
    {
     "data": {
      "text/plain": [
       "{1, 2, 3, 4, 5, 6}"
      ]
     },
     "execution_count": 46,
     "metadata": {},
     "output_type": "execute_result"
    }
   ],
   "source": [
    "s1 = s.copy()\n",
    "s1"
   ]
  },
  {
   "cell_type": "code",
   "execution_count": 47,
   "id": "9c269fad",
   "metadata": {},
   "outputs": [
    {
     "data": {
      "text/plain": [
       "{4, 5, 6, 7, 8, 9}"
      ]
     },
     "execution_count": 47,
     "metadata": {},
     "output_type": "execute_result"
    }
   ],
   "source": [
    "s2 = {4,5,6,7,8,9}\n",
    "s2"
   ]
  },
  {
   "cell_type": "markdown",
   "id": "b929cb58",
   "metadata": {},
   "source": [
    "#### difference\n",
    "#### difference(*others): Returns the difference between the set and one or more sets (elements that are in the set but not in the others)."
   ]
  },
  {
   "cell_type": "code",
   "execution_count": 48,
   "id": "875db257",
   "metadata": {},
   "outputs": [
    {
     "data": {
      "text/plain": [
       "{7, 8, 9}"
      ]
     },
     "execution_count": 48,
     "metadata": {},
     "output_type": "execute_result"
    }
   ],
   "source": [
    "s2.difference(s1)"
   ]
  },
  {
   "cell_type": "code",
   "execution_count": 49,
   "id": "9363fd76",
   "metadata": {},
   "outputs": [
    {
     "data": {
      "text/plain": [
       "{1, 2, 3}"
      ]
     },
     "execution_count": 49,
     "metadata": {},
     "output_type": "execute_result"
    }
   ],
   "source": [
    "s1.difference(s2)"
   ]
  },
  {
   "cell_type": "markdown",
   "id": "8f0750d6",
   "metadata": {},
   "source": [
    "#### intersection\n",
    "#### intersection(*others): Returns the intersection of the set with one or more sets (elements that are common to all sets)."
   ]
  },
  {
   "cell_type": "code",
   "execution_count": 50,
   "id": "f15c34b2",
   "metadata": {},
   "outputs": [
    {
     "data": {
      "text/plain": [
       "{4, 5, 6}"
      ]
     },
     "execution_count": 50,
     "metadata": {},
     "output_type": "execute_result"
    }
   ],
   "source": [
    "s2.intersection(s1)"
   ]
  },
  {
   "cell_type": "markdown",
   "id": "4e55ddf6",
   "metadata": {},
   "source": [
    "#### intersection_update\n",
    "#### intersection_update(*others): Updates the set with the intersection of itself and one or more sets."
   ]
  },
  {
   "cell_type": "code",
   "execution_count": 51,
   "id": "ede12b2a",
   "metadata": {},
   "outputs": [],
   "source": [
    "s2.intersection_update(s1)"
   ]
  },
  {
   "cell_type": "code",
   "execution_count": 52,
   "id": "6624f1d4",
   "metadata": {},
   "outputs": [
    {
     "data": {
      "text/plain": [
       "{4, 5, 6}"
      ]
     },
     "execution_count": 52,
     "metadata": {},
     "output_type": "execute_result"
    }
   ],
   "source": [
    "s2"
   ]
  },
  {
   "cell_type": "code",
   "execution_count": null,
   "id": "1fc260ae",
   "metadata": {},
   "outputs": [],
   "source": []
  },
  {
   "cell_type": "code",
   "execution_count": 53,
   "id": "4c2befde",
   "metadata": {},
   "outputs": [],
   "source": [
    "s1 = {1,2,3,4,5}"
   ]
  },
  {
   "cell_type": "code",
   "execution_count": 54,
   "id": "9016533f",
   "metadata": {},
   "outputs": [],
   "source": [
    "s2 = {4,5,6,7,8}"
   ]
  },
  {
   "cell_type": "markdown",
   "id": "105fdf62",
   "metadata": {},
   "source": [
    "#### difference_update\n",
    "#### difference_update(*others): Removes all elements of other sets from the set."
   ]
  },
  {
   "cell_type": "code",
   "execution_count": 55,
   "id": "da717098",
   "metadata": {},
   "outputs": [],
   "source": [
    "s2.difference_update(s1)"
   ]
  },
  {
   "cell_type": "code",
   "execution_count": 56,
   "id": "b11b6e84",
   "metadata": {},
   "outputs": [
    {
     "data": {
      "text/plain": [
       "{6, 7, 8}"
      ]
     },
     "execution_count": 56,
     "metadata": {},
     "output_type": "execute_result"
    }
   ],
   "source": [
    "s2"
   ]
  },
  {
   "cell_type": "markdown",
   "id": "43fe9636",
   "metadata": {},
   "source": [
    "#### discard\n",
    "#### discard(element): Removes the specified element from the set if it is present."
   ]
  },
  {
   "cell_type": "code",
   "execution_count": 57,
   "id": "0d66388a",
   "metadata": {},
   "outputs": [],
   "source": [
    "s1.discard(1)"
   ]
  },
  {
   "cell_type": "code",
   "execution_count": 58,
   "id": "4dd8fcc6",
   "metadata": {},
   "outputs": [
    {
     "data": {
      "text/plain": [
       "{2, 3, 4, 5}"
      ]
     },
     "execution_count": 58,
     "metadata": {},
     "output_type": "execute_result"
    }
   ],
   "source": [
    "s1"
   ]
  },
  {
   "cell_type": "markdown",
   "id": "343fc8cb",
   "metadata": {},
   "source": [
    "#### isdisjoint\n",
    "#### isdisjoint(other): Returns True if the set has no elements in common with the other set."
   ]
  },
  {
   "cell_type": "code",
   "execution_count": 59,
   "id": "b0930230",
   "metadata": {},
   "outputs": [
    {
     "data": {
      "text/plain": [
       "True"
      ]
     },
     "execution_count": 59,
     "metadata": {},
     "output_type": "execute_result"
    }
   ],
   "source": [
    "s2.isdisjoint(s1)"
   ]
  },
  {
   "cell_type": "markdown",
   "id": "f0298bcf",
   "metadata": {},
   "source": [
    "#### issubset\n",
    "#### issubset(other): Returns True if every element in the set is present in the other set."
   ]
  },
  {
   "cell_type": "code",
   "execution_count": 60,
   "id": "b726e7d0",
   "metadata": {},
   "outputs": [
    {
     "data": {
      "text/plain": [
       "False"
      ]
     },
     "execution_count": 60,
     "metadata": {},
     "output_type": "execute_result"
    }
   ],
   "source": [
    "s1.issubset(s2)"
   ]
  },
  {
   "cell_type": "markdown",
   "id": "9b7d5965",
   "metadata": {},
   "source": [
    "#### issuperset\n",
    "#### issuperset(other): Returns True if every element in the other set is present in the set."
   ]
  },
  {
   "cell_type": "code",
   "execution_count": 61,
   "id": "c811372f",
   "metadata": {},
   "outputs": [
    {
     "data": {
      "text/plain": [
       "False"
      ]
     },
     "execution_count": 61,
     "metadata": {},
     "output_type": "execute_result"
    }
   ],
   "source": [
    "s2.issuperset(s1)"
   ]
  },
  {
   "cell_type": "markdown",
   "id": "02500d91",
   "metadata": {},
   "source": [
    "#### pop\n",
    "#### pop(): Removes and returns an arbitrary element from the set. Raises KeyError if the set is empty."
   ]
  },
  {
   "cell_type": "code",
   "execution_count": 62,
   "id": "c572c21c",
   "metadata": {},
   "outputs": [
    {
     "data": {
      "text/plain": [
       "{7, 8}"
      ]
     },
     "execution_count": 62,
     "metadata": {},
     "output_type": "execute_result"
    }
   ],
   "source": [
    "s2.pop()\n",
    "s2"
   ]
  },
  {
   "cell_type": "markdown",
   "id": "06c89de8",
   "metadata": {},
   "source": [
    "#### Remove\n",
    "#### remove(element): Removes the specified element from the set. Raises KeyError if the element is not present."
   ]
  },
  {
   "cell_type": "code",
   "execution_count": 63,
   "id": "c8233f96",
   "metadata": {},
   "outputs": [
    {
     "data": {
      "text/plain": [
       "{3, 4, 5}"
      ]
     },
     "execution_count": 63,
     "metadata": {},
     "output_type": "execute_result"
    }
   ],
   "source": [
    "s1.remove(2)\n",
    "s1"
   ]
  },
  {
   "cell_type": "markdown",
   "id": "258e65a1",
   "metadata": {},
   "source": [
    "#### symmetric_difference\n",
    "#### symmetric_difference(other): Returns the symmetric difference of the set with another set (elements that are in either set, but not both)."
   ]
  },
  {
   "cell_type": "code",
   "execution_count": 64,
   "id": "820066d7",
   "metadata": {},
   "outputs": [
    {
     "data": {
      "text/plain": [
       "{3, 4, 5, 7, 8}"
      ]
     },
     "execution_count": 64,
     "metadata": {},
     "output_type": "execute_result"
    }
   ],
   "source": [
    "s1.symmetric_difference(s2)"
   ]
  },
  {
   "cell_type": "markdown",
   "id": "87508a67",
   "metadata": {},
   "source": [
    "#### symmetric_difference_update\n",
    "#### symmetric_difference_update(other): Updates the set with the symmetric difference of itself and another set."
   ]
  },
  {
   "cell_type": "code",
   "execution_count": 65,
   "id": "33f8cc96",
   "metadata": {},
   "outputs": [],
   "source": [
    "s1.symmetric_difference_update(s2)"
   ]
  },
  {
   "cell_type": "code",
   "execution_count": 66,
   "id": "45fc3b30",
   "metadata": {},
   "outputs": [
    {
     "data": {
      "text/plain": [
       "{3, 4, 5, 7, 8}"
      ]
     },
     "execution_count": 66,
     "metadata": {},
     "output_type": "execute_result"
    }
   ],
   "source": [
    "s1"
   ]
  },
  {
   "cell_type": "markdown",
   "id": "a3eff01a",
   "metadata": {},
   "source": [
    "#### union\n",
    "#### union(*others): Returns the union of the set with one or more sets (all unique elements from all sets)."
   ]
  },
  {
   "cell_type": "code",
   "execution_count": 67,
   "id": "187243f0",
   "metadata": {},
   "outputs": [
    {
     "data": {
      "text/plain": [
       "{3, 4, 5, 7, 8}"
      ]
     },
     "execution_count": 67,
     "metadata": {},
     "output_type": "execute_result"
    }
   ],
   "source": [
    "s1.union(s2)"
   ]
  },
  {
   "cell_type": "markdown",
   "id": "d2235828",
   "metadata": {},
   "source": [
    "#### update\n",
    "#### update(*others): Updates the set with the union of itself and one or more sets."
   ]
  },
  {
   "cell_type": "code",
   "execution_count": 68,
   "id": "516de51f",
   "metadata": {},
   "outputs": [],
   "source": [
    "s1.update(s2)"
   ]
  },
  {
   "cell_type": "code",
   "execution_count": 69,
   "id": "3982578f",
   "metadata": {},
   "outputs": [
    {
     "data": {
      "text/plain": [
       "{3, 4, 5, 7, 8}"
      ]
     },
     "execution_count": 69,
     "metadata": {},
     "output_type": "execute_result"
    }
   ],
   "source": [
    "s1"
   ]
  },
  {
   "cell_type": "markdown",
   "id": "486c7ecb",
   "metadata": {},
   "source": [
    "#### Clear\n",
    "#### clear(): Removes all elements from the set."
   ]
  },
  {
   "cell_type": "code",
   "execution_count": 70,
   "id": "b3182a22",
   "metadata": {},
   "outputs": [],
   "source": [
    "s1.clear()"
   ]
  },
  {
   "cell_type": "markdown",
   "id": "c8426b32",
   "metadata": {},
   "source": [
    "#### 4) Dictionary"
   ]
  },
  {
   "cell_type": "markdown",
   "id": "77d0f736",
   "metadata": {},
   "source": [
    "#### A dictionary in Python is an unordered collection of key-value pairs. It is a mutable data type, meaning you can add, remove, and modify elements after it has been created. Each key in a dictionary must be unique and immutable (such as strings, numbers, or tuples), while values can be of any data type and can be duplicated.\n",
    "#### Dictionaries are defined using curly braces {}, with key-value pairs separated by colons :"
   ]
  },
  {
   "cell_type": "markdown",
   "id": "9ed2f3ef",
   "metadata": {},
   "source": [
    "#### Unordered: Dictionaries do not maintain the order of elements as they are added. The order in which key-value pairs are stored is arbitrary.\n",
    "\n",
    "#### Mutable: Dictionaries are mutable, meaning you can add, remove, and modify key-value pairs after the dictionary has been created.\n",
    "\n",
    "#### Key-Value Pairs: Dictionaries store data in the form of key-value pairs, where each key is associated with a corresponding value. Keys must be unique within a dictionary, but values can be duplicated.\n",
    "\n",
    "#### Keys must be immutable: Keys in a dictionary must be of an immutable data type, such as strings, numbers, or tuples. This requirement ensures that keys can be hashed and used for efficient lookups.\n",
    "\n",
    "#### Values can be of any data type: Values in a dictionary can be of any data type, including integers, floats, strings, lists, tuples, sets, dictionaries, or even custom objects.\n",
    "\n",
    "#### Key Mutability: Once a key-value pair is added to a dictionary, the key cannot be changed. However, the value associated with a key can be modified."
   ]
  },
  {
   "cell_type": "code",
   "execution_count": 71,
   "id": "6f313613",
   "metadata": {},
   "outputs": [
    {
     "data": {
      "text/plain": [
       "{'1': 'Raja', '2': 'Rajesh', '3': 'Raju', '4': 'Raj Kumar'}"
      ]
     },
     "execution_count": 71,
     "metadata": {},
     "output_type": "execute_result"
    }
   ],
   "source": [
    "d = {\"1\":\"Raja\",\"2\":\"Rajesh\",\"3\":\"Raju\",\"4\":\"Raj Kumar\"}\n",
    "d"
   ]
  },
  {
   "cell_type": "code",
   "execution_count": 72,
   "id": "b76c5859",
   "metadata": {},
   "outputs": [
    {
     "data": {
      "text/plain": [
       "'Raja'"
      ]
     },
     "execution_count": 72,
     "metadata": {},
     "output_type": "execute_result"
    }
   ],
   "source": [
    "d[\"1\"]"
   ]
  },
  {
   "cell_type": "code",
   "execution_count": 73,
   "id": "e4b57689",
   "metadata": {},
   "outputs": [
    {
     "data": {
      "text/plain": [
       "'Raj Kumar'"
      ]
     },
     "execution_count": 73,
     "metadata": {},
     "output_type": "execute_result"
    }
   ],
   "source": [
    "d[\"4\"]"
   ]
  },
  {
   "cell_type": "markdown",
   "id": "845d9973",
   "metadata": {},
   "source": [
    "#### Len\n",
    "#### len(x) : It is used to find the number of elements present"
   ]
  },
  {
   "cell_type": "code",
   "execution_count": 74,
   "id": "89e5a86b",
   "metadata": {},
   "outputs": [
    {
     "data": {
      "text/plain": [
       "4"
      ]
     },
     "execution_count": 74,
     "metadata": {},
     "output_type": "execute_result"
    }
   ],
   "source": [
    "len(d)"
   ]
  },
  {
   "cell_type": "markdown",
   "id": "402a3fbc",
   "metadata": {},
   "source": [
    "#### Max\n",
    "#### max(x) : It is used to find the maximum value"
   ]
  },
  {
   "cell_type": "code",
   "execution_count": 75,
   "id": "5a744f9d",
   "metadata": {},
   "outputs": [
    {
     "data": {
      "text/plain": [
       "'4'"
      ]
     },
     "execution_count": 75,
     "metadata": {},
     "output_type": "execute_result"
    }
   ],
   "source": [
    "max(d)"
   ]
  },
  {
   "cell_type": "markdown",
   "id": "eb882003",
   "metadata": {},
   "source": [
    "#### Min\n",
    "#### min(x) : It is used to find the minimum value"
   ]
  },
  {
   "cell_type": "code",
   "execution_count": 76,
   "id": "12baa839",
   "metadata": {},
   "outputs": [
    {
     "data": {
      "text/plain": [
       "'1'"
      ]
     },
     "execution_count": 76,
     "metadata": {},
     "output_type": "execute_result"
    }
   ],
   "source": [
    "min(d)"
   ]
  },
  {
   "cell_type": "markdown",
   "id": "816f6ca6",
   "metadata": {},
   "source": [
    "#### copy\n",
    "#### copy(): Returns a shallow copy of the dictionary."
   ]
  },
  {
   "cell_type": "code",
   "execution_count": 77,
   "id": "5d68c879",
   "metadata": {},
   "outputs": [
    {
     "data": {
      "text/plain": [
       "{'1': 'Raja', '2': 'Rajesh', '3': 'Raju', '4': 'Raj Kumar'}"
      ]
     },
     "execution_count": 77,
     "metadata": {},
     "output_type": "execute_result"
    }
   ],
   "source": [
    "d1 = d.copy()\n",
    "d1"
   ]
  },
  {
   "cell_type": "markdown",
   "id": "d27736f7",
   "metadata": {},
   "source": [
    "#### fromkeys\n",
    "#### fromkeys(iterable, value=None): Creates a new dictionary with keys from an iterable and values set to a default value (None by default)."
   ]
  },
  {
   "cell_type": "code",
   "execution_count": 78,
   "id": "d337587e",
   "metadata": {},
   "outputs": [
    {
     "data": {
      "text/plain": [
       "{'1': 'Raja', '2': 'Raja', '3': 'Raja', '4': 'Raja'}"
      ]
     },
     "execution_count": 78,
     "metadata": {},
     "output_type": "execute_result"
    }
   ],
   "source": [
    "d1.fromkeys('1234',\"Raja\")"
   ]
  },
  {
   "cell_type": "markdown",
   "id": "b4d23e9b",
   "metadata": {},
   "source": [
    "#### get\n",
    "#### get(key, default=None): Returns the value associated with the specified key. If the key is not found, it returns the default value (None by default) without raising an error."
   ]
  },
  {
   "cell_type": "code",
   "execution_count": 79,
   "id": "4908518a",
   "metadata": {},
   "outputs": [
    {
     "data": {
      "text/plain": [
       "'Raja'"
      ]
     },
     "execution_count": 79,
     "metadata": {},
     "output_type": "execute_result"
    }
   ],
   "source": [
    "d.get('1')"
   ]
  },
  {
   "cell_type": "markdown",
   "id": "51e5acf4",
   "metadata": {},
   "source": [
    "#### keys\n",
    "#### keys(): Returns a view object that displays a list of all keys in the dictionary."
   ]
  },
  {
   "cell_type": "code",
   "execution_count": 80,
   "id": "c7b2b43c",
   "metadata": {},
   "outputs": [
    {
     "data": {
      "text/plain": [
       "dict_keys(['1', '2', '3', '4'])"
      ]
     },
     "execution_count": 80,
     "metadata": {},
     "output_type": "execute_result"
    }
   ],
   "source": [
    "d.keys()"
   ]
  },
  {
   "cell_type": "markdown",
   "id": "1f535e3b",
   "metadata": {},
   "source": [
    "#### items\n",
    "#### items(): Returns a view object that displays a list of key-value tuples."
   ]
  },
  {
   "cell_type": "code",
   "execution_count": 81,
   "id": "d7d65bbc",
   "metadata": {},
   "outputs": [
    {
     "data": {
      "text/plain": [
       "dict_items([('1', 'Raja'), ('2', 'Rajesh'), ('3', 'Raju'), ('4', 'Raj Kumar')])"
      ]
     },
     "execution_count": 81,
     "metadata": {},
     "output_type": "execute_result"
    }
   ],
   "source": [
    "d.items()"
   ]
  },
  {
   "cell_type": "markdown",
   "id": "a0d8cc6c",
   "metadata": {},
   "source": [
    "#### values\n",
    "#### values(): Returns a view object that displays a list of all values in the dictionary."
   ]
  },
  {
   "cell_type": "code",
   "execution_count": 82,
   "id": "e91e7822",
   "metadata": {},
   "outputs": [
    {
     "data": {
      "text/plain": [
       "dict_values(['Raja', 'Rajesh', 'Raju', 'Raj Kumar'])"
      ]
     },
     "execution_count": 82,
     "metadata": {},
     "output_type": "execute_result"
    }
   ],
   "source": [
    "d.values()"
   ]
  },
  {
   "cell_type": "markdown",
   "id": "94345945",
   "metadata": {},
   "source": [
    "#### pop\n",
    "#### pop(key, default=None): Removes the key and returns its associated value. If the key is not found, it returns the default value (or raises a KeyError if no default is provided)."
   ]
  },
  {
   "cell_type": "code",
   "execution_count": 83,
   "id": "d781cd4a",
   "metadata": {},
   "outputs": [
    {
     "data": {
      "text/plain": [
       "'Raja'"
      ]
     },
     "execution_count": 83,
     "metadata": {},
     "output_type": "execute_result"
    }
   ],
   "source": [
    "d.pop('1')"
   ]
  },
  {
   "cell_type": "code",
   "execution_count": 84,
   "id": "04905e8a",
   "metadata": {},
   "outputs": [
    {
     "data": {
      "text/plain": [
       "{'2': 'Rajesh', '3': 'Raju', '4': 'Raj Kumar'}"
      ]
     },
     "execution_count": 84,
     "metadata": {},
     "output_type": "execute_result"
    }
   ],
   "source": [
    "d"
   ]
  },
  {
   "cell_type": "markdown",
   "id": "91fa9590",
   "metadata": {},
   "source": [
    "#### popitem\n",
    "#### popitem(): Removes and returns an arbitrary key-value pair as a tuple. Raises a KeyError if the dictionary is empty."
   ]
  },
  {
   "cell_type": "code",
   "execution_count": 85,
   "id": "dfd736db",
   "metadata": {},
   "outputs": [
    {
     "data": {
      "text/plain": [
       "('4', 'Raj Kumar')"
      ]
     },
     "execution_count": 85,
     "metadata": {},
     "output_type": "execute_result"
    }
   ],
   "source": [
    "d.popitem()"
   ]
  },
  {
   "cell_type": "code",
   "execution_count": 86,
   "id": "01884616",
   "metadata": {},
   "outputs": [
    {
     "data": {
      "text/plain": [
       "{'2': 'Rajesh', '3': 'Raju'}"
      ]
     },
     "execution_count": 86,
     "metadata": {},
     "output_type": "execute_result"
    }
   ],
   "source": [
    "d"
   ]
  },
  {
   "cell_type": "markdown",
   "id": "40b2332e",
   "metadata": {},
   "source": [
    "#### update\n",
    "#### update(iterable): Updates the dictionary with key-value pairs from an iterable, overwriting existing keys if present."
   ]
  },
  {
   "cell_type": "code",
   "execution_count": 87,
   "id": "00c0b657",
   "metadata": {},
   "outputs": [
    {
     "data": {
      "text/plain": [
       "{'2': 'Rajesh', '3': 'Raju', '1': 'Raja', '4': 'Raj Kumar'}"
      ]
     },
     "execution_count": 87,
     "metadata": {},
     "output_type": "execute_result"
    }
   ],
   "source": [
    "d.update(d1)\n",
    "d"
   ]
  },
  {
   "cell_type": "markdown",
   "id": "c29a83b3",
   "metadata": {},
   "source": [
    "#### clear\n",
    "#### clear(): Removes all elements from the dictionary."
   ]
  },
  {
   "cell_type": "code",
   "execution_count": 88,
   "id": "9ebd6ab3",
   "metadata": {},
   "outputs": [],
   "source": [
    "d.clear()"
   ]
  },
  {
   "cell_type": "markdown",
   "id": "ece1172c",
   "metadata": {},
   "source": [
    "#### 5) String"
   ]
  },
  {
   "cell_type": "markdown",
   "id": "bdf35a6f",
   "metadata": {},
   "source": [
    "#### A string in Python is a sequence of characters, enclosed within either single quotes (') or double quotes (\"). It can contain letters, numbers, symbols, and whitespace. Strings are immutable, meaning they cannot be changed after they are created. However, operations on strings, such as concatenation, slicing, and various string methods, can create new strings. Strings support various operations, including indexing, slicing, concatenation, repetition, and membership testing. Python provides a rich set of built-in methods for working with strings, such as converting case, searching, splitting, joining, and replacing. Strings are commonly used for representing and manipulating textual data in Python programs."
   ]
  },
  {
   "cell_type": "markdown",
   "id": "4d1bed86",
   "metadata": {},
   "source": [
    "#### Sequence of Characters: Strings are sequences of characters, which can include letters, numbers, symbols, and whitespace.\n",
    "\n",
    "#### Immutable: Strings in Python are immutable, meaning they cannot be changed after they are created. Operations that modify strings actually create new strings.\n",
    "\n",
    "#### Ordered: Strings maintain the order of characters as they are defined. This means that the position of each character in the string is fixed.\n",
    "\n",
    "#### Indexing and Slicing: You can access individual characters or substrings within a string using indexing and slicing. Indexing starts from 0 for the first character and goes up to len(string) - 1.\n",
    "\n",
    "##### Concatenation: Strings can be concatenated using the + operator. For example, \"hello\" + \"world\" results in the string \"helloworld\"."
   ]
  },
  {
   "cell_type": "code",
   "execution_count": 89,
   "id": "2103904e",
   "metadata": {},
   "outputs": [
    {
     "data": {
      "text/plain": [
       "'Raja Kodumuru'"
      ]
     },
     "execution_count": 89,
     "metadata": {},
     "output_type": "execute_result"
    }
   ],
   "source": [
    "st = \"Raja Kodumuru\"\n",
    "st"
   ]
  },
  {
   "cell_type": "code",
   "execution_count": 90,
   "id": "54bbc416",
   "metadata": {},
   "outputs": [
    {
     "data": {
      "text/plain": [
       "'R'"
      ]
     },
     "execution_count": 90,
     "metadata": {},
     "output_type": "execute_result"
    }
   ],
   "source": [
    "st[0]"
   ]
  },
  {
   "cell_type": "code",
   "execution_count": 91,
   "id": "6ac21882",
   "metadata": {},
   "outputs": [
    {
     "data": {
      "text/plain": [
       "'Raja Kodumuru'"
      ]
     },
     "execution_count": 91,
     "metadata": {},
     "output_type": "execute_result"
    }
   ],
   "source": [
    "st[:]"
   ]
  },
  {
   "cell_type": "code",
   "execution_count": 92,
   "id": "8e57643d",
   "metadata": {},
   "outputs": [
    {
     "data": {
      "text/plain": [
       "'K'"
      ]
     },
     "execution_count": 92,
     "metadata": {},
     "output_type": "execute_result"
    }
   ],
   "source": [
    "st[5]"
   ]
  },
  {
   "cell_type": "code",
   "execution_count": 93,
   "id": "834436a7",
   "metadata": {},
   "outputs": [
    {
     "data": {
      "text/plain": [
       "'Raja Kod'"
      ]
     },
     "execution_count": 93,
     "metadata": {},
     "output_type": "execute_result"
    }
   ],
   "source": [
    "st[:8]"
   ]
  },
  {
   "cell_type": "code",
   "execution_count": 94,
   "id": "0388c132",
   "metadata": {},
   "outputs": [
    {
     "data": {
      "text/plain": [
       "' Kodumuru'"
      ]
     },
     "execution_count": 94,
     "metadata": {},
     "output_type": "execute_result"
    }
   ],
   "source": [
    "st[4:]"
   ]
  },
  {
   "cell_type": "code",
   "execution_count": 95,
   "id": "0070d720",
   "metadata": {},
   "outputs": [
    {
     "data": {
      "text/plain": [
       "'u'"
      ]
     },
     "execution_count": 95,
     "metadata": {},
     "output_type": "execute_result"
    }
   ],
   "source": [
    "st[-1]"
   ]
  },
  {
   "cell_type": "code",
   "execution_count": 96,
   "id": "83f8ac25",
   "metadata": {},
   "outputs": [
    {
     "data": {
      "text/plain": [
       "'um'"
      ]
     },
     "execution_count": 96,
     "metadata": {},
     "output_type": "execute_result"
    }
   ],
   "source": [
    "st[-5:-3]"
   ]
  },
  {
   "cell_type": "code",
   "execution_count": 97,
   "id": "bd472ba2",
   "metadata": {},
   "outputs": [
    {
     "data": {
      "text/plain": [
       "'dumuru'"
      ]
     },
     "execution_count": 97,
     "metadata": {},
     "output_type": "execute_result"
    }
   ],
   "source": [
    "st[-6:]"
   ]
  },
  {
   "cell_type": "markdown",
   "id": "71f68b05",
   "metadata": {},
   "source": [
    "#### Len\n",
    "#### len(x) : Finds the number of Charecters present"
   ]
  },
  {
   "cell_type": "code",
   "execution_count": 98,
   "id": "fe315c15",
   "metadata": {},
   "outputs": [
    {
     "data": {
      "text/plain": [
       "13"
      ]
     },
     "execution_count": 98,
     "metadata": {},
     "output_type": "execute_result"
    }
   ],
   "source": [
    "len(st)"
   ]
  },
  {
   "cell_type": "markdown",
   "id": "a3d53bf0",
   "metadata": {},
   "source": [
    "#### Max\n",
    "#### max(x) : Finds the last alphabet in alphabet series of string"
   ]
  },
  {
   "cell_type": "code",
   "execution_count": 99,
   "id": "0299dcdb",
   "metadata": {},
   "outputs": [
    {
     "data": {
      "text/plain": [
       "'u'"
      ]
     },
     "execution_count": 99,
     "metadata": {},
     "output_type": "execute_result"
    }
   ],
   "source": [
    "max(st)"
   ]
  },
  {
   "cell_type": "markdown",
   "id": "945478ee",
   "metadata": {},
   "source": [
    "#### Min\n",
    "#### min(x) : Finds the first alphabet in alphabet series of string or WhiteSpace if Present"
   ]
  },
  {
   "cell_type": "code",
   "execution_count": 100,
   "id": "a4c1b5bb",
   "metadata": {
    "scrolled": true
   },
   "outputs": [
    {
     "data": {
      "text/plain": [
       "' '"
      ]
     },
     "execution_count": 100,
     "metadata": {},
     "output_type": "execute_result"
    }
   ],
   "source": [
    "min(st)"
   ]
  },
  {
   "cell_type": "markdown",
   "id": "cbc70309",
   "metadata": {},
   "source": [
    "#### Capitalize\n",
    "#### capitalize(): Returns a copy of the string with the first character capitalized and the rest lowercased."
   ]
  },
  {
   "cell_type": "code",
   "execution_count": 101,
   "id": "f86aa087",
   "metadata": {},
   "outputs": [
    {
     "data": {
      "text/plain": [
       "'Raja kodumuru'"
      ]
     },
     "execution_count": 101,
     "metadata": {},
     "output_type": "execute_result"
    }
   ],
   "source": [
    "st.capitalize()"
   ]
  },
  {
   "cell_type": "markdown",
   "id": "66af9dc6",
   "metadata": {},
   "source": [
    "#### Casefold\n",
    "#### casefold(): Returns a casefolded copy of the string, suitable for case-insensitive comparisons."
   ]
  },
  {
   "cell_type": "code",
   "execution_count": 102,
   "id": "61043136",
   "metadata": {},
   "outputs": [
    {
     "data": {
      "text/plain": [
       "'raja kodumuru'"
      ]
     },
     "execution_count": 102,
     "metadata": {},
     "output_type": "execute_result"
    }
   ],
   "source": [
    "st.casefold()"
   ]
  },
  {
   "cell_type": "markdown",
   "id": "d8c71c36",
   "metadata": {},
   "source": [
    "#### Center\n",
    "#### center(width, fillchar=' '): Returns a centered string of specified width, padded with the specified fill character (space by default)."
   ]
  },
  {
   "cell_type": "code",
   "execution_count": 103,
   "id": "f200f9dd",
   "metadata": {},
   "outputs": [
    {
     "data": {
      "text/plain": [
       "'                  Raja Kodumuru                   '"
      ]
     },
     "execution_count": 103,
     "metadata": {},
     "output_type": "execute_result"
    }
   ],
   "source": [
    "st.center(50)"
   ]
  },
  {
   "cell_type": "markdown",
   "id": "2048d7b1",
   "metadata": {},
   "source": [
    "#### Count\n",
    "#### count(substring, start=0, end=len(string)): Returns the number of non-overlapping occurrences of a substring in the string."
   ]
  },
  {
   "cell_type": "code",
   "execution_count": 104,
   "id": "3f6d6b9d",
   "metadata": {},
   "outputs": [
    {
     "data": {
      "text/plain": [
       "1"
      ]
     },
     "execution_count": 104,
     "metadata": {},
     "output_type": "execute_result"
    }
   ],
   "source": [
    "st.count(\"Raja\")"
   ]
  },
  {
   "cell_type": "markdown",
   "id": "5ed7c53f",
   "metadata": {},
   "source": [
    "#### Encode\n",
    "#### encode(encoding='utf-8', errors='strict'): Returns the encoded version of the string as a bytes object."
   ]
  },
  {
   "cell_type": "code",
   "execution_count": 105,
   "id": "72096c2d",
   "metadata": {},
   "outputs": [
    {
     "data": {
      "text/plain": [
       "b'Raja Kodumuru'"
      ]
     },
     "execution_count": 105,
     "metadata": {},
     "output_type": "execute_result"
    }
   ],
   "source": [
    "st.encode(encoding = 'utf-8')"
   ]
  },
  {
   "cell_type": "markdown",
   "id": "7715dcfb",
   "metadata": {},
   "source": [
    "#### EndsWith\n",
    "#### endswith(suffix, start=0, end=len(string)): Returns True if the string ends with the specified suffix; otherwise, returns False."
   ]
  },
  {
   "cell_type": "code",
   "execution_count": 106,
   "id": "fae8e18b",
   "metadata": {},
   "outputs": [
    {
     "data": {
      "text/plain": [
       "True"
      ]
     },
     "execution_count": 106,
     "metadata": {},
     "output_type": "execute_result"
    }
   ],
   "source": [
    "st.endswith(\"uru\")"
   ]
  },
  {
   "cell_type": "markdown",
   "id": "0f45110a",
   "metadata": {},
   "source": [
    "#### ExpandTabs\n",
    "#### expandtabs(tabsize=x): Returns a copy of the string with tab characters expanded using spaces"
   ]
  },
  {
   "cell_type": "code",
   "execution_count": 107,
   "id": "4ef2f639",
   "metadata": {},
   "outputs": [
    {
     "data": {
      "text/plain": [
       "'Raja Kodumuru'"
      ]
     },
     "execution_count": 107,
     "metadata": {},
     "output_type": "execute_result"
    }
   ],
   "source": [
    "st.expandtabs(tabsize=8)"
   ]
  },
  {
   "cell_type": "markdown",
   "id": "1d8dd2f1",
   "metadata": {},
   "source": [
    "#### Find\n",
    "#### find(substring, start=0, end=len(string)): Returns the lowest index of the substring in the string, or -1 if it's not found."
   ]
  },
  {
   "cell_type": "code",
   "execution_count": 108,
   "id": "65dcab84",
   "metadata": {},
   "outputs": [
    {
     "data": {
      "text/plain": [
       "0"
      ]
     },
     "execution_count": 108,
     "metadata": {},
     "output_type": "execute_result"
    }
   ],
   "source": [
    "st.find(\"Raj\")"
   ]
  },
  {
   "cell_type": "markdown",
   "id": "6ed10884",
   "metadata": {},
   "source": [
    "#### Index\n",
    "#### index(substring, start=0, end=len(string)): Returns the lowest index of the substring in the string, or raises a ValueError if it's not found."
   ]
  },
  {
   "cell_type": "code",
   "execution_count": 109,
   "id": "7caa046a",
   "metadata": {},
   "outputs": [
    {
     "data": {
      "text/plain": [
       "10"
      ]
     },
     "execution_count": 109,
     "metadata": {},
     "output_type": "execute_result"
    }
   ],
   "source": [
    "st.index(\"uru\")"
   ]
  },
  {
   "cell_type": "markdown",
   "id": "de495583",
   "metadata": {},
   "source": [
    "#### IsalNum\n",
    "#### isalnum(): Returns True if all characters in the string are alphanumeric (letters or numbers); otherwise, returns False."
   ]
  },
  {
   "cell_type": "code",
   "execution_count": 110,
   "id": "35d5a1ef",
   "metadata": {},
   "outputs": [
    {
     "data": {
      "text/plain": [
       "False"
      ]
     },
     "execution_count": 110,
     "metadata": {},
     "output_type": "execute_result"
    }
   ],
   "source": [
    "st.isalnum()"
   ]
  },
  {
   "cell_type": "markdown",
   "id": "b5f6bae3",
   "metadata": {},
   "source": [
    "#### IsAlpha\n",
    "#### isalpha(): Returns True if all characters in the string are alphabetic (letters); otherwise, returns False."
   ]
  },
  {
   "cell_type": "code",
   "execution_count": 111,
   "id": "d7b6cc47",
   "metadata": {},
   "outputs": [
    {
     "data": {
      "text/plain": [
       "False"
      ]
     },
     "execution_count": 111,
     "metadata": {},
     "output_type": "execute_result"
    }
   ],
   "source": [
    "st.isalpha()"
   ]
  },
  {
   "cell_type": "markdown",
   "id": "bd028e7e",
   "metadata": {},
   "source": [
    "#### IsASCII\n",
    "#### isascii(): Returns True if all characters in the string are ASCII; otherwise, returns False"
   ]
  },
  {
   "cell_type": "code",
   "execution_count": 112,
   "id": "60a0442f",
   "metadata": {},
   "outputs": [
    {
     "data": {
      "text/plain": [
       "True"
      ]
     },
     "execution_count": 112,
     "metadata": {},
     "output_type": "execute_result"
    }
   ],
   "source": [
    "st.isascii()"
   ]
  },
  {
   "cell_type": "markdown",
   "id": "210481ff",
   "metadata": {},
   "source": [
    "#### IsDecimal\n",
    "#### isdecimal(): Returns True if all characters in the string are decimal characters; otherwise, returns False."
   ]
  },
  {
   "cell_type": "code",
   "execution_count": 113,
   "id": "91463439",
   "metadata": {},
   "outputs": [
    {
     "data": {
      "text/plain": [
       "False"
      ]
     },
     "execution_count": 113,
     "metadata": {},
     "output_type": "execute_result"
    }
   ],
   "source": [
    "st.isdecimal()"
   ]
  },
  {
   "cell_type": "markdown",
   "id": "6ec7db6c",
   "metadata": {},
   "source": [
    "#### IsDigit\n",
    "#### isdigit(): Returns True if all characters in the string are digits; otherwise, returns False."
   ]
  },
  {
   "cell_type": "code",
   "execution_count": 114,
   "id": "ff58e04a",
   "metadata": {},
   "outputs": [
    {
     "data": {
      "text/plain": [
       "False"
      ]
     },
     "execution_count": 114,
     "metadata": {},
     "output_type": "execute_result"
    }
   ],
   "source": [
    "st.isdigit()"
   ]
  },
  {
   "cell_type": "markdown",
   "id": "781e2991",
   "metadata": {},
   "source": [
    "#### IsIdentifier\n",
    "#### isidentifier(): Returns True if the string is a valid identifier; otherwise, returns False."
   ]
  },
  {
   "cell_type": "code",
   "execution_count": 115,
   "id": "3fbc3371",
   "metadata": {},
   "outputs": [
    {
     "data": {
      "text/plain": [
       "False"
      ]
     },
     "execution_count": 115,
     "metadata": {},
     "output_type": "execute_result"
    }
   ],
   "source": [
    "st.isidentifier()"
   ]
  },
  {
   "cell_type": "markdown",
   "id": "3ca1fd35",
   "metadata": {},
   "source": [
    "#### IsLower\n",
    "#### islower(): Returns True if all cased characters in the string are lowercase and there is at least one cased character; otherwise, returns False."
   ]
  },
  {
   "cell_type": "code",
   "execution_count": 116,
   "id": "2641d2be",
   "metadata": {},
   "outputs": [
    {
     "data": {
      "text/plain": [
       "False"
      ]
     },
     "execution_count": 116,
     "metadata": {},
     "output_type": "execute_result"
    }
   ],
   "source": [
    "st.islower()"
   ]
  },
  {
   "cell_type": "markdown",
   "id": "185b48a3",
   "metadata": {},
   "source": [
    "#### IsNumeric\n",
    "#### isnumeric(): Returns True if all characters in the string are numeric characters; otherwise, returns False"
   ]
  },
  {
   "cell_type": "code",
   "execution_count": 117,
   "id": "07942601",
   "metadata": {},
   "outputs": [
    {
     "data": {
      "text/plain": [
       "False"
      ]
     },
     "execution_count": 117,
     "metadata": {},
     "output_type": "execute_result"
    }
   ],
   "source": [
    "st.isnumeric()"
   ]
  },
  {
   "cell_type": "markdown",
   "id": "316bf0b5",
   "metadata": {},
   "source": [
    "#### IsSpace\n",
    "#### isspace(): Returns True if all characters in the string are whitespace characters; otherwise, returns False."
   ]
  },
  {
   "cell_type": "code",
   "execution_count": 118,
   "id": "bd6c7360",
   "metadata": {},
   "outputs": [
    {
     "data": {
      "text/plain": [
       "False"
      ]
     },
     "execution_count": 118,
     "metadata": {},
     "output_type": "execute_result"
    }
   ],
   "source": [
    "st.isspace()"
   ]
  },
  {
   "cell_type": "markdown",
   "id": "77a42131",
   "metadata": {},
   "source": [
    "#### IsTitle\n",
    "#### istitle(): Returns True if the string is titlecased (i.e., all words in the string have the first character capitalized); otherwise, returns False."
   ]
  },
  {
   "cell_type": "code",
   "execution_count": 119,
   "id": "cd948c49",
   "metadata": {},
   "outputs": [
    {
     "data": {
      "text/plain": [
       "True"
      ]
     },
     "execution_count": 119,
     "metadata": {},
     "output_type": "execute_result"
    }
   ],
   "source": [
    "st.istitle()"
   ]
  },
  {
   "cell_type": "markdown",
   "id": "9b02c83e",
   "metadata": {},
   "source": [
    "#### IsUpper\n",
    "#### isupper(): Returns True if all cased characters in the string are uppercase and there is at least one cased character; otherwise, returns False."
   ]
  },
  {
   "cell_type": "code",
   "execution_count": 120,
   "id": "5d472263",
   "metadata": {},
   "outputs": [
    {
     "data": {
      "text/plain": [
       "False"
      ]
     },
     "execution_count": 120,
     "metadata": {},
     "output_type": "execute_result"
    }
   ],
   "source": [
    "st.isupper()"
   ]
  },
  {
   "cell_type": "markdown",
   "id": "ae3f0786",
   "metadata": {},
   "source": [
    "#### Join\n",
    "#### join(iterable): Concatenates elements of an iterable using the string as a separator."
   ]
  },
  {
   "cell_type": "code",
   "execution_count": 121,
   "id": "932452fc",
   "metadata": {},
   "outputs": [
    {
     "data": {
      "text/plain": [
       "'Khammam'"
      ]
     },
     "execution_count": 121,
     "metadata": {},
     "output_type": "execute_result"
    }
   ],
   "source": [
    "st1 = \"Khammam\"\n",
    "st1"
   ]
  },
  {
   "cell_type": "code",
   "execution_count": 122,
   "id": "815f0ab2",
   "metadata": {},
   "outputs": [
    {
     "data": {
      "text/plain": [
       "'KRaja KodumuruhRaja KodumuruaRaja KodumurumRaja KodumurumRaja KodumuruaRaja Kodumurum'"
      ]
     },
     "execution_count": 122,
     "metadata": {},
     "output_type": "execute_result"
    }
   ],
   "source": [
    "st.join(st1)"
   ]
  },
  {
   "cell_type": "markdown",
   "id": "efad3bf3",
   "metadata": {},
   "source": [
    "#### ljust\n",
    "#### ljust(width, fillchar=' '): Returns a left-justified string of specified width, padded with the specified fill character (space by default)."
   ]
  },
  {
   "cell_type": "code",
   "execution_count": 123,
   "id": "396298c5",
   "metadata": {},
   "outputs": [
    {
     "data": {
      "text/plain": [
       "'Raja Kodumuru'"
      ]
     },
     "execution_count": 123,
     "metadata": {},
     "output_type": "execute_result"
    }
   ],
   "source": [
    "st.ljust(10)"
   ]
  },
  {
   "cell_type": "markdown",
   "id": "e6c72261",
   "metadata": {},
   "source": [
    "#### Lower\n",
    "#### lower(): Returns a copy of the string with all characters converted to lowercase."
   ]
  },
  {
   "cell_type": "code",
   "execution_count": 124,
   "id": "3eea247f",
   "metadata": {},
   "outputs": [
    {
     "data": {
      "text/plain": [
       "'raja kodumuru'"
      ]
     },
     "execution_count": 124,
     "metadata": {},
     "output_type": "execute_result"
    }
   ],
   "source": [
    "st.lower()"
   ]
  },
  {
   "cell_type": "markdown",
   "id": "bc962bbd",
   "metadata": {},
   "source": [
    "#### lstrip\n",
    "#### lstrip(chars=None): Returns a copy of the string with leading characters removed. If chars is specified, removes characters in chars instead."
   ]
  },
  {
   "cell_type": "code",
   "execution_count": 125,
   "id": "4ab1f3c1",
   "metadata": {},
   "outputs": [
    {
     "data": {
      "text/plain": [
       "' Kodumuru'"
      ]
     },
     "execution_count": 125,
     "metadata": {},
     "output_type": "execute_result"
    }
   ],
   "source": [
    "st.lstrip(\"Raja\")"
   ]
  },
  {
   "cell_type": "markdown",
   "id": "f8192e70",
   "metadata": {},
   "source": [
    "#### Partition\n",
    "#### partition(separator): Splits the string at the first occurrence of the separator and returns a tuple containing the part before the separator, the separator itself, and the part after the separator."
   ]
  },
  {
   "cell_type": "code",
   "execution_count": 126,
   "id": "2cf2997b",
   "metadata": {},
   "outputs": [
    {
     "data": {
      "text/plain": [
       "('R', 'aja', ' Kodumuru')"
      ]
     },
     "execution_count": 126,
     "metadata": {},
     "output_type": "execute_result"
    }
   ],
   "source": [
    "st.partition('aja')"
   ]
  },
  {
   "cell_type": "markdown",
   "id": "16a87b11",
   "metadata": {},
   "source": [
    "#### Replace\n",
    "#### replace(old, new, count=-1): Returns a copy of the string with all occurrences of the old substring replaced by the new substring. If count is provided, only the first count occurrences are replaced."
   ]
  },
  {
   "cell_type": "code",
   "execution_count": 127,
   "id": "90e82c51",
   "metadata": {},
   "outputs": [
    {
     "data": {
      "text/plain": [
       "'Raju Kodumuru'"
      ]
     },
     "execution_count": 127,
     "metadata": {},
     "output_type": "execute_result"
    }
   ],
   "source": [
    "st.replace(\"Raja\",\"Raju\")"
   ]
  },
  {
   "cell_type": "markdown",
   "id": "30abe940",
   "metadata": {},
   "source": [
    "#### rfind\n",
    "#### rfind(substring, start=0, end=len(string)): Returns the highest index of the substring in the string, or -1 if it's not found."
   ]
  },
  {
   "cell_type": "code",
   "execution_count": 128,
   "id": "9c020a8a",
   "metadata": {},
   "outputs": [
    {
     "data": {
      "text/plain": [
       "-1"
      ]
     },
     "execution_count": 128,
     "metadata": {},
     "output_type": "execute_result"
    }
   ],
   "source": [
    "st.rfind(\"Raju\")"
   ]
  },
  {
   "cell_type": "markdown",
   "id": "1ca6e223",
   "metadata": {},
   "source": [
    "#### rindex\n",
    "#### rindex(substring, start=0, end=len(string)): Returns the highest index of the substring in the string, or raises a ValueError if it's not found."
   ]
  },
  {
   "cell_type": "code",
   "execution_count": 129,
   "id": "94182518",
   "metadata": {},
   "outputs": [
    {
     "data": {
      "text/plain": [
       "2"
      ]
     },
     "execution_count": 129,
     "metadata": {},
     "output_type": "execute_result"
    }
   ],
   "source": [
    "st.rindex(\"j\")"
   ]
  },
  {
   "cell_type": "markdown",
   "id": "07326e83",
   "metadata": {},
   "source": [
    "#### rjust\n",
    "#### rjust(width, fillchar=' '): Returns a right-justified string of specified width, padded with the specified fill character (space by default)."
   ]
  },
  {
   "cell_type": "code",
   "execution_count": 130,
   "id": "99d7f0bc",
   "metadata": {},
   "outputs": [
    {
     "data": {
      "text/plain": [
       "'                                     Raja Kodumuru'"
      ]
     },
     "execution_count": 130,
     "metadata": {},
     "output_type": "execute_result"
    }
   ],
   "source": [
    "st.rjust(50)"
   ]
  },
  {
   "cell_type": "markdown",
   "id": "242736f6",
   "metadata": {},
   "source": [
    "#### rpartition\n",
    "#### rpartition(separator): Splits the string at the last occurrence of the separator and returns a tuple containing the part before the separator, the separator itself, and the part after the separator."
   ]
  },
  {
   "cell_type": "code",
   "execution_count": 131,
   "id": "2b728618",
   "metadata": {},
   "outputs": [
    {
     "data": {
      "text/plain": [
       "('R', 'aja', ' Kodumuru')"
      ]
     },
     "execution_count": 131,
     "metadata": {},
     "output_type": "execute_result"
    }
   ],
   "source": [
    "st.rpartition(\"aja\")"
   ]
  },
  {
   "cell_type": "markdown",
   "id": "d2470d2f",
   "metadata": {},
   "source": [
    "#### rsplit\n",
    "#### rsplit(separator=None, maxsplit=-1): Splits the string from the right at the specified separator and returns a list of the split substrings. If maxsplit is provided, at most maxsplit splits are performed."
   ]
  },
  {
   "cell_type": "code",
   "execution_count": 132,
   "id": "a41435b0",
   "metadata": {},
   "outputs": [
    {
     "data": {
      "text/plain": [
       "['Raja', 'Kodumuru']"
      ]
     },
     "execution_count": 132,
     "metadata": {},
     "output_type": "execute_result"
    }
   ],
   "source": [
    "st.rsplit()"
   ]
  },
  {
   "cell_type": "markdown",
   "id": "53aad1d6",
   "metadata": {},
   "source": [
    "#### rstrip\n",
    "#### rstrip(chars=None): Returns a copy of the string with trailing characters removed. If chars is specified, removes characters in chars instead."
   ]
  },
  {
   "cell_type": "code",
   "execution_count": 133,
   "id": "b546b790",
   "metadata": {},
   "outputs": [
    {
     "data": {
      "text/plain": [
       "'Raja Kodumuru'"
      ]
     },
     "execution_count": 133,
     "metadata": {},
     "output_type": "execute_result"
    }
   ],
   "source": [
    "st.rstrip()"
   ]
  },
  {
   "cell_type": "markdown",
   "id": "b5096394",
   "metadata": {},
   "source": [
    "#### Split\n",
    "#### split(separator=None, maxsplit=-1): Splits the string at the specified separator and returns a list of the split substrings. If maxsplit is provided, at most maxsplit splits are performed."
   ]
  },
  {
   "cell_type": "code",
   "execution_count": 134,
   "id": "15a6dbc5",
   "metadata": {},
   "outputs": [
    {
     "data": {
      "text/plain": [
       "['Raja', 'Kodumuru']"
      ]
     },
     "execution_count": 134,
     "metadata": {},
     "output_type": "execute_result"
    }
   ],
   "source": [
    "st.split()"
   ]
  },
  {
   "cell_type": "markdown",
   "id": "aa9e508c",
   "metadata": {},
   "source": [
    "#### SplitLines\n",
    "#### splitlines(keepends=False): Splits the string at line breaks and returns a list of the lines. If keepends is True, line breaks are included in the resulting strings."
   ]
  },
  {
   "cell_type": "code",
   "execution_count": 135,
   "id": "ed174797",
   "metadata": {},
   "outputs": [
    {
     "data": {
      "text/plain": [
       "['Raja Kodumuru']"
      ]
     },
     "execution_count": 135,
     "metadata": {},
     "output_type": "execute_result"
    }
   ],
   "source": [
    "st.splitlines()"
   ]
  },
  {
   "cell_type": "markdown",
   "id": "bd4aaf82",
   "metadata": {},
   "source": [
    "#### StartsWith\n",
    "#### startswith(prefix, start=0, end=len(string)): Returns True if the string starts with the specified prefix; otherwise, returns False."
   ]
  },
  {
   "cell_type": "markdown",
   "id": "0a09a54b",
   "metadata": {},
   "source": [
    "#### Strip\n",
    "#### strip(chars=None): Returns a copy of the string with leading and trailing characters removed. If chars is specified, removes characters in chars instead."
   ]
  },
  {
   "cell_type": "code",
   "execution_count": 136,
   "id": "1e940755",
   "metadata": {},
   "outputs": [
    {
     "data": {
      "text/plain": [
       "'Raja Kodumuru'"
      ]
     },
     "execution_count": 136,
     "metadata": {},
     "output_type": "execute_result"
    }
   ],
   "source": [
    "st.strip()"
   ]
  },
  {
   "cell_type": "markdown",
   "id": "841ff36c",
   "metadata": {},
   "source": [
    "#### SwapCase\n",
    "#### swapcase(): Returns a copy of the string with uppercase characters converted to lowercase and vice versa."
   ]
  },
  {
   "cell_type": "code",
   "execution_count": 137,
   "id": "59e89b3b",
   "metadata": {},
   "outputs": [
    {
     "data": {
      "text/plain": [
       "'rAJA kODUMURU'"
      ]
     },
     "execution_count": 137,
     "metadata": {},
     "output_type": "execute_result"
    }
   ],
   "source": [
    "st.swapcase()"
   ]
  },
  {
   "cell_type": "markdown",
   "id": "94df2144",
   "metadata": {},
   "source": [
    "#### Title\n",
    "#### title(): Returns a titlecased version of the string, where the first character of each word is capitalized."
   ]
  },
  {
   "cell_type": "code",
   "execution_count": 138,
   "id": "cd2ca663",
   "metadata": {},
   "outputs": [
    {
     "data": {
      "text/plain": [
       "'Raja Kodumuru'"
      ]
     },
     "execution_count": 138,
     "metadata": {},
     "output_type": "execute_result"
    }
   ],
   "source": [
    "st.title()"
   ]
  },
  {
   "cell_type": "markdown",
   "id": "eca3cc3d",
   "metadata": {},
   "source": [
    "#### Translate\n",
    "#### translate(table): Returns a copy of the string where each character has been mapped through the given translation table."
   ]
  },
  {
   "cell_type": "code",
   "execution_count": 139,
   "id": "576bed76",
   "metadata": {},
   "outputs": [
    {
     "data": {
      "text/plain": [
       "'Raja Kodumuru'"
      ]
     },
     "execution_count": 139,
     "metadata": {},
     "output_type": "execute_result"
    }
   ],
   "source": [
    "st.translate(\"Raju Kodumuru\")"
   ]
  },
  {
   "cell_type": "markdown",
   "id": "e1729d15",
   "metadata": {},
   "source": [
    "#### Upper\n",
    "#### upper(): Returns a copy of the string with all characters converted to uppercase."
   ]
  },
  {
   "cell_type": "code",
   "execution_count": 140,
   "id": "809541fd",
   "metadata": {},
   "outputs": [
    {
     "data": {
      "text/plain": [
       "'RAJA KODUMURU'"
      ]
     },
     "execution_count": 140,
     "metadata": {},
     "output_type": "execute_result"
    }
   ],
   "source": [
    "st.upper()"
   ]
  },
  {
   "cell_type": "markdown",
   "id": "1beab1fa",
   "metadata": {},
   "source": [
    "#### ZFill\n",
    "#### zfill(width): Returns a copy of the string padded with zeros to the left, such that the resulting string is at least width characters wide."
   ]
  },
  {
   "cell_type": "code",
   "execution_count": 141,
   "id": "e65734a5",
   "metadata": {},
   "outputs": [
    {
     "data": {
      "text/plain": [
       "'0000000000000000000000000000000000000Raja Kodumuru'"
      ]
     },
     "execution_count": 141,
     "metadata": {},
     "output_type": "execute_result"
    }
   ],
   "source": [
    "st.zfill(50)"
   ]
  },
  {
   "cell_type": "markdown",
   "id": "3c3d8669",
   "metadata": {},
   "source": [
    "#### 6) Range"
   ]
  },
  {
   "cell_type": "markdown",
   "id": "0c7fc8e8",
   "metadata": {},
   "source": [
    "#### In Python, range is a built-in function used to generate a sequence of numbers. It creates an immutable sequence of numbers starting from a specified start value (inclusive), up to but not including a specified stop value (exclusive), with an optional step value that determines the increment between each number in the sequence."
   ]
  },
  {
   "cell_type": "code",
   "execution_count": 142,
   "id": "465b1d7b",
   "metadata": {},
   "outputs": [
    {
     "data": {
      "text/plain": [
       "range(0, 5)"
      ]
     },
     "execution_count": 142,
     "metadata": {},
     "output_type": "execute_result"
    }
   ],
   "source": [
    "range(5)"
   ]
  },
  {
   "cell_type": "code",
   "execution_count": 143,
   "id": "045513e6",
   "metadata": {},
   "outputs": [
    {
     "name": "stdout",
     "output_type": "stream",
     "text": [
      "0\n",
      "1\n",
      "2\n",
      "3\n",
      "4\n"
     ]
    }
   ],
   "source": [
    "for i in range(5):\n",
    "    print(i)"
   ]
  },
  {
   "cell_type": "code",
   "execution_count": 144,
   "id": "be2a00d5",
   "metadata": {},
   "outputs": [
    {
     "data": {
      "text/plain": [
       "range(10, 16)"
      ]
     },
     "execution_count": 144,
     "metadata": {},
     "output_type": "execute_result"
    }
   ],
   "source": [
    "range(10,16)"
   ]
  },
  {
   "cell_type": "code",
   "execution_count": 145,
   "id": "83e3f33f",
   "metadata": {},
   "outputs": [
    {
     "name": "stdout",
     "output_type": "stream",
     "text": [
      "10\n",
      "11\n",
      "12\n",
      "13\n",
      "14\n",
      "15\n"
     ]
    }
   ],
   "source": [
    "for i in range(10,16):\n",
    "    print(i)"
   ]
  },
  {
   "cell_type": "code",
   "execution_count": 146,
   "id": "38bbf5da",
   "metadata": {},
   "outputs": [
    {
     "data": {
      "text/plain": [
       "range(1, 11, 2)"
      ]
     },
     "execution_count": 146,
     "metadata": {},
     "output_type": "execute_result"
    }
   ],
   "source": [
    "range(1,11,2)"
   ]
  },
  {
   "cell_type": "code",
   "execution_count": 147,
   "id": "dfda725c",
   "metadata": {},
   "outputs": [
    {
     "name": "stdout",
     "output_type": "stream",
     "text": [
      "1\n",
      "3\n",
      "5\n",
      "7\n",
      "9\n"
     ]
    }
   ],
   "source": [
    "for i in range(1,11,2):\n",
    "    print(i)"
   ]
  },
  {
   "cell_type": "markdown",
   "id": "c05ed8d8",
   "metadata": {},
   "source": [
    "#### 7) Byte"
   ]
  },
  {
   "cell_type": "markdown",
   "id": "1b352cdc",
   "metadata": {},
   "source": [
    "#### In Python, a byte is a fundamental data type representing a sequence of 8 bits. It is typically used to store and manipulate binary data, such as raw byte data read from files, network packets, or other sources."
   ]
  },
  {
   "cell_type": "markdown",
   "id": "fa6ae225",
   "metadata": {},
   "source": [
    "#### Binary Data: Bytes are used to represent binary data, where each byte stores 8 bits of information. Each bit can be either 0 or 1.\n",
    "\n",
    "#### Immutable: Bytes in Python are immutable, meaning that once created, their values cannot be changed. This immutability ensures that byte objects behave consistently and can be safely passed around without unintended modification.\n",
    "\n",
    "#### Range: Each byte can represent values from 0 to 255 (2^8 - 1) inclusive. This range allows bytes to represent integers, characters, and other data types efficiently.\n",
    "\n",
    "#### Byte Literal: Bytes can be defined using a literal syntax, where individual bytes are specified as integers in the range 0 to 255, enclosed within parentheses and prefixed with b. For example: b'hello'.\n",
    "\n",
    "#### Escape Sequences: Byte literals can also include escape sequences, such as \\xhh, where hh represents a two-digit hexadecimal number, allowing for the representation of non-printable characters and special characters.\n",
    "\n",
    "#### Operations: Bytes support various operations, including indexing, slicing, concatenation, comparison, and iteration. These operations allow you to manipulate and work with byte data efficiently.\n",
    "\n",
    "#### Encoding and Decoding: Bytes can be encoded to represent text using character encodings like ASCII, UTF-8, or UTF-16. Similarly, text data can be decoded into bytes using the appropriate encoding."
   ]
  },
  {
   "cell_type": "code",
   "execution_count": 148,
   "id": "9eba49c0",
   "metadata": {},
   "outputs": [
    {
     "data": {
      "text/plain": [
       "[1, 2, 3, 4, 5]"
      ]
     },
     "execution_count": 148,
     "metadata": {},
     "output_type": "execute_result"
    }
   ],
   "source": [
    "b = [1,2,3,4,5]\n",
    "b"
   ]
  },
  {
   "cell_type": "code",
   "execution_count": 149,
   "id": "dc002c2b",
   "metadata": {},
   "outputs": [
    {
     "data": {
      "text/plain": [
       "b'\\x01\\x02\\x03\\x04\\x05'"
      ]
     },
     "execution_count": 149,
     "metadata": {},
     "output_type": "execute_result"
    }
   ],
   "source": [
    "b = bytes(b)\n",
    "b"
   ]
  },
  {
   "cell_type": "code",
   "execution_count": 150,
   "id": "a7854be4",
   "metadata": {},
   "outputs": [
    {
     "name": "stdout",
     "output_type": "stream",
     "text": [
      "1\n",
      "2\n",
      "3\n",
      "4\n",
      "5\n"
     ]
    }
   ],
   "source": [
    "for i in b:\n",
    "    print(i)"
   ]
  },
  {
   "cell_type": "code",
   "execution_count": 151,
   "id": "b1f0cad8",
   "metadata": {},
   "outputs": [
    {
     "data": {
      "text/plain": [
       "1"
      ]
     },
     "execution_count": 151,
     "metadata": {},
     "output_type": "execute_result"
    }
   ],
   "source": [
    "b[0]"
   ]
  },
  {
   "cell_type": "code",
   "execution_count": 152,
   "id": "47bb19ab",
   "metadata": {},
   "outputs": [
    {
     "data": {
      "text/plain": [
       "5"
      ]
     },
     "execution_count": 152,
     "metadata": {},
     "output_type": "execute_result"
    }
   ],
   "source": [
    "b[-1]"
   ]
  },
  {
   "cell_type": "code",
   "execution_count": 153,
   "id": "dc9f95c6",
   "metadata": {},
   "outputs": [
    {
     "data": {
      "text/plain": [
       "b'\\x01\\x02\\x03\\x04\\x05'"
      ]
     },
     "execution_count": 153,
     "metadata": {},
     "output_type": "execute_result"
    }
   ],
   "source": [
    "b[:]"
   ]
  },
  {
   "cell_type": "markdown",
   "id": "fd382ecd",
   "metadata": {},
   "source": [
    "#### 8) Byte Array"
   ]
  },
  {
   "cell_type": "markdown",
   "id": "19397fe8",
   "metadata": {},
   "source": [
    "#### In Python, a bytearray is a mutable sequence of bytes. It is similar to the bytes data type but allows modification of its elements. Bytearrays are useful when you need to perform in-place modifications on binary data or when you need a mutable sequence of bytes.\n",
    "\n",
    "#### Mutable: Unlike bytes objects, which are immutable, bytearray objects can be modified after they are created. You can change individual elements of a bytearray, append new elements, remove elements, or modify slices of the bytearray.\n",
    "\n",
    "#### Binary Data: Bytearrays are typically used to represent binary data, just like bytes objects. Each element of a bytearray represents a single byte (8 bits) of binary data.\n",
    "\n",
    "#### Range: Each byte in a bytearray can hold values from 0 to 255 (2^8 - 1) inclusive, allowing bytearray objects to represent integers, characters, or other binary data efficiently.\n",
    "\n",
    "#### Byte Literal: Bytearrays can be defined using a literal syntax, where individual bytes are specified as integers in the range 0 to 255, enclosed within parentheses and prefixed with bytearray. For example: bytearray(b'hello').\n",
    "\n",
    "#### Operations: Bytearrays support various operations, including indexing, slicing, concatenation, comparison, and iteration. These operations allow you to manipulate and work with binary data efficiently.\n",
    "\n",
    "#### Methods: Bytearray objects also have methods for performing common operations on mutable sequences, such as append(), extend(), insert(), remove(), pop(), reverse(), and more.\n",
    "\n",
    "#### Encoding and Decoding: Like bytes objects, bytearray objects can be encoded to represent text using character encodings like ASCII, UTF-8, or UTF-16, and text data can be decoded into bytearrays using the appropriate encoding."
   ]
  },
  {
   "cell_type": "code",
   "execution_count": 154,
   "id": "0b37c5d2",
   "metadata": {},
   "outputs": [
    {
     "data": {
      "text/plain": [
       "[10, 20, 30, 40, 50]"
      ]
     },
     "execution_count": 154,
     "metadata": {},
     "output_type": "execute_result"
    }
   ],
   "source": [
    "ba = [10,20,30,40,50]\n",
    "ba"
   ]
  },
  {
   "cell_type": "code",
   "execution_count": 155,
   "id": "5d1463f5",
   "metadata": {},
   "outputs": [
    {
     "data": {
      "text/plain": [
       "bytearray(b'\\n\\x14\\x1e(2')"
      ]
     },
     "execution_count": 155,
     "metadata": {},
     "output_type": "execute_result"
    }
   ],
   "source": [
    "ba = bytearray(ba)\n",
    "ba"
   ]
  },
  {
   "cell_type": "code",
   "execution_count": 156,
   "id": "5f6f3be4",
   "metadata": {},
   "outputs": [
    {
     "data": {
      "text/plain": [
       "bytearray(b'\\n\\x14\\x1e(2')"
      ]
     },
     "execution_count": 156,
     "metadata": {},
     "output_type": "execute_result"
    }
   ],
   "source": [
    "ba[:]"
   ]
  },
  {
   "cell_type": "code",
   "execution_count": 157,
   "id": "e1d16d10",
   "metadata": {},
   "outputs": [
    {
     "data": {
      "text/plain": [
       "10"
      ]
     },
     "execution_count": 157,
     "metadata": {},
     "output_type": "execute_result"
    }
   ],
   "source": [
    "ba[0]"
   ]
  },
  {
   "cell_type": "code",
   "execution_count": 158,
   "id": "9ef20acb",
   "metadata": {},
   "outputs": [
    {
     "data": {
      "text/plain": [
       "50"
      ]
     },
     "execution_count": 158,
     "metadata": {},
     "output_type": "execute_result"
    }
   ],
   "source": [
    "ba[-1]"
   ]
  },
  {
   "cell_type": "code",
   "execution_count": 159,
   "id": "3772973b",
   "metadata": {},
   "outputs": [
    {
     "name": "stdout",
     "output_type": "stream",
     "text": [
      "10\n",
      "20\n",
      "30\n",
      "40\n",
      "50\n"
     ]
    }
   ],
   "source": [
    "for i in ba:\n",
    "    print(i)"
   ]
  },
  {
   "cell_type": "markdown",
   "id": "9a8912dc",
   "metadata": {},
   "source": [
    "#### Append\n",
    "\n",
    "#### append(x): Appends a single byte (integer in the range 0 to 255) to the end of the bytearray."
   ]
  },
  {
   "cell_type": "code",
   "execution_count": 160,
   "id": "54e7bfe8",
   "metadata": {},
   "outputs": [
    {
     "name": "stdout",
     "output_type": "stream",
     "text": [
      "10\n",
      "20\n",
      "30\n",
      "40\n",
      "50\n",
      "60\n"
     ]
    }
   ],
   "source": [
    "ba.append(60)\n",
    "for i in ba:\n",
    "    print(i)"
   ]
  },
  {
   "cell_type": "markdown",
   "id": "1145a1fe",
   "metadata": {},
   "source": [
    "#### Copy\n",
    "\n",
    "#### copy(): Returns a shallow copy of the bytearray."
   ]
  },
  {
   "cell_type": "code",
   "execution_count": 161,
   "id": "efe83369",
   "metadata": {},
   "outputs": [
    {
     "name": "stdout",
     "output_type": "stream",
     "text": [
      "10\n",
      "20\n",
      "30\n",
      "40\n",
      "50\n",
      "60\n"
     ]
    }
   ],
   "source": [
    "ba1 = ba.copy()\n",
    "for i in ba1:\n",
    "    print(i)"
   ]
  },
  {
   "cell_type": "markdown",
   "id": "ef2c1752",
   "metadata": {},
   "source": [
    "#### Count\n",
    "\n",
    "#### count(value): Returns the number of occurrences of the specified value in the bytearray."
   ]
  },
  {
   "cell_type": "code",
   "execution_count": 162,
   "id": "224742b1",
   "metadata": {},
   "outputs": [
    {
     "data": {
      "text/plain": [
       "1"
      ]
     },
     "execution_count": 162,
     "metadata": {},
     "output_type": "execute_result"
    }
   ],
   "source": [
    "ba.count(30)"
   ]
  },
  {
   "cell_type": "markdown",
   "id": "06d84ae4",
   "metadata": {},
   "source": [
    "#### Extend\n",
    "\n",
    "#### extend(iterable): Extends the bytearray by appending elements from the iterable."
   ]
  },
  {
   "cell_type": "code",
   "execution_count": 163,
   "id": "386713d9",
   "metadata": {},
   "outputs": [
    {
     "name": "stdout",
     "output_type": "stream",
     "text": [
      "10\n",
      "20\n",
      "30\n",
      "40\n",
      "50\n",
      "60\n",
      "70\n"
     ]
    }
   ],
   "source": [
    "ba.extend([70])\n",
    "for i in ba:\n",
    "    print(i)"
   ]
  },
  {
   "cell_type": "markdown",
   "id": "ef1a7c2c",
   "metadata": {},
   "source": [
    "#### Index\n",
    "\n",
    "#### index(value, start=0, stop=sys.maxsize): Returns the lowest index of the specified value in the bytearray within the given slice range."
   ]
  },
  {
   "cell_type": "code",
   "execution_count": 164,
   "id": "ddc32d14",
   "metadata": {},
   "outputs": [
    {
     "data": {
      "text/plain": [
       "4"
      ]
     },
     "execution_count": 164,
     "metadata": {},
     "output_type": "execute_result"
    }
   ],
   "source": [
    "ba.index(50)"
   ]
  },
  {
   "cell_type": "markdown",
   "id": "af541fb1",
   "metadata": {},
   "source": [
    "#### Insert\n",
    "\n",
    "#### insert(index, x): Inserts a single byte (integer in the range 0 to 255) at the specified index in the bytearray."
   ]
  },
  {
   "cell_type": "code",
   "execution_count": 165,
   "id": "c16d1b3d",
   "metadata": {},
   "outputs": [
    {
     "name": "stdout",
     "output_type": "stream",
     "text": [
      "10\n",
      "20\n",
      "30\n",
      "40\n",
      "50\n",
      "60\n",
      "70\n",
      "80\n"
     ]
    }
   ],
   "source": [
    "ba.insert(7,80)\n",
    "for i in ba:\n",
    "    print(i)"
   ]
  },
  {
   "cell_type": "markdown",
   "id": "c9b95fd4",
   "metadata": {},
   "source": [
    "#### Pop\n",
    "\n",
    "#### pop([index=-1]): Removes and returns the byte at the specified index (default is the last element) from the bytearray."
   ]
  },
  {
   "cell_type": "code",
   "execution_count": 166,
   "id": "4ec8dd8d",
   "metadata": {},
   "outputs": [
    {
     "data": {
      "text/plain": [
       "80"
      ]
     },
     "execution_count": 166,
     "metadata": {},
     "output_type": "execute_result"
    }
   ],
   "source": [
    "ba.pop()"
   ]
  },
  {
   "cell_type": "markdown",
   "id": "ae556138",
   "metadata": {},
   "source": [
    "#### Remove\n",
    "\n",
    "#### remove(value): Removes the first occurrence of the specified value from the bytearray."
   ]
  },
  {
   "cell_type": "code",
   "execution_count": 167,
   "id": "2c58a411",
   "metadata": {},
   "outputs": [
    {
     "name": "stdout",
     "output_type": "stream",
     "text": [
      "10\n",
      "20\n",
      "30\n",
      "40\n",
      "50\n",
      "60\n"
     ]
    }
   ],
   "source": [
    "ba.remove(70)\n",
    "for i in ba:\n",
    "    print(i)"
   ]
  },
  {
   "cell_type": "markdown",
   "id": "445636e6",
   "metadata": {},
   "source": [
    "#### Reverse\n",
    "\n",
    "#### reverse(): Reverses the order of elements in the bytearray in-place."
   ]
  },
  {
   "cell_type": "code",
   "execution_count": 168,
   "id": "7dda7880",
   "metadata": {},
   "outputs": [],
   "source": [
    "ba.reverse()"
   ]
  },
  {
   "cell_type": "code",
   "execution_count": 169,
   "id": "94e60954",
   "metadata": {},
   "outputs": [
    {
     "name": "stdout",
     "output_type": "stream",
     "text": [
      "60\n",
      "50\n",
      "40\n",
      "30\n",
      "20\n",
      "10\n"
     ]
    }
   ],
   "source": [
    "for i in ba:\n",
    "    print(i)"
   ]
  },
  {
   "cell_type": "markdown",
   "id": "27224809",
   "metadata": {},
   "source": [
    "#### Sort\n",
    "\n",
    "#### sorted(key=None, reverse=False): Sorts the elements of the bytearray in-place in ascending order by default, or in descending order if reverse is True. The key argument specifies a function of one argument that is used to extract a comparison key from each element of the bytearray."
   ]
  },
  {
   "cell_type": "code",
   "execution_count": 170,
   "id": "8afc6f8b",
   "metadata": {},
   "outputs": [
    {
     "data": {
      "text/plain": [
       "[10, 20, 30, 40, 50, 60]"
      ]
     },
     "execution_count": 170,
     "metadata": {},
     "output_type": "execute_result"
    }
   ],
   "source": [
    "sorted(ba)"
   ]
  },
  {
   "cell_type": "code",
   "execution_count": 171,
   "id": "1db85e03",
   "metadata": {},
   "outputs": [
    {
     "data": {
      "text/plain": [
       "[60, 50, 40, 30, 20, 10]"
      ]
     },
     "execution_count": 171,
     "metadata": {},
     "output_type": "execute_result"
    }
   ],
   "source": [
    "sorted(ba,reverse=True)"
   ]
  },
  {
   "cell_type": "markdown",
   "id": "399d282c",
   "metadata": {},
   "source": [
    "#### fromhex\n",
    "\n",
    "#### fromhex(string): Creates a new bytearray object by parsing the hexadecimal string argument."
   ]
  },
  {
   "cell_type": "code",
   "execution_count": 172,
   "id": "daaa2fea",
   "metadata": {},
   "outputs": [
    {
     "data": {
      "text/plain": [
       "bytearray(b'\\x10')"
      ]
     },
     "execution_count": 172,
     "metadata": {},
     "output_type": "execute_result"
    }
   ],
   "source": [
    "ba.fromhex(\"10\")"
   ]
  },
  {
   "cell_type": "markdown",
   "id": "ee82be16",
   "metadata": {},
   "source": [
    "#### hex\n",
    "\n",
    "#### hex(): Returns a string containing a hexadecimal representation of the bytearray."
   ]
  },
  {
   "cell_type": "code",
   "execution_count": 173,
   "id": "961aa945",
   "metadata": {},
   "outputs": [
    {
     "data": {
      "text/plain": [
       "'0x3c'"
      ]
     },
     "execution_count": 173,
     "metadata": {},
     "output_type": "execute_result"
    }
   ],
   "source": [
    "hex(ba[0])"
   ]
  },
  {
   "cell_type": "markdown",
   "id": "eb316d8f",
   "metadata": {},
   "source": [
    "#### Decode\n",
    "\n",
    "#### decode(encoding='utf-8', errors='strict'): Decodes the bytearray using the specified encoding and returns the resulting string."
   ]
  },
  {
   "cell_type": "code",
   "execution_count": 174,
   "id": "1e629c4a",
   "metadata": {},
   "outputs": [
    {
     "data": {
      "text/plain": [
       "'<2(\\x1e\\x14\\n'"
      ]
     },
     "execution_count": 174,
     "metadata": {},
     "output_type": "execute_result"
    }
   ],
   "source": [
    "ba.decode()"
   ]
  },
  {
   "cell_type": "markdown",
   "id": "d13f99b2",
   "metadata": {},
   "source": [
    "#### Clear\n",
    "\n",
    "#### clear(): Removes all elements from the bytearray."
   ]
  },
  {
   "cell_type": "code",
   "execution_count": 175,
   "id": "a0862b02",
   "metadata": {},
   "outputs": [],
   "source": [
    "ba.clear()"
   ]
  },
  {
   "cell_type": "markdown",
   "id": "2259f2e4",
   "metadata": {},
   "source": [
    "### 5) Type Conversions\n",
    "\n",
    "#### In Python, type conversion, also known as type casting, refers to the process of converting an object from one data type to another. Python provides built-in functions and constructors to perform type conversions explicitly when necessary.\n",
    "\n",
    "#### Here are some key points about type conversions in Python:\n",
    "\n",
    "#### Implicit Type Conversion: In Python, implicit type conversion, also known as coercion, occurs automatically when operations involving different data types are performed. For example, when you add an integer and a float, Python automatically converts the integer to a float before performing the addition.\n",
    "\n",
    "#### Explicit Type Conversion: Explicit type conversion involves using built-in functions or constructors to convert an object from one data type to another. Common functions for explicit type conversion include int(), float(), str(), list(), tuple(), set(), and dict().\n",
    "\n",
    "#### Lossy vs. Lossless Conversions: Some type conversions may result in the loss of information, while others preserve all the information. For example, converting a floating-point number to an integer may result in the loss of decimal digits. These conversions are called lossy conversions. On the other hand, converting an integer to a floating-point number is a lossless conversion since no information is lost.\n",
    "\n",
    "#### Syntax: The syntax for performing type conversions in Python typically involves calling the appropriate conversion function or constructor with the object to be converted as an argument. For example, int(3.14) converts the float 3.14 to an integer.\n",
    "\n",
    "#### Handling Errors: In some cases, type conversions may raise exceptions if the conversion is not possible. For example, converting a string that cannot be interpreted as an integer using int() will raise a ValueError. It's important to handle such errors appropriately using exception handling constructs like try and except."
   ]
  },
  {
   "cell_type": "markdown",
   "id": "4e364e5d",
   "metadata": {},
   "source": [
    "#### int\n",
    "\n",
    "#### int(x): Converts x to an integer. If x is a string, it must represent an integer value."
   ]
  },
  {
   "cell_type": "code",
   "execution_count": 176,
   "id": "cc03e253",
   "metadata": {},
   "outputs": [
    {
     "data": {
      "text/plain": [
       "5"
      ]
     },
     "execution_count": 176,
     "metadata": {},
     "output_type": "execute_result"
    }
   ],
   "source": [
    "int(5)"
   ]
  },
  {
   "cell_type": "code",
   "execution_count": 177,
   "id": "a02008fa",
   "metadata": {},
   "outputs": [
    {
     "data": {
      "text/plain": [
       "5"
      ]
     },
     "execution_count": 177,
     "metadata": {},
     "output_type": "execute_result"
    }
   ],
   "source": [
    "int(5.0)"
   ]
  },
  {
   "cell_type": "code",
   "execution_count": 178,
   "id": "c7446396",
   "metadata": {},
   "outputs": [
    {
     "data": {
      "text/plain": [
       "5"
      ]
     },
     "execution_count": 178,
     "metadata": {},
     "output_type": "execute_result"
    }
   ],
   "source": [
    "int('5')"
   ]
  },
  {
   "cell_type": "markdown",
   "id": "d1bf81d8",
   "metadata": {},
   "source": [
    "#### float\n",
    "\n",
    "#### mfloat(x): Converts x to a floating-point number. If x is a string, it must represent a floating-point number."
   ]
  },
  {
   "cell_type": "code",
   "execution_count": 179,
   "id": "10c1aae3",
   "metadata": {},
   "outputs": [
    {
     "data": {
      "text/plain": [
       "5.0"
      ]
     },
     "execution_count": 179,
     "metadata": {},
     "output_type": "execute_result"
    }
   ],
   "source": [
    "float(5)"
   ]
  },
  {
   "cell_type": "code",
   "execution_count": 180,
   "id": "76403d6a",
   "metadata": {},
   "outputs": [
    {
     "data": {
      "text/plain": [
       "5.0"
      ]
     },
     "execution_count": 180,
     "metadata": {},
     "output_type": "execute_result"
    }
   ],
   "source": [
    "float(5.0)"
   ]
  },
  {
   "cell_type": "code",
   "execution_count": 181,
   "id": "10fd8d0a",
   "metadata": {},
   "outputs": [
    {
     "data": {
      "text/plain": [
       "5.0"
      ]
     },
     "execution_count": 181,
     "metadata": {},
     "output_type": "execute_result"
    }
   ],
   "source": [
    "float('5.0')"
   ]
  },
  {
   "cell_type": "markdown",
   "id": "73d398a3",
   "metadata": {},
   "source": [
    "#### str\n",
    "\n",
    "#### str(x): Converts x to a string representation."
   ]
  },
  {
   "cell_type": "code",
   "execution_count": 182,
   "id": "cb6034bb",
   "metadata": {},
   "outputs": [
    {
     "data": {
      "text/plain": [
       "'5'"
      ]
     },
     "execution_count": 182,
     "metadata": {},
     "output_type": "execute_result"
    }
   ],
   "source": [
    "str(5)"
   ]
  },
  {
   "cell_type": "code",
   "execution_count": 183,
   "id": "615658f1",
   "metadata": {},
   "outputs": [
    {
     "data": {
      "text/plain": [
       "'5.0'"
      ]
     },
     "execution_count": 183,
     "metadata": {},
     "output_type": "execute_result"
    }
   ],
   "source": [
    "str(5.0)"
   ]
  },
  {
   "cell_type": "code",
   "execution_count": 184,
   "id": "72a0f541",
   "metadata": {},
   "outputs": [
    {
     "data": {
      "text/plain": [
       "'5.0'"
      ]
     },
     "execution_count": 184,
     "metadata": {},
     "output_type": "execute_result"
    }
   ],
   "source": [
    "str('5.0')"
   ]
  },
  {
   "cell_type": "markdown",
   "id": "05e0dda9",
   "metadata": {},
   "source": [
    "#### List\n",
    "\n",
    "#### list(x): Converts x to a list. x can be any iterable object like a tuple, string, or set."
   ]
  },
  {
   "cell_type": "code",
   "execution_count": 185,
   "id": "cca95e64",
   "metadata": {},
   "outputs": [
    {
     "data": {
      "text/plain": [
       "[1, 2, 3, 4, 5]"
      ]
     },
     "execution_count": 185,
     "metadata": {},
     "output_type": "execute_result"
    }
   ],
   "source": [
    "list([1,2,3,4,5])"
   ]
  },
  {
   "cell_type": "code",
   "execution_count": 186,
   "id": "68d3706d",
   "metadata": {},
   "outputs": [
    {
     "data": {
      "text/plain": [
       "[1, 2, 3, 4, 5]"
      ]
     },
     "execution_count": 186,
     "metadata": {},
     "output_type": "execute_result"
    }
   ],
   "source": [
    "list((1,2,3,4,5))"
   ]
  },
  {
   "cell_type": "code",
   "execution_count": 187,
   "id": "784e443b",
   "metadata": {},
   "outputs": [
    {
     "data": {
      "text/plain": [
       "[1, 2, 3, 4, 5]"
      ]
     },
     "execution_count": 187,
     "metadata": {},
     "output_type": "execute_result"
    }
   ],
   "source": [
    "list({1,2,3,4,5})"
   ]
  },
  {
   "cell_type": "markdown",
   "id": "9dfc7ff6",
   "metadata": {},
   "source": [
    "#### Tuple\n",
    "\n",
    "#### tuple(x): Converts x to a tuple."
   ]
  },
  {
   "cell_type": "code",
   "execution_count": 188,
   "id": "00db59d6",
   "metadata": {},
   "outputs": [
    {
     "data": {
      "text/plain": [
       "(1, 2, 3, 4, 5)"
      ]
     },
     "execution_count": 188,
     "metadata": {},
     "output_type": "execute_result"
    }
   ],
   "source": [
    "tuple([1,2,3,4,5])"
   ]
  },
  {
   "cell_type": "code",
   "execution_count": 189,
   "id": "fa143c91",
   "metadata": {},
   "outputs": [
    {
     "data": {
      "text/plain": [
       "(1, 2, 3, 4, 5)"
      ]
     },
     "execution_count": 189,
     "metadata": {},
     "output_type": "execute_result"
    }
   ],
   "source": [
    "tuple((1,2,3,4,5))"
   ]
  },
  {
   "cell_type": "code",
   "execution_count": 190,
   "id": "4abcc518",
   "metadata": {},
   "outputs": [
    {
     "data": {
      "text/plain": [
       "(1, 2, 3, 4, 5)"
      ]
     },
     "execution_count": 190,
     "metadata": {},
     "output_type": "execute_result"
    }
   ],
   "source": [
    "tuple({1,2,3,4,5})"
   ]
  },
  {
   "cell_type": "markdown",
   "id": "0ff6c70b",
   "metadata": {},
   "source": [
    "#### Set\n",
    "\n",
    "#### set(x): Converts x to a set."
   ]
  },
  {
   "cell_type": "code",
   "execution_count": 191,
   "id": "e4c253ed",
   "metadata": {},
   "outputs": [
    {
     "data": {
      "text/plain": [
       "{1, 2, 3, 4, 5}"
      ]
     },
     "execution_count": 191,
     "metadata": {},
     "output_type": "execute_result"
    }
   ],
   "source": [
    "set([1,2,3,4,5])"
   ]
  },
  {
   "cell_type": "code",
   "execution_count": 192,
   "id": "a65c9bcd",
   "metadata": {},
   "outputs": [
    {
     "data": {
      "text/plain": [
       "{1, 2, 3, 4, 5}"
      ]
     },
     "execution_count": 192,
     "metadata": {},
     "output_type": "execute_result"
    }
   ],
   "source": [
    "set((1,2,3,4,5))"
   ]
  },
  {
   "cell_type": "code",
   "execution_count": 193,
   "id": "b4c63bb0",
   "metadata": {},
   "outputs": [
    {
     "data": {
      "text/plain": [
       "{1, 2, 3, 4, 5}"
      ]
     },
     "execution_count": 193,
     "metadata": {},
     "output_type": "execute_result"
    }
   ],
   "source": [
    "set({1,2,3,4,5})"
   ]
  },
  {
   "cell_type": "markdown",
   "id": "fbfc3158",
   "metadata": {},
   "source": [
    "#### Dict\n",
    "\n",
    "#### dict(x): Converts x to a dictionary. x should be an iterable of key-value pairs, such as a list of tuples."
   ]
  },
  {
   "cell_type": "code",
   "execution_count": 194,
   "id": "6d3fb1a6",
   "metadata": {},
   "outputs": [],
   "source": [
    "k = [1,2,3,4,5]\n",
    "v = [10,20,30,40,50]"
   ]
  },
  {
   "cell_type": "code",
   "execution_count": 195,
   "id": "23ade672",
   "metadata": {},
   "outputs": [
    {
     "data": {
      "text/plain": [
       "{1: 10, 2: 20, 3: 30, 4: 40, 5: 50}"
      ]
     },
     "execution_count": 195,
     "metadata": {},
     "output_type": "execute_result"
    }
   ],
   "source": [
    "dict(zip(k,v))"
   ]
  },
  {
   "cell_type": "code",
   "execution_count": 196,
   "id": "ea48a691",
   "metadata": {},
   "outputs": [],
   "source": [
    "k = (1,2,3,4,5)\n",
    "v = (10,20,30,40,50)"
   ]
  },
  {
   "cell_type": "code",
   "execution_count": 197,
   "id": "a2c4eef4",
   "metadata": {},
   "outputs": [
    {
     "data": {
      "text/plain": [
       "{1: 10, 2: 20, 3: 30, 4: 40, 5: 50}"
      ]
     },
     "execution_count": 197,
     "metadata": {},
     "output_type": "execute_result"
    }
   ],
   "source": [
    "dict(zip(k,v))"
   ]
  },
  {
   "cell_type": "code",
   "execution_count": 198,
   "id": "d4816604",
   "metadata": {},
   "outputs": [],
   "source": [
    "k = {1,2,3,4,5}\n",
    "v = {10,20,30,40,50}"
   ]
  },
  {
   "cell_type": "code",
   "execution_count": 199,
   "id": "3866b595",
   "metadata": {},
   "outputs": [
    {
     "data": {
      "text/plain": [
       "{1: 50, 2: 20, 3: 40, 4: 10, 5: 30}"
      ]
     },
     "execution_count": 199,
     "metadata": {},
     "output_type": "execute_result"
    }
   ],
   "source": [
    "dict(zip(k,v))"
   ]
  },
  {
   "cell_type": "markdown",
   "id": "dda7d642",
   "metadata": {},
   "source": [
    "#### Bool\n",
    "\n",
    "#### bool(x): Converts x to a Boolean value. The result is True if x is true, False otherwise."
   ]
  },
  {
   "cell_type": "code",
   "execution_count": 200,
   "id": "f0c3d791",
   "metadata": {},
   "outputs": [
    {
     "data": {
      "text/plain": [
       "False"
      ]
     },
     "execution_count": 200,
     "metadata": {},
     "output_type": "execute_result"
    }
   ],
   "source": [
    "bool(0)"
   ]
  },
  {
   "cell_type": "code",
   "execution_count": 201,
   "id": "20998a12",
   "metadata": {},
   "outputs": [
    {
     "data": {
      "text/plain": [
       "True"
      ]
     },
     "execution_count": 201,
     "metadata": {},
     "output_type": "execute_result"
    }
   ],
   "source": [
    "bool(1)"
   ]
  },
  {
   "cell_type": "code",
   "execution_count": 202,
   "id": "1bf19330",
   "metadata": {},
   "outputs": [
    {
     "data": {
      "text/plain": [
       "True"
      ]
     },
     "execution_count": 202,
     "metadata": {},
     "output_type": "execute_result"
    }
   ],
   "source": [
    "bool(True)"
   ]
  },
  {
   "cell_type": "code",
   "execution_count": 203,
   "id": "177709f2",
   "metadata": {},
   "outputs": [
    {
     "data": {
      "text/plain": [
       "False"
      ]
     },
     "execution_count": 203,
     "metadata": {},
     "output_type": "execute_result"
    }
   ],
   "source": [
    "bool(False)"
   ]
  },
  {
   "cell_type": "markdown",
   "id": "144ff6b5",
   "metadata": {},
   "source": [
    "#### CHR\n",
    "\n",
    "#### chr(x): Converts an integer to a Unicode character represented by the Unicode code point x."
   ]
  },
  {
   "cell_type": "code",
   "execution_count": 204,
   "id": "35ec5ceb",
   "metadata": {},
   "outputs": [
    {
     "data": {
      "text/plain": [
       "'\\x05'"
      ]
     },
     "execution_count": 204,
     "metadata": {},
     "output_type": "execute_result"
    }
   ],
   "source": [
    "chr(5)"
   ]
  },
  {
   "cell_type": "markdown",
   "id": "06ff6bb8",
   "metadata": {},
   "source": [
    "#### ORD\n",
    "\n",
    "#### ord(x): Converts a Unicode character to its integer representation (Unicode code point)."
   ]
  },
  {
   "cell_type": "code",
   "execution_count": 205,
   "id": "30d9b433",
   "metadata": {},
   "outputs": [
    {
     "data": {
      "text/plain": [
       "5"
      ]
     },
     "execution_count": 205,
     "metadata": {},
     "output_type": "execute_result"
    }
   ],
   "source": [
    "ord('\\x05')"
   ]
  },
  {
   "cell_type": "markdown",
   "id": "323916d2",
   "metadata": {},
   "source": [
    "#### Hex\n",
    "\n",
    "#### hex(x): Converts an integer to a lowercase hexadecimal string."
   ]
  },
  {
   "cell_type": "code",
   "execution_count": 206,
   "id": "b7b0224b",
   "metadata": {},
   "outputs": [
    {
     "data": {
      "text/plain": [
       "'0x5'"
      ]
     },
     "execution_count": 206,
     "metadata": {},
     "output_type": "execute_result"
    }
   ],
   "source": [
    "hex(5)"
   ]
  },
  {
   "cell_type": "markdown",
   "id": "a3bc5616",
   "metadata": {},
   "source": [
    "#### OCT\n",
    "\n",
    "#### oct(x): Converts an integer to an octal string."
   ]
  },
  {
   "cell_type": "code",
   "execution_count": 207,
   "id": "13eb03a7",
   "metadata": {},
   "outputs": [
    {
     "data": {
      "text/plain": [
       "'0o5'"
      ]
     },
     "execution_count": 207,
     "metadata": {},
     "output_type": "execute_result"
    }
   ],
   "source": [
    "oct(5)"
   ]
  },
  {
   "cell_type": "markdown",
   "id": "5b66eccf",
   "metadata": {},
   "source": [
    "### 6) Literals\n",
    "\n",
    "#### A literal is a notation for representing a fixed value in source code. Literals can represent various types of data, such as numbers, strings, and Boolean values, directly in the code. When the Python interpreter parses the code, it recognizes these literals and creates corresponding objects with the specified values.\n",
    "\n",
    "#### Here are some common types of literals in Python:\n",
    "\n",
    "#### Numeric Literals: Numeric literals represent numerical values. They can be integers, floating-point numbers, or complex numbers. For example:\n",
    "\n",
    "#### Integer literals: 42, -123, 0b1010 (binary), 0o755 (octal), 0xFF (hexadecimal)\n",
    "#### Floating-point literals: 3.14, 2.0e-3\n",
    "#### Complex literals: 3 + 4j, 1j\n",
    "#### String Literals: String literals represent sequences of characters enclosed within single quotes (') or double quotes (\"). Python supports various string literals, including:\n",
    "\n",
    "#### Single-line strings: 'hello', \"world\"\n",
    "#### Multi-line strings: '''multi-line string''', \"\"\"another multi-line string\"\"\"\n",
    "#### Boolean Literals: Boolean literals represent the two truth values: True and False.\n",
    "\n",
    "#### None Literal: The None literal represents the absence of a value or a null value.\n",
    "\n",
    "#### List, Tuple, Set, and Dictionary Literals: These literals represent collections of objects. For example:\n",
    "\n",
    "#### List literals: [1, 2, 3]\n",
    "#### Tuple literals: (1, 2, 3)\n",
    "#### Set literals: {1, 2, 3}\n",
    "#### Dictionary literals: {'a': 1, 'b': 2, 'c': 3}\n",
    "#### Literal Constants: Python also provides some special constants, such as True, False, and None, which are treated as literals representing their respective values."
   ]
  },
  {
   "cell_type": "markdown",
   "id": "7b41935c",
   "metadata": {},
   "source": [
    "### 7) User Defined Data Types\n",
    "\n",
    "####  user-defined data types refer to data types that are defined by the user rather than built into the language. These data types are created by defining new classes, which serve as blueprints for creating objects with specific attributes and behaviors.\n",
    "\n",
    "#### Ex:- Class, array, module etc."
   ]
  },
  {
   "cell_type": "markdown",
   "id": "546b5f21",
   "metadata": {},
   "source": [
    "### 8) Constants\n",
    "\n",
    "#### Constants are variables whose values are intended to remain unchanged throughout the execution of a program. While Python does not have built-in support for constants like some other programming languages, the convention is to use uppercase names for variables whose values are not meant to be changed.\n",
    "\n",
    "#### Here are some key points about constants in Python:\n",
    "\n",
    "#### Naming Convention: By convention, constants in Python are typically named using all uppercase letters with underscores (_) to separate words (e.g., PI, MAX_VALUE, CONSTANT_NAME). This naming convention helps distinguish constants from regular variables and makes it clear that their values are not intended to be modified.\n",
    "\n",
    "#### Immutability: Constants are usually implemented as variables with immutable values, such as integers, floats, strings, or tuples. Once assigned a value, these variables cannot be modified or reassigned throughout the program's execution.\n",
    "\n",
    "#### Intent: Constants are used to represent fixed values that are used repeatedly in the code and are not expected to change. They provide a way to give meaningful names to important values, making the code more readable and maintainable.\n",
    "\n",
    "#### No Built-in Enforcement: Unlike some programming languages that provide built-in support for constants and enforce immutability, Python does not have a built-in mechanism to prevent the modification of constants. However, following the naming convention and using immutable types help convey the intended usage of the variables.\n",
    "\n",
    "#### Global Scope: Constants are typically defined at the module level and can be accessed from anywhere within the module. They are often declared at the top of a module or script to make them easily visible and accessible to other parts of the code."
   ]
  },
  {
   "cell_type": "code",
   "execution_count": 208,
   "id": "683dc96a",
   "metadata": {},
   "outputs": [
    {
     "data": {
      "text/plain": [
       "3.142857142857143"
      ]
     },
     "execution_count": 208,
     "metadata": {},
     "output_type": "execute_result"
    }
   ],
   "source": [
    "PI = 22/7\n",
    "PI"
   ]
  },
  {
   "cell_type": "markdown",
   "id": "3fea97b9",
   "metadata": {},
   "source": [
    "### 9) Identifiers and Reserved Words\n",
    "\n",
    "#### In Python, identifiers and reserved words are fundamental concepts related to naming conventions and language syntax. Here's a breakdown of each:\n",
    "\n",
    "#### Identifiers:\n",
    "\n",
    "#### Definition: Identifiers are names given to various program elements, such as variables, functions, classes, modules, etc. They serve as labels to refer to these elements in the code.\n",
    "\n",
    "#### Naming Rules:\n",
    "\n",
    "#### Must start with a letter (a-z, A-Z) or an underscore (_).\n",
    "#### Can be followed by letters, digits (0-9), or underscores.\n",
    "#### Case-sensitive (my_var and My_Var are different identifiers).\n",
    "#### Examples: my_variable, function_name, Class_Name, module_name, etc.\n",
    "\n",
    "#### Best Practices:\n",
    "\n",
    "#### Use descriptive names that convey the purpose of the element.\n",
    "#### Follow naming conventions (e.g., snake_case for variables and functions, CamelCase for classes).\n",
    "\n",
    "#### Ex :- Variable names: x, count, total_amount, customer_name\n",
    "\n",
    "#### Ex :- Function names :- calculate_area, process_data, print_message\n",
    "\n",
    "#### Ex :- Class names :- Car, Employee, Rectangle\n",
    "\n",
    "#### Ex :- Module names :- math, random, os\n",
    "\n",
    "#### Ex :- Constants :- PI, MAX_VALUE, GREETING\n",
    "\n",
    "\n",
    "#### Reserved Words:\n",
    "\n",
    "#### Definition: Reserved words (also known as keywords) are predefined words in the Python language with special meanings and purposes. They are part of the language syntax and cannot be used as identifiers.\n",
    "\n",
    "#### Examples: if, else, for, while, def, class, import, from, return, True, False, None, etc.\n",
    "\n",
    "#### Usage:\n",
    "\n",
    "#### Reserved words are used to define the structure and flow of Python programs (e.g., control flow statements, function and class definitions).\n",
    "#### They have predefined meanings and cannot be redefined or assigned as identifiers.\n",
    "#### Avoidance:\n",
    "\n",
    "#### It's important not to use reserved words as identifiers to prevent syntax errors and confusion.\n",
    "#### Most code editors provide syntax highlighting to distinguish reserved words from identifiers.\n",
    "\n",
    "#### Ex :- False       class       finally     is          return,\n",
    "#### None        continue    for         lambda      try,\n",
    "#### True        def         from        nonlocal    while,\n",
    "#### and         del         global      not         with,\n",
    "#### as          elif        if          or          yield,\n",
    "#### assert      else        import      pass,\n",
    "#### break       except      in          raise.\n"
   ]
  },
  {
   "cell_type": "markdown",
   "id": "8580c2ee",
   "metadata": {},
   "source": [
    "### 10) Operators\n",
    "\n",
    "#### operators are special symbols or keywords used to perform operations on variables and values. They are used to manipulate data and perform various computational tasks. Python supports a wide range of operators, including arithmetic operators, comparison operators, logical operators, bitwise operators, assignment operators, and more."
   ]
  },
  {
   "cell_type": "markdown",
   "id": "773cb78e",
   "metadata": {},
   "source": [
    "#### 1) Arithmetic Operators\n",
    "\n",
    "#### Arithmetic Operators: Arithmetic operators are used to perform mathematical operations on numeric values. They include addition (+), subtraction (-), multiplication (*), division (/), floor division (//), modulus (%), and exponentiation (**)."
   ]
  },
  {
   "cell_type": "code",
   "execution_count": 209,
   "id": "e864ba00",
   "metadata": {},
   "outputs": [],
   "source": [
    "a,b = 5, 15"
   ]
  },
  {
   "cell_type": "code",
   "execution_count": 210,
   "id": "adcedb37",
   "metadata": {},
   "outputs": [
    {
     "data": {
      "text/plain": [
       "20"
      ]
     },
     "execution_count": 210,
     "metadata": {},
     "output_type": "execute_result"
    }
   ],
   "source": [
    "a+b"
   ]
  },
  {
   "cell_type": "code",
   "execution_count": 211,
   "id": "230798a1",
   "metadata": {},
   "outputs": [
    {
     "data": {
      "text/plain": [
       "10"
      ]
     },
     "execution_count": 211,
     "metadata": {},
     "output_type": "execute_result"
    }
   ],
   "source": [
    "b-a"
   ]
  },
  {
   "cell_type": "code",
   "execution_count": 212,
   "id": "4b8805ba",
   "metadata": {},
   "outputs": [
    {
     "data": {
      "text/plain": [
       "75"
      ]
     },
     "execution_count": 212,
     "metadata": {},
     "output_type": "execute_result"
    }
   ],
   "source": [
    "a*b"
   ]
  },
  {
   "cell_type": "code",
   "execution_count": 213,
   "id": "d48c5d16",
   "metadata": {},
   "outputs": [
    {
     "data": {
      "text/plain": [
       "3.0"
      ]
     },
     "execution_count": 213,
     "metadata": {},
     "output_type": "execute_result"
    }
   ],
   "source": [
    "b/a"
   ]
  },
  {
   "cell_type": "code",
   "execution_count": 214,
   "id": "e8ad735e",
   "metadata": {},
   "outputs": [
    {
     "data": {
      "text/plain": [
       "3"
      ]
     },
     "execution_count": 214,
     "metadata": {},
     "output_type": "execute_result"
    }
   ],
   "source": [
    "b//a"
   ]
  },
  {
   "cell_type": "code",
   "execution_count": 215,
   "id": "09cbca16",
   "metadata": {},
   "outputs": [
    {
     "data": {
      "text/plain": [
       "0"
      ]
     },
     "execution_count": 215,
     "metadata": {},
     "output_type": "execute_result"
    }
   ],
   "source": [
    "b%a"
   ]
  },
  {
   "cell_type": "code",
   "execution_count": 216,
   "id": "1cf6b0d4",
   "metadata": {},
   "outputs": [
    {
     "data": {
      "text/plain": [
       "759375"
      ]
     },
     "execution_count": 216,
     "metadata": {},
     "output_type": "execute_result"
    }
   ],
   "source": [
    "b**a"
   ]
  },
  {
   "cell_type": "markdown",
   "id": "dbb2da2b",
   "metadata": {},
   "source": [
    "#### 2) Comparison Operators\n",
    "\n",
    "#### Comparison Operators: Comparison operators are used to compare two values and determine their relationship. They include equal to (==), not equal to (!=), greater than (>), less than (<), greater than or equal to (>=), and less than or equal to (<=)."
   ]
  },
  {
   "cell_type": "code",
   "execution_count": 217,
   "id": "07bd2162",
   "metadata": {},
   "outputs": [
    {
     "data": {
      "text/plain": [
       "False"
      ]
     },
     "execution_count": 217,
     "metadata": {},
     "output_type": "execute_result"
    }
   ],
   "source": [
    "a == b"
   ]
  },
  {
   "cell_type": "code",
   "execution_count": 218,
   "id": "2b12d2cc",
   "metadata": {},
   "outputs": [
    {
     "data": {
      "text/plain": [
       "True"
      ]
     },
     "execution_count": 218,
     "metadata": {},
     "output_type": "execute_result"
    }
   ],
   "source": [
    "a <= b"
   ]
  },
  {
   "cell_type": "code",
   "execution_count": 219,
   "id": "1eb1af08",
   "metadata": {},
   "outputs": [
    {
     "data": {
      "text/plain": [
       "False"
      ]
     },
     "execution_count": 219,
     "metadata": {},
     "output_type": "execute_result"
    }
   ],
   "source": [
    "a >= b"
   ]
  },
  {
   "cell_type": "code",
   "execution_count": 220,
   "id": "47df26be",
   "metadata": {},
   "outputs": [
    {
     "data": {
      "text/plain": [
       "True"
      ]
     },
     "execution_count": 220,
     "metadata": {},
     "output_type": "execute_result"
    }
   ],
   "source": [
    "a != b"
   ]
  },
  {
   "cell_type": "code",
   "execution_count": 221,
   "id": "64e649a6",
   "metadata": {},
   "outputs": [
    {
     "data": {
      "text/plain": [
       "True"
      ]
     },
     "execution_count": 221,
     "metadata": {},
     "output_type": "execute_result"
    }
   ],
   "source": [
    "a < b"
   ]
  },
  {
   "cell_type": "code",
   "execution_count": 222,
   "id": "06f861b8",
   "metadata": {},
   "outputs": [
    {
     "data": {
      "text/plain": [
       "True"
      ]
     },
     "execution_count": 222,
     "metadata": {},
     "output_type": "execute_result"
    }
   ],
   "source": [
    "b > a"
   ]
  },
  {
   "cell_type": "markdown",
   "id": "50e7a192",
   "metadata": {},
   "source": [
    "#### 3) Assignment Operators\n",
    "\n",
    "#### Assignment Operators: Assignment operators are used to assign values to variables. They include simple assignment (=), addition assignment (+=), subtraction assignment (-=), multiplication assignment (*=), division assignment (/=), modulus assignment (%=), floor division assignment (//=), exponentiation assignment (**=), bitwise AND assignment (&=), bitwise OR assignment (|=), bitwise XOR assignment (^=), left shift assignment (<<=), and right shift assignment (>>=)."
   ]
  },
  {
   "cell_type": "code",
   "execution_count": 223,
   "id": "70f75c05",
   "metadata": {},
   "outputs": [
    {
     "data": {
      "text/plain": [
       "20"
      ]
     },
     "execution_count": 223,
     "metadata": {},
     "output_type": "execute_result"
    }
   ],
   "source": [
    "a += b\n",
    "a"
   ]
  },
  {
   "cell_type": "code",
   "execution_count": 224,
   "id": "c42b9e46",
   "metadata": {},
   "outputs": [
    {
     "data": {
      "text/plain": [
       "5"
      ]
     },
     "execution_count": 224,
     "metadata": {},
     "output_type": "execute_result"
    }
   ],
   "source": [
    "a -= b\n",
    "a"
   ]
  },
  {
   "cell_type": "code",
   "execution_count": 225,
   "id": "1b409aab",
   "metadata": {},
   "outputs": [
    {
     "data": {
      "text/plain": [
       "75"
      ]
     },
     "execution_count": 225,
     "metadata": {},
     "output_type": "execute_result"
    }
   ],
   "source": [
    "a *= b\n",
    "a"
   ]
  },
  {
   "cell_type": "code",
   "execution_count": 226,
   "id": "b8faf3c4",
   "metadata": {},
   "outputs": [
    {
     "data": {
      "text/plain": [
       "5.0"
      ]
     },
     "execution_count": 226,
     "metadata": {},
     "output_type": "execute_result"
    }
   ],
   "source": [
    "a /= b\n",
    "a"
   ]
  },
  {
   "cell_type": "code",
   "execution_count": 227,
   "id": "fc516612",
   "metadata": {},
   "outputs": [
    {
     "data": {
      "text/plain": [
       "3.0"
      ]
     },
     "execution_count": 227,
     "metadata": {},
     "output_type": "execute_result"
    }
   ],
   "source": [
    "b //= a\n",
    "b"
   ]
  },
  {
   "cell_type": "code",
   "execution_count": 228,
   "id": "6190b165",
   "metadata": {},
   "outputs": [
    {
     "data": {
      "text/plain": [
       "2.0"
      ]
     },
     "execution_count": 228,
     "metadata": {},
     "output_type": "execute_result"
    }
   ],
   "source": [
    "a %= b\n",
    "a"
   ]
  },
  {
   "cell_type": "code",
   "execution_count": 229,
   "id": "b8f92050",
   "metadata": {},
   "outputs": [
    {
     "data": {
      "text/plain": [
       "8"
      ]
     },
     "execution_count": 229,
     "metadata": {},
     "output_type": "execute_result"
    }
   ],
   "source": [
    "a **= b\n",
    "a = int(a)\n",
    "a"
   ]
  },
  {
   "cell_type": "code",
   "execution_count": 230,
   "id": "67ba4faf",
   "metadata": {},
   "outputs": [],
   "source": [
    "a = 5  # 101 in binary\n",
    "b = 3  # 011 in binary"
   ]
  },
  {
   "cell_type": "code",
   "execution_count": 231,
   "id": "0f8aaa34",
   "metadata": {},
   "outputs": [
    {
     "data": {
      "text/plain": [
       "1"
      ]
     },
     "execution_count": 231,
     "metadata": {},
     "output_type": "execute_result"
    }
   ],
   "source": [
    "a &= b\n",
    "a"
   ]
  },
  {
   "cell_type": "code",
   "execution_count": 232,
   "id": "c83d360d",
   "metadata": {},
   "outputs": [
    {
     "data": {
      "text/plain": [
       "3"
      ]
     },
     "execution_count": 232,
     "metadata": {},
     "output_type": "execute_result"
    }
   ],
   "source": [
    "b |= a\n",
    "b"
   ]
  },
  {
   "cell_type": "code",
   "execution_count": 233,
   "id": "94379264",
   "metadata": {},
   "outputs": [
    {
     "data": {
      "text/plain": [
       "2"
      ]
     },
     "execution_count": 233,
     "metadata": {},
     "output_type": "execute_result"
    }
   ],
   "source": [
    "a ^= b\n",
    "a"
   ]
  },
  {
   "cell_type": "code",
   "execution_count": 234,
   "id": "f8469404",
   "metadata": {},
   "outputs": [
    {
     "data": {
      "text/plain": [
       "16"
      ]
     },
     "execution_count": 234,
     "metadata": {},
     "output_type": "execute_result"
    }
   ],
   "source": [
    "a <<= b\n",
    "a"
   ]
  },
  {
   "cell_type": "code",
   "execution_count": 235,
   "id": "6a670d72",
   "metadata": {},
   "outputs": [
    {
     "data": {
      "text/plain": [
       "2"
      ]
     },
     "execution_count": 235,
     "metadata": {},
     "output_type": "execute_result"
    }
   ],
   "source": [
    "a >>= b\n",
    "a"
   ]
  },
  {
   "cell_type": "markdown",
   "id": "1c3a67c8",
   "metadata": {},
   "source": [
    "#### 4) Logical Operators\n",
    "\n",
    "#### Logical Operators: Logical operators are used to combine or modify the results of logical expressions. They include logical AND (and), logical OR (or), and logical NOT (not)."
   ]
  },
  {
   "cell_type": "code",
   "execution_count": 236,
   "id": "0d3b521d",
   "metadata": {},
   "outputs": [
    {
     "name": "stdout",
     "output_type": "stream",
     "text": [
      "2\n"
     ]
    }
   ],
   "source": [
    "if a<b and a!=b:\n",
    "    print(a)"
   ]
  },
  {
   "cell_type": "code",
   "execution_count": 237,
   "id": "291d4e7d",
   "metadata": {},
   "outputs": [
    {
     "name": "stdout",
     "output_type": "stream",
     "text": [
      "2\n"
     ]
    }
   ],
   "source": [
    "if a>b or a!=b:\n",
    "    print(a)"
   ]
  },
  {
   "cell_type": "code",
   "execution_count": 238,
   "id": "733e3839",
   "metadata": {},
   "outputs": [
    {
     "name": "stdout",
     "output_type": "stream",
     "text": [
      "2\n"
     ]
    }
   ],
   "source": [
    "if a!=b:\n",
    "    print(a)"
   ]
  },
  {
   "cell_type": "markdown",
   "id": "6634fe45",
   "metadata": {},
   "source": [
    "#### 5) Bitwise Operators\n",
    "\n",
    "#### Bitwise Operators: Bitwise operators are used to perform bitwise operations on integers. They include bitwise AND (&), bitwise OR (|), bitwise XOR (^), bitwise NOT (~), left shift (<<), and right shift (>>)."
   ]
  },
  {
   "cell_type": "code",
   "execution_count": 239,
   "id": "0a269a88",
   "metadata": {},
   "outputs": [
    {
     "data": {
      "text/plain": [
       "2"
      ]
     },
     "execution_count": 239,
     "metadata": {},
     "output_type": "execute_result"
    }
   ],
   "source": [
    "a & b"
   ]
  },
  {
   "cell_type": "code",
   "execution_count": 240,
   "id": "f6f137e5",
   "metadata": {},
   "outputs": [
    {
     "data": {
      "text/plain": [
       "3"
      ]
     },
     "execution_count": 240,
     "metadata": {},
     "output_type": "execute_result"
    }
   ],
   "source": [
    "a | b"
   ]
  },
  {
   "cell_type": "code",
   "execution_count": 241,
   "id": "3dc35bdc",
   "metadata": {},
   "outputs": [
    {
     "data": {
      "text/plain": [
       "1"
      ]
     },
     "execution_count": 241,
     "metadata": {},
     "output_type": "execute_result"
    }
   ],
   "source": [
    "a ^ b"
   ]
  },
  {
   "cell_type": "code",
   "execution_count": 242,
   "id": "e06d2c5f",
   "metadata": {},
   "outputs": [
    {
     "data": {
      "text/plain": [
       "16"
      ]
     },
     "execution_count": 242,
     "metadata": {},
     "output_type": "execute_result"
    }
   ],
   "source": [
    "a << b"
   ]
  },
  {
   "cell_type": "code",
   "execution_count": 243,
   "id": "de8629ba",
   "metadata": {},
   "outputs": [
    {
     "data": {
      "text/plain": [
       "0"
      ]
     },
     "execution_count": 243,
     "metadata": {},
     "output_type": "execute_result"
    }
   ],
   "source": [
    "a >> b"
   ]
  },
  {
   "cell_type": "code",
   "execution_count": 244,
   "id": "d440f62d",
   "metadata": {},
   "outputs": [
    {
     "data": {
      "text/plain": [
       "-3"
      ]
     },
     "execution_count": 244,
     "metadata": {},
     "output_type": "execute_result"
    }
   ],
   "source": [
    "~ a"
   ]
  },
  {
   "cell_type": "markdown",
   "id": "9a496055",
   "metadata": {},
   "source": [
    "#### 6) Identity Operators\n",
    "\n",
    "#### Identity Operators: Identity operators are used to compare the memory addresses of two objects. They include is and is not."
   ]
  },
  {
   "cell_type": "code",
   "execution_count": 245,
   "id": "3815f7ee",
   "metadata": {},
   "outputs": [
    {
     "data": {
      "text/plain": [
       "False"
      ]
     },
     "execution_count": 245,
     "metadata": {},
     "output_type": "execute_result"
    }
   ],
   "source": [
    "a is b"
   ]
  },
  {
   "cell_type": "code",
   "execution_count": 246,
   "id": "d9e31d4c",
   "metadata": {},
   "outputs": [
    {
     "data": {
      "text/plain": [
       "True"
      ]
     },
     "execution_count": 246,
     "metadata": {},
     "output_type": "execute_result"
    }
   ],
   "source": [
    "a is not b"
   ]
  },
  {
   "cell_type": "markdown",
   "id": "a6e8a573",
   "metadata": {},
   "source": [
    "#### 7) Membership Operators\n",
    "\n",
    "#### Membership Operators: Membership operators are used to test whether a value is present in a sequence (such as a list, tuple, or string). They include in and not in."
   ]
  },
  {
   "cell_type": "code",
   "execution_count": 247,
   "id": "a16eaebf",
   "metadata": {},
   "outputs": [
    {
     "data": {
      "text/plain": [
       "[1, 2, 3, 4, 5]"
      ]
     },
     "execution_count": 247,
     "metadata": {},
     "output_type": "execute_result"
    }
   ],
   "source": [
    "l10 = [1,2,3,4,5]\n",
    "l10"
   ]
  },
  {
   "cell_type": "code",
   "execution_count": 248,
   "id": "08de2e9e",
   "metadata": {},
   "outputs": [
    {
     "data": {
      "text/plain": [
       "True"
      ]
     },
     "execution_count": 248,
     "metadata": {},
     "output_type": "execute_result"
    }
   ],
   "source": [
    "1 in l10"
   ]
  },
  {
   "cell_type": "code",
   "execution_count": 249,
   "id": "039be2d8",
   "metadata": {},
   "outputs": [
    {
     "data": {
      "text/plain": [
       "True"
      ]
     },
     "execution_count": 249,
     "metadata": {},
     "output_type": "execute_result"
    }
   ],
   "source": [
    "10 not in l10"
   ]
  },
  {
   "cell_type": "markdown",
   "id": "a201938f",
   "metadata": {},
   "source": [
    "#### 8) String Concatenation Operator\n",
    "\n",
    "#### String Concatenation Operator: The plus (+) operator is used to concatenate two strings."
   ]
  },
  {
   "cell_type": "code",
   "execution_count": 250,
   "id": "f4eedadf",
   "metadata": {},
   "outputs": [],
   "source": [
    "w,w1 = \"Raja\",\" Kodumuru\""
   ]
  },
  {
   "cell_type": "code",
   "execution_count": 251,
   "id": "e044f201",
   "metadata": {},
   "outputs": [
    {
     "data": {
      "text/plain": [
       "'Raja Kodumuru'"
      ]
     },
     "execution_count": 251,
     "metadata": {},
     "output_type": "execute_result"
    }
   ],
   "source": [
    "w+w1"
   ]
  },
  {
   "cell_type": "markdown",
   "id": "6d24a0e6",
   "metadata": {},
   "source": [
    "### 11) Print\n",
    "\n",
    "#### The print() function is used to display output to the console or standard output. While the basic usage of print() involves printing strings or variables, there are variations and additional features provided by Python for more flexibility. "
   ]
  },
  {
   "cell_type": "markdown",
   "id": "195d7dee",
   "metadata": {},
   "source": [
    "#### 1) Basic Print\n",
    "\n",
    "#### Basic Print: Printing a string or variable directly:"
   ]
  },
  {
   "cell_type": "code",
   "execution_count": 252,
   "id": "14798e42",
   "metadata": {},
   "outputs": [
    {
     "name": "stdout",
     "output_type": "stream",
     "text": [
      "Raja Kodumuru\n"
     ]
    }
   ],
   "source": [
    "print(\"Raja Kodumuru\")"
   ]
  },
  {
   "cell_type": "markdown",
   "id": "b5eb5e3d",
   "metadata": {},
   "source": [
    "#### 2) Print Multiple Values\n",
    "\n",
    "#### Print Multiple Values: Printing multiple values separated by commas:"
   ]
  },
  {
   "cell_type": "code",
   "execution_count": 253,
   "id": "46af75b0",
   "metadata": {},
   "outputs": [
    {
     "name": "stdout",
     "output_type": "stream",
     "text": [
      "The values of x and y are: 10 20\n"
     ]
    }
   ],
   "source": [
    "x = 10\n",
    "y = 20\n",
    "print(\"The values of x and y are:\", x, y)"
   ]
  },
  {
   "cell_type": "markdown",
   "id": "991814e7",
   "metadata": {},
   "source": [
    "#### 3) Formatted Output\n",
    "\n",
    "#### Formatted Output: Using string formatting to print variables with specific formats:"
   ]
  },
  {
   "cell_type": "code",
   "execution_count": 254,
   "id": "578397b6",
   "metadata": {},
   "outputs": [
    {
     "name": "stdout",
     "output_type": "stream",
     "text": [
      "Name: Raja, Age: 25\n"
     ]
    }
   ],
   "source": [
    "name = \"Raja\"\n",
    "age = 25\n",
    "print(\"Name: {}, Age: {}\".format(name, age))"
   ]
  },
  {
   "cell_type": "markdown",
   "id": "d67f0567",
   "metadata": {},
   "source": [
    "#### 4) Formatted String Literals\n",
    "\n",
    "#### Formatted String Literals (f-strings): Using f-strings for inline variable substitution and formatting:"
   ]
  },
  {
   "cell_type": "code",
   "execution_count": 255,
   "id": "531b4661",
   "metadata": {},
   "outputs": [
    {
     "name": "stdout",
     "output_type": "stream",
     "text": [
      "Name: Bob, Age: 25\n"
     ]
    }
   ],
   "source": [
    "name = \"Bob\"\n",
    "age = 25\n",
    "print(f\"Name: {name}, Age: {age}\")"
   ]
  },
  {
   "cell_type": "markdown",
   "id": "42b8421e",
   "metadata": {},
   "source": [
    "#### 5) Redirect Output\n",
    "\n",
    "#### Redirect Output: Redirecting output to a file instead of the console:"
   ]
  },
  {
   "cell_type": "code",
   "execution_count": 256,
   "id": "ab0bdc78",
   "metadata": {},
   "outputs": [
    {
     "ename": "PermissionError",
     "evalue": "[Errno 13] Permission denied: 'output.txt'",
     "output_type": "error",
     "traceback": [
      "\u001b[1;31m---------------------------------------------------------------------------\u001b[0m",
      "\u001b[1;31mPermissionError\u001b[0m                           Traceback (most recent call last)",
      "\u001b[1;32m~\\AppData\\Local\\Temp\\ipykernel_18108\\2638799307.py\u001b[0m in \u001b[0;36m<module>\u001b[1;34m\u001b[0m\n\u001b[1;32m----> 1\u001b[1;33m \u001b[1;32mwith\u001b[0m \u001b[0mopen\u001b[0m\u001b[1;33m(\u001b[0m\u001b[1;34m\"output.txt\"\u001b[0m\u001b[1;33m,\u001b[0m \u001b[1;34m\"w\"\u001b[0m\u001b[1;33m)\u001b[0m \u001b[1;32mas\u001b[0m \u001b[0mf\u001b[0m\u001b[1;33m:\u001b[0m\u001b[1;33m\u001b[0m\u001b[1;33m\u001b[0m\u001b[0m\n\u001b[0m\u001b[0;32m      2\u001b[0m     \u001b[0mprint\u001b[0m\u001b[1;33m(\u001b[0m\u001b[1;34m\"Hello, World!\"\u001b[0m\u001b[1;33m,\u001b[0m \u001b[0mfile\u001b[0m\u001b[1;33m=\u001b[0m\u001b[0mf\u001b[0m\u001b[1;33m)\u001b[0m\u001b[1;33m\u001b[0m\u001b[1;33m\u001b[0m\u001b[0m\n",
      "\u001b[1;31mPermissionError\u001b[0m: [Errno 13] Permission denied: 'output.txt'"
     ]
    }
   ],
   "source": [
    "with open(\"output.txt\", \"w\") as f:\n",
    "    print(\"Hello, World!\", file=f)"
   ]
  },
  {
   "cell_type": "markdown",
   "id": "41b3d358",
   "metadata": {},
   "source": [
    "#### 6) Print without New Line\n",
    "\n",
    "#### Print Without Newline: Printing without adding a newline character at the end (Python 3.x):"
   ]
  },
  {
   "cell_type": "code",
   "execution_count": null,
   "id": "1ec983a2",
   "metadata": {},
   "outputs": [],
   "source": [
    "print(\"Hello\", end=\"\")\n",
    "print(\" World!\")"
   ]
  },
  {
   "cell_type": "markdown",
   "id": "56a6ad8f",
   "metadata": {},
   "source": [
    "#### 7) Print with Seperator\n",
    "\n",
    "#### Print with Separator: Specifying a separator between printed values (Python 3.7+):"
   ]
  },
  {
   "cell_type": "code",
   "execution_count": null,
   "id": "5c9d85fc",
   "metadata": {},
   "outputs": [],
   "source": [
    "print(\"apple\", \"banana\", \"orange\", sep=\", \")"
   ]
  },
  {
   "cell_type": "markdown",
   "id": "7c453ff8",
   "metadata": {},
   "source": [
    "#### 8) Logging to Standard Error\n",
    "\n",
    "#### Logging to Standard Error: Printing to the standard error stream instead of standard output:"
   ]
  },
  {
   "cell_type": "code",
   "execution_count": null,
   "id": "f567d32e",
   "metadata": {},
   "outputs": [],
   "source": [
    "import sys\n",
    "print(\"An error occurred\", file=sys.stderr)"
   ]
  },
  {
   "cell_type": "markdown",
   "id": "3de44eec",
   "metadata": {},
   "source": [
    "#### 9) New Line\n",
    "\n",
    "#### the print() function automatically adds a newline character (\\n) at the end of the printed output by default. This means that each call to print() ends with a newline character, causing the next printed output to start on a new line. \n",
    "\n",
    "#### However, you can control this behavior using the end parameter of the print() function. By default, the end parameter is set to '\\n', indicating that a newline character should be added at the end of the printed output. You can change this behavior by specifying a different value for the end parameter. use \\n or \\\\n for new line\n"
   ]
  },
  {
   "cell_type": "code",
   "execution_count": null,
   "id": "2c28b1df",
   "metadata": {},
   "outputs": [],
   "source": [
    "print(\"Raja \\n Kodumuru\")"
   ]
  },
  {
   "cell_type": "code",
   "execution_count": null,
   "id": "9135fe98",
   "metadata": {},
   "outputs": [],
   "source": [
    "print(\"Raja \\\\n Kodumuru\")"
   ]
  },
  {
   "cell_type": "markdown",
   "id": "7f35f289",
   "metadata": {},
   "source": [
    "### 12) Control Statements\n",
    "\n",
    "#### In Python, control statements are constructs that manage the flow of execution of the program. They allow the program to make decisions, repeat certain actions, or even jump to different parts of the code. Control statements are essential for creating dynamic and flexible programs. The primary types of control statements in Python include conditional statements, loop statements, and branching statements.\n",
    "\n"
   ]
  },
  {
   "cell_type": "markdown",
   "id": "b14a1bae",
   "metadata": {},
   "source": [
    "#### 1) Conditional Statements: These statements allow the execution of code based on certain conditions.\n",
    "\n",
    "#### if statement: Executes a block of code if a specified condition is true.\n",
    "#### if...else statement: Executes one block of code if a condition is true and another block of code if it is false.\n",
    "#### if...elif...else statement: Allows for multiple conditions to be checked sequentially, executing the corresponding block of code for the first true condition."
   ]
  },
  {
   "cell_type": "markdown",
   "id": "832a0b92",
   "metadata": {},
   "source": [
    "#### 1) If Statement\n",
    "\n",
    "#### In Python, the if statement is used to execute a block of code conditionally, based on the result of a Boolean expression. If the condition evaluates to True, the code block inside the if statement is executed. If the condition evaluates to False, the code block is skipped.\n",
    "\n",
    "#### Explanation\n",
    "#### if: The keyword that begins the conditional statement.\n",
    "#### condition: An expression that evaluates to either True or False.\n",
    "#### code block: A block of code (one or more indented lines) that will be executed if the condition is True."
   ]
  },
  {
   "cell_type": "code",
   "execution_count": null,
   "id": "e325dc55",
   "metadata": {},
   "outputs": [],
   "source": [
    "if True:\n",
    "    print(\"Yes\")"
   ]
  },
  {
   "cell_type": "code",
   "execution_count": null,
   "id": "fa889760",
   "metadata": {},
   "outputs": [],
   "source": [
    "if False:\n",
    "    print(\"Yes\")"
   ]
  },
  {
   "cell_type": "code",
   "execution_count": null,
   "id": "a455dff0",
   "metadata": {},
   "outputs": [],
   "source": [
    "a = 15\n",
    "if a>10:\n",
    "    print(\"Yes\")"
   ]
  },
  {
   "cell_type": "code",
   "execution_count": null,
   "id": "0208fe6d",
   "metadata": {},
   "outputs": [],
   "source": [
    "if a<10:\n",
    "    print(\"Yes\")"
   ]
  },
  {
   "cell_type": "markdown",
   "id": "b41334e7",
   "metadata": {},
   "source": [
    "#### 2) If-Else Statement\n",
    "\n",
    "####  the if...else statement is used to execute one block of code if a condition is true and another block of code if the condition is false. It allows for a binary decision-making structure, providing a way to branch the flow of execution based on the evaluation of a condition.\n",
    "\n",
    "#### Explanation\n",
    "#### if: The keyword that begins the conditional statement.\n",
    "#### condition: An expression that evaluates to either True or False.\n",
    "#### code block: One or more indented lines of code that will be executed based on whether the condition is True or False."
   ]
  },
  {
   "cell_type": "code",
   "execution_count": null,
   "id": "63f27876",
   "metadata": {},
   "outputs": [],
   "source": [
    "if False:\n",
    "    print(\"No\")\n",
    "else:\n",
    "    print(\"Yes\")"
   ]
  },
  {
   "cell_type": "code",
   "execution_count": null,
   "id": "3f5d744b",
   "metadata": {},
   "outputs": [],
   "source": [
    "age = 16\n",
    "\n",
    "if age >= 18:\n",
    "    print(\"You are an adult.\")\n",
    "else:\n",
    "    print(\"You are a minor.\")"
   ]
  },
  {
   "cell_type": "markdown",
   "id": "bca1803e",
   "metadata": {},
   "source": [
    "#### 3) If elif else Statement\n",
    "\n",
    "#### In Python, the if...elif...else statement is used for multi-way branching, which allows the execution of different blocks of code based on multiple conditions. This control structure evaluates conditions one by one, from top to bottom, and executes the corresponding block of code for the first condition that evaluates to True. If none of the conditions are True, the else block is executed.\n",
    "\n",
    "#### Explanation\n",
    "#### if: The keyword that starts the conditional statement.\n",
    "#### condition1, condition2, ...: Boolean expressions that are evaluated in sequence.\n",
    "#### code block: A block of indented code that will be executed if its corresponding condition evaluates to True.\n",
    "#### elif: Short for \"else if,\" used to check an additional condition if the previous if or elif conditions were False.\n",
    "#### else: A keyword that defines a block of code to be executed if none of the preceding conditions are True. The else block is optional but provides a fallback when all other conditions fail."
   ]
  },
  {
   "cell_type": "code",
   "execution_count": null,
   "id": "3bbba152",
   "metadata": {},
   "outputs": [],
   "source": [
    "if False:\n",
    "    print(\"NO\")\n",
    "elif False:\n",
    "    print(\"NOOO\")\n",
    "else:\n",
    "    print(\"Yes\")"
   ]
  },
  {
   "cell_type": "code",
   "execution_count": null,
   "id": "9647b3d2",
   "metadata": {},
   "outputs": [],
   "source": [
    "age = 16\n",
    "\n",
    "if age >= 18:\n",
    "    print(\"You are an adult.\")\n",
    "elif age >= 13:\n",
    "    print(\"You are a teenager.\")\n",
    "elif age >= 3:\n",
    "    print(\"You are a child.\")\n",
    "else:\n",
    "    print(\"You are a toddler.\")"
   ]
  },
  {
   "cell_type": "markdown",
   "id": "51f0c411",
   "metadata": {},
   "source": [
    "#### 2) Loop Statements\n",
    "\n",
    "#### Loop Statements: These statements allow a block of code to be executed repeatedly based on a condition or a sequence.\n",
    "\n",
    "#### for loop: Iterates over a sequence (such as a list, tuple, dictionary, set, or string) and executes a block of code for each item in the sequence.\n",
    "\n",
    "#### while loop: Repeatedly executes a block of code as long as a specified condition is true."
   ]
  },
  {
   "cell_type": "markdown",
   "id": "9553d8fd",
   "metadata": {},
   "source": [
    "#### 1) For Loop\n",
    "\n",
    "#### the for loop is used to iterate over a sequence (such as a list, tuple, string, or range) and execute a block of code for each item in that sequence. It allows you to traverse through all the elements in a sequence, making it a fundamental tool for repetitive tasks and iterations.\n",
    "\n",
    "#### Explanation\n",
    "#### for: The keyword that starts the loop.\n",
    "#### variable: A temporary variable that takes the value of the current item in the sequence during each iteration.\n",
    "#### in: The keyword used to specify the sequence to iterate over.\n",
    "#### sequence: The collection of items to iterate over (e.g., list, tuple, string, range).\n",
    "#### code block: The block of indented code that is executed once for each item in the sequence."
   ]
  },
  {
   "cell_type": "code",
   "execution_count": null,
   "id": "8ab4f2a3",
   "metadata": {},
   "outputs": [],
   "source": [
    "for i in range(1,11):\n",
    "    print(i)"
   ]
  },
  {
   "cell_type": "code",
   "execution_count": null,
   "id": "205e451f",
   "metadata": {},
   "outputs": [],
   "source": [
    "l = [10,20,30,40,50]\n",
    "for i in l:\n",
    "    print(i)"
   ]
  },
  {
   "cell_type": "code",
   "execution_count": null,
   "id": "6e29b913",
   "metadata": {},
   "outputs": [],
   "source": [
    "t "
   ]
  },
  {
   "cell_type": "code",
   "execution_count": null,
   "id": "cfa8dc24",
   "metadata": {},
   "outputs": [],
   "source": [
    "for i in t:\n",
    "    print(i)"
   ]
  },
  {
   "cell_type": "code",
   "execution_count": null,
   "id": "e1c1cc03",
   "metadata": {},
   "outputs": [],
   "source": [
    "n = \"Raja\"\n",
    "for i in n:\n",
    "    print(i)"
   ]
  },
  {
   "cell_type": "code",
   "execution_count": null,
   "id": "f88cfb70",
   "metadata": {},
   "outputs": [],
   "source": [
    "s"
   ]
  },
  {
   "cell_type": "code",
   "execution_count": null,
   "id": "4327320c",
   "metadata": {},
   "outputs": [],
   "source": [
    "for i in s:\n",
    "    print(i)"
   ]
  },
  {
   "cell_type": "markdown",
   "id": "02379e09",
   "metadata": {},
   "source": [
    "#### 2) While Loop\n",
    "\n",
    "#### In Python, a while loop is used to repeatedly execute a block of code as long as a given condition is true. The condition is evaluated before each iteration, and if it evaluates to True, the code block is executed. If the condition evaluates to False, the loop terminates and the program continues with the next statement after the loop.\n",
    "\n",
    "#### A while loop can become an infinite loop if the condition never evaluates to False. This can be useful in certain situations, such as servers or continuously running applications, but it must be managed carefully to avoid unintentional infinite loops.\n",
    "\n",
    "#### Explanation\n",
    "#### while: The keyword that starts the loop.\n",
    "#### condition: An expression that is evaluated before each iteration. If it evaluates to True, the loop continues; if it evaluates to False, the loop stops.\n",
    "#### code block: The block of indented code that is executed repeatedly as long as the condition is True.\n"
   ]
  },
  {
   "cell_type": "code",
   "execution_count": null,
   "id": "c8cc5390",
   "metadata": {},
   "outputs": [],
   "source": [
    "a = 0\n",
    "\n",
    "while a <10:\n",
    "    print(a)\n",
    "    a += 1"
   ]
  },
  {
   "cell_type": "code",
   "execution_count": null,
   "id": "f2029fe3",
   "metadata": {},
   "outputs": [],
   "source": [
    "count = 0\n",
    "\n",
    "while count < 5:\n",
    "    print(count)\n",
    "    count += 1\n",
    "else:\n",
    "    print(\"Loop finished.\")"
   ]
  },
  {
   "cell_type": "markdown",
   "id": "582e9ec4",
   "metadata": {},
   "source": [
    "#### 3) Branching Statements\n",
    "\n",
    "#### Branching Statements: These statements alter the normal sequential flow of execution.\n",
    "\n",
    "#### break statement: Terminates the nearest enclosing loop, skipping the rest of its code block and exiting the loop.\n",
    "\n",
    "#### continue statement: Skips the rest of the code inside the current iteration of the loop and proceeds to the next iteration.\n",
    "\n",
    "#### pass statement: Does nothing and is used as a placeholder in situations where a statement is syntactically required but you don't want any action to be taken.\n",
    "\n",
    "#### return statement: The return statement is used in a function to exit the function and optionally pass an expression back to the caller"
   ]
  },
  {
   "cell_type": "markdown",
   "id": "3c3a8d7b",
   "metadata": {},
   "source": [
    "#### 1) Break Statement\n",
    "\n",
    "#### In Python, the break statement is used to exit a loop prematurely. When a break statement is encountered inside a loop (whether it’s a for loop or a while loop), the loop terminates immediately, and the program continues with the next statement after the loop.\n",
    "\n",
    "#### Explanation\n",
    "#### break: The keyword used to exit the loop.\n",
    "#### condition: A boolean expression that determines if the loop continues running.\n",
    "#### some_condition: A boolean expression that, when True, causes the loop to terminate."
   ]
  },
  {
   "cell_type": "code",
   "execution_count": null,
   "id": "2079241b",
   "metadata": {},
   "outputs": [],
   "source": [
    "count = 0\n",
    "\n",
    "while count < 10:\n",
    "    print(count)\n",
    "    if count == 5:\n",
    "        break\n",
    "    count += 1"
   ]
  },
  {
   "cell_type": "code",
   "execution_count": null,
   "id": "2ede9137",
   "metadata": {},
   "outputs": [],
   "source": [
    "fruits = [\"apple\", \"banana\", \"cherry\", \"date\"]\n",
    "\n",
    "for fruit in fruits:\n",
    "    if fruit == \"cherry\":\n",
    "        break\n",
    "    print(fruit)"
   ]
  },
  {
   "cell_type": "markdown",
   "id": "d640fd51",
   "metadata": {},
   "source": [
    "#### 2) Continue\n",
    "\n",
    "#### In Python, the continue statement is used inside loops to skip the rest of the code inside the current iteration and proceed directly to the next iteration. It allows you to bypass part of a loop when a certain condition is met, without exiting the loop entirely.\n",
    "\n",
    "#### Explanation\n",
    "#### continue: The keyword used to skip the rest of the code inside the current loop iteration.\n",
    "#### condition: A boolean expression that determines if the loop continues running.\n",
    "#### some_condition: A boolean expression that, when True, causes the loop to skip to the next iteration."
   ]
  },
  {
   "cell_type": "code",
   "execution_count": null,
   "id": "17486572",
   "metadata": {},
   "outputs": [],
   "source": [
    "count = 0\n",
    "\n",
    "while count < 10:\n",
    "    count += 1\n",
    "    if count % 2 == 0:\n",
    "        continue\n",
    "    print(count)"
   ]
  },
  {
   "cell_type": "code",
   "execution_count": null,
   "id": "8a0f87dd",
   "metadata": {},
   "outputs": [],
   "source": [
    "for i in range(3):\n",
    "    for j in range(3):\n",
    "        if j == 1:\n",
    "            continue\n",
    "        print(f\"i = {i}, j = {j}\")"
   ]
  },
  {
   "cell_type": "markdown",
   "id": "1d36fe76",
   "metadata": {},
   "source": [
    "#### 3) Pass\n",
    "\n",
    "#### In Python, the pass statement is a null operation. It serves as a placeholder when a statement is syntactically required but no action is desired or needed. It essentially does nothing and allows the code to continue execution without any effect.\n",
    "\n",
    "#### Explanation\n",
    "#### pass: The keyword used to indicate that no action should be taken.\n",
    "#### condition: A boolean expression or any condition that requires a statement, even if it's just a placeholder.\n",
    "\n",
    "#### When to Use pass\n",
    "#### Placeholder: When you need a placeholder statement in a function, class, loop, or conditional block to be filled in later.\n",
    "#### Empty Function/Class: When defining a function or a class that does not have any implementation yet.\n",
    "#### Conditional Branch: When you want to handle a specific condition later but do nothing for it currently."
   ]
  },
  {
   "cell_type": "code",
   "execution_count": null,
   "id": "88bb3d59",
   "metadata": {},
   "outputs": [],
   "source": [
    "for i in range(5):\n",
    "    if i == 3:\n",
    "        pass\n",
    "    else:\n",
    "        print(i)"
   ]
  },
  {
   "cell_type": "markdown",
   "id": "4bfffdb4",
   "metadata": {},
   "source": [
    "#### 4) Return Statement\n",
    "\n",
    "#### The return statement is used in a function to exit the function and optionally pass an expression back to the caller. When a return statement is encountered, the function terminates immediately, and the value specified by the return statement is sent back to the function's caller. If no expression is specified, the function returns None.\n",
    "\n",
    "#### A return statement can be used to exit a function early, before reaching the end of the function.\n",
    "\n",
    "#### If a function does not have a return statement, it returns None by default."
   ]
  },
  {
   "cell_type": "code",
   "execution_count": null,
   "id": "f365b31a",
   "metadata": {},
   "outputs": [],
   "source": [
    "def add(a, b):\n",
    "    return a + b\n",
    "\n",
    "result = add(3, 4)\n",
    "print(result)"
   ]
  },
  {
   "cell_type": "code",
   "execution_count": null,
   "id": "a45c5afc",
   "metadata": {},
   "outputs": [],
   "source": [
    "def greet(name):\n",
    "    print(f\"Hello, {name}!\")\n",
    "\n",
    "greet(\"Raja\")"
   ]
  },
  {
   "cell_type": "markdown",
   "id": "16da2b88",
   "metadata": {},
   "source": [
    "### 13) Assert Statement\n",
    "\n",
    "#### In Python, the assert statement is used for debugging purposes. It allows you to test if a condition in your code returns True. If the condition evaluates to False, an AssertionError exception is raised, optionally with a specified error message. This is useful for identifying and fixing bugs early in the development process by ensuring that certain conditions hold true at specific points in the program.\n",
    "\n",
    "#### Explanation\n",
    "#### assert: The keyword used to perform the assertion.\n",
    "#### condition: A boolean expression that you expect to be True.\n",
    "#### optional_message: An optional message that is displayed if the assertion fails.\n"
   ]
  },
  {
   "cell_type": "code",
   "execution_count": null,
   "id": "0db9e0ec",
   "metadata": {},
   "outputs": [],
   "source": [
    "def divide(a, b):\n",
    "    assert b != 0, \"The divisor 'b' must not be zero.\"\n",
    "    return a / b\n",
    "\n",
    "print(divide(10, 2))  # This will work fine\n",
    "#print(divide(10, 0))  # This will raise an AssertionError"
   ]
  },
  {
   "cell_type": "code",
   "execution_count": null,
   "id": "a6fdca8e",
   "metadata": {},
   "outputs": [],
   "source": [
    "x = 10\n",
    "y = 0\n",
    "\n",
    "#assert y != 0, \"y should not be zero\"\n",
    "#result = x / y"
   ]
  },
  {
   "cell_type": "markdown",
   "id": "c4248096",
   "metadata": {},
   "source": [
    "### 14) Functions\n",
    "\n",
    "#### In Python, a function is a block of organized, reusable code that performs a single, related action. Functions are used to break down large programs into smaller, manageable, and modular chunks, allowing for code reuse, better organization, and easier maintenance.\n",
    "\n",
    "#### Defining a Function\n",
    "#### A function is defined using the def keyword, followed by the function name, a set of parentheses, and a colon. The function body is indented and contains the statements that define the function's behavior.\n",
    "\n",
    "#### Characteristics of Functions\n",
    "#### Reusable: Functions allow you to reuse code by calling the function wherever it's needed, which reduces redundancy.\n",
    "#### Modular: Breaking code into functions makes it easier to understand, maintain, and test.\n",
    "#### Parameters and Arguments: Functions can take input values (parameters) and use them to perform operations.\n",
    "#### Return Values: Functions can return values using the return statement, which can be used by the caller.\n",
    "#### Scope: Variables defined within a function are local to that function and not accessible outside it.\n",
    "\n",
    "#### Functions in Python are first-class objects, meaning they support:\n",
    "\n",
    "#### Assignment to variables\n",
    "#### Passing as arguments to other functions\n",
    "#### Returning from other functions\n",
    "#### Storing in data structures (like lists, dictionaries, etc.)"
   ]
  },
  {
   "cell_type": "code",
   "execution_count": null,
   "id": "e3178a4d",
   "metadata": {},
   "outputs": [],
   "source": [
    "def greet(name):\n",
    "    \"\"\"This function greets the person passed in as a parameter.\"\"\"\n",
    "    return f\"Hello, {name}!\"\n",
    "\n",
    "# Calling the function\n",
    "message = greet(\"Raja\")\n",
    "print(message)"
   ]
  },
  {
   "cell_type": "markdown",
   "id": "b777b8e4",
   "metadata": {},
   "source": [
    "#### Formal and actual Arguments\n",
    "\n",
    "#### Formal Arguments (Parameters)\n",
    "#### Formal arguments are the variables defined by a function that receive values when the function is called. They are specified in the function's definition and act as placeholders for the actual values that will be passed during the function call.\n",
    "\n",
    "#### Actual Arguments\n",
    "#### Actual arguments are the real values or variables passed to the function when it is called. These values are assigned to the corresponding formal arguments (parameters) in the function."
   ]
  },
  {
   "cell_type": "markdown",
   "id": "db9b38a6",
   "metadata": {},
   "source": [
    "#### 1) Formal Arguments"
   ]
  },
  {
   "cell_type": "code",
   "execution_count": null,
   "id": "5e7bd0da",
   "metadata": {},
   "outputs": [],
   "source": [
    "def greet(name, message):\n",
    "    print(f\"{message}, {name}!\")"
   ]
  },
  {
   "cell_type": "code",
   "execution_count": null,
   "id": "82ae9e76",
   "metadata": {},
   "outputs": [],
   "source": [
    "greet(\"Raja\",\"Hello\")"
   ]
  },
  {
   "cell_type": "markdown",
   "id": "b1106b8d",
   "metadata": {},
   "source": [
    "#### 2) Actual Arguments\n",
    "\n",
    "#### 1) Functions with Multiple Parameters (Positional)"
   ]
  },
  {
   "cell_type": "code",
   "execution_count": null,
   "id": "0641f6dd",
   "metadata": {},
   "outputs": [],
   "source": [
    "def add(a, b):\n",
    "    \"\"\"This function returns the sum of two numbers.\"\"\"\n",
    "    return a + b\n",
    "\n",
    "result = add(3, 5)\n",
    "print(result)"
   ]
  },
  {
   "cell_type": "markdown",
   "id": "9dc01c33",
   "metadata": {},
   "source": [
    "#### 2) Function with Default Parameter Values"
   ]
  },
  {
   "cell_type": "code",
   "execution_count": null,
   "id": "5ea1e641",
   "metadata": {},
   "outputs": [],
   "source": [
    "def greet(name, message=\"Hello\"):\n",
    "    \"\"\"This function greets the person with a given message.\"\"\"\n",
    "    return f\"{message}, {name}!\"\n",
    "\n",
    "print(greet(\"Alice\"))\n",
    "print(greet(\"Bob\", \"Hi\"))"
   ]
  },
  {
   "cell_type": "markdown",
   "id": "5905a571",
   "metadata": {},
   "source": [
    "#### 3) Function with Keyword Arguments"
   ]
  },
  {
   "cell_type": "code",
   "execution_count": null,
   "id": "e7806cc6",
   "metadata": {},
   "outputs": [],
   "source": [
    "def describe_pet(animal_type, pet_name):\n",
    "    \"\"\"Display information about a pet.\"\"\"\n",
    "    print(f\"\\nI have a {animal_type}.\")\n",
    "    print(f\"My {animal_type}'s name is {pet_name}.\")\n",
    "\n",
    "describe_pet(animal_type=\"hamster\", pet_name=\"Harry\")\n",
    "describe_pet(pet_name=\"Willie\", animal_type=\"dog\")"
   ]
  },
  {
   "cell_type": "markdown",
   "id": "640d7b51",
   "metadata": {},
   "source": [
    "#### 4) Function with Variable-Length Arguments"
   ]
  },
  {
   "cell_type": "code",
   "execution_count": null,
   "id": "f58f06ae",
   "metadata": {},
   "outputs": [],
   "source": [
    "def make_pizza(size, *toppings):\n",
    "    \"\"\"Summarize the pizza we are about to make.\"\"\"\n",
    "    print(f\"\\nMaking a {size}-inch pizza with the following toppings:\")\n",
    "    for topping in toppings:\n",
    "        print(f\"- {topping}\")\n",
    "\n",
    "make_pizza(12, 'pepperoni')\n",
    "make_pizza(16, 'mushrooms', 'green peppers', 'extra cheese')"
   ]
  },
  {
   "cell_type": "markdown",
   "id": "9adb886f",
   "metadata": {},
   "source": [
    "### 15) Local and Global Variables\n",
    "\n",
    "#### In Python, variables can be classified as either local or global based on their scope and accessibility. Understanding the difference between these types of variables is crucial for effective programming.\n",
    "\n",
    "#### 1) Local Variables\n",
    "#### A local variable is a variable that is defined within a function and is accessible only within that function. Local variables are created when the function starts execution and are destroyed when the function exits.\n",
    "\n",
    "#### Characteristics of Local Variables:\n",
    "#### Scope: Limited to the function where it is defined.\n",
    "#### Lifetime: Exists only during the execution of the function.\n",
    "\n",
    "#### 2) Global Variables\n",
    "#### A global variable is a variable that is defined outside any function and is accessible throughout the entire program. Global variables can be read and modified inside any function in the program.\n",
    "\n",
    "#### Characteristics of Global Variables:\n",
    "#### Scope: Accessible throughout the entire module (file).\n",
    "#### Lifetime: Exists for the duration of the program’s execution."
   ]
  },
  {
   "cell_type": "code",
   "execution_count": null,
   "id": "830f71b8",
   "metadata": {},
   "outputs": [],
   "source": [
    "def my_function():\n",
    "    x = 10  # x is a local variable\n",
    "    print(x)\n",
    "\n",
    "my_function()\n",
    "#print(x)  # This will cause an error because x is not defined outside the function"
   ]
  },
  {
   "cell_type": "code",
   "execution_count": null,
   "id": "3332d3e3",
   "metadata": {},
   "outputs": [],
   "source": [
    "x = 10  # x is a global variable\n",
    "\n",
    "def my_function():\n",
    "    print(x)\n",
    "\n",
    "my_function()\n",
    "print(x)  # This will work because x is defined in the global scope"
   ]
  },
  {
   "cell_type": "code",
   "execution_count": null,
   "id": "f1561831",
   "metadata": {},
   "outputs": [],
   "source": [
    "x = 10  # x is a global variable\n",
    "\n",
    "def my_function():\n",
    "    global x\n",
    "    x = 20  # Modify the global variable x\n",
    "    print(x)\n",
    "\n",
    "my_function()\n",
    "print(x)  # This will print the modified value of x"
   ]
  },
  {
   "cell_type": "markdown",
   "id": "92b92053",
   "metadata": {},
   "source": [
    "### 16) Pass by Object Reference\n",
    "\n",
    "#### In Python, argument passing is commonly described as \"pass-by-object-reference\" or \"pass-by-assignment.\" This means that when you pass an argument to a function, you are passing a reference to the object, not the actual value of the object itself. This allows functions to modify mutable objects passed to them, but immutable objects remain unchanged outside the function.\n",
    "\n",
    "#### Explanation\n",
    "#### Mutable Objects: Objects like lists, dictionaries, sets, and most user-defined objects that can be changed after creation.\n",
    "#### Immutable Objects: Objects like integers, floats, strings, and tuples that cannot be changed after creation.\n",
    "#### How It Works\n",
    "#### When you pass a variable to a function, the function gets a reference to the object, not the variable itself. The behavior depends on whether the object is mutable or immutable:\n",
    "\n",
    "#### Mutable Objects: If you pass a mutable object to a function and modify it inside the function, the changes will be reflected outside the function because both the original variable and the parameter reference the same object.\n",
    "#### Immutable Objects: If you pass an immutable object to a function and try to modify it, a new object is created, and the original object remains unchanged."
   ]
  },
  {
   "cell_type": "code",
   "execution_count": null,
   "id": "96cad72c",
   "metadata": {},
   "outputs": [],
   "source": [
    "def modify_list(lst):  # Mutable Objects\n",
    "    lst.append(4)\n",
    "    print(\"Inside function:\", lst)\n",
    "\n",
    "my_list = [1, 2, 3]\n",
    "modify_list(my_list)\n",
    "print(\"Outside function:\", my_list)"
   ]
  },
  {
   "cell_type": "code",
   "execution_count": null,
   "id": "53158e53",
   "metadata": {},
   "outputs": [],
   "source": [
    "def modify_string(s):    # Immutable Objects\n",
    "    s += \" world\"\n",
    "    print(\"Inside function:\", s)\n",
    "\n",
    "my_string = \"Hello\"\n",
    "modify_string(my_string)\n",
    "print(\"Outside function:\", my_string)"
   ]
  },
  {
   "cell_type": "code",
   "execution_count": null,
   "id": "6f7193bc",
   "metadata": {},
   "outputs": [],
   "source": [
    "def modify_list(lst):      # Mutable Example with List\n",
    "    lst.append(4)\n",
    "    print(\"Inside function:\", lst)\n",
    "\n",
    "my_list = [1, 2, 3]\n",
    "print(\"Before function:\", my_list)\n",
    "modify_list(my_list)\n",
    "print(\"After function:\", my_list)"
   ]
  },
  {
   "cell_type": "code",
   "execution_count": null,
   "id": "0f7fced2",
   "metadata": {},
   "outputs": [],
   "source": [
    "def modify_integer(x):       # Immutable Example with Integer\n",
    "    x += 10\n",
    "    print(\"Inside function:\", x)\n",
    "\n",
    "my_integer = 5\n",
    "print(\"Before function:\", my_integer)\n",
    "modify_integer(my_integer)\n",
    "print(\"After function:\", my_integer)"
   ]
  },
  {
   "cell_type": "markdown",
   "id": "da1523aa",
   "metadata": {},
   "source": [
    "#### Mutable objects: Changes made inside the function affect the original object.\n",
    "#### Immutable objects: Changes made inside the function do not affect the original object; instead, a new object is created."
   ]
  },
  {
   "cell_type": "markdown",
   "id": "b16f40aa",
   "metadata": {},
   "source": [
    "### 17) Decorators\n",
    "\n",
    "#### In Python, a decorator is a design pattern that allows you to add new functionality to an existing object (such as a function or method) dynamically. Decorators are often used to modify or extend the behavior of functions or methods without permanently modifying the original function or method. They are a powerful tool for code reuse and separation of concerns.\n",
    "\n",
    "#### How Decorators Work\n",
    "#### A decorator is essentially a function that takes another function as an argument and extends or alters its behavior. It returns a new function that includes the original function's behavior plus any additional functionality provided by the decorator.\n",
    "\n",
    "#### Basic Syntax\n",
    "#### The basic syntax of a decorator involves defining a decorator function and then using the @decorator_name syntax to apply it to another function.\n",
    "\n",
    "#### Function Passing: Decorators take a function as an argument and return a new function that wraps the original function.\n",
    "#### Wrapper Function: The inner function (wrapper) adds new functionality and calls the original function.\n",
    "#### @decorator Syntax: The @decorator syntax makes it easy to apply decorators to functions.\n",
    "#### Common Use Cases\n",
    "#### Logging: Automatically log function calls and results.\n",
    "#### Access Control: Restrict access to certain parts of code based on user roles or permissions.\n",
    "#### Caching: Cache the results of expensive function calls to improve performance.\n",
    "#### Validation: Validate inputs to functions before executing the function logic.\n",
    "#### Memoization: Store the results of expensive function calls and reuse them when the same inputs occur."
   ]
  },
  {
   "cell_type": "code",
   "execution_count": null,
   "id": "904e3034",
   "metadata": {},
   "outputs": [],
   "source": [
    "def decorator_function(original_function):\n",
    "    def wrapper_function(*args, **kwargs):\n",
    "        # Add additional functionality here\n",
    "        print(\"Wrapper executed this before {}\".format(original_function.__name__))\n",
    "        return original_function(*args, **kwargs)\n",
    "    return wrapper_function\n",
    "\n",
    "@decorator_function\n",
    "def display():\n",
    "    print(\"Display function ran\")\n",
    "\n",
    "display()"
   ]
  },
  {
   "cell_type": "code",
   "execution_count": null,
   "id": "a5158e04",
   "metadata": {},
   "outputs": [],
   "source": [
    "def logger(func):\n",
    "    def log_wrapper(*args, **kwargs):\n",
    "        print(f\"Logging: Calling function '{func.__name__}' with arguments {args} and keyword arguments {kwargs}\")\n",
    "        result = func(*args, **kwargs)\n",
    "        print(f\"Logging: '{func.__name__}' returned {result}\")\n",
    "        return result\n",
    "    return log_wrapper\n",
    "\n",
    "@logger\n",
    "def add(a, b):\n",
    "    return a + b\n",
    "\n",
    "@logger\n",
    "def greet(name, message=\"Hello\"):\n",
    "    return f\"{message}, {name}!\"\n",
    "\n",
    "# Function calls\n",
    "print(add(5, 3))\n",
    "print(greet(\"Alice\"))\n",
    "print(greet(\"Bob\", message=\"Hi\"))"
   ]
  },
  {
   "cell_type": "markdown",
   "id": "6ee6cde9",
   "metadata": {},
   "source": [
    "#### You can apply multiple decorators to a single function. They are applied from the innermost (nearest to the function definition) to the outermost."
   ]
  },
  {
   "cell_type": "code",
   "execution_count": null,
   "id": "c3661a7b",
   "metadata": {},
   "outputs": [],
   "source": [
    "def decorator1(func):\n",
    "    def wrapper1(*args, **kwargs):\n",
    "        print(\"Decorator 1\")\n",
    "        return func(*args, **kwargs)\n",
    "    return wrapper1\n",
    "\n",
    "def decorator2(func):\n",
    "    def wrapper2(*args, **kwargs):\n",
    "        print(\"Decorator 2\")\n",
    "        return func(*args, **kwargs)\n",
    "    return wrapper2\n",
    "\n",
    "@decorator1\n",
    "@decorator2\n",
    "def say_hello():\n",
    "    print(\"Hello!\")\n",
    "\n",
    "say_hello()"
   ]
  },
  {
   "cell_type": "markdown",
   "id": "d305f83b",
   "metadata": {},
   "source": [
    "### 18) Generator\n",
    "\n",
    "#### n Python, a generator is a special type of iterator that allows you to iterate over a sequence of values, but unlike lists, generators do not store all the values in memory at once. Instead, they generate values on-the-fly, one at a time, and only when requested. This makes generators very memory efficient, especially for large data sets or infinite sequences.\n",
    "\n",
    "#### Key Characteristics of Generators\n",
    "#### Lazy Evaluation: Generators produce items only when they are needed. This is called lazy evaluation.\n",
    "#### Memory Efficiency: Generators do not store the entire sequence in memory; they yield items one by one.\n",
    "#### Stateful Iteration: Generators maintain state between each yield, which allows them to resume where they left off.\n",
    "#### Creating Generators\n",
    "#### You can create generators in two main ways:\n",
    "\n",
    "#### Using generator functions with yield statements.\n",
    "#### Using generator expressions.\n",
    "#### Generator Functions\n",
    "#### A generator function is defined like a normal function but uses the yield statement to return values one at a time.\n",
    "\n",
    "#### Advantages of Using Generators\n",
    "#### Memory Efficiency: Generators are useful when working with large datasets that do not fit into memory.\n",
    "#### Composability: Generators can be easily composed and combined to build complex data pipelines.\n",
    "#### Simpler Code: Generators provide a clear and concise way to write code for iterating over sequences, especially with infinite or large sequences.\n",
    "#### Summary\n",
    "#### Generator: A function that produces a sequence of values lazily, one at a time, using the yield statement.\n",
    "#### Generator Expression: A concise way to create a generator using a syntax similar to list comprehensions.\n",
    "#### Usage: Ideal for handling large data sets or streams of data where memory efficiency is important."
   ]
  },
  {
   "cell_type": "code",
   "execution_count": null,
   "id": "ec7f6077",
   "metadata": {},
   "outputs": [],
   "source": [
    "def countdown(n):\n",
    "    while n > 0:\n",
    "        yield n\n",
    "        n -= 1\n",
    "\n",
    "# Using the generator\n",
    "for number in countdown(5):\n",
    "    print(number)"
   ]
  },
  {
   "cell_type": "markdown",
   "id": "8e3a493f",
   "metadata": {},
   "source": [
    "#### Generator Expressions\n",
    "#### Generator expressions provide a concise way to create generators. They are similar to list comprehensions but use parentheses instead of square brackets."
   ]
  },
  {
   "cell_type": "code",
   "execution_count": null,
   "id": "9fe2b70d",
   "metadata": {},
   "outputs": [],
   "source": [
    "# Generator expression\n",
    "squares = (x * x for x in range(10))\n",
    "\n",
    "# Using the generator\n",
    "for square in squares:\n",
    "    print(square)"
   ]
  },
  {
   "cell_type": "markdown",
   "id": "32a9b40b",
   "metadata": {},
   "source": [
    "#### Differences Between Generators and Iterators\n",
    "#### All generators are iterators, but not all iterators are generators.\n",
    "#### Generators are written using functions and the yield statement or generator expressions, while iterators can be any object with __iter__() and __next__() methods."
   ]
  },
  {
   "cell_type": "code",
   "execution_count": null,
   "id": "8c6eb731",
   "metadata": {},
   "outputs": [],
   "source": [
    "def fibonacci():\n",
    "    a, b = 0, 1\n",
    "    while True:\n",
    "        yield a\n",
    "        a, b = b, a + b\n",
    "\n",
    "# Using the generator\n",
    "fib = fibonacci()\n",
    "for _ in range(10):\n",
    "    print(next(fib))"
   ]
  },
  {
   "cell_type": "markdown",
   "id": "84a7e2ab",
   "metadata": {},
   "source": [
    "### 19) Iterator\n",
    "\n",
    "#### An iterator in Python is an object that represents a stream of data. It allows you to traverse through all the elements of a collection (like lists, tuples, and dictionaries) one at a time. Iterators implement two methods: __iter__() and __next__() (in Python 3, or next() in Python 2).\n",
    "\n",
    "#### Key Characteristics of Iterators\n",
    "#### Stateful Traversal: An iterator remembers its state, i.e., the current position during iteration.\n",
    "#### Lazy Evaluation: Values are fetched one at a time, only when requested, which makes it memory efficient.\n",
    "#### Single Pass: Iterators can be traversed only once. Once all items have been iterated, the iterator is exhausted and cannot be reset or reused.\n",
    "#### Creating and Using Iterators\n",
    "#### To be considered an iterator, an object must implement the __iter__() and __next__() methods.\n",
    "\n",
    "#### __iter__(): This method returns the iterator object itself and is required to make an object iterable.\n",
    "#### __next__(): This method returns the next value from the iterator. If there are no more items to return, it raises the StopIteration exception.\n",
    "\n",
    "#### Built-in Iterators\n",
    "#### Python provides built-in support for iterators with various data types:\n",
    "\n",
    "#### Lists\n",
    "#### Tuples\n",
    "#### Dictionaries\n",
    "#### Sets\n",
    "#### Strings\n",
    "#### These data types have an __iter__() method that returns an iterator object which can be traversed using the __next__() method.\n",
    "\n",
    "#### Differences Between Iterators and Iterables\n",
    "#### Iterable: An object capable of returning its members one at a time. Examples include all sequence types (such as list, str, and tuple) and some non-sequence types like dict and file objects. An iterable has an __iter__() method that returns an iterator.\n",
    "#### Iterator: An object representing a stream of data; it is returned by calling __iter__() on an iterable. An iterator has both __iter__() and __next__() methods."
   ]
  },
  {
   "cell_type": "code",
   "execution_count": 257,
   "id": "a82d5ad2",
   "metadata": {},
   "outputs": [
    {
     "name": "stdout",
     "output_type": "stream",
     "text": [
      "1\n",
      "2\n",
      "3\n"
     ]
    }
   ],
   "source": [
    "# Iterable\n",
    "my_list = [1, 2, 3]\n",
    "for item in my_list:\n",
    "    print(item)"
   ]
  },
  {
   "cell_type": "code",
   "execution_count": 258,
   "id": "89fcac97",
   "metadata": {},
   "outputs": [
    {
     "name": "stdout",
     "output_type": "stream",
     "text": [
      "1\n",
      "2\n",
      "3\n"
     ]
    }
   ],
   "source": [
    "# Explicit Iterator\n",
    "iterator = iter(my_list)\n",
    "while True:\n",
    "    try:\n",
    "        item = next(iterator)\n",
    "        print(item)\n",
    "    except StopIteration:\n",
    "        break"
   ]
  },
  {
   "cell_type": "code",
   "execution_count": 259,
   "id": "4fad0a67",
   "metadata": {},
   "outputs": [
    {
     "name": "stdout",
     "output_type": "stream",
     "text": [
      "1\n",
      "2\n",
      "3\n"
     ]
    }
   ],
   "source": [
    "# List iterator\n",
    "my_list = [1, 2, 3, 4, 5]\n",
    "iterator = iter(my_list)\n",
    "\n",
    "print(next(iterator))  # Output: 1\n",
    "print(next(iterator))  # Output: 2\n",
    "print(next(iterator))  # Output: 3\n",
    "# And so on..."
   ]
  },
  {
   "cell_type": "code",
   "execution_count": 260,
   "id": "e6060e17",
   "metadata": {},
   "outputs": [
    {
     "name": "stdout",
     "output_type": "stream",
     "text": [
      "1\n",
      "2\n",
      "3\n",
      "4\n",
      "5\n"
     ]
    }
   ],
   "source": [
    "class Counter:\n",
    "    def __init__(self, low, high):\n",
    "        self.current = low\n",
    "        self.high = high\n",
    "\n",
    "    def __iter__(self):\n",
    "        return self\n",
    "\n",
    "    def __next__(self):\n",
    "        if self.current > self.high:\n",
    "            raise StopIteration\n",
    "        else:\n",
    "            self.current += 1\n",
    "            return self.current - 1\n",
    "\n",
    "# Using the iterator\n",
    "counter = Counter(1, 5)\n",
    "for num in counter:\n",
    "    print(num)"
   ]
  },
  {
   "cell_type": "markdown",
   "id": "230535a0",
   "metadata": {},
   "source": [
    "### 20) Lambda Function\n",
    "\n",
    "#### A lambda function in Python is a small, anonymous function defined with the lambda keyword. Unlike regular functions that are defined using the def keyword, lambda functions are typically used for short, simple operations and can have any number of arguments but only a single expression.\n",
    "\n",
    "#### Key Characteristics of Lambda Functions\n",
    "#### Anonymous: Lambda functions are anonymous, meaning they are not bound to a name.\n",
    "#### Single Expression: They consist of a single expression and return the value of that expression.\n",
    "#### Multiple Arguments: They can take multiple arguments.\n",
    "\n",
    "#### Syntax\n",
    "#### The syntax for a lambda function is:\n",
    "\n",
    "#### lambda arguments: expression\n",
    "\n",
    "#### lambda arguments: expression\n",
    "#### lambda is the keyword used to define the function.\n",
    "#### arguments are the parameters that the function accepts.\n",
    "#### expression is a single expression evaluated and returned by the function.\n",
    "\n",
    "#### Advantages\n",
    "#### Concise Syntax: Lambda functions can be defined in a single line, making the code more concise.\n",
    "#### Anonymous: They do not require a name, which is useful for short-lived operations.\n",
    "#### Inline Use: They are often used in places where a small function is needed temporarily.\n",
    "#### Limitations\n",
    "#### Single Expression: Lambda functions are limited to a single expression, making them less versatile than regular functions.\n",
    "#### Readability: Overuse of lambda functions can lead to less readable code, especially for complex operations."
   ]
  },
  {
   "cell_type": "code",
   "execution_count": 261,
   "id": "a225d59c",
   "metadata": {},
   "outputs": [
    {
     "name": "stdout",
     "output_type": "stream",
     "text": [
      "8\n",
      "8\n"
     ]
    }
   ],
   "source": [
    "# Regular function\n",
    "def add(x, y):\n",
    "    return x + y\n",
    "\n",
    "# Equivalent lambda function\n",
    "add_lambda = lambda x, y: x + y\n",
    "\n",
    "print(add(3, 5))  # Output: 8\n",
    "print(add_lambda(3, 5))  # Output: 8"
   ]
  },
  {
   "cell_type": "markdown",
   "id": "6dff8756",
   "metadata": {},
   "source": [
    "#### Using Lambda Functions with map(), filter(), and reduce()\n",
    "#### Lambda functions are often used with higher-order functions like map(), filter(), and reduce().\n",
    "\n",
    "#### map(): Applies a function to all items in an input list."
   ]
  },
  {
   "cell_type": "code",
   "execution_count": 262,
   "id": "ba9d132f",
   "metadata": {},
   "outputs": [
    {
     "name": "stdout",
     "output_type": "stream",
     "text": [
      "[1, 4, 9, 16, 25]\n"
     ]
    }
   ],
   "source": [
    "numbers = [1, 2, 3, 4, 5]\n",
    "squared = map(lambda x: x * x, numbers)\n",
    "print(list(squared))  # Output: [1, 4, 9, 16, 25]"
   ]
  },
  {
   "cell_type": "markdown",
   "id": "d00a92a8",
   "metadata": {},
   "source": [
    "#### filter(): Filters items out of an input list based on a function."
   ]
  },
  {
   "cell_type": "code",
   "execution_count": 263,
   "id": "1bfe7076",
   "metadata": {},
   "outputs": [
    {
     "name": "stdout",
     "output_type": "stream",
     "text": [
      "[2, 4]\n"
     ]
    }
   ],
   "source": [
    "numbers = [1, 2, 3, 4, 5]\n",
    "evens = filter(lambda x: x % 2 == 0, numbers)\n",
    "print(list(evens))  # Output: [2, 4]"
   ]
  },
  {
   "cell_type": "markdown",
   "id": "825f67bb",
   "metadata": {},
   "source": [
    "#### reduce(): Reduces an input list to a single value by applying a function cumulatively to the items of the list. (Note: reduce() is available in the functools module.)"
   ]
  },
  {
   "cell_type": "code",
   "execution_count": 264,
   "id": "e5dc0b3b",
   "metadata": {},
   "outputs": [
    {
     "name": "stdout",
     "output_type": "stream",
     "text": [
      "120\n"
     ]
    }
   ],
   "source": [
    "from functools import reduce\n",
    "numbers = [1, 2, 3, 4, 5]\n",
    "product = reduce(lambda x, y: x * y, numbers)\n",
    "print(product)  # Output: 120"
   ]
  },
  {
   "cell_type": "markdown",
   "id": "6cedaa5b",
   "metadata": {},
   "source": [
    "### 21) Arrays\n",
    "\n",
    "#### In Python, an array is a collection of items stored at contiguous memory locations. Arrays can hold multiple items of the same type. While Python does not have built-in support for arrays like in some other programming languages (such as C or Java), it provides array-like structures through its standard library and other modules.\n",
    "\n",
    "#### Key Characteristics of Arrays\n",
    "#### Homogeneous Data: Arrays typically contain items of the same data type.\n",
    "#### Fixed Size: The size of an array is determined when it is created and cannot be changed dynamically.\n",
    "#### Indexed Access: Elements in an array can be accessed using their index positions.\n",
    "#### Array Implementation in Python\n",
    "#### Although Python lists can function like arrays, the array module provides a more efficient way to store and manipulate homogeneous data. Additionally, third-party libraries such as NumPy offer powerful array operations for scientific computing.\n",
    "\n",
    "#### Using the array Module\n",
    "#### The array module provides an array object that can store elements of a specified type.\n",
    "\n",
    "#### Type Codes for the array Module\n",
    "#### The array module uses type codes to specify the type of elements stored in the array:\n",
    "\n",
    "#### 'b': signed char\n",
    "#### 'B': unsigned char\n",
    "#### 'u': Unicode character\n",
    "#### 'h': signed short\n",
    "#### 'H': unsigned short\n",
    "#### 'i': signed int\n",
    "#### 'I': unsigned int\n",
    "#### 'l': signed long\n",
    "#### 'L': unsigned long\n",
    "#### 'q': signed long long\n",
    "#### 'Q': unsigned long long\n",
    "#### 'f': float\n",
    "#### 'd': double\n",
    "\n",
    "#### Array: A collection of elements stored at contiguous memory locations, typically of the same type.\n",
    "#### Python array Module: Provides a way to create arrays of basic data types with fixed size and indexed access.\n",
    "#### NumPy Arrays: More powerful and versatile arrays provided by the NumPy library, widely used for numerical and scientific computing."
   ]
  },
  {
   "cell_type": "code",
   "execution_count": 265,
   "id": "d5687f8a",
   "metadata": {},
   "outputs": [
    {
     "name": "stdout",
     "output_type": "stream",
     "text": [
      "1\n",
      "array('i', [1, 10, 3, 4, 5])\n"
     ]
    }
   ],
   "source": [
    "import array\n",
    "\n",
    "# Create an array of integers\n",
    "arr = array.array('i', [1, 2, 3, 4, 5])\n",
    "\n",
    "# Access elements\n",
    "print(arr[0])  # Output: 1\n",
    "\n",
    "# Modify elements\n",
    "arr[1] = 10\n",
    "print(arr)  # Output: array('i', [1, 10, 3, 4, 5])"
   ]
  },
  {
   "cell_type": "markdown",
   "id": "ac646973",
   "metadata": {},
   "source": [
    "#### 1) Item Size\n",
    "\n",
    "#### array.itemsize: Returns the size in bytes of one array item."
   ]
  },
  {
   "cell_type": "code",
   "execution_count": 266,
   "id": "3cc35e6b",
   "metadata": {},
   "outputs": [],
   "source": [
    "import array\n",
    "arr = array.array('i', [1, 2, 3, 4, 5])"
   ]
  },
  {
   "cell_type": "code",
   "execution_count": 267,
   "id": "896748ff",
   "metadata": {},
   "outputs": [
    {
     "data": {
      "text/plain": [
       "4"
      ]
     },
     "execution_count": 267,
     "metadata": {},
     "output_type": "execute_result"
    }
   ],
   "source": [
    "arr.itemsize"
   ]
  },
  {
   "cell_type": "markdown",
   "id": "1ada2f88",
   "metadata": {},
   "source": [
    "#### 2) Append\n",
    "\n",
    "#### array.append(x): Adds an item x to the end of the array."
   ]
  },
  {
   "cell_type": "code",
   "execution_count": 268,
   "id": "4cc832e3",
   "metadata": {},
   "outputs": [
    {
     "data": {
      "text/plain": [
       "array('i', [1, 2, 3, 4, 5, 8])"
      ]
     },
     "execution_count": 268,
     "metadata": {},
     "output_type": "execute_result"
    }
   ],
   "source": [
    "arr.append(8)\n",
    "arr"
   ]
  },
  {
   "cell_type": "markdown",
   "id": "d1943479",
   "metadata": {},
   "source": [
    "#### 2) Buffer Info\n",
    "\n",
    "#### array.buffer_info(): Returns a tuple (address, length) giving the current memory address and the length in elements of the buffer used to hold the array’s contents."
   ]
  },
  {
   "cell_type": "code",
   "execution_count": 269,
   "id": "4097cd0f",
   "metadata": {},
   "outputs": [
    {
     "data": {
      "text/plain": [
       "(1568980792112, 6)"
      ]
     },
     "execution_count": 269,
     "metadata": {},
     "output_type": "execute_result"
    }
   ],
   "source": [
    "arr.buffer_info()"
   ]
  },
  {
   "cell_type": "markdown",
   "id": "91cd2595",
   "metadata": {},
   "source": [
    "#### 3) ByteSwap\n",
    "\n",
    "#### array.byteswap(): \"Byteswaps\" all the items of the array. Useful when reading data from a file written on a machine with a different byte order."
   ]
  },
  {
   "cell_type": "code",
   "execution_count": 270,
   "id": "6fe6ba38",
   "metadata": {},
   "outputs": [],
   "source": [
    "arr.byteswap()"
   ]
  },
  {
   "cell_type": "markdown",
   "id": "5fbd07d1",
   "metadata": {},
   "source": [
    "#### 4) Count\n",
    "\n",
    "#### array.count(x): Returns the number of occurrences of x in the array."
   ]
  },
  {
   "cell_type": "code",
   "execution_count": 271,
   "id": "56a4ff21",
   "metadata": {},
   "outputs": [],
   "source": [
    "import array\n",
    "arr = array.array('i', [1, 2, 3, 4, 5])"
   ]
  },
  {
   "cell_type": "code",
   "execution_count": 272,
   "id": "e4c4c788",
   "metadata": {},
   "outputs": [
    {
     "data": {
      "text/plain": [
       "1"
      ]
     },
     "execution_count": 272,
     "metadata": {},
     "output_type": "execute_result"
    }
   ],
   "source": [
    "arr.count(4)"
   ]
  },
  {
   "cell_type": "markdown",
   "id": "824ec4e4",
   "metadata": {},
   "source": [
    "#### 5) Extend\n",
    "\n",
    "#### array.extend(iterable): Appends items from iterable to the end of the array."
   ]
  },
  {
   "cell_type": "code",
   "execution_count": 273,
   "id": "6bf83620",
   "metadata": {},
   "outputs": [
    {
     "data": {
      "text/plain": [
       "array('i', [1, 2, 3, 4, 5, 6, 7])"
      ]
     },
     "execution_count": 273,
     "metadata": {},
     "output_type": "execute_result"
    }
   ],
   "source": [
    "arr.extend([6,7])\n",
    "arr"
   ]
  },
  {
   "cell_type": "markdown",
   "id": "76bb10e9",
   "metadata": {},
   "source": [
    "#### 6) From Bytes\n",
    "\n",
    "#### array.frombytes(b): Appends items from the byte string b"
   ]
  },
  {
   "cell_type": "code",
   "execution_count": 274,
   "id": "9d1f919e",
   "metadata": {},
   "outputs": [],
   "source": [
    "#arr.frombytes(134217728)"
   ]
  },
  {
   "cell_type": "markdown",
   "id": "2baef39e",
   "metadata": {},
   "source": [
    "#### 7) FromFile\n",
    "\n",
    "#### array.fromfile(f, n): Reads n items (as machine values) from the file object f and appends them to the end of the array."
   ]
  },
  {
   "cell_type": "code",
   "execution_count": 275,
   "id": "f248f0b8",
   "metadata": {},
   "outputs": [],
   "source": [
    "#arr.fromfile(f,n)"
   ]
  },
  {
   "cell_type": "markdown",
   "id": "b86c99a8",
   "metadata": {},
   "source": [
    "#### 8) FromList\n",
    "\n",
    "#### array.fromlist(list): Appends items from the list."
   ]
  },
  {
   "cell_type": "code",
   "execution_count": 276,
   "id": "10e77295",
   "metadata": {},
   "outputs": [
    {
     "data": {
      "text/plain": [
       "array('i', [1, 2, 3, 4, 5, 6, 7, 8, 9, 10])"
      ]
     },
     "execution_count": 276,
     "metadata": {},
     "output_type": "execute_result"
    }
   ],
   "source": [
    "arr.fromlist([8,9,10])\n",
    "arr"
   ]
  },
  {
   "cell_type": "markdown",
   "id": "10dba18b",
   "metadata": {},
   "source": [
    "#### 9) Index\n",
    "\n",
    "#### array.index(x): Returns the index of the first occurrence of x in the array."
   ]
  },
  {
   "cell_type": "code",
   "execution_count": 277,
   "id": "50a45d68",
   "metadata": {},
   "outputs": [
    {
     "data": {
      "text/plain": [
       "9"
      ]
     },
     "execution_count": 277,
     "metadata": {},
     "output_type": "execute_result"
    }
   ],
   "source": [
    "arr.index(10)"
   ]
  },
  {
   "cell_type": "markdown",
   "id": "8ac7b106",
   "metadata": {},
   "source": [
    "#### 10) Insert\n",
    "\n",
    "#### array.insert(i, x): Inserts an item x at position i in the array"
   ]
  },
  {
   "cell_type": "code",
   "execution_count": 278,
   "id": "5ad1255f",
   "metadata": {},
   "outputs": [
    {
     "data": {
      "text/plain": [
       "array('i', [1, 2, 3, 4, 5, 6, 7, 8, 9, 10, 11])"
      ]
     },
     "execution_count": 278,
     "metadata": {},
     "output_type": "execute_result"
    }
   ],
   "source": [
    "arr.insert(10,11)\n",
    "arr"
   ]
  },
  {
   "cell_type": "markdown",
   "id": "9381d4a8",
   "metadata": {},
   "source": [
    "#### 11) Pop\n",
    "\n",
    "#### array.pop([i]): Removes and returns the item at position i (default is the last item)."
   ]
  },
  {
   "cell_type": "code",
   "execution_count": 279,
   "id": "3b6d9969",
   "metadata": {},
   "outputs": [
    {
     "data": {
      "text/plain": [
       "11"
      ]
     },
     "execution_count": 279,
     "metadata": {},
     "output_type": "execute_result"
    }
   ],
   "source": [
    "arr.pop()"
   ]
  },
  {
   "cell_type": "markdown",
   "id": "1adf6708",
   "metadata": {},
   "source": [
    "#### 12) Remove\n",
    "\n",
    "#### array.remove(x): Removes the first occurrence of x in the array"
   ]
  },
  {
   "cell_type": "code",
   "execution_count": 280,
   "id": "76e0932a",
   "metadata": {},
   "outputs": [
    {
     "data": {
      "text/plain": [
       "array('i', [1, 2, 3, 4, 5, 6, 7, 8, 9])"
      ]
     },
     "execution_count": 280,
     "metadata": {},
     "output_type": "execute_result"
    }
   ],
   "source": [
    "arr.remove(10)\n",
    "arr"
   ]
  },
  {
   "cell_type": "markdown",
   "id": "0d069e00",
   "metadata": {},
   "source": [
    "#### 13) Reverse\n",
    "\n",
    "#### array.reverse(): Reverses the order of the items in the array."
   ]
  },
  {
   "cell_type": "code",
   "execution_count": 281,
   "id": "8f2e5cd9",
   "metadata": {},
   "outputs": [],
   "source": [
    "arr.reverse()"
   ]
  },
  {
   "cell_type": "code",
   "execution_count": 282,
   "id": "84e50ceb",
   "metadata": {},
   "outputs": [
    {
     "data": {
      "text/plain": [
       "array('i', [9, 8, 7, 6, 5, 4, 3, 2, 1])"
      ]
     },
     "execution_count": 282,
     "metadata": {},
     "output_type": "execute_result"
    }
   ],
   "source": [
    "arr"
   ]
  },
  {
   "cell_type": "markdown",
   "id": "73e2f2d7",
   "metadata": {},
   "source": [
    "#### 14) toFile\n",
    "\n",
    "#### array.tofile(f): Writes all items (as machine values) to the file object f"
   ]
  },
  {
   "cell_type": "code",
   "execution_count": 283,
   "id": "ac44c64f",
   "metadata": {},
   "outputs": [],
   "source": [
    "#arr.tofile('file')"
   ]
  },
  {
   "cell_type": "markdown",
   "id": "05b9b05c",
   "metadata": {},
   "source": [
    "#### 15) ToList\n",
    "#### array.tolist(): Converts the array to an ordinary list with the same items.'"
   ]
  },
  {
   "cell_type": "code",
   "execution_count": 284,
   "id": "4dbfd67a",
   "metadata": {},
   "outputs": [
    {
     "data": {
      "text/plain": [
       "[9, 8, 7, 6, 5, 4, 3, 2, 1]"
      ]
     },
     "execution_count": 284,
     "metadata": {},
     "output_type": "execute_result"
    }
   ],
   "source": [
    "arr.tolist()"
   ]
  },
  {
   "cell_type": "markdown",
   "id": "2e89a63c",
   "metadata": {},
   "source": [
    "#### 16) ToString\n",
    "\n",
    "#### array.tostring(): Deprecated. Use tobytes() instead."
   ]
  },
  {
   "cell_type": "code",
   "execution_count": 285,
   "id": "4a7ccb23",
   "metadata": {},
   "outputs": [],
   "source": [
    "#arr.tostring()"
   ]
  },
  {
   "cell_type": "markdown",
   "id": "51a862ae",
   "metadata": {},
   "source": [
    "#### 17) ToBytes\n",
    "\n",
    "#### array.tobytes(): Converts the array to a byte string."
   ]
  },
  {
   "cell_type": "code",
   "execution_count": 286,
   "id": "3a50bbdc",
   "metadata": {},
   "outputs": [
    {
     "data": {
      "text/plain": [
       "b'\\t\\x00\\x00\\x00\\x08\\x00\\x00\\x00\\x07\\x00\\x00\\x00\\x06\\x00\\x00\\x00\\x05\\x00\\x00\\x00\\x04\\x00\\x00\\x00\\x03\\x00\\x00\\x00\\x02\\x00\\x00\\x00\\x01\\x00\\x00\\x00'"
      ]
     },
     "execution_count": 286,
     "metadata": {},
     "output_type": "execute_result"
    }
   ],
   "source": [
    "arr.tobytes()"
   ]
  },
  {
   "cell_type": "markdown",
   "id": "5bffbdad",
   "metadata": {},
   "source": [
    "#### Using NumPy Arrays\n",
    "#### NumPy is a popular library for numerical computing in Python that provides a powerful array object."
   ]
  },
  {
   "cell_type": "code",
   "execution_count": 287,
   "id": "181ca474",
   "metadata": {},
   "outputs": [
    {
     "name": "stdout",
     "output_type": "stream",
     "text": [
      "1\n",
      "[ 1 10  3  4  5]\n"
     ]
    }
   ],
   "source": [
    "import numpy as np\n",
    "\n",
    "# Create a NumPy array\n",
    "arr = np.array([1, 2, 3, 4, 5])\n",
    "\n",
    "# Access elements\n",
    "print(arr[0])  # Output: 1\n",
    "\n",
    "# Modify elements\n",
    "arr[1] = 10\n",
    "print(arr)  \n"
   ]
  },
  {
   "cell_type": "markdown",
   "id": "d3d6e4a9",
   "metadata": {},
   "source": [
    "#### 1) ndim\n",
    "\n",
    "#### ndarray.ndim: The number of dimensions (axes) of the array."
   ]
  },
  {
   "cell_type": "code",
   "execution_count": 288,
   "id": "b3aeecc6",
   "metadata": {},
   "outputs": [
    {
     "data": {
      "text/plain": [
       "1"
      ]
     },
     "execution_count": 288,
     "metadata": {},
     "output_type": "execute_result"
    }
   ],
   "source": [
    "arr.ndim"
   ]
  },
  {
   "cell_type": "markdown",
   "id": "366f0d67",
   "metadata": {},
   "source": [
    "#### 2) Shape\n",
    "\n",
    "#### ndarray.shape: A tuple representing the dimensions of the array. For a matrix with n rows and m columns, the shape will be (n, m)."
   ]
  },
  {
   "cell_type": "code",
   "execution_count": 289,
   "id": "df96273a",
   "metadata": {},
   "outputs": [
    {
     "data": {
      "text/plain": [
       "(5,)"
      ]
     },
     "execution_count": 289,
     "metadata": {},
     "output_type": "execute_result"
    }
   ],
   "source": [
    "arr.shape"
   ]
  },
  {
   "cell_type": "markdown",
   "id": "caff5e73",
   "metadata": {},
   "source": [
    "#### 3) Size\n",
    "\n",
    "#### ndarray.size: The total number of elements in the array."
   ]
  },
  {
   "cell_type": "code",
   "execution_count": 290,
   "id": "e4954d8b",
   "metadata": {},
   "outputs": [
    {
     "data": {
      "text/plain": [
       "5"
      ]
     },
     "execution_count": 290,
     "metadata": {},
     "output_type": "execute_result"
    }
   ],
   "source": [
    "arr.size"
   ]
  },
  {
   "cell_type": "markdown",
   "id": "eb15ce5b",
   "metadata": {},
   "source": [
    "#### 4) dtype\n",
    "\n",
    "#### ndarray.dtype: The data type of the elements in the array."
   ]
  },
  {
   "cell_type": "code",
   "execution_count": 291,
   "id": "c3e8d507",
   "metadata": {},
   "outputs": [
    {
     "data": {
      "text/plain": [
       "dtype('int32')"
      ]
     },
     "execution_count": 291,
     "metadata": {},
     "output_type": "execute_result"
    }
   ],
   "source": [
    "arr.dtype"
   ]
  },
  {
   "cell_type": "markdown",
   "id": "c08d4a8f",
   "metadata": {},
   "source": [
    "#### 5) ItemSize\n",
    "\n",
    "#### ndarray.itemsize: The size (in bytes) of each element in the array."
   ]
  },
  {
   "cell_type": "code",
   "execution_count": 292,
   "id": "6dce9456",
   "metadata": {},
   "outputs": [
    {
     "data": {
      "text/plain": [
       "4"
      ]
     },
     "execution_count": 292,
     "metadata": {},
     "output_type": "execute_result"
    }
   ],
   "source": [
    "arr.itemsize"
   ]
  },
  {
   "cell_type": "markdown",
   "id": "db0f04ba",
   "metadata": {},
   "source": [
    "#### 6) nbytes\n",
    "\n",
    "#### ndarray.nbytes: The total number of bytes consumed by the elements of the array (equal to itemsize times size)."
   ]
  },
  {
   "cell_type": "code",
   "execution_count": 293,
   "id": "04f362e5",
   "metadata": {},
   "outputs": [
    {
     "data": {
      "text/plain": [
       "20"
      ]
     },
     "execution_count": 293,
     "metadata": {},
     "output_type": "execute_result"
    }
   ],
   "source": [
    "arr.nbytes"
   ]
  },
  {
   "cell_type": "markdown",
   "id": "74dfa14a",
   "metadata": {},
   "source": [
    "#### 7) Transpose\n",
    "\n",
    "#### ndarray.T: The transposed array."
   ]
  },
  {
   "cell_type": "code",
   "execution_count": 294,
   "id": "071a3955",
   "metadata": {},
   "outputs": [
    {
     "data": {
      "text/plain": [
       "array([ 1, 10,  3,  4,  5])"
      ]
     },
     "execution_count": 294,
     "metadata": {},
     "output_type": "execute_result"
    }
   ],
   "source": [
    "arr.T"
   ]
  },
  {
   "cell_type": "markdown",
   "id": "fe6fa815",
   "metadata": {},
   "source": [
    "#### 8) Real\n",
    "\n",
    "#### ndarray.real: The real part of the array elements."
   ]
  },
  {
   "cell_type": "code",
   "execution_count": 295,
   "id": "ff604d6a",
   "metadata": {},
   "outputs": [
    {
     "data": {
      "text/plain": [
       "array([ 1, 10,  3,  4,  5])"
      ]
     },
     "execution_count": 295,
     "metadata": {},
     "output_type": "execute_result"
    }
   ],
   "source": [
    "arr.real"
   ]
  },
  {
   "cell_type": "markdown",
   "id": "c61dafb4",
   "metadata": {},
   "source": [
    "#### 9) Imag\n",
    "\n",
    "#### ndarray.imag: The imaginary part of the array elements."
   ]
  },
  {
   "cell_type": "code",
   "execution_count": 296,
   "id": "08a79b19",
   "metadata": {},
   "outputs": [
    {
     "data": {
      "text/plain": [
       "array([0, 0, 0, 0, 0])"
      ]
     },
     "execution_count": 296,
     "metadata": {},
     "output_type": "execute_result"
    }
   ],
   "source": [
    "arr.imag"
   ]
  },
  {
   "cell_type": "markdown",
   "id": "6b610e10",
   "metadata": {},
   "source": [
    "#### 10) Flat\n",
    "\n",
    "#### ndarray.flat: A 1-D iterator over the array."
   ]
  },
  {
   "cell_type": "code",
   "execution_count": 297,
   "id": "9f375306",
   "metadata": {},
   "outputs": [
    {
     "data": {
      "text/plain": [
       "<numpy.flatiter at 0x16d4f155b50>"
      ]
     },
     "execution_count": 297,
     "metadata": {},
     "output_type": "execute_result"
    }
   ],
   "source": [
    "arr.flat"
   ]
  },
  {
   "cell_type": "markdown",
   "id": "300cde31",
   "metadata": {},
   "source": [
    "#### 11) CType\n",
    "\n",
    "#### ndarray.ctypes: An object to simplify the interaction of the array with C code."
   ]
  },
  {
   "cell_type": "code",
   "execution_count": 298,
   "id": "a4dcb51b",
   "metadata": {},
   "outputs": [
    {
     "data": {
      "text/plain": [
       "<numpy.core._internal._ctypes at 0x16d562d1ac0>"
      ]
     },
     "execution_count": 298,
     "metadata": {},
     "output_type": "execute_result"
    }
   ],
   "source": [
    "arr.ctypes"
   ]
  },
  {
   "cell_type": "markdown",
   "id": "09237b4f",
   "metadata": {},
   "source": [
    "#### 12) Base\n",
    "\n",
    "#### ndarray.base: If the array is a view, the base attribute references the original object."
   ]
  },
  {
   "cell_type": "code",
   "execution_count": 299,
   "id": "7ad639a4",
   "metadata": {},
   "outputs": [],
   "source": [
    "arr.base"
   ]
  },
  {
   "cell_type": "markdown",
   "id": "dab2738e",
   "metadata": {},
   "source": [
    "#### 13) Flags\n",
    "\n",
    "#### ndarray.flags: Information about the memory layout of the array"
   ]
  },
  {
   "cell_type": "code",
   "execution_count": 300,
   "id": "88630753",
   "metadata": {},
   "outputs": [
    {
     "data": {
      "text/plain": [
       "  C_CONTIGUOUS : True\n",
       "  F_CONTIGUOUS : True\n",
       "  OWNDATA : True\n",
       "  WRITEABLE : True\n",
       "  ALIGNED : True\n",
       "  WRITEBACKIFCOPY : False"
      ]
     },
     "execution_count": 300,
     "metadata": {},
     "output_type": "execute_result"
    }
   ],
   "source": [
    "arr.flags"
   ]
  },
  {
   "cell_type": "markdown",
   "id": "79b3b710",
   "metadata": {},
   "source": [
    "#### 14) Strides\n",
    "\n",
    "#### ndarray.strides: The number of bytes to step in each dimension when traversing an array."
   ]
  },
  {
   "cell_type": "code",
   "execution_count": 301,
   "id": "8a2b77e0",
   "metadata": {},
   "outputs": [
    {
     "data": {
      "text/plain": [
       "(4,)"
      ]
     },
     "execution_count": 301,
     "metadata": {},
     "output_type": "execute_result"
    }
   ],
   "source": [
    "arr.strides"
   ]
  },
  {
   "cell_type": "markdown",
   "id": "cb20beb5",
   "metadata": {},
   "source": [
    "#### 15) Data\n",
    "\n",
    "#### ndarray.data: The buffer containing the actual elements of the array."
   ]
  },
  {
   "cell_type": "code",
   "execution_count": 302,
   "id": "bde0e22d",
   "metadata": {},
   "outputs": [
    {
     "data": {
      "text/plain": [
       "<memory at 0x0000016D4ECD3F40>"
      ]
     },
     "execution_count": 302,
     "metadata": {},
     "output_type": "execute_result"
    }
   ],
   "source": [
    "arr.data"
   ]
  },
  {
   "cell_type": "markdown",
   "id": "e14828db",
   "metadata": {},
   "source": [
    "#### 16) Basic Arithmetic Operations\n",
    "#### Addition: np.add(x, y) or x + y\n",
    "#### Subtraction: np.subtract(x, y) or x - y\n",
    "#### Multiplication: np.multiply(x, y) or x * y\n",
    "#### Division: np.divide(x, y) or x / y\n",
    "#### Power: np.power(x, y) or x ** y\n",
    "#### Modulus: np.mod(x, y) or x % y\n",
    "#### Absolute Value: np.abs(x)"
   ]
  },
  {
   "cell_type": "code",
   "execution_count": 303,
   "id": "97a71fb8",
   "metadata": {},
   "outputs": [
    {
     "data": {
      "text/plain": [
       "5"
      ]
     },
     "execution_count": 303,
     "metadata": {},
     "output_type": "execute_result"
    }
   ],
   "source": [
    "np.add(2,3)"
   ]
  },
  {
   "cell_type": "code",
   "execution_count": 304,
   "id": "f72851d6",
   "metadata": {},
   "outputs": [
    {
     "data": {
      "text/plain": [
       "2"
      ]
     },
     "execution_count": 304,
     "metadata": {},
     "output_type": "execute_result"
    }
   ],
   "source": [
    "np.subtract(5,3)"
   ]
  },
  {
   "cell_type": "code",
   "execution_count": 305,
   "id": "75f8d283",
   "metadata": {},
   "outputs": [
    {
     "data": {
      "text/plain": [
       "6"
      ]
     },
     "execution_count": 305,
     "metadata": {},
     "output_type": "execute_result"
    }
   ],
   "source": [
    "np.multiply(2,3)"
   ]
  },
  {
   "cell_type": "code",
   "execution_count": 306,
   "id": "6d2f4cf3",
   "metadata": {},
   "outputs": [
    {
     "data": {
      "text/plain": [
       "2.0"
      ]
     },
     "execution_count": 306,
     "metadata": {},
     "output_type": "execute_result"
    }
   ],
   "source": [
    "np.divide(10,5)"
   ]
  },
  {
   "cell_type": "code",
   "execution_count": 307,
   "id": "aaa9427e",
   "metadata": {},
   "outputs": [
    {
     "data": {
      "text/plain": [
       "8"
      ]
     },
     "execution_count": 307,
     "metadata": {},
     "output_type": "execute_result"
    }
   ],
   "source": [
    "np.power(2,3)"
   ]
  },
  {
   "cell_type": "code",
   "execution_count": 308,
   "id": "1426027c",
   "metadata": {},
   "outputs": [
    {
     "data": {
      "text/plain": [
       "1"
      ]
     },
     "execution_count": 308,
     "metadata": {},
     "output_type": "execute_result"
    }
   ],
   "source": [
    "np.mod(5,2)"
   ]
  },
  {
   "cell_type": "code",
   "execution_count": 309,
   "id": "263bce63",
   "metadata": {},
   "outputs": [
    {
     "data": {
      "text/plain": [
       "1"
      ]
     },
     "execution_count": 309,
     "metadata": {},
     "output_type": "execute_result"
    }
   ],
   "source": [
    "np.abs(1)"
   ]
  },
  {
   "cell_type": "markdown",
   "id": "0c33dadc",
   "metadata": {},
   "source": [
    "#### 17) Trigonometric Functions\n",
    "#### Sine: np.sin(x)\n",
    "#### Cosine: np.cos(x)\n",
    "#### Tangent: np.tan(x)\n",
    "#### Inverse Sine: np.arcsin(x)\n",
    "#### Inverse Cosine: np.arccos(x)\n",
    "#### Inverse Tangent: np.arctan(x)\n",
    "#### Hyperbolic Sine: np.sinh(x)\n",
    "#### Hyperbolic Cosine: np.cosh(x)\n",
    "#### Hyperbolic Tangent: np.tanh(x)\n",
    "#### Inverse Hyperbolic Sine: np.arcsinh(x)\n",
    "#### Inverse Hyperbolic Cosine: np.arccosh(x)\n",
    "#### Inverse Hyperbolic Tangent: np.arctanh(x)"
   ]
  },
  {
   "cell_type": "code",
   "execution_count": 310,
   "id": "740d25ed",
   "metadata": {},
   "outputs": [
    {
     "data": {
      "text/plain": [
       "0.8939966636005579"
      ]
     },
     "execution_count": 310,
     "metadata": {},
     "output_type": "execute_result"
    }
   ],
   "source": [
    "np.sin(90)"
   ]
  },
  {
   "cell_type": "code",
   "execution_count": 311,
   "id": "4d2044d5",
   "metadata": {},
   "outputs": [
    {
     "data": {
      "text/plain": [
       "1.0"
      ]
     },
     "execution_count": 311,
     "metadata": {},
     "output_type": "execute_result"
    }
   ],
   "source": [
    "np.cos(0)"
   ]
  },
  {
   "cell_type": "code",
   "execution_count": 312,
   "id": "7ab7e5f4",
   "metadata": {},
   "outputs": [
    {
     "data": {
      "text/plain": [
       "1.6197751905438615"
      ]
     },
     "execution_count": 312,
     "metadata": {},
     "output_type": "execute_result"
    }
   ],
   "source": [
    "np.tan(45)"
   ]
  },
  {
   "cell_type": "code",
   "execution_count": 313,
   "id": "194bc6aa",
   "metadata": {},
   "outputs": [
    {
     "name": "stderr",
     "output_type": "stream",
     "text": [
      "C:\\Users\\Raja\\AppData\\Local\\Temp\\ipykernel_18108\\769358464.py:1: RuntimeWarning: invalid value encountered in arcsin\n",
      "  np.arcsin(180)\n"
     ]
    },
    {
     "data": {
      "text/plain": [
       "nan"
      ]
     },
     "execution_count": 313,
     "metadata": {},
     "output_type": "execute_result"
    }
   ],
   "source": [
    "np.arcsin(180)"
   ]
  },
  {
   "cell_type": "code",
   "execution_count": 314,
   "id": "b46f1fc9",
   "metadata": {},
   "outputs": [
    {
     "name": "stderr",
     "output_type": "stream",
     "text": [
      "C:\\Users\\Raja\\AppData\\Local\\Temp\\ipykernel_18108\\1625422977.py:1: RuntimeWarning: invalid value encountered in arccos\n",
      "  np.arccos(180)\n"
     ]
    },
    {
     "data": {
      "text/plain": [
       "nan"
      ]
     },
     "execution_count": 314,
     "metadata": {},
     "output_type": "execute_result"
    }
   ],
   "source": [
    "np.arccos(180)"
   ]
  },
  {
   "cell_type": "code",
   "execution_count": 315,
   "id": "c6054af5",
   "metadata": {},
   "outputs": [
    {
     "data": {
      "text/plain": [
       "1.565240828394204"
      ]
     },
     "execution_count": 315,
     "metadata": {},
     "output_type": "execute_result"
    }
   ],
   "source": [
    "np.arctan(180)"
   ]
  },
  {
   "cell_type": "code",
   "execution_count": 316,
   "id": "f8c89380",
   "metadata": {},
   "outputs": [
    {
     "data": {
      "text/plain": [
       "1.7467135528742547e+19"
      ]
     },
     "execution_count": 316,
     "metadata": {},
     "output_type": "execute_result"
    }
   ],
   "source": [
    "np.sinh(45)"
   ]
  },
  {
   "cell_type": "code",
   "execution_count": 317,
   "id": "097adf9d",
   "metadata": {},
   "outputs": [
    {
     "data": {
      "text/plain": [
       "5.710036949078421e+25"
      ]
     },
     "execution_count": 317,
     "metadata": {},
     "output_type": "execute_result"
    }
   ],
   "source": [
    "np.cosh(60)"
   ]
  },
  {
   "cell_type": "code",
   "execution_count": 318,
   "id": "3f8210f1",
   "metadata": {},
   "outputs": [
    {
     "data": {
      "text/plain": [
       "1.0"
      ]
     },
     "execution_count": 318,
     "metadata": {},
     "output_type": "execute_result"
    }
   ],
   "source": [
    "np.tanh(90)"
   ]
  },
  {
   "cell_type": "code",
   "execution_count": 319,
   "id": "9115b3f7",
   "metadata": {},
   "outputs": [
    {
     "data": {
      "text/plain": [
       "5.886111747410234"
      ]
     },
     "execution_count": 319,
     "metadata": {},
     "output_type": "execute_result"
    }
   ],
   "source": [
    "np.arcsinh(180)"
   ]
  },
  {
   "cell_type": "code",
   "execution_count": 320,
   "id": "dd3c0753",
   "metadata": {},
   "outputs": [
    {
     "data": {
      "text/plain": [
       "5.886096315311465"
      ]
     },
     "execution_count": 320,
     "metadata": {},
     "output_type": "execute_result"
    }
   ],
   "source": [
    "np.arccosh(180)"
   ]
  },
  {
   "cell_type": "code",
   "execution_count": 321,
   "id": "22213da2",
   "metadata": {},
   "outputs": [
    {
     "name": "stderr",
     "output_type": "stream",
     "text": [
      "C:\\Users\\Raja\\AppData\\Local\\Temp\\ipykernel_18108\\2698651795.py:1: RuntimeWarning: invalid value encountered in arctanh\n",
      "  np.arctanh(180)\n"
     ]
    },
    {
     "data": {
      "text/plain": [
       "nan"
      ]
     },
     "execution_count": 321,
     "metadata": {},
     "output_type": "execute_result"
    }
   ],
   "source": [
    "np.arctanh(180)"
   ]
  },
  {
   "cell_type": "markdown",
   "id": "508bbffe",
   "metadata": {},
   "source": [
    "#### 18) Exponential and Logarithmic Functions\n",
    "#### Exponential: np.exp(x)\n",
    "#### Exponential Minus 1: np.expm1(x)\n",
    "#### Natural Logarithm: np.log(x)\n",
    "#### Logarithm Base 10: np.log10(x)\n",
    "#### Logarithm Base 2: np.log2(x)\n",
    "#### Logarithm of 1 Plus: np.log1p(x)"
   ]
  },
  {
   "cell_type": "code",
   "execution_count": 322,
   "id": "8d9d2867",
   "metadata": {},
   "outputs": [
    {
     "data": {
      "text/plain": [
       "2.6881171418161356e+43"
      ]
     },
     "execution_count": 322,
     "metadata": {},
     "output_type": "execute_result"
    }
   ],
   "source": [
    "np.exp(100)"
   ]
  },
  {
   "cell_type": "code",
   "execution_count": 323,
   "id": "65e6b3ba",
   "metadata": {},
   "outputs": [
    {
     "data": {
      "text/plain": [
       "2.6881171418161356e+43"
      ]
     },
     "execution_count": 323,
     "metadata": {},
     "output_type": "execute_result"
    }
   ],
   "source": [
    "np.expm1(100)"
   ]
  },
  {
   "cell_type": "code",
   "execution_count": 324,
   "id": "0f25d404",
   "metadata": {},
   "outputs": [
    {
     "data": {
      "text/plain": [
       "2.302585092994046"
      ]
     },
     "execution_count": 324,
     "metadata": {},
     "output_type": "execute_result"
    }
   ],
   "source": [
    "np.log(10)"
   ]
  },
  {
   "cell_type": "code",
   "execution_count": 325,
   "id": "2cbfd4c0",
   "metadata": {},
   "outputs": [
    {
     "data": {
      "text/plain": [
       "2.0"
      ]
     },
     "execution_count": 325,
     "metadata": {},
     "output_type": "execute_result"
    }
   ],
   "source": [
    "np.log10(100)"
   ]
  },
  {
   "cell_type": "code",
   "execution_count": 326,
   "id": "68a96c12",
   "metadata": {},
   "outputs": [
    {
     "data": {
      "text/plain": [
       "6.0"
      ]
     },
     "execution_count": 326,
     "metadata": {},
     "output_type": "execute_result"
    }
   ],
   "source": [
    "np.log2(64)"
   ]
  },
  {
   "cell_type": "code",
   "execution_count": 327,
   "id": "f224875b",
   "metadata": {},
   "outputs": [
    {
     "data": {
      "text/plain": [
       "4.61512051684126"
      ]
     },
     "execution_count": 327,
     "metadata": {},
     "output_type": "execute_result"
    }
   ],
   "source": [
    "np.log1p(100)"
   ]
  },
  {
   "cell_type": "markdown",
   "id": "2452f6c0",
   "metadata": {},
   "source": [
    "#### 19) Rounding Functions\n",
    "#### Round: np.round(x, decimals=0)\n",
    "#### Floor: np.floor(x)\n",
    "#### Ceil: np.ceil(x)\n",
    "#### Truncate: np.trunc(x)"
   ]
  },
  {
   "cell_type": "code",
   "execution_count": 328,
   "id": "2fca69f7",
   "metadata": {},
   "outputs": [
    {
     "data": {
      "text/plain": [
       "101.0"
      ]
     },
     "execution_count": 328,
     "metadata": {},
     "output_type": "execute_result"
    }
   ],
   "source": [
    "np.round(100.934567)"
   ]
  },
  {
   "cell_type": "code",
   "execution_count": 329,
   "id": "4dbc3951",
   "metadata": {},
   "outputs": [
    {
     "data": {
      "text/plain": [
       "100.0"
      ]
     },
     "execution_count": 329,
     "metadata": {},
     "output_type": "execute_result"
    }
   ],
   "source": [
    "np.floor(100.83456)"
   ]
  },
  {
   "cell_type": "code",
   "execution_count": 330,
   "id": "908f5121",
   "metadata": {},
   "outputs": [
    {
     "data": {
      "text/plain": [
       "101.0"
      ]
     },
     "execution_count": 330,
     "metadata": {},
     "output_type": "execute_result"
    }
   ],
   "source": [
    "np.ceil(100.234567)"
   ]
  },
  {
   "cell_type": "code",
   "execution_count": 331,
   "id": "660a7ea9",
   "metadata": {},
   "outputs": [
    {
     "data": {
      "text/plain": [
       "100.0"
      ]
     },
     "execution_count": 331,
     "metadata": {},
     "output_type": "execute_result"
    }
   ],
   "source": [
    "np.trunc(100.5678)"
   ]
  },
  {
   "cell_type": "markdown",
   "id": "db050b0f",
   "metadata": {},
   "source": [
    "#### 20) Statistical Functions\n",
    "#### Minimum: np.min(x)\n",
    "#### Maximum: np.max(x)\n",
    "#### Sum: np.sum(x)\n",
    "#### Mean: np.mean(x)\n",
    "#### Median: np.median(x)\n",
    "#### Standard Deviation: np.std(x)\n",
    "#### Variance: np.var(x)\n",
    "#### Percentile: np.percentile(x, q)\n",
    "#### Quantile: np.quantile(x, q)\n",
    "#### Argmin: np.argmin(x)\n",
    "#### Argmax: np.argmax(x)"
   ]
  },
  {
   "cell_type": "code",
   "execution_count": 332,
   "id": "09175c91",
   "metadata": {},
   "outputs": [
    {
     "data": {
      "text/plain": [
       "10"
      ]
     },
     "execution_count": 332,
     "metadata": {},
     "output_type": "execute_result"
    }
   ],
   "source": [
    "np.min([100,10])"
   ]
  },
  {
   "cell_type": "code",
   "execution_count": 333,
   "id": "d6d2a4e7",
   "metadata": {},
   "outputs": [
    {
     "data": {
      "text/plain": [
       "100"
      ]
     },
     "execution_count": 333,
     "metadata": {},
     "output_type": "execute_result"
    }
   ],
   "source": [
    "np.max([100,10])"
   ]
  },
  {
   "cell_type": "code",
   "execution_count": 334,
   "id": "26117ef5",
   "metadata": {},
   "outputs": [
    {
     "data": {
      "text/plain": [
       "110"
      ]
     },
     "execution_count": 334,
     "metadata": {},
     "output_type": "execute_result"
    }
   ],
   "source": [
    "np.sum([100,10])"
   ]
  },
  {
   "cell_type": "code",
   "execution_count": 335,
   "id": "b07bd30e",
   "metadata": {},
   "outputs": [
    {
     "data": {
      "text/plain": [
       "55.0"
      ]
     },
     "execution_count": 335,
     "metadata": {},
     "output_type": "execute_result"
    }
   ],
   "source": [
    "np.mean([100,10])"
   ]
  },
  {
   "cell_type": "code",
   "execution_count": 336,
   "id": "fa4b9efe",
   "metadata": {},
   "outputs": [
    {
     "data": {
      "text/plain": [
       "55.0"
      ]
     },
     "execution_count": 336,
     "metadata": {},
     "output_type": "execute_result"
    }
   ],
   "source": [
    "np.median([100,10])"
   ]
  },
  {
   "cell_type": "code",
   "execution_count": 337,
   "id": "954921a7",
   "metadata": {},
   "outputs": [
    {
     "data": {
      "text/plain": [
       "45.0"
      ]
     },
     "execution_count": 337,
     "metadata": {},
     "output_type": "execute_result"
    }
   ],
   "source": [
    "np.std([100,10])"
   ]
  },
  {
   "cell_type": "code",
   "execution_count": 338,
   "id": "273875c6",
   "metadata": {},
   "outputs": [
    {
     "data": {
      "text/plain": [
       "2025.0"
      ]
     },
     "execution_count": 338,
     "metadata": {},
     "output_type": "execute_result"
    }
   ],
   "source": [
    "np.var([100,10])"
   ]
  },
  {
   "cell_type": "code",
   "execution_count": 339,
   "id": "24b6778f",
   "metadata": {},
   "outputs": [
    {
     "data": {
      "text/plain": [
       "500.0"
      ]
     },
     "execution_count": 339,
     "metadata": {},
     "output_type": "execute_result"
    }
   ],
   "source": [
    "np.percentile(500,10)"
   ]
  },
  {
   "cell_type": "code",
   "execution_count": 340,
   "id": "818b901d",
   "metadata": {},
   "outputs": [
    {
     "data": {
      "text/plain": [
       "0.3"
      ]
     },
     "execution_count": 340,
     "metadata": {},
     "output_type": "execute_result"
    }
   ],
   "source": [
    "np.quantile(0.3,0.5)"
   ]
  },
  {
   "cell_type": "code",
   "execution_count": 341,
   "id": "0b6f1ed2",
   "metadata": {},
   "outputs": [
    {
     "data": {
      "text/plain": [
       "1"
      ]
     },
     "execution_count": 341,
     "metadata": {},
     "output_type": "execute_result"
    }
   ],
   "source": [
    "np.argmin([100,10])"
   ]
  },
  {
   "cell_type": "code",
   "execution_count": 342,
   "id": "fd73df7d",
   "metadata": {},
   "outputs": [
    {
     "data": {
      "text/plain": [
       "0"
      ]
     },
     "execution_count": 342,
     "metadata": {},
     "output_type": "execute_result"
    }
   ],
   "source": [
    "np.argmax([100,10])"
   ]
  },
  {
   "cell_type": "markdown",
   "id": "bde72591",
   "metadata": {},
   "source": [
    "#### 21) Linear Algebra Functions\n",
    "#### Dot Product: np.dot(x, y)\n",
    "#### Matrix Multiplication: np.matmul(x, y) or x @ y\n",
    "#### Determinant: np.linalg.det(x)\n",
    "#### Inverse: np.linalg.inv(x)\n",
    "#### Eigenvalues and Eigenvectors: np.linalg.eig(x)\n",
    "#### Singular Value Decomposition: np.linalg.svd(x)\n",
    "#### Norm: np.linalg.norm(x)\n",
    "#### Solve Linear System: np.linalg.solve(a, b)"
   ]
  },
  {
   "cell_type": "code",
   "execution_count": 343,
   "id": "b33f2733",
   "metadata": {},
   "outputs": [
    {
     "data": {
      "text/plain": [
       "1000"
      ]
     },
     "execution_count": 343,
     "metadata": {},
     "output_type": "execute_result"
    }
   ],
   "source": [
    "np.dot(100,10)"
   ]
  },
  {
   "cell_type": "code",
   "execution_count": 344,
   "id": "571ad289",
   "metadata": {},
   "outputs": [
    {
     "data": {
      "text/plain": [
       "32"
      ]
     },
     "execution_count": 344,
     "metadata": {},
     "output_type": "execute_result"
    }
   ],
   "source": [
    "np.matmul([1,2,3],[4,5,6])"
   ]
  },
  {
   "cell_type": "code",
   "execution_count": 345,
   "id": "054ef89a",
   "metadata": {},
   "outputs": [
    {
     "data": {
      "text/plain": [
       "-2.0000000000000004"
      ]
     },
     "execution_count": 345,
     "metadata": {},
     "output_type": "execute_result"
    }
   ],
   "source": [
    "np.linalg.det(np.array([[1, 2], [3, 4]]))"
   ]
  },
  {
   "cell_type": "code",
   "execution_count": 346,
   "id": "1439b5ac",
   "metadata": {},
   "outputs": [
    {
     "data": {
      "text/plain": [
       "array([[-2. ,  1. ],\n",
       "       [ 1.5, -0.5]])"
      ]
     },
     "execution_count": 346,
     "metadata": {},
     "output_type": "execute_result"
    }
   ],
   "source": [
    "np.linalg.inv(np.array([[1, 2], [3, 4]]))"
   ]
  },
  {
   "cell_type": "code",
   "execution_count": 347,
   "id": "8f5d2d74",
   "metadata": {},
   "outputs": [
    {
     "data": {
      "text/plain": [
       "(array([-0.37228132,  5.37228132]),\n",
       " array([[-0.82456484, -0.41597356],\n",
       "        [ 0.56576746, -0.90937671]]))"
      ]
     },
     "execution_count": 347,
     "metadata": {},
     "output_type": "execute_result"
    }
   ],
   "source": [
    "np.linalg.eig(np.array([[1, 2], [3, 4]]))"
   ]
  },
  {
   "cell_type": "code",
   "execution_count": 348,
   "id": "1cefbd59",
   "metadata": {},
   "outputs": [
    {
     "data": {
      "text/plain": [
       "(array([[-0.40455358, -0.9145143 ],\n",
       "        [-0.9145143 ,  0.40455358]]),\n",
       " array([5.4649857 , 0.36596619]),\n",
       " array([[-0.57604844, -0.81741556],\n",
       "        [ 0.81741556, -0.57604844]]))"
      ]
     },
     "execution_count": 348,
     "metadata": {},
     "output_type": "execute_result"
    }
   ],
   "source": [
    "np.linalg.svd(np.array([[1, 2], [3, 4]]))"
   ]
  },
  {
   "cell_type": "code",
   "execution_count": 349,
   "id": "7e98f22e",
   "metadata": {},
   "outputs": [
    {
     "data": {
      "text/plain": [
       "5.477225575051661"
      ]
     },
     "execution_count": 349,
     "metadata": {},
     "output_type": "execute_result"
    }
   ],
   "source": [
    "np.linalg.norm(np.array([[1, 2], [3, 4]]))"
   ]
  },
  {
   "cell_type": "code",
   "execution_count": 350,
   "id": "c2e9bbe2",
   "metadata": {},
   "outputs": [
    {
     "data": {
      "text/plain": [
       "array([[-3., -4.],\n",
       "       [ 4.,  5.]])"
      ]
     },
     "execution_count": 350,
     "metadata": {},
     "output_type": "execute_result"
    }
   ],
   "source": [
    "np.linalg.solve(np.array([[1, 2], [3, 4]]),np.array([[5, 6], [7, 8]]))"
   ]
  },
  {
   "cell_type": "markdown",
   "id": "1815a278",
   "metadata": {},
   "source": [
    "#### 22) Arange\n",
    "#### numpy.arange is a function in the NumPy library used to generate an array containing evenly spaced values within a given interval. It is similar to the built-in Python range function but returns a NumPy array rather than a list."
   ]
  },
  {
   "cell_type": "code",
   "execution_count": 351,
   "id": "4d4376c2",
   "metadata": {},
   "outputs": [
    {
     "data": {
      "text/plain": [
       "array([0, 1, 2, 3, 4, 5, 6, 7, 8, 9])"
      ]
     },
     "execution_count": 351,
     "metadata": {},
     "output_type": "execute_result"
    }
   ],
   "source": [
    "arr1 = np.arange(10)\n",
    "arr1"
   ]
  },
  {
   "cell_type": "markdown",
   "id": "3b64cf64",
   "metadata": {},
   "source": [
    "#### 23) Reshape\n",
    "\n",
    "#### numpy.reshape is a function in the NumPy library used to change the shape of an existing array without changing its data. It provides a new view of the array with the specified shape. The reshaped array must have the same total number of elements as the original array."
   ]
  },
  {
   "cell_type": "code",
   "execution_count": 352,
   "id": "0a5bd8f6",
   "metadata": {},
   "outputs": [
    {
     "data": {
      "text/plain": [
       "array([[0, 1, 2, 3, 4],\n",
       "       [5, 6, 7, 8, 9]])"
      ]
     },
     "execution_count": 352,
     "metadata": {},
     "output_type": "execute_result"
    }
   ],
   "source": [
    "arr1.reshape(2,5)"
   ]
  },
  {
   "cell_type": "markdown",
   "id": "7cbcff5f",
   "metadata": {},
   "source": [
    "#### 24) Flatten\n",
    "\n",
    "#### numpy.flatten is a method that is used to return a copy of the array collapsed into one dimension. It essentially converts a multi-dimensional array into a one-dimensional array."
   ]
  },
  {
   "cell_type": "code",
   "execution_count": 353,
   "id": "f9ca136c",
   "metadata": {},
   "outputs": [
    {
     "data": {
      "text/plain": [
       "array([0, 1, 2, 3, 4, 5, 6, 7, 8, 9])"
      ]
     },
     "execution_count": 353,
     "metadata": {},
     "output_type": "execute_result"
    }
   ],
   "source": [
    "arr1.flatten()"
   ]
  },
  {
   "cell_type": "markdown",
   "id": "7d16fc02",
   "metadata": {},
   "source": [
    "#### 25) Linspace\n",
    "#### numpy.linspace is a function in the NumPy library used to create an array of evenly spaced numbers over a specified interval. Unlike numpy.arange, which creates arrays based on a specified step size, numpy.linspace generates a specified number of points between a start and stop value."
   ]
  },
  {
   "cell_type": "code",
   "execution_count": 354,
   "id": "779cfc06",
   "metadata": {},
   "outputs": [
    {
     "data": {
      "text/plain": [
       "array([ 0. ,  2.5,  5. ,  7.5, 10. ])"
      ]
     },
     "execution_count": 354,
     "metadata": {},
     "output_type": "execute_result"
    }
   ],
   "source": [
    "np.linspace(0,10,5)"
   ]
  },
  {
   "cell_type": "markdown",
   "id": "b24a830a",
   "metadata": {},
   "source": [
    "#### 26) Logspace\n",
    "\n",
    "#### numpy.logspace is a function in the NumPy library used to generate numbers that are evenly spaced on a logarithmic scale. This can be particularly useful in scenarios where you need to create a set of values that cover several orders of magnitude."
   ]
  },
  {
   "cell_type": "code",
   "execution_count": 355,
   "id": "334d8777",
   "metadata": {},
   "outputs": [
    {
     "data": {
      "text/plain": [
       "array([1.00000000e+00, 3.16227766e+02, 1.00000000e+05, 3.16227766e+07,\n",
       "       1.00000000e+10])"
      ]
     },
     "execution_count": 355,
     "metadata": {},
     "output_type": "execute_result"
    }
   ],
   "source": [
    "np.logspace(0,10,5)"
   ]
  },
  {
   "cell_type": "markdown",
   "id": "571dccdb",
   "metadata": {},
   "source": [
    "#### 27) Zeros\n",
    "\n",
    "#### numpy.zeros is a function in the NumPy library used to create a new array of given shape and type, filled with zeros. This function is commonly used to initialize arrays for further operations."
   ]
  },
  {
   "cell_type": "code",
   "execution_count": 356,
   "id": "c232d351",
   "metadata": {},
   "outputs": [
    {
     "data": {
      "text/plain": [
       "array([0., 0., 0., 0., 0., 0., 0., 0., 0., 0.])"
      ]
     },
     "execution_count": 356,
     "metadata": {},
     "output_type": "execute_result"
    }
   ],
   "source": [
    "np.zeros(10)"
   ]
  },
  {
   "cell_type": "markdown",
   "id": "cd55ddf1",
   "metadata": {},
   "source": [
    "#### 28) Ones\n",
    "\n",
    "#### numpy.ones is a function in the NumPy library used to create a new array of given shape and type, filled with ones. This function is useful for initializing arrays where all elements need to start with the value one."
   ]
  },
  {
   "cell_type": "code",
   "execution_count": 357,
   "id": "d3a2edd9",
   "metadata": {},
   "outputs": [
    {
     "data": {
      "text/plain": [
       "array([1., 1., 1., 1., 1., 1., 1., 1., 1., 1.])"
      ]
     },
     "execution_count": 357,
     "metadata": {},
     "output_type": "execute_result"
    }
   ],
   "source": [
    "np.ones(10)"
   ]
  },
  {
   "cell_type": "markdown",
   "id": "bc0f28d0",
   "metadata": {},
   "source": [
    "#### 29) View\n",
    "\n",
    "#### In NumPy, a view is a new array object that looks at the same data of the original array. Views are particularly useful because they allow you to manipulate data without copying it, which can save both memory and computational time. Any modifications to the data in the view will be reflected in the original array and vice versa."
   ]
  },
  {
   "cell_type": "code",
   "execution_count": 358,
   "id": "8741e9a6",
   "metadata": {},
   "outputs": [
    {
     "data": {
      "text/plain": [
       "array([0, 1, 2, 3, 4, 5, 6, 7, 8, 9])"
      ]
     },
     "execution_count": 358,
     "metadata": {},
     "output_type": "execute_result"
    }
   ],
   "source": [
    "a = arr1.view()\n",
    "a"
   ]
  },
  {
   "cell_type": "markdown",
   "id": "120afc1e",
   "metadata": {},
   "source": [
    "#### 30) Copy\n",
    "\n",
    "#### numpy.copy is a function in the NumPy library used to create a deep copy of an array. This means that a new array object is created, and the data is copied into this new array. Any modifications made to the new array will not affect the original array and vice versa. This is different from a view, where the new array shares the same data as the original array."
   ]
  },
  {
   "cell_type": "code",
   "execution_count": 359,
   "id": "3bad288a",
   "metadata": {},
   "outputs": [
    {
     "data": {
      "text/plain": [
       "array([0, 1, 2, 3, 4, 5, 6, 7, 8, 9])"
      ]
     },
     "execution_count": 359,
     "metadata": {},
     "output_type": "execute_result"
    }
   ],
   "source": [
    "b = a.copy()\n",
    "b"
   ]
  },
  {
   "cell_type": "markdown",
   "id": "0dceaf3d",
   "metadata": {},
   "source": [
    "#### 31) Eye\n",
    "\n",
    "#### numpy.eye is a function in the NumPy library used to create a 2D array (also known as a matrix) with ones on the diagonal and zeros elsewhere. It is commonly used to create identity matrices, where the diagonal elements are all ones and the off-diagonal elements are all zeros."
   ]
  },
  {
   "cell_type": "code",
   "execution_count": 360,
   "id": "17cc4e82",
   "metadata": {},
   "outputs": [
    {
     "data": {
      "text/plain": [
       "array([[1., 0., 0., 0., 0., 0., 0., 0., 0., 0.],\n",
       "       [0., 1., 0., 0., 0., 0., 0., 0., 0., 0.],\n",
       "       [0., 0., 1., 0., 0., 0., 0., 0., 0., 0.],\n",
       "       [0., 0., 0., 1., 0., 0., 0., 0., 0., 0.],\n",
       "       [0., 0., 0., 0., 1., 0., 0., 0., 0., 0.],\n",
       "       [0., 0., 0., 0., 0., 1., 0., 0., 0., 0.],\n",
       "       [0., 0., 0., 0., 0., 0., 1., 0., 0., 0.],\n",
       "       [0., 0., 0., 0., 0., 0., 0., 1., 0., 0.],\n",
       "       [0., 0., 0., 0., 0., 0., 0., 0., 1., 0.],\n",
       "       [0., 0., 0., 0., 0., 0., 0., 0., 0., 1.]])"
      ]
     },
     "execution_count": 360,
     "metadata": {},
     "output_type": "execute_result"
    }
   ],
   "source": [
    "np.eye(10)"
   ]
  },
  {
   "cell_type": "markdown",
   "id": "96723733",
   "metadata": {},
   "source": [
    "#### 22) List Comprehensions \n",
    "\n",
    "#### List comprehensions provide a concise way to create lists in Python by applying an expression to each element in an iterable (such as a list, tuple, or range) and collecting the results into a new list. They offer a more readable and expressive alternative to traditional looping constructs.\n",
    "\n",
    "#### Syntax\n",
    "#### [expression for item in iterable if condition]\n",
    "\n",
    "#### expression: The expression to be evaluated for each element in the iterable. The result of this expression will be included in the new list.\n",
    "#### item: The variable representing each element in the iterable.\n",
    "#### iterable: The iterable object (e.g., list, tuple, range) over which to iterate.\n",
    "#### if condition: Optional. A conditional expression that filters elements from the iterable. The expression is evaluated for each item, and only items for which the condition is True are included in the new list.\n",
    "\n",
    "#### Benefits of List Comprehensions\n",
    "#### Readability: List comprehensions often lead to more concise and readable code compared to traditional loops.\n",
    "#### Efficiency: List comprehensions can be more efficient than equivalent looping constructs in terms of both execution speed and memory usage.\n",
    "#### Expressiveness: They allow developers to express complex transformations and filtering operations in a clear and idiomatic way.\n",
    "#### Limitations\n",
    "#### While list comprehensions are powerful and expressive, they may become less readable when used for very complex expressions or when nested deeply. In such cases, using traditional loops may be more appropriate for maintaining code readability and clarity."
   ]
  },
  {
   "cell_type": "code",
   "execution_count": 361,
   "id": "ea311ef9",
   "metadata": {},
   "outputs": [
    {
     "name": "stdout",
     "output_type": "stream",
     "text": [
      "[0, 1, 4, 9, 16, 25, 36, 49, 64, 81]\n"
     ]
    }
   ],
   "source": [
    "# Create a list of squares of numbers from 0 to 9\n",
    "squares = [x**2 for x in range(10)]\n",
    "print(squares)"
   ]
  },
  {
   "cell_type": "code",
   "execution_count": 362,
   "id": "57a35e64",
   "metadata": {},
   "outputs": [
    {
     "name": "stdout",
     "output_type": "stream",
     "text": [
      "[0, 2, 4, 6, 8]\n"
     ]
    }
   ],
   "source": [
    "# Create a list of even numbers from 0 to 9\n",
    "evens = [x for x in range(10) if x % 2 == 0]\n",
    "print(evens)"
   ]
  },
  {
   "cell_type": "code",
   "execution_count": 363,
   "id": "1ed996c1",
   "metadata": {},
   "outputs": [
    {
     "name": "stdout",
     "output_type": "stream",
     "text": [
      "[('a', 1), ('a', 2), ('a', 3), ('b', 1), ('b', 2), ('b', 3), ('c', 1), ('c', 2), ('c', 3)]\n"
     ]
    }
   ],
   "source": [
    "# Create a 2D list containing the Cartesian product of two lists\n",
    "cartesian_product = [(x, y) for x in ['a', 'b', 'c'] for y in [1, 2, 3]]\n",
    "print(cartesian_product)"
   ]
  },
  {
   "cell_type": "markdown",
   "id": "52f97283",
   "metadata": {},
   "source": [
    "#### 23) OOPS\n",
    "\n",
    "#### Object-Oriented Programming (OOP) is a programming paradigm that revolves around the concept of objects, which can contain data in the form of attributes (variables) and behavior in the form of methods (functions). OOP allows developers to model real-world entities and their interactions in a more intuitive and modular way.\n",
    "\n",
    "#### Here are the main OOP concepts in Python:\n",
    "\n",
    "#### 1) Class:\n",
    "\n",
    "#### A blueprint or template for creating objects.\n",
    "#### Defines attributes (variables) and methods (functions) that all objects of the class will have.\n",
    "#### Classes are defined using the class keyword.\n",
    "\n",
    "#### The general syntax for defining a class in Python is:\n",
    "\n",
    "#### class ClassName:\n",
    "####           Class attributes and methods\n",
    "####           pass\n",
    "\n",
    "#### class: Keyword used to define a class.\n",
    "#### ClassName: Name of the class, following Python naming conventions (usually using CamelCase).\n",
    "#### :: Colon denotes the beginning of the class block.\n",
    "\n",
    "#### Class: Blueprint or template for creating objects.\n",
    "#### Attributes: Variables associated with the class.\n",
    "#### Methods: Functions associated with the class.\n",
    "#### Instances: Objects created from a class.\n",
    "#### self: Reference to the instance of the class within class methods."
   ]
  },
  {
   "cell_type": "code",
   "execution_count": 364,
   "id": "2c4e4149",
   "metadata": {},
   "outputs": [
    {
     "name": "stdout",
     "output_type": "stream",
     "text": [
      "Car details: 2022 Toyota Camry\n",
      "This car has 0 miles on it.\n",
      "This car has 100 miles on it.\n",
      "This car has 150 miles on it.\n"
     ]
    }
   ],
   "source": [
    "class Car:\n",
    "    # Constructor method\n",
    "    def __init__(self, make, model, year):\n",
    "        self.make = make\n",
    "        self.model = model\n",
    "        self.year = year\n",
    "        self.odometer_reading = 0\n",
    "\n",
    "    # Method to get a formatted description of the car\n",
    "    def get_descriptive_name(self):\n",
    "        return f\"{self.year} {self.make} {self.model}\"\n",
    "\n",
    "    # Method to read the odometer\n",
    "    def read_odometer(self):\n",
    "        return f\"This car has {self.odometer_reading} miles on it.\"\n",
    "\n",
    "    # Method to update the odometer reading\n",
    "    def update_odometer(self, mileage):\n",
    "        if mileage >= self.odometer_reading:\n",
    "            self.odometer_reading = mileage\n",
    "        else:\n",
    "            print(\"You can't roll back an odometer!\")\n",
    "\n",
    "    # Method to increment the odometer reading\n",
    "    def increment_odometer(self, miles):\n",
    "        self.odometer_reading += miles\n",
    "\n",
    "\n",
    "# Creating an instance of the Car class\n",
    "my_car = Car(\"Toyota\", \"Camry\", 2022)\n",
    "\n",
    "# Accessing attributes and calling methods of the instance\n",
    "print(\"Car details:\", my_car.get_descriptive_name())\n",
    "print(my_car.read_odometer())\n",
    "\n",
    "# Updating the odometer reading\n",
    "my_car.update_odometer(100)\n",
    "print(my_car.read_odometer())\n",
    "\n",
    "# Incrementing the odometer reading\n",
    "my_car.increment_odometer(50)\n",
    "print(my_car.read_odometer())"
   ]
  },
  {
   "cell_type": "markdown",
   "id": "10152e7b",
   "metadata": {},
   "source": [
    "#### In Python, a constructor is a special method that is automatically called when a new instance of a class is created. The purpose of a constructor is to initialize the instance's attributes with specific values. The constructor method in Python is called __init__.\n",
    "\n",
    "#### The constructor method __init__ is automatically invoked when an instance of the class is created.\n",
    "#### The self parameter refers to the instance being created and allows access to its attributes and methods.\n",
    "#### The constructor initializes the instance's attributes with specific values provided as arguments or with default values."
   ]
  },
  {
   "cell_type": "code",
   "execution_count": 365,
   "id": "1e45feaa",
   "metadata": {},
   "outputs": [
    {
     "name": "stdout",
     "output_type": "stream",
     "text": [
      "Car details: 2022 Toyota Camry\n",
      "This car has 0 miles on it.\n"
     ]
    }
   ],
   "source": [
    "class Car:\n",
    "    def __init__(self, make, model, year):\n",
    "        self.make = make\n",
    "        self.model = model\n",
    "        self.year = year\n",
    "        self.odometer_reading = 0\n",
    "    \n",
    "    def get_descriptive_name(self):\n",
    "        return f\"{self.year} {self.make} {self.model}\"\n",
    "    \n",
    "    def read_odometer(self):\n",
    "        return f\"This car has {self.odometer_reading} miles on it.\"\n",
    "\n",
    "# Creating an instance of the Car class\n",
    "my_car = Car(\"Toyota\", \"Camry\", 2022)\n",
    "\n",
    "# Accessing attributes and methods of the instance\n",
    "print(\"Car details:\", my_car.get_descriptive_name())\n",
    "print(my_car.read_odometer())"
   ]
  },
  {
   "cell_type": "markdown",
   "id": "93c03d27",
   "metadata": {},
   "source": [
    "#### 2) Object (Instance):\n",
    "\n",
    "#### A specific instance of a class.\n",
    "#### Represents a particular entity or instance in the real world.\n",
    "#### Objects have attributes that store data and methods that define their behavior.\n",
    "\n",
    "#### In Python, an object is an instance of a class. It is a fundamental building block in object-oriented programming (OOP) and represents a specific entity that has a unique identity, state (attributes), and behavior (methods). Objects are created from classes, which act as blueprints for defining the properties and behaviors that the objects will have.\n",
    "\n",
    "#### Characteristics of Objects:\n",
    "#### Identity:\n",
    "\n",
    "#### Each object has a unique identity that distinguishes it from other objects. The identity can be obtained using the id() function, which returns a unique identifier for the object.\n",
    "\n",
    "#### State (Attributes):\n",
    "\n",
    "#### Objects store data in attributes, which are variables that hold information about the object's state. These attributes are defined in the class and can be accessed and modified using dot notation.\n",
    "\n",
    "#### Behavior (Methods):\n",
    "\n",
    "#### Objects have behavior, which is defined by methods. Methods are functions that are defined within the class and operate on the object's data. Methods can perform operations on the object's attributes or carry out other actions.\n",
    "\n",
    "#### Object: An instance of a class, representing a specific entity with a unique identity, state (attributes), and behavior (methods).\n",
    "#### Attributes: Variables that store data about the object's state.\n",
    "#### Methods: Functions that define the behavior of the object and operate on its attributes.\n",
    "#### Identity: Unique identifier that distinguishes each object, obtainable using the id() function."
   ]
  },
  {
   "cell_type": "code",
   "execution_count": 366,
   "id": "376b98ec",
   "metadata": {},
   "outputs": [
    {
     "name": "stdout",
     "output_type": "stream",
     "text": [
      "Dog's Name: Buddy, Age: 3\n",
      "Buddy says: Woof!\n"
     ]
    }
   ],
   "source": [
    "class Dog:\n",
    "    # Constructor method to initialize the object\n",
    "    def __init__(self, name, age):\n",
    "        self.name = name  # Attribute\n",
    "        self.age = age    # Attribute\n",
    "    \n",
    "    # Method to get the dog's details\n",
    "    def get_details(self):\n",
    "        return f\"Dog's Name: {self.name}, Age: {self.age}\"\n",
    "    \n",
    "    # Method to simulate the dog barking\n",
    "    def bark(self):\n",
    "        return f\"{self.name} says: Woof!\"\n",
    "\n",
    "# Creating an instance of the Dog class (an object)\n",
    "my_dog = Dog(\"Buddy\", 3)\n",
    "\n",
    "# Accessing attributes and calling methods of the object\n",
    "print(my_dog.get_details())  # Output: Dog's Name: Buddy, Age: 3\n",
    "print(my_dog.bark())         # Output: Buddy says: Woof!"
   ]
  },
  {
   "cell_type": "markdown",
   "id": "227df816",
   "metadata": {},
   "source": [
    "#### 3) Encapsulation:\n",
    "\n",
    "#### Encapsulation is one of the fundamental principles of object-oriented programming (OOP). It refers to the bundling of data (attributes) and methods (functions) that operate on that data into a single unit, known as a class. Encapsulation restricts direct access to some of an object's components, which can help prevent the accidental modification of data. This is typically achieved using access modifiers like public, protected, and private.\n",
    "\n",
    "#### The bundling of data (attributes) and methods that operate on the data into a single unit (i.e., a class).\n",
    "#### Encapsulation hides the internal state of an object and restricts access to it, providing control over how data is accessed and modified.\n",
    "#### Achieved using access modifiers like public, private, and protected.\n",
    "\n",
    "#### Public attributes: Accessible from anywhere.\n",
    "#### Protected attributes: Prefixed with a single underscore (_) and should not be accessed directly, but still accessible.\n",
    "#### Private attributes: Prefixed with double underscores (__) and not directly accessible from outside the class.\n",
    "\n",
    "#### Encapsulation in Python is primarily about controlling access to the attributes and methods of a class to ensure that the internal representation of an object is hidden from the outside. This is typically achieved through access modifiers. In Python, encapsulation is facilitated by three types of access levels:"
   ]
  },
  {
   "cell_type": "markdown",
   "id": "4c248866",
   "metadata": {},
   "source": [
    "#### 1) Public Access:\n",
    "\n",
    "#### Attributes and methods defined as public can be accessed from anywhere, both within and outside the class.\n",
    "#### By default, all members (attributes and methods) of a class are public.\n",
    "#### No special prefix is used for public members."
   ]
  },
  {
   "cell_type": "code",
   "execution_count": 367,
   "id": "bc9d0293",
   "metadata": {},
   "outputs": [
    {
     "name": "stdout",
     "output_type": "stream",
     "text": [
      "Toyota\n",
      "Car make: Toyota, Model: Camry\n"
     ]
    }
   ],
   "source": [
    "class Car:\n",
    "    def __init__(self, make, model):\n",
    "        self.make = make  # Public attribute\n",
    "        self.model = model  # Public attribute\n",
    "\n",
    "    def display_info(self):  # Public method\n",
    "        print(f\"Car make: {self.make}, Model: {self.model}\")\n",
    "\n",
    "car = Car(\"Toyota\", \"Camry\")\n",
    "print(car.make)  # Accessing public attribute\n",
    "car.display_info()  # Calling public method\n"
   ]
  },
  {
   "cell_type": "markdown",
   "id": "b40ed768",
   "metadata": {},
   "source": [
    "#### 2) Protected Access:\n",
    "\n",
    "#### Attributes and methods defined as protected should not be accessed outside the class and its subclasses.\n",
    "#### Protected members are prefixed with a single underscore (_).\n",
    "#### This is a convention and does not enforce strict access control."
   ]
  },
  {
   "cell_type": "code",
   "execution_count": 368,
   "id": "3f15ce65",
   "metadata": {},
   "outputs": [
    {
     "name": "stdout",
     "output_type": "stream",
     "text": [
      "Toyota\n",
      "Car make: Toyota, Model: Camry\n"
     ]
    }
   ],
   "source": [
    "class Car:\n",
    "    def __init__(self, make, model):\n",
    "        self._make = make  # Protected attribute\n",
    "        self._model = model  # Protected attribute\n",
    "\n",
    "    def _display_info(self):  # Protected method\n",
    "        print(f\"Car make: {self._make}, Model: {self._model}\")\n",
    "\n",
    "car = Car(\"Toyota\", \"Camry\")\n",
    "print(car._make)  # Accessing protected attribute (not recommended)\n",
    "car._display_info()  # Calling protected method (not recommended)"
   ]
  },
  {
   "cell_type": "markdown",
   "id": "933639c1",
   "metadata": {},
   "source": [
    "#### 3) Private Access:\n",
    "\n",
    "#### Attributes and methods defined as private cannot be accessed from outside the class.\n",
    "#### Private members are prefixed with a double underscore (__).\n",
    "#### Python performs name mangling on private members to make them harder to access from outside the class."
   ]
  },
  {
   "cell_type": "code",
   "execution_count": 369,
   "id": "a40de709",
   "metadata": {},
   "outputs": [
    {
     "name": "stdout",
     "output_type": "stream",
     "text": [
      "Car make: Toyota, Model: Camry\n"
     ]
    }
   ],
   "source": [
    "class Car:\n",
    "    def __init__(self, make, model):\n",
    "        self.__make = make  # Private attribute\n",
    "        self.__model = model  # Private attribute\n",
    "\n",
    "    def __display_info(self):  # Private method\n",
    "        print(f\"Car make: {self.__make}, Model: {self.__model}\")\n",
    "\n",
    "    def public_method(self):\n",
    "        self.__display_info()  # Accessing private method within the class\n",
    "\n",
    "car = Car(\"Toyota\", \"Camry\")\n",
    "# print(car.__make)  # Accessing private attribute (raises AttributeError)\n",
    "# car.__display_info()  # Calling private method (raises AttributeError)\n",
    "car.public_method()  # Indirectly accessing private method through a public method"
   ]
  },
  {
   "cell_type": "markdown",
   "id": "250caa50",
   "metadata": {},
   "source": [
    "#### Public:\n",
    "\n",
    "#### Accessible from anywhere.\n",
    "#### No prefix.\n",
    "#### Example: self.make\n",
    "\n",
    "\n",
    "#### Protected:\n",
    "\n",
    "#### Should be accessible only within the class and its subclasses.\n",
    "#### Single underscore prefix (_).\n",
    "#### Example: self._make\n",
    "\n",
    "\n",
    "#### Private:\n",
    "\n",
    "#### Accessible only within the class.\n",
    "#### Double underscore prefix (__), leading to name mangling.\n",
    "#### Example: self.__make"
   ]
  },
  {
   "cell_type": "code",
   "execution_count": null,
   "id": "7803d08b",
   "metadata": {},
   "outputs": [],
   "source": []
  },
  {
   "cell_type": "markdown",
   "id": "2bebf6d3",
   "metadata": {},
   "source": [
    "#### 4) Inheritance:\n",
    "\n",
    "#### The ability of a class (subclass or derived class) to inherit attributes and methods from another class (superclass or base class).\n",
    "#### Promotes code reusability and allows the creation of specialized classes that extend the functionality of existing classes.\n",
    "#### Inherited attributes and methods can be overridden or extended in subclasses.\n",
    "\n",
    "#### Inheritance is a fundamental concept in object-oriented programming (OOP) that allows a class (known as the child class or subclass) to inherit attributes and methods from another class (known as the parent class or superclass). This promotes code reuse and establishes a natural hierarchical relationship between classes, making it easier to maintain and extend code.\n",
    "\n",
    "#### Key Concepts of Inheritance in Python:\n",
    "#### Parent Class (Superclass): The class whose attributes and methods are inherited.\n",
    "#### Child Class (Subclass): The class that inherits attributes and methods from the parent class.\n",
    "#### super() Function: Used to call methods from the parent class within the child class, facilitating the extension or modification of inherited methods.\n",
    "\n",
    "#### Benefits of Inheritance:\n",
    "#### Code Reuse: Common functionality can be written once in the parent class and reused in child classes.\n",
    "#### Organization: Hierarchical class structures make the code more organized and easier to understand.\n",
    "#### Maintainability: Changes in the parent class can propagate to child classes, reducing redundancy and potential errors.\n",
    "\n",
    "\n",
    "#### Single Inheritance: One parent class, one child class.\n",
    "#### Multiple Inheritance: Multiple parent classes, one child class.\n",
    "#### Multilevel Inheritance: Chain of inheritance with more than two levels.\n",
    "#### Hierarchical Inheritance: One parent class, multiple child classes.\n",
    "#### Hybrid Inheritance: Combination of multiple inheritance types."
   ]
  },
  {
   "cell_type": "markdown",
   "id": "ccd81e09",
   "metadata": {},
   "source": [
    "#### Inheritance Syntax:\n",
    "\n",
    "#### Child classes are defined by specifying the parent class in parentheses after the child class name.\n",
    "\n",
    "#### class ChildClass(ParentClass):\n",
    "####    pass\n",
    "\n",
    "#### Overriding Methods:\n",
    "\n",
    "#### Child classes can override methods from the parent class to provide specific implementations."
   ]
  },
  {
   "cell_type": "code",
   "execution_count": 370,
   "id": "56ac221c",
   "metadata": {},
   "outputs": [],
   "source": [
    "class Parent:\n",
    "    def method(self):\n",
    "        print(\"Parent method\")\n",
    "\n",
    "class Child(Parent):\n",
    "    def method(self):\n",
    "        print(\"Child method\")\n"
   ]
  },
  {
   "cell_type": "markdown",
   "id": "b0069756",
   "metadata": {},
   "source": [
    "#### Using super():\n",
    "\n",
    "#### The super() function allows you to call methods from the parent class within the child class."
   ]
  },
  {
   "cell_type": "code",
   "execution_count": 371,
   "id": "4185dab5",
   "metadata": {},
   "outputs": [],
   "source": [
    "class Parent:\n",
    "    def __init__(self, name):\n",
    "        self.name = name\n",
    "\n",
    "class Child(Parent):\n",
    "    def __init__(self, name, age):\n",
    "        super().__init__(name)\n",
    "        self.age = age"
   ]
  },
  {
   "cell_type": "markdown",
   "id": "cd932cb6",
   "metadata": {},
   "source": [
    "#### 1) Single Inheritance:\n",
    "\n",
    "#### A subclass inherits from a single parent class."
   ]
  },
  {
   "cell_type": "code",
   "execution_count": 372,
   "id": "3b115cd4",
   "metadata": {},
   "outputs": [
    {
     "name": "stdout",
     "output_type": "stream",
     "text": [
      "Parent method\n"
     ]
    }
   ],
   "source": [
    "class Parent:\n",
    "    def method(self):\n",
    "        print(\"Parent method\")\n",
    "\n",
    "class Child(Parent):\n",
    "    pass\n",
    "\n",
    "child = Child()\n",
    "child.method() "
   ]
  },
  {
   "cell_type": "markdown",
   "id": "c0376105",
   "metadata": {},
   "source": [
    "#### 2) Multiple Inheritance:\n",
    "\n",
    "#### A subclass inherits from more than one parent class."
   ]
  },
  {
   "cell_type": "code",
   "execution_count": 373,
   "id": "e85f5c67",
   "metadata": {},
   "outputs": [
    {
     "name": "stdout",
     "output_type": "stream",
     "text": [
      "Parent1 method\n",
      "Parent2 method\n"
     ]
    }
   ],
   "source": [
    "class Parent1:\n",
    "    def method1(self):\n",
    "        print(\"Parent1 method\")\n",
    "\n",
    "class Parent2:\n",
    "    def method2(self):\n",
    "        print(\"Parent2 method\")\n",
    "\n",
    "class Child(Parent1, Parent2):\n",
    "    pass\n",
    "\n",
    "child = Child()\n",
    "child.method1()  \n",
    "child.method2() "
   ]
  },
  {
   "cell_type": "markdown",
   "id": "b87e719f",
   "metadata": {},
   "source": [
    "#### 3) Multilevel Inheritance:\n",
    "\n",
    "#### A class is derived from another class, which is also derived from another class."
   ]
  },
  {
   "cell_type": "code",
   "execution_count": 374,
   "id": "69d15306",
   "metadata": {},
   "outputs": [
    {
     "name": "stdout",
     "output_type": "stream",
     "text": [
      "Grandparent method\n"
     ]
    }
   ],
   "source": [
    "class Grandparent:\n",
    "    def method(self):\n",
    "        print(\"Grandparent method\")\n",
    "\n",
    "class Parent(Grandparent):\n",
    "    pass\n",
    "\n",
    "class Child(Parent):\n",
    "    pass\n",
    "\n",
    "child = Child()\n",
    "child.method()  "
   ]
  },
  {
   "cell_type": "markdown",
   "id": "20a5f48f",
   "metadata": {},
   "source": [
    "#### 4) Hierarchical Inheritance:\n",
    "\n",
    "#### Multiple classes inherit from a single parent class."
   ]
  },
  {
   "cell_type": "code",
   "execution_count": 375,
   "id": "c0734e46",
   "metadata": {},
   "outputs": [
    {
     "name": "stdout",
     "output_type": "stream",
     "text": [
      "Parent method\n",
      "Parent method\n"
     ]
    }
   ],
   "source": [
    "class Parent:\n",
    "    def method(self):\n",
    "        print(\"Parent method\")\n",
    "\n",
    "class Child1(Parent):\n",
    "    pass\n",
    "\n",
    "class Child2(Parent):\n",
    "    pass\n",
    "\n",
    "child1 = Child1()\n",
    "child2 = Child2()\n",
    "child1.method() \n",
    "child2.method() "
   ]
  },
  {
   "cell_type": "markdown",
   "id": "9d0ea954",
   "metadata": {},
   "source": [
    "#### 5) Hybrid Inheritance:\n",
    "\n",
    "#### A combination of two or more types of inheritance."
   ]
  },
  {
   "cell_type": "code",
   "execution_count": 376,
   "id": "43e55002",
   "metadata": {},
   "outputs": [
    {
     "name": "stdout",
     "output_type": "stream",
     "text": [
      "Parent method\n"
     ]
    }
   ],
   "source": [
    "class Parent:\n",
    "    def method(self):\n",
    "        print(\"Parent method\")\n",
    "\n",
    "class Child1(Parent):\n",
    "    pass\n",
    "\n",
    "class Child2(Parent):\n",
    "    pass\n",
    "\n",
    "class GrandChild(Child1, Child2):\n",
    "    pass\n",
    "\n",
    "grandchild = GrandChild()\n",
    "grandchild.method()  "
   ]
  },
  {
   "cell_type": "markdown",
   "id": "8bd29594",
   "metadata": {},
   "source": [
    "#### 5) Polymorphism:\n",
    "\n",
    "#### The ability of different objects to respond to the same message (i.e., method call) in different ways.\n",
    "#### Allows objects of different classes to be treated as objects of a common superclass, enabling dynamic method dispatch and method overriding.\n",
    "#### Enables code to be written in a generic manner that can operate on objects of various types without knowing their specific class.\n",
    "\n",
    "#### Polymorphism is a core concept in object-oriented programming that allows objects of different classes to be treated as objects of a common superclass. In Python, polymorphism allows different classes to be used interchangeably because they implement the same method or interface. This enables a single function or method to work in different ways depending on the object it is acting upon.\n",
    "\n",
    "#### Ad-hoc Polymorphism:\n",
    "#### Function Overloading\n",
    "#### Operator Overloading\n",
    "\n",
    "#### Parametric Polymorphism:\n",
    "#### Generic Programming\n",
    "\n",
    "#### Subtype Polymorphism (Inclusion Polymorphism):\n",
    "#### Inheritance and Method Overriding\n",
    "\n",
    "#### Duck Typing:\n",
    "#### Behavior-based type compatibility"
   ]
  },
  {
   "cell_type": "markdown",
   "id": "3eb74a56",
   "metadata": {},
   "source": [
    "#### 1) Ad-hoc Polymorphism:\n",
    "\n",
    "#### Function or Method Overloading: Multiple functions have the same name but differ in the type or number of their parameters. Python does not support traditional function overloading as seen in languages like C++ or Java, but you can achieve similar functionality using default arguments or variable-length arguments.\n",
    "#### Operator Overloading: Operators are used to perform different operations based on their operands. In Python, this is implemented using special methods (dunder methods)."
   ]
  },
  {
   "cell_type": "code",
   "execution_count": 377,
   "id": "1dd2f15b",
   "metadata": {},
   "outputs": [
    {
     "name": "stdout",
     "output_type": "stream",
     "text": [
      "Woof\n",
      "Meow\n"
     ]
    }
   ],
   "source": [
    "class Animal:\n",
    "    def sound(self):\n",
    "        raise NotImplementedError(\"Subclass must implement abstract method\")\n",
    "\n",
    "class Dog(Animal):\n",
    "    def sound(self):\n",
    "        return \"Woof\"\n",
    "\n",
    "class Cat(Animal):\n",
    "    def sound(self):\n",
    "        return \"Meow\"\n",
    "\n",
    "# Polymorphic behavior\n",
    "def make_sound(animal):\n",
    "    print(animal.sound())\n",
    "\n",
    "dog = Dog()\n",
    "cat = Cat()\n",
    "make_sound(dog)  \n",
    "make_sound(cat)  "
   ]
  },
  {
   "cell_type": "code",
   "execution_count": 378,
   "id": "38f19df8",
   "metadata": {},
   "outputs": [
    {
     "name": "stdout",
     "output_type": "stream",
     "text": [
      "Point(4, 6)\n"
     ]
    }
   ],
   "source": [
    "class Point:\n",
    "    def __init__(self, x, y):\n",
    "        self.x = x\n",
    "        self.y = y\n",
    "\n",
    "    def __add__(self, other):\n",
    "        return Point(self.x + other.x, self.y + other.y)\n",
    "\n",
    "    def __str__(self):\n",
    "        return f\"Point({self.x}, {self.y})\"\n",
    "\n",
    "point1 = Point(1, 2)\n",
    "point2 = Point(3, 4)\n",
    "result = point1 + point2  \n",
    "print(result)  "
   ]
  },
  {
   "cell_type": "markdown",
   "id": "97c05c2c",
   "metadata": {},
   "source": [
    "#### 2) Parametric Polymorphism:\n",
    "\n",
    "#### Functions or methods are written in a generic way so that they can handle values identically without depending on their type. This is commonly seen with generic functions and type variables.\n",
    "\n",
    "#### Example using Python’s type hints with generics (available through typing module):"
   ]
  },
  {
   "cell_type": "code",
   "execution_count": 379,
   "id": "06496599",
   "metadata": {},
   "outputs": [
    {
     "name": "stdout",
     "output_type": "stream",
     "text": [
      "42\n",
      "Hello\n"
     ]
    }
   ],
   "source": [
    "from typing import TypeVar, Generic\n",
    "\n",
    "T = TypeVar('T')\n",
    "\n",
    "class Container(Generic[T]):\n",
    "    def __init__(self, value: T):\n",
    "        self.value = value\n",
    "\n",
    "    def get_value(self) -> T:\n",
    "        return self.value\n",
    "\n",
    "int_container = Container(42)\n",
    "str_container = Container(\"Hello\")\n",
    "\n",
    "print(int_container.get_value())  \n",
    "print(str_container.get_value())  "
   ]
  },
  {
   "cell_type": "markdown",
   "id": "793b205e",
   "metadata": {},
   "source": [
    "#### 3) Subtype Polymorphism (Inclusion Polymorphism):\n",
    "\n",
    "#### Also known as \"runtime polymorphism\" or \"inheritance-based polymorphism\", where a subclass can be treated as an instance of its superclass. This is typically achieved through method overriding."
   ]
  },
  {
   "cell_type": "code",
   "execution_count": 380,
   "id": "734be6f9",
   "metadata": {},
   "outputs": [
    {
     "name": "stdout",
     "output_type": "stream",
     "text": [
      "Woof\n",
      "Meow\n"
     ]
    }
   ],
   "source": [
    "class Animal:\n",
    "    def sound(self):\n",
    "        raise NotImplementedError(\"Subclass must implement abstract method\")\n",
    "\n",
    "class Dog(Animal):\n",
    "    def sound(self):\n",
    "        return \"Woof\"\n",
    "\n",
    "class Cat(Animal):\n",
    "    def sound(self):\n",
    "        return \"Meow\"\n",
    "\n",
    "def make_sound(animal: Animal):\n",
    "    print(animal.sound())\n",
    "\n",
    "dog = Dog()\n",
    "cat = Cat()\n",
    "make_sound(dog) \n",
    "make_sound(cat)  "
   ]
  },
  {
   "cell_type": "markdown",
   "id": "fc029af9",
   "metadata": {},
   "source": [
    "#### 4) Duck Typing:\n",
    "\n",
    "#### A form of polymorphism where the type or class of an object is determined by the methods and properties that the object supports rather than the actual inheritance hierarchy. The name comes from the saying \"If it looks like a duck, swims like a duck, and quacks like a duck, then it probably is a duck\"."
   ]
  },
  {
   "cell_type": "code",
   "execution_count": 381,
   "id": "d6a27236",
   "metadata": {},
   "outputs": [
    {
     "name": "stdout",
     "output_type": "stream",
     "text": [
      "Bird is flying\n",
      "Airplane is flying\n"
     ]
    }
   ],
   "source": [
    "class Bird:\n",
    "    def fly(self):\n",
    "        print(\"Bird is flying\")\n",
    "\n",
    "class Airplane:\n",
    "    def fly(self):\n",
    "        print(\"Airplane is flying\")\n",
    "\n",
    "def perform_fly(obj):\n",
    "    obj.fly()\n",
    "\n",
    "bird = Bird()\n",
    "airplane = Airplane()\n",
    "\n",
    "perform_fly(bird)     \n",
    "perform_fly(airplane)  "
   ]
  },
  {
   "cell_type": "markdown",
   "id": "ce553d11",
   "metadata": {},
   "source": [
    "#### 6) Abstraction:\n",
    "\n",
    "#### The process of simplifying complex systems by focusing on the essential characteristics while hiding unnecessary details.\n",
    "#### Achieved through the use of abstract classes and interfaces, which define the structure and behavior of classes without implementing the details.\n",
    "#### Encourages modularity and separation of concerns by providing a clear and concise interface for interacting with objects.\n",
    "\n",
    "#### Abstraction in Python is a fundamental concept in object-oriented programming (OOP) that involves hiding the internal implementation details of a function, class, or object and exposing only the necessary and relevant features. This helps in reducing complexity and allows the programmer to focus on interactions at a higher level, rather than the intricacies of implementation.\n",
    "\n",
    "#### Key Points of Abstraction:\n",
    "\n",
    "#### Hiding Complexity:\n",
    "#### Abstraction allows the user to interact with complex systems through simple interfaces, without needing to understand the underlying implementation.\n",
    "\n",
    "#### Enhancing Code Reusability and Maintainability:\n",
    "#### By exposing only necessary parts of the code and hiding implementation details, abstraction makes the code more modular and easier to maintain.\n",
    "\n",
    "#### Encouraging Separation of Concerns:\n",
    "#### Different parts of the code can focus on different concerns, promoting better organization and clarity.\n",
    "\n",
    "#### Abstract Classes: Provide a template for subclasses to follow, ensuring a common interface.\n",
    "#### Encapsulation: Hides internal state and behavior, exposing only what is necessary.\n",
    "#### Interface Abstraction (Protocol Classes): Define methods that must be implemented by subclasses without any implementation details.\n",
    "#### Module-Level Abstraction: Use modules to encapsulate functionality and hide implementation details from users."
   ]
  },
  {
   "cell_type": "markdown",
   "id": "b3511e5b",
   "metadata": {},
   "source": [
    "#### 1) Abstract Classes:\n",
    "\n",
    "#### Definition: Classes that cannot be instantiated and are designed to be subclassed. They may contain abstract methods, which are methods declared without any implementation.\n",
    "#### Purpose: To provide a common interface for a set of subclasses.\n",
    "#### Implementation: Using the abc module in Python."
   ]
  },
  {
   "cell_type": "code",
   "execution_count": 382,
   "id": "e166ec21",
   "metadata": {},
   "outputs": [
    {
     "name": "stdout",
     "output_type": "stream",
     "text": [
      "Woof\n",
      "Meow\n"
     ]
    }
   ],
   "source": [
    "from abc import ABC, abstractmethod\n",
    "\n",
    "class Animal(ABC):\n",
    "    @abstractmethod\n",
    "    def sound(self):\n",
    "        pass\n",
    "\n",
    "class Dog(Animal):\n",
    "    def sound(self):\n",
    "        return \"Woof\"\n",
    "\n",
    "class Cat(Animal):\n",
    "    def sound(self):\n",
    "        return \"Meow\"\n",
    "\n",
    "# animal = Animal()  # Raises TypeError: Can't instantiate abstract class Animal with abstract methods sound\n",
    "dog = Dog()\n",
    "cat = Cat()\n",
    "print(dog.sound())  \n",
    "print(cat.sound())  "
   ]
  },
  {
   "cell_type": "markdown",
   "id": "e98f396e",
   "metadata": {},
   "source": [
    "#### 2) Encapsulation:\n",
    "\n",
    "#### Definition: The bundling of data and methods that operate on the data within one unit, typically a class, and restricting access to some of the object's components.\n",
    "#### Purpose: To prevent direct access to some of the object's components and thereby maintain control over the state and behavior of the object.\n",
    "#### Implementation: Using private and protected attributes."
   ]
  },
  {
   "cell_type": "code",
   "execution_count": 383,
   "id": "2e124ed6",
   "metadata": {},
   "outputs": [
    {
     "name": "stdout",
     "output_type": "stream",
     "text": [
      "2021 Toyota Corolla\n"
     ]
    }
   ],
   "source": [
    "class Car:\n",
    "    def __init__(self, make, model, year):\n",
    "        self.__make = make   # Private attribute\n",
    "        self.__model = model # Private attribute\n",
    "        self.__year = year   # Private attribute\n",
    "\n",
    "    def get_details(self):\n",
    "        return f\"{self.__year} {self.__make} {self.__model}\"\n",
    "\n",
    "my_car = Car(\"Toyota\", \"Corolla\", 2021)\n",
    "print(my_car.get_details())  "
   ]
  },
  {
   "cell_type": "markdown",
   "id": "b0639df5",
   "metadata": {},
   "source": [
    "#### 3) Interface Abstraction (Protocol Classes):\n",
    "\n",
    "#### Definition: Similar to abstract classes, but focuses on specifying methods that must be implemented by subclasses without providing any implementation details.\n",
    "#### Purpose: To define a contract that other classes must follow.\n",
    "#### Implementation: Using abstract base classes (ABCs) or protocols."
   ]
  },
  {
   "cell_type": "code",
   "execution_count": 384,
   "id": "db361683",
   "metadata": {},
   "outputs": [
    {
     "name": "stdout",
     "output_type": "stream",
     "text": [
      "Drawing a circle\n",
      "Drawing a square\n"
     ]
    }
   ],
   "source": [
    "from abc import ABC, abstractmethod\n",
    "\n",
    "class Drawable(ABC):\n",
    "    @abstractmethod\n",
    "    def draw(self):\n",
    "        pass\n",
    "\n",
    "class Circle(Drawable):\n",
    "    def draw(self):\n",
    "        print(\"Drawing a circle\")\n",
    "\n",
    "class Square(Drawable):\n",
    "    def draw(self):\n",
    "        print(\"Drawing a square\")\n",
    "\n",
    "shapes = [Circle(), Square()]\n",
    "for shape in shapes:\n",
    "    shape.draw()"
   ]
  },
  {
   "cell_type": "markdown",
   "id": "e346efbd",
   "metadata": {},
   "source": [
    "#### 4) Module-Level Abstraction:\n",
    "\n",
    "#### Definition: Using modules to abstract and encapsulate functionality, hiding implementation details from the users of the module.\n",
    "#### Purpose: To provide a clean interface for interacting with code and to promote code reuse and organization.\n",
    "#### Implementation: Organizing functions and classes into separate modules and using import statements."
   ]
  },
  {
   "cell_type": "code",
   "execution_count": 385,
   "id": "64df049b",
   "metadata": {},
   "outputs": [],
   "source": [
    "# my_module.py\n",
    "# def public_function():\n",
    "#     print(\"This is a public function\")\n",
    "\n",
    "# def _private_function():\n",
    " #   print(\"This is a private function\")\n",
    "\n",
    "# main.py\n",
    "# import my_module\n",
    "\n",
    "# my_module.public_function() "
   ]
  },
  {
   "cell_type": "markdown",
   "id": "3ec181df",
   "metadata": {},
   "source": [
    "#### 7) Variables\n",
    "\n",
    "#### In object-oriented programming (OOP) in Python, variables are categorized based on their scope and the way they are used within classes and objects. Here are the main types of variables in OOP in Python:\n",
    "\n",
    "#### Instance Variables: Defined in methods and unique to each instance.\n",
    "#### Class Variables: Defined in the class but outside methods, shared by all instances.\n",
    "#### Static Variables: Similar to class variables, often associated with @staticmethod methods.\n",
    "#### Local Variables: Defined within methods, with scope limited to those methods.\n",
    "\n",
    "#### 1) Instance Variables:\n",
    "\n",
    "#### Definition: Variables that are defined within methods (usually __init__) and are unique to each instance of a class.\n",
    "#### Scope: Specific to each object created from the class.\n",
    "#### Access: Accessed using self, they can be used and modified independently by each instance of the class."
   ]
  },
  {
   "cell_type": "code",
   "execution_count": 386,
   "id": "42cb3d13",
   "metadata": {},
   "outputs": [
    {
     "name": "stdout",
     "output_type": "stream",
     "text": [
      "Buddy is 3 years old.\n",
      "Lucy is 5 years old.\n"
     ]
    }
   ],
   "source": [
    "class Dog:\n",
    "    def __init__(self, name, age):\n",
    "        self.name = name  # Instance variable\n",
    "        self.age = age    # Instance variable\n",
    "\n",
    "    def get_info(self):\n",
    "        return f\"{self.name} is {self.age} years old.\"\n",
    "\n",
    "dog1 = Dog(\"Buddy\", 3)\n",
    "dog2 = Dog(\"Lucy\", 5)\n",
    "\n",
    "print(dog1.get_info()) \n",
    "print(dog2.get_info())  "
   ]
  },
  {
   "cell_type": "markdown",
   "id": "dfc72dfa",
   "metadata": {},
   "source": [
    "#### 2) Class Variables:\n",
    "\n",
    "#### Definition: Variables that are defined within a class but outside any methods. They are shared among all instances of the class.\n",
    "#### Scope: Shared by all instances of the class.\n",
    "#### Access: Accessed using the class name or self."
   ]
  },
  {
   "cell_type": "code",
   "execution_count": 387,
   "id": "dbb8edda",
   "metadata": {},
   "outputs": [
    {
     "name": "stdout",
     "output_type": "stream",
     "text": [
      "Buddy is 3 years old and belongs to species Canis familiaris.\n",
      "Lucy is 5 years old and belongs to species Canis familiaris.\n"
     ]
    }
   ],
   "source": [
    "class Dog:\n",
    "    species = \"Canis familiaris\"  # Class variable\n",
    "\n",
    "    def __init__(self, name, age):\n",
    "        self.name = name\n",
    "        self.age = age\n",
    "\n",
    "    def get_info(self):\n",
    "        return f\"{self.name} is {self.age} years old and belongs to species {Dog.species}.\"\n",
    "\n",
    "dog1 = Dog(\"Buddy\", 3)\n",
    "dog2 = Dog(\"Lucy\", 5)\n",
    "\n",
    "print(dog1.get_info())  \n",
    "print(dog2.get_info())  "
   ]
  },
  {
   "cell_type": "markdown",
   "id": "65807202",
   "metadata": {},
   "source": [
    "#### 3) Static Variables (or Static Fields):\n",
    "\n",
    "#### Definition: Variables that are shared across all instances of a class, similar to class variables, but often emphasized with the @staticmethod decorator for methods.\n",
    "#### Scope: Shared by all instances of the class.\n",
    "#### Access: Accessed using the class name or self."
   ]
  },
  {
   "cell_type": "code",
   "execution_count": 388,
   "id": "edd5b50c",
   "metadata": {},
   "outputs": [
    {
     "name": "stdout",
     "output_type": "stream",
     "text": [
      "Canis familiaris\n"
     ]
    }
   ],
   "source": [
    "class Dog:\n",
    "    species = \"Canis familiaris\"  # Static variable\n",
    "\n",
    "    def __init__(self, name, age):\n",
    "        self.name = name\n",
    "        self.age = age\n",
    "\n",
    "    @staticmethod\n",
    "    def get_species():\n",
    "        return Dog.species\n",
    "\n",
    "dog1 = Dog(\"Buddy\", 3)\n",
    "dog2 = Dog(\"Lucy\", 5)\n",
    "\n",
    "print(Dog.get_species())  "
   ]
  },
  {
   "cell_type": "markdown",
   "id": "f94146b5",
   "metadata": {},
   "source": [
    "#### 4) Local Variables:\n",
    "\n",
    "#### Definition: Variables that are defined within a method and their scope is limited to that method.\n",
    "#### Scope: Local to the method where they are defined.\n",
    "#### Access: Cannot be accessed outside the method."
   ]
  },
  {
   "cell_type": "code",
   "execution_count": 389,
   "id": "f8dfff9b",
   "metadata": {},
   "outputs": [
    {
     "name": "stdout",
     "output_type": "stream",
     "text": [
      "Buddy is 3 years old.\n"
     ]
    }
   ],
   "source": [
    "class Dog:\n",
    "    def __init__(self, name, age):\n",
    "        self.name = name\n",
    "        self.age = age\n",
    "\n",
    "    def get_info(self):\n",
    "        info = f\"{self.name} is {self.age} years old.\"  # Local variable\n",
    "        return info\n",
    "\n",
    "dog = Dog(\"Buddy\", 3)\n",
    "print(dog.get_info())  "
   ]
  },
  {
   "cell_type": "markdown",
   "id": "983c83f0",
   "metadata": {},
   "source": [
    "#### 8) Methods\n",
    "\n",
    "#### In object-oriented programming (OOP) in Python, methods can be categorized based on how they are defined and used within classes. Here are the main types of methods in Python:\n",
    "\n",
    "#### Instance Methods: Operate on instances of the class. Use self to access instance attributes and other methods.\n",
    "#### Class Methods: Operate on the class itself. Use cls to access class attributes and methods. Decorated with @classmethod.\n",
    "#### Static Methods: Utility functions that do not modify class or instance state. Do not use self or cls. Decorated with @staticmethod.\n",
    "#### Magic Methods (Dunder Methods): Special methods with double underscores used to override default behavior of operators and built-in functions.\n",
    "\n",
    "#### 1) Instance Methods:\n",
    "\n",
    "#### Definition: Methods that operate on an instance of the class and can access and modify the instance's attributes.\n",
    "#### Access: Accessed using the self parameter.\n",
    "#### Purpose: Used to perform operations that involve the instance's data."
   ]
  },
  {
   "cell_type": "code",
   "execution_count": 390,
   "id": "f69bf5d7",
   "metadata": {},
   "outputs": [
    {
     "name": "stdout",
     "output_type": "stream",
     "text": [
      "Buddy is 3 years old.\n",
      "Buddy says Woof\n"
     ]
    }
   ],
   "source": [
    "class Dog:\n",
    "    def __init__(self, name, age):\n",
    "        self.name = name\n",
    "        self.age = age\n",
    "\n",
    "    def description(self):\n",
    "        return f\"{self.name} is {self.age} years old.\"\n",
    "\n",
    "    def speak(self, sound):\n",
    "        return f\"{self.name} says {sound}\"\n",
    "\n",
    "dog = Dog(\"Buddy\", 3)\n",
    "print(dog.description())  \n",
    "print(dog.speak(\"Woof\"))  "
   ]
  },
  {
   "cell_type": "markdown",
   "id": "5a39f799",
   "metadata": {},
   "source": [
    "#### 2) Class Methods:\n",
    "\n",
    "#### Definition: Methods that are bound to the class and not the instance. They can modify a class's state that applies across all instances.\n",
    "#### Access: Accessed using the cls parameter.\n",
    "#### Purpose: Used for operations that affect the class as a whole, rather than individual instances.\n",
    "#### Decorator: @classmethod."
   ]
  },
  {
   "cell_type": "code",
   "execution_count": 391,
   "id": "4b4a7c40",
   "metadata": {},
   "outputs": [
    {
     "name": "stdout",
     "output_type": "stream",
     "text": [
      "Canis lupus\n"
     ]
    }
   ],
   "source": [
    "class Dog:\n",
    "    species = \"Canis familiaris\"\n",
    "\n",
    "    def __init__(self, name, age):\n",
    "        self.name = name\n",
    "        self.age = age\n",
    "\n",
    "    @classmethod\n",
    "    def change_species(cls, new_species):\n",
    "        cls.species = new_species\n",
    "\n",
    "    @classmethod\n",
    "    def get_species(cls):\n",
    "        return cls.species\n",
    "\n",
    "Dog.change_species(\"Canis lupus\")\n",
    "print(Dog.get_species()) "
   ]
  },
  {
   "cell_type": "markdown",
   "id": "39899693",
   "metadata": {},
   "source": [
    "#### 3) Static Methods:\n",
    "\n",
    "#### Definition: Methods that do not modify object or class state. They are not bound to either the class or instances, and do not access or modify class or instance attributes.\n",
    "#### Access: Do not use self or cls parameters.\n",
    "#### Purpose: Used for utility functions that perform a task in isolation.\n",
    "#### Decorator: @staticmethod."
   ]
  },
  {
   "cell_type": "code",
   "execution_count": 392,
   "id": "70d6f01b",
   "metadata": {},
   "outputs": [
    {
     "name": "stdout",
     "output_type": "stream",
     "text": [
      "True\n",
      "False\n"
     ]
    }
   ],
   "source": [
    "class Dog:\n",
    "    def __init__(self, name, age):\n",
    "        self.name = name\n",
    "        self.age = age\n",
    "\n",
    "    @staticmethod\n",
    "    def is_puppy(age):\n",
    "        return age < 1\n",
    "\n",
    "    def description(self):\n",
    "        return f\"{self.name} is {self.age} years old.\"\n",
    "\n",
    "print(Dog.is_puppy(0.5)) \n",
    "print(Dog.is_puppy(2))    "
   ]
  },
  {
   "cell_type": "markdown",
   "id": "b303eab0",
   "metadata": {},
   "source": [
    "#### 4) Magic Methods (Dunder Methods):\n",
    "\n",
    "#### Definition: Special methods with double underscores at the beginning and end of their names. They allow instances of classes to interact with Python’s built-in operators and functions.\n",
    "#### Purpose: Used to define behavior for built-in operations like addition, subtraction, string representation, etc.\n",
    "#### Examples: __init__, __str__, __repr__, __add__, __len__."
   ]
  },
  {
   "cell_type": "code",
   "execution_count": 393,
   "id": "60441dcc",
   "metadata": {},
   "outputs": [
    {
     "name": "stdout",
     "output_type": "stream",
     "text": [
      "Buddy is 3 years old.\n",
      "8\n"
     ]
    }
   ],
   "source": [
    "class Dog:\n",
    "    def __init__(self, name, age):\n",
    "        self.name = name\n",
    "        self.age = age\n",
    "\n",
    "    def __str__(self):\n",
    "        return f\"{self.name} is {self.age} years old.\"\n",
    "\n",
    "    def __add__(self, other):\n",
    "        return self.age + other.age\n",
    "\n",
    "dog1 = Dog(\"Buddy\", 3)\n",
    "dog2 = Dog(\"Lucy\", 5)\n",
    "print(dog1)              \n",
    "print(dog1 + dog2)      "
   ]
  },
  {
   "cell_type": "markdown",
   "id": "46bdd3da",
   "metadata": {},
   "source": [
    "#### 9) Self\n",
    "\n",
    "#### In object-oriented programming (OOP) in Python, the self keyword is used as a reference to the current instance of the class. It allows access to the attributes and methods of the class in Python. Here is a detailed explanation of self:\n",
    "\n",
    "#### Definition and Purpose of self\n",
    "\n",
    "#### 1) Reference to the Instance:\n",
    "#### The self keyword is used to refer to the instance of the class from within the class definition. It is the first parameter of instance methods.\n",
    "\n",
    "#### 2) Accessing Attributes and Methods:\n",
    "#### Using self, you can access instance attributes and methods within the class. This allows you to read and modify the object's state.\n",
    "\n",
    "#### 3) Distinguishing Between Class and Instance Variables:\n",
    "#### self helps differentiate between instance variables and class variables, ensuring that you are modifying the state of the correct instance.\n",
    "\n",
    "#### Definition: self is a reference to the current instance of the class.\n",
    "#### Purpose:\n",
    "#### Access instance attributes and methods.\n",
    "#### Differentiate between class and instance variables.\n",
    "#### Allow instance methods to modify the instance state.\n",
    "#### Usage:\n",
    "#### self is the first parameter in instance methods.\n",
    "#### Used to set and access instance variables and call other instance methods.\n",
    "#### The self keyword is a fundamental part of Python's object-oriented programming, enabling instances to interact with their own attributes and methods.\n",
    "\n",
    "#### Usage of self\n",
    "\n",
    "#### 1) In Instance Methods:\n",
    "#### self must be the first parameter in instance methods to allow access to the attributes and methods of the instance."
   ]
  },
  {
   "cell_type": "code",
   "execution_count": 394,
   "id": "574f70e7",
   "metadata": {},
   "outputs": [
    {
     "name": "stdout",
     "output_type": "stream",
     "text": [
      "Buddy is 3 years old.\n",
      "Buddy says Woof\n"
     ]
    }
   ],
   "source": [
    "class Dog:\n",
    "    def __init__(self, name, age):\n",
    "        self.name = name  # Instance variable\n",
    "        self.age = age    # Instance variable\n",
    "\n",
    "    def description(self):\n",
    "        return f\"{self.name} is {self.age} years old.\"\n",
    "\n",
    "    def speak(self, sound):\n",
    "        return f\"{self.name} says {sound}\"\n",
    "\n",
    "dog = Dog(\"Buddy\", 3)\n",
    "print(dog.description())  \n",
    "print(dog.speak(\"Woof\"))  "
   ]
  },
  {
   "cell_type": "markdown",
   "id": "6c377fca",
   "metadata": {},
   "source": [
    "#### 2) Setting Attributes:\n",
    "#### In the __init__ method, self is used to initialize the instance variables."
   ]
  },
  {
   "cell_type": "code",
   "execution_count": 395,
   "id": "aec399cf",
   "metadata": {},
   "outputs": [],
   "source": [
    "class Dog:\n",
    "    def __init__(self, name, age):\n",
    "        self.name = name\n",
    "        self.age = age"
   ]
  },
  {
   "cell_type": "markdown",
   "id": "b010dd5c",
   "metadata": {},
   "source": [
    "#### 3) Calling Other Methods:\n",
    "#### self is used to call other methods from within an instance method"
   ]
  },
  {
   "cell_type": "code",
   "execution_count": 396,
   "id": "3775fbbe",
   "metadata": {},
   "outputs": [
    {
     "name": "stdout",
     "output_type": "stream",
     "text": [
      "Happy birthday, Buddy! You are now 4 years old.\n"
     ]
    }
   ],
   "source": [
    "class Dog:\n",
    "    def __init__(self, name, age):\n",
    "        self.name = name\n",
    "        self.age = age\n",
    "\n",
    "    def birthday(self):\n",
    "        self.age += 1  # Modify instance variable\n",
    "\n",
    "    def get_age(self):\n",
    "        return self.age\n",
    "\n",
    "    def celebrate_birthday(self):\n",
    "        self.birthday()  # Call another method using self\n",
    "        return f\"Happy birthday, {self.name}! You are now {self.age} years old.\"\n",
    "\n",
    "dog = Dog(\"Buddy\", 3)\n",
    "print(dog.celebrate_birthday())  "
   ]
  },
  {
   "cell_type": "markdown",
   "id": "accede09",
   "metadata": {},
   "source": [
    "#### 10) Constructor\n",
    "\n",
    "#### In object-oriented programming (OOP) in Python, a constructor is a special method that is automatically called when a new instance of a class is created. The primary purpose of a constructor is to initialize the attributes of the class.\n",
    "\n",
    "#### Definition and Purpose of a Constructor\n",
    "\n",
    "#### 1) Initialization of Objects:\n",
    "\n",
    "#### The constructor initializes the newly created object by setting up its initial state. It assigns values to the instance variables of the class.\n",
    "\n",
    "#### 2) Special Method:\n",
    "\n",
    "#### In Python, the constructor method is defined using the __init__ method. This method is called immediately after an instance of the class is created.\n",
    "\n",
    "#### Syntax of a Constructor\n",
    "#### The constructor method in Python is defined with the following syntax:"
   ]
  },
  {
   "cell_type": "code",
   "execution_count": 397,
   "id": "9c2d2c6e",
   "metadata": {},
   "outputs": [],
   "source": [
    "class ClassName:\n",
    "    def __init__(self, parameters):\n",
    "        # Initialization code\n",
    "        self.attribute = value"
   ]
  },
  {
   "cell_type": "markdown",
   "id": "7e6d67af",
   "metadata": {},
   "source": [
    "#### 1) Automatic Invocation:\n",
    "#### The __init__ method is automatically invoked when a new instance of the class is created using the class name.\n",
    "\n",
    "#### 2) Initialization Code:\n",
    "#### The __init__ method typically contains code to initialize the instance variables and any other setup required for the object.\n",
    "\n",
    "#### 3) Self Parameter:\n",
    "#### The self parameter in the __init__ method refers to the instance being created and allows access to the instance variables and methods.\n",
    "\n",
    "#### 4) Optional Parameters:\n",
    "#### The constructor can accept parameters to initialize the instance variables with specific values.\n",
    "\n",
    "#### Definition: A constructor in Python is a special method named __init__ that initializes a newly created object's attributes.\n",
    "#### Purpose: To set up the initial state of the object by assigning values to its instance variables.\n",
    "#### Automatic Call: The constructor is automatically called when an instance of the class is created.\n",
    "#### Self Parameter: The self parameter refers to the instance being created and is used to access the instance variables and methods.\n",
    "\n",
    "#### Constructors are a fundamental aspect of object-oriented programming in Python, providing a way to ensure that objects are properly initialized when they are created."
   ]
  },
  {
   "cell_type": "code",
   "execution_count": 398,
   "id": "7a9000f2",
   "metadata": {},
   "outputs": [
    {
     "name": "stdout",
     "output_type": "stream",
     "text": [
      "Buddy is 3 years old.\n",
      "Lucy is 5 years old.\n"
     ]
    }
   ],
   "source": [
    "class Dog:\n",
    "    def __init__(self, name, age):\n",
    "        self.name = name  # Instance variable\n",
    "        self.age = age    # Instance variable\n",
    "\n",
    "    def description(self):\n",
    "        return f\"{self.name} is {self.age} years old.\"\n",
    "\n",
    "# Creating instances of the Dog class\n",
    "dog1 = Dog(\"Buddy\", 3)\n",
    "dog2 = Dog(\"Lucy\", 5)\n",
    "\n",
    "# Accessing the description method\n",
    "print(dog1.description())  \n",
    "print(dog2.description())  "
   ]
  },
  {
   "cell_type": "markdown",
   "id": "73c70de9",
   "metadata": {},
   "source": [
    "#### 11) NameSpace\n",
    "\n",
    "#### In Python, a namespace is a system that ensures that all names in a program are unique and can be used without any conflict. A namespace is essentially a mapping from names (identifiers) to objects.\n",
    "\n",
    "#### Definition and Purpose of a Namespace\n",
    "#### Definition:\n",
    "#### A namespace is a container where names are mapped to objects. It is like a dictionary where the keys are the names and the values are the objects.\n",
    "\n",
    "#### Purpose:\n",
    "#### Namespaces are used to avoid naming conflicts by organizing the names in different containers. This allows the same name to be used in different namespaces without ambiguity.\n",
    "\n",
    "#### Types of Namespaces\n",
    "#### Python has several types of namespaces that are used at different times and levels of the program. These include:\n",
    "\n",
    "#### 1) Built-in Namespace:\n",
    "#### Contains the names of all built-in functions and objects. This namespace is created when the Python interpreter starts and remains in existence until it ends.\n",
    "#### Examples: print, len, int, str"
   ]
  },
  {
   "cell_type": "code",
   "execution_count": 399,
   "id": "b584817d",
   "metadata": {},
   "outputs": [
    {
     "name": "stdout",
     "output_type": "stream",
     "text": [
      "13\n"
     ]
    }
   ],
   "source": [
    "print(len(\"Hello, World!\"))  # Using built-in functions"
   ]
  },
  {
   "cell_type": "markdown",
   "id": "abe19422",
   "metadata": {},
   "source": [
    "#### 2) Global Namespace:\n",
    "#### Contains names defined at the top level of a script or module, or declared as global within a function.\n",
    "#### Created when a module is imported and lasts until the script or interpreter terminates."
   ]
  },
  {
   "cell_type": "code",
   "execution_count": 400,
   "id": "df27a381",
   "metadata": {},
   "outputs": [
    {
     "name": "stdout",
     "output_type": "stream",
     "text": [
      "I am a global variable\n"
     ]
    }
   ],
   "source": [
    "global_var = \"I am a global variable\"\n",
    "\n",
    "def foo():\n",
    "    print(global_var)  # Accessing a global variable\n",
    "\n",
    "foo()"
   ]
  },
  {
   "cell_type": "markdown",
   "id": "03dd37b8",
   "metadata": {},
   "source": [
    "#### 3) Local Namespace:\n",
    "#### Contains names defined inside a function. This namespace is created when the function is called and destroyed when the function returns.\n",
    "#### It includes local variables and parameters of the function."
   ]
  },
  {
   "cell_type": "code",
   "execution_count": 401,
   "id": "47ca0b60",
   "metadata": {},
   "outputs": [
    {
     "name": "stdout",
     "output_type": "stream",
     "text": [
      "I am a local variable\n"
     ]
    }
   ],
   "source": [
    "def foo():\n",
    "    local_var = \"I am a local variable\"\n",
    "    print(local_var)\n",
    "\n",
    "foo()\n",
    "# print(local_var)  # Raises NameError: name 'local_var' is not defined"
   ]
  },
  {
   "cell_type": "markdown",
   "id": "a84d9abd",
   "metadata": {},
   "source": [
    "#### 4) Enclosing Namespace:\n",
    "\n",
    "#### This is applicable in nested functions. The namespace of the enclosing function is called the enclosing namespace.\n",
    "#### It’s created when the outer function is called and remains until the outer function returns."
   ]
  },
  {
   "cell_type": "code",
   "execution_count": 402,
   "id": "9ca6177d",
   "metadata": {},
   "outputs": [
    {
     "name": "stdout",
     "output_type": "stream",
     "text": [
      "I am an outer variable\n"
     ]
    }
   ],
   "source": [
    "def outer_function():\n",
    "    outer_var = \"I am an outer variable\"\n",
    "\n",
    "    def inner_function():\n",
    "        print(outer_var)  # Accessing a variable from the enclosing namespace\n",
    "\n",
    "    inner_function()\n",
    "\n",
    "outer_function()"
   ]
  },
  {
   "cell_type": "markdown",
   "id": "4ea47823",
   "metadata": {},
   "source": [
    "#### Scope of Namespaces\n",
    "#### Namespaces have a scope that defines the region of the code where a namespace is directly accessible:\n",
    "\n",
    "#### Local Scope:\n",
    "#### Refers to the local namespace inside a function. Variables declared here are local to the function.\n",
    "\n",
    "#### Enclosing Scope:\n",
    "#### Refers to the namespace of enclosing functions, applicable only in nested functions.\n",
    "\n",
    "#### Global Scope:\n",
    "#### Refers to the namespace of the module or script being run. Variables declared at this level are global.\n",
    "\n",
    "#### Built-in Scope:\n",
    "#### Refers to the built-in namespace that contains all Python’s built-in functions and names.\n",
    "\n",
    "#### Definition: A namespace in Python is a container that holds a mapping of names to objects, ensuring unique identification of each name.\n",
    "#### Purpose: To organize and manage names to avoid conflicts and ambiguities.\n",
    "\n",
    "#### Types:\n",
    "\n",
    "#### 1) Built-in Namespace: Contains built-in functions and objects.\n",
    "#### 2) Global Namespace: Contains names at the top level of a script or module.\n",
    "#### 3) Local Namespace: Contains names within a function.\n",
    "#### 4) Enclosing Namespace: Contains names in enclosing functions in nested functions.\n",
    "\n",
    "#### Scope:\n",
    "\n",
    "#### 1) Local Scope: Inside a function.\n",
    "#### 2) Enclosing Scope: In nested functions.\n",
    "#### 3) Global Scope: At the module or script level.\n",
    "#### 4) Built-in Scope: Python’s built-in names.\n",
    "\n",
    "#### Namespaces in Python help in managing the scope and lifetime of variables, allowing for organized and conflict-free coding."
   ]
  },
  {
   "cell_type": "code",
   "execution_count": 403,
   "id": "cac84ccb",
   "metadata": {},
   "outputs": [
    {
     "name": "stdout",
     "output_type": "stream",
     "text": [
      "Inner\n",
      "Outer\n",
      "Global\n"
     ]
    }
   ],
   "source": [
    "# Global namespace\n",
    "global_var = \"Global\"\n",
    "\n",
    "def outer_function():\n",
    "    # Enclosing namespace\n",
    "    outer_var = \"Outer\"\n",
    "\n",
    "    def inner_function():\n",
    "        # Local namespace\n",
    "        inner_var = \"Inner\"\n",
    "        print(inner_var)    # Accessing local variable\n",
    "        print(outer_var)    # Accessing enclosing variable\n",
    "        print(global_var)   # Accessing global variable\n",
    "\n",
    "    inner_function()\n",
    "\n",
    "outer_function()"
   ]
  },
  {
   "cell_type": "markdown",
   "id": "8626ff0d",
   "metadata": {},
   "source": [
    "#### 12) Interface\n",
    "\n",
    "#### In Python, an interface is a concept from object-oriented programming that defines a contract of methods that a class must implement. Unlike some other programming languages, Python does not have built-in support for interfaces as a distinct language feature. However, interfaces can be implemented using abstract base classes (ABCs) provided by the abc module in the standard library.\n",
    "\n",
    "#### Definition and Purpose of Interfaces\n",
    "\n",
    "#### Definition:\n",
    "#### An interface in Python is typically represented by an abstract base class (ABC) that includes one or more abstract methods. An abstract method is a method that is declared, but contains no implementation. Classes that derive from the interface are expected to implement all the abstract methods.\n",
    "\n",
    "#### Purpose:\n",
    "#### Interfaces ensure that derived classes implement specific methods, enabling a form of contract programming. They are used to define a common API for a set of classes, promoting consistency and interchangeability.\n",
    "\n",
    "#### Creating an Interface Using Abstract Base Classes\n",
    "#### To create an interface in Python, follow these steps:\n",
    "\n",
    "#### 1) Import the abc Module:\n",
    "#### Import the ABC and abstractmethod decorators from the abc module.\n",
    "#### 2) Define an Abstract Base Class:\n",
    "#### Create a class that inherits from ABC and includes one or more methods decorated with @abstractmethod.\n",
    "#### 3) Implement the Interface:\n",
    "#### Derived classes must implement all abstract methods from the base class.\n",
    "#### Example of an Interface in Python\n",
    "#### Here's an example illustrating how to define and implement an interface using abstract base classes:"
   ]
  },
  {
   "cell_type": "code",
   "execution_count": 404,
   "id": "c01bfdc3",
   "metadata": {},
   "outputs": [
    {
     "name": "stdout",
     "output_type": "stream",
     "text": [
      "Woof\n",
      "Runs\n",
      "Meow\n",
      "Walks\n"
     ]
    }
   ],
   "source": [
    "from abc import ABC, abstractmethod\n",
    "\n",
    "# Defining an interface using an abstract base class\n",
    "class Animal(ABC):\n",
    "    @abstractmethod\n",
    "    def make_sound(self):\n",
    "        pass\n",
    "\n",
    "    @abstractmethod\n",
    "    def move(self):\n",
    "        pass\n",
    "\n",
    "# Implementing the interface in a derived class\n",
    "class Dog(Animal):\n",
    "    def make_sound(self):\n",
    "        return \"Woof\"\n",
    "\n",
    "    def move(self):\n",
    "        return \"Runs\"\n",
    "\n",
    "# Implementing the interface in another derived class\n",
    "class Cat(Animal):\n",
    "    def make_sound(self):\n",
    "        return \"Meow\"\n",
    "\n",
    "    def move(self):\n",
    "        return \"Walks\"\n",
    "\n",
    "# Creating instances of the derived classes\n",
    "dog = Dog()\n",
    "cat = Cat()\n",
    "\n",
    "print(dog.make_sound())  \n",
    "print(dog.move())        \n",
    "print(cat.make_sound())  \n",
    "print(cat.move())        "
   ]
  },
  {
   "cell_type": "markdown",
   "id": "a7d6eabb",
   "metadata": {},
   "source": [
    "#### Key Points about Interfaces\n",
    "\n",
    "#### 1) Abstract Base Class (ABC):\n",
    "#### An abstract base class is a class that cannot be instantiated and serves as a blueprint for other classes.\n",
    "\n",
    "#### 2) Abstract Methods:\n",
    "#### Abstract methods are methods declared in the ABC using the @abstractmethod decorator. They do not have an implementation and must be overridden in derived classes.\n",
    "\n",
    "#### 3) Enforcing Method Implementation:\n",
    "#### By defining an interface, you ensure that all derived classes implement the specified methods, thereby enforcing a consistent interface across different classes.\n",
    "\n",
    "#### 4) Polymorphism:\n",
    "#### Interfaces promote polymorphism by allowing different classes to be treated as instances of the abstract base class, as long as they implement the required methods.\n",
    "\n",
    "#### Definition: An interface in Python is represented by an abstract base class (ABC) with abstract methods that derived classes must implement.\n",
    "\n",
    "#### Purpose: To define a contract of methods that ensure consistency and enforce method implementation across derived classes.\n",
    "\n",
    "#### Implementation:\n",
    "#### Use the abc module to create an abstract base class.\n",
    "#### Define abstract methods with the @abstractmethod decorator.\n",
    "#### Derived classes must implement all abstract methods.\n",
    "\n",
    "#### Benefits:\n",
    "#### Enforces a consistent API.\n",
    "#### Promotes code reusability and polymorphism.\n",
    "#### Ensures that derived classes meet specific method requirements.\n",
    "#### Using abstract base classes to define interfaces allows Python developers to create structured and maintainable code, ensuring that certain methods are consistently implemented across multiple classes."
   ]
  },
  {
   "cell_type": "markdown",
   "id": "0c983181",
   "metadata": {},
   "source": [
    "#### Standard Interfaces: Defined by the Python standard library, such as Iterable, Sequence, Mapping, etc.\n",
    "#### Custom Interfaces: User-defined abstract base classes that specify a set of methods to be implemented by subclasses.\n",
    "#### Mixin Interfaces: Provide additional functionality to be added to other classes."
   ]
  },
  {
   "cell_type": "markdown",
   "id": "2abc4414",
   "metadata": {},
   "source": [
    "#### 1) Standard Interfaces:\n",
    "\n",
    "#### These are common interfaces defined by the Python standard library. They are abstract base classes that define a standard way of interacting with objects.\n",
    "#### Examples:\n",
    "#### Iterable Interface: Requires the implementation of the __iter__ method.\n",
    "#### Container Interface: Requires the implementation of the __contains__ method.\n",
    "#### Sequence Interface: Requires the implementation of methods like __getitem__, __len__, etc."
   ]
  },
  {
   "cell_type": "code",
   "execution_count": 405,
   "id": "bd867295",
   "metadata": {},
   "outputs": [
    {
     "name": "stdout",
     "output_type": "stream",
     "text": [
      "1\n",
      "2\n",
      "3\n"
     ]
    }
   ],
   "source": [
    "from collections.abc import Iterable\n",
    "\n",
    "class MyIterable(Iterable):\n",
    "    def __iter__(self):\n",
    "        yield 1\n",
    "        yield 2\n",
    "        yield 3\n",
    "\n",
    "for item in MyIterable():\n",
    "    print(item)  "
   ]
  },
  {
   "cell_type": "markdown",
   "id": "fc000c74",
   "metadata": {},
   "source": [
    "#### 2) Custom Interfaces:\n",
    "\n",
    "#### These are user-defined abstract base classes that serve as interfaces for specific application needs. They allow developers to define their own set of abstract methods that must be implemented by subclasses."
   ]
  },
  {
   "cell_type": "code",
   "execution_count": 406,
   "id": "5c5ed834",
   "metadata": {},
   "outputs": [
    {
     "name": "stdout",
     "output_type": "stream",
     "text": [
      "Woof\n"
     ]
    }
   ],
   "source": [
    "from abc import ABC, abstractmethod\n",
    "\n",
    "class Animal(ABC):\n",
    "    @abstractmethod\n",
    "    def make_sound(self):\n",
    "        pass\n",
    "\n",
    "class Dog(Animal):\n",
    "    def make_sound(self):\n",
    "        return \"Woof\"\n",
    "\n",
    "dog = Dog()\n",
    "print(dog.make_sound())  "
   ]
  },
  {
   "cell_type": "markdown",
   "id": "ba50d322",
   "metadata": {},
   "source": [
    "#### 3) Mixin Interfaces:\n",
    "\n",
    "#### These interfaces provide additional functionality that can be \"mixed in\" to other classes. They typically contain methods that enhance the capabilities of the classes they are mixed into without serving as standalone classes."
   ]
  },
  {
   "cell_type": "code",
   "execution_count": 407,
   "id": "1abdf816",
   "metadata": {},
   "outputs": [
    {
     "name": "stdout",
     "output_type": "stream",
     "text": [
      "Hello, World!\n"
     ]
    }
   ],
   "source": [
    "class PrintableMixin:\n",
    "    def print(self):\n",
    "        print(self)\n",
    "\n",
    "class Document(PrintableMixin):\n",
    "    def __init__(self, content):\n",
    "        self.content = content\n",
    "\n",
    "    def __str__(self):\n",
    "        return self.content\n",
    "\n",
    "doc = Document(\"Hello, World!\")\n",
    "doc.print()  "
   ]
  },
  {
   "cell_type": "markdown",
   "id": "c03f9197",
   "metadata": {},
   "source": [
    "#### Here's an example of a custom sequence type that implements the collections.abc.Sequence interface:"
   ]
  },
  {
   "cell_type": "code",
   "execution_count": 408,
   "id": "36a8f864",
   "metadata": {},
   "outputs": [
    {
     "name": "stdout",
     "output_type": "stream",
     "text": [
      "1\n",
      "3\n"
     ]
    }
   ],
   "source": [
    "from collections.abc import Sequence\n",
    "\n",
    "class MyList(Sequence):\n",
    "    def __init__(self, *args):\n",
    "        self._items = list(args)\n",
    "\n",
    "    def __getitem__(self, index):\n",
    "        return self._items[index]\n",
    "\n",
    "    def __len__(self):\n",
    "        return len(self._items)\n",
    "\n",
    "my_list = MyList(1, 2, 3)\n",
    "print(my_list[0]) \n",
    "print(len(my_list))  "
   ]
  },
  {
   "cell_type": "markdown",
   "id": "b30539bb",
   "metadata": {},
   "source": [
    "### 24) Exception Handling\n",
    "\n",
    "#### Exception handling in Python is a mechanism that allows developers to handle runtime errors or exceptional conditions gracefully. Instead of letting the program crash when an error occurs, exception handling provides a way to catch and handle these errors, ensuring the program can continue or terminate gracefully.\n",
    "\n",
    "#### Key Concepts of Exception Handling\n",
    "\n",
    "#### 1) Exceptions:\n",
    "#### An exception is an event that disrupts the normal flow of the program's instructions. It is a signal that something unexpected has happened, typically an error.\n",
    "\n",
    "#### 2) Exception Handling Mechanism:\n",
    "#### Python provides a built-in way to handle exceptions using the try, except, else, and finally blocks.\n",
    "\n",
    "#### Syntax and Usage\n",
    "\n",
    "#### try block: Contains the code that might raise an exception.\n",
    "#### except block: Contains the code that runs if an exception occurs in the try block.\n",
    "#### else block: Contains the code that runs if no exceptions occur in the try block.\n",
    "#### finally block: Contains the code that runs no matter what, whether an exception occurred or not.\n",
    "\n",
    "#### Exception Handling: Mechanism to handle runtime errors or exceptional conditions in a program.\n",
    "\n",
    "#### Key Constructs:\n",
    "#### try: Block of code to test for exceptions.\n",
    "#### except: Block of code to handle the exception.\n",
    "#### else: Block of code to execute if no exceptions are raised.\n",
    "#### finally: Block of code that always executes, regardless of exceptions.\n",
    "#### Common Built-in Exceptions: ZeroDivisionError, IndexError, KeyError, TypeError, ValueError, FileNotFoundError.\n",
    "#### Custom Exceptions: Create by defining a new class inheriting from Exception.\n",
    "#### Exception handling in Python ensures that programs can handle unexpected situations gracefully and maintain robustness by managing errors and exceptional conditions effectively."
   ]
  },
  {
   "cell_type": "code",
   "execution_count": 409,
   "id": "66379f25",
   "metadata": {},
   "outputs": [
    {
     "name": "stdout",
     "output_type": "stream",
     "text": [
      "Error occurred: division by zero\n",
      "This is the finally block, and it always executes.\n"
     ]
    }
   ],
   "source": [
    "try:\n",
    "    # Trying to divide by zero\n",
    "    result = 10 / 0\n",
    "except ZeroDivisionError as e:\n",
    "    # Handling the exception\n",
    "    print(f\"Error occurred: {e}\")\n",
    "else:\n",
    "    # If no exception occurs\n",
    "    print(f\"Result is: {result}\")\n",
    "finally:\n",
    "    # This block always runs\n",
    "    print(\"This is the finally block, and it always executes.\")"
   ]
  },
  {
   "cell_type": "markdown",
   "id": "e64d8bc0",
   "metadata": {},
   "source": [
    "#### 1) SystemExit and Warning Exceptions\n",
    "#### SystemExit: Raised by the sys.exit() function.\n",
    "#### KeyboardInterrupt: Raised when the user hits the interrupt key (usually Ctrl+C or Delete).\n",
    "#### GeneratorExit: Raised when a generator's close() method is called.\n",
    "#### Exception: The base class for all built-in, non-system-exiting exceptions. All user-defined exceptions should also be derived from this class."
   ]
  },
  {
   "cell_type": "code",
   "execution_count": 410,
   "id": "79ac8e02",
   "metadata": {},
   "outputs": [
    {
     "name": "stdout",
     "output_type": "stream",
     "text": [
      "SystemExit caught: Exiting the program\n",
      "KeyboardInterrupt caught: Keyboard interrupt\n",
      "GeneratorExit caught\n"
     ]
    }
   ],
   "source": [
    "import sys\n",
    "\n",
    "try:\n",
    "    sys.exit(\"Exiting the program\")\n",
    "except SystemExit as e:\n",
    "    print(f\"SystemExit caught: {e}\")\n",
    "\n",
    "try:\n",
    "    raise KeyboardInterrupt(\"Keyboard interrupt\")\n",
    "except KeyboardInterrupt as e:\n",
    "    print(f\"KeyboardInterrupt caught: {e}\")\n",
    "\n",
    "try:\n",
    "    def generator():\n",
    "        try:\n",
    "            yield\n",
    "        except GeneratorExit:\n",
    "            print(\"GeneratorExit caught\")\n",
    "\n",
    "    g = generator()\n",
    "    next(g)\n",
    "    g.close()\n",
    "except GeneratorExit:\n",
    "    pass"
   ]
  },
  {
   "cell_type": "markdown",
   "id": "4ee2e6fe",
   "metadata": {},
   "source": [
    "#### 2) Standard Exceptions\n",
    "#### StopIteration: Raised by the next() function to indicate that there are no further items produced by the iterator.\n",
    "#### StopAsyncIteration: Raised by __anext__ method to stop the asynchronous iteration.\n",
    "#### ArithmeticError: Base class for all arithmetic exceptions.\n",
    "#### OverflowError: Raised when the result of an arithmetic operation is too large to be expressed.\n",
    "#### ZeroDivisionError: Raised when division or modulo by zero takes place for all numeric types.\n",
    "#### FloatingPointError: Raised when a floating-point operation fails."
   ]
  },
  {
   "cell_type": "code",
   "execution_count": 411,
   "id": "beaa2b7c",
   "metadata": {},
   "outputs": [
    {
     "name": "stdout",
     "output_type": "stream",
     "text": [
      "StopIteration caught: Iteration stopped\n",
      "StopAsyncIteration caught: Async iteration stopped\n",
      "OverflowError caught: Overflow error\n",
      "ZeroDivisionError caught: division by zero\n",
      "FloatingPointError caught: math range error\n"
     ]
    }
   ],
   "source": [
    "try:\n",
    "    raise StopIteration(\"Iteration stopped\")\n",
    "except StopIteration as e:\n",
    "    print(f\"StopIteration caught: {e}\")\n",
    "\n",
    "try:\n",
    "    raise StopAsyncIteration(\"Async iteration stopped\")\n",
    "except StopAsyncIteration as e:\n",
    "    print(f\"StopAsyncIteration caught: {e}\")\n",
    "\n",
    "try:\n",
    "    raise OverflowError(\"Overflow error\")\n",
    "except OverflowError as e:\n",
    "    print(f\"OverflowError caught: {e}\")\n",
    "\n",
    "try:\n",
    "    1 / 0\n",
    "except ZeroDivisionError as e:\n",
    "    print(f\"ZeroDivisionError caught: {e}\")\n",
    "\n",
    "import math\n",
    "try:\n",
    "    math.exp(1000)\n",
    "except OverflowError as e:\n",
    "    print(f\"FloatingPointError caught: {e}\")"
   ]
  },
  {
   "cell_type": "code",
   "execution_count": 412,
   "id": "a0ddaa39",
   "metadata": {},
   "outputs": [
    {
     "name": "stdout",
     "output_type": "stream",
     "text": [
      "OverflowError caught: math range error\n",
      "ZeroDivisionError caught: division by zero\n",
      "ZeroDivisionError caught: integer division or modulo by zero\n"
     ]
    }
   ],
   "source": [
    "import math\n",
    "\n",
    "# OverflowError example\n",
    "try:\n",
    "    result = math.exp(1000)\n",
    "except OverflowError as e:\n",
    "    print(f\"OverflowError caught: {e}\")\n",
    "\n",
    "# ZeroDivisionError examples\n",
    "try:\n",
    "    result = 10 / 0\n",
    "except ZeroDivisionError as e:\n",
    "    print(f\"ZeroDivisionError caught: {e}\")\n",
    "\n",
    "try:\n",
    "    result = 10 % 0\n",
    "except ZeroDivisionError as e:\n",
    "    print(f\"ZeroDivisionError caught: {e}\")\n"
   ]
  },
  {
   "cell_type": "markdown",
   "id": "bc32b4fc",
   "metadata": {},
   "source": [
    "#### 3) Assertion Error\n",
    "#### AssertionError: Raised when an assert statement fails."
   ]
  },
  {
   "cell_type": "code",
   "execution_count": 413,
   "id": "6aedbbdc",
   "metadata": {},
   "outputs": [
    {
     "name": "stdout",
     "output_type": "stream",
     "text": [
      "AssertionError caught: Assertion failed\n"
     ]
    }
   ],
   "source": [
    "try:\n",
    "    assert False, \"Assertion failed\"\n",
    "except AssertionError as e:\n",
    "    print(f\"AssertionError caught: {e}\")"
   ]
  },
  {
   "cell_type": "markdown",
   "id": "323411d8",
   "metadata": {},
   "source": [
    "#### 4) Attribute Error\n",
    "#### AttributeError: Raised when an attribute reference or assignment fails."
   ]
  },
  {
   "cell_type": "code",
   "execution_count": 414,
   "id": "1403f8e6",
   "metadata": {},
   "outputs": [
    {
     "name": "stdout",
     "output_type": "stream",
     "text": [
      "AttributeError caught: 'Test' object has no attribute 'some_method'\n"
     ]
    }
   ],
   "source": [
    "class Test:\n",
    "    pass\n",
    "\n",
    "try:\n",
    "    obj = Test()\n",
    "    obj.some_method()\n",
    "except AttributeError as e:\n",
    "    print(f\"AttributeError caught: {e}\")"
   ]
  },
  {
   "cell_type": "markdown",
   "id": "3efd2c14",
   "metadata": {},
   "source": [
    "#### 5) Buffer Error\n",
    "#### BufferError: Raised when a buffer-related operation cannot be performed."
   ]
  },
  {
   "cell_type": "code",
   "execution_count": 415,
   "id": "2bd2276c",
   "metadata": {},
   "outputs": [
    {
     "name": "stdout",
     "output_type": "stream",
     "text": [
      "BufferError caught: Buffer error\n"
     ]
    }
   ],
   "source": [
    "try:\n",
    "    raise BufferError(\"Buffer error\")\n",
    "except BufferError as e:\n",
    "    print(f\"BufferError caught: {e}\")"
   ]
  },
  {
   "cell_type": "markdown",
   "id": "53637e8d",
   "metadata": {},
   "source": [
    "#### 6) Lookup Errors\n",
    "#### LookupError: Base class for all lookup-related exceptions.\n",
    "#### IndexError: Raised when a sequence subscript is out of range.\n",
    "#### KeyError: Raised when a dictionary key is not found."
   ]
  },
  {
   "cell_type": "code",
   "execution_count": 416,
   "id": "83ef87a1",
   "metadata": {},
   "outputs": [
    {
     "name": "stdout",
     "output_type": "stream",
     "text": [
      "IndexError caught: list index out of range\n",
      "KeyError caught: 'b'\n"
     ]
    }
   ],
   "source": [
    "try:\n",
    "    lst = [1, 2, 3]\n",
    "    print(lst[10])\n",
    "except IndexError as e:\n",
    "    print(f\"IndexError caught: {e}\")\n",
    "\n",
    "try:\n",
    "    d = {\"a\": 1}\n",
    "    print(d[\"b\"])\n",
    "except KeyError as e:\n",
    "    print(f\"KeyError caught: {e}\")"
   ]
  },
  {
   "cell_type": "markdown",
   "id": "45de2bd5",
   "metadata": {},
   "source": [
    "#### 7) Import Errors\n",
    "#### ImportError: Raised when an import statement fails.\n",
    "#### ModuleNotFoundError: A subclass of ImportError that is raised when a module cannot be located."
   ]
  },
  {
   "cell_type": "code",
   "execution_count": 417,
   "id": "c61c0b1b",
   "metadata": {},
   "outputs": [
    {
     "name": "stdout",
     "output_type": "stream",
     "text": [
      "ImportError caught: No module named 'non_existent_module'\n"
     ]
    }
   ],
   "source": [
    "try:\n",
    "    import non_existent_module\n",
    "except ImportError as e:\n",
    "    print(f\"ImportError caught: {e}\")\n",
    "\n",
    "try:\n",
    "    import sys\n",
    "    sys.modules.pop('os')\n",
    "    import os\n",
    "except ModuleNotFoundError as e:\n",
    "    print(f\"ModuleNotFoundError caught: {e}\")"
   ]
  },
  {
   "cell_type": "markdown",
   "id": "2acea00f",
   "metadata": {},
   "source": [
    "#### 8) Environment Errors\n",
    "#### EnvironmentError: Base class for exceptions that occur outside the Python environment.\n",
    "#### OSError: Raised for operating system-related errors.\n",
    "#### BlockingIOError\n",
    "#### ChildProcessError\n",
    "#### ConnectionError\n",
    "#### BrokenPipeError\n",
    "#### ConnectionAbortedError\n",
    "#### ConnectionRefusedError\n",
    "#### ConnectionResetError\n",
    "#### FileExistsError\n",
    "#### FileNotFoundError\n",
    "#### InterruptedError\n",
    "#### IsADirectoryError\n",
    "#### NotADirectoryError\n",
    "#### PermissionError\n",
    "#### ProcessLookupError\n",
    "#### TimeoutError"
   ]
  },
  {
   "cell_type": "code",
   "execution_count": 418,
   "id": "72bc4674",
   "metadata": {},
   "outputs": [
    {
     "data": {
      "text/plain": [
       "'try:\\n    open(\"non_existent_file.txt\")\\nexcept FileNotFoundError as e:\\n    print(f\"FileNotFoundError caught: {e}\")\\n\\ntry:\\n    import os\\n    os.chmod(\"jd.txt\", 0o444)\\n    open(\"jd.txt\", \"w\")\\nexcept PermissionError as e:\\n    print(f\"PermissionError caught: {e}\")\\n\\ntry:\\n    import os\\n    os.remove(\"jd.txt\")\\nexcept FileNotFoundError as e:\\n    print(f\"OSError caught: {e}\")'"
      ]
     },
     "execution_count": 418,
     "metadata": {},
     "output_type": "execute_result"
    }
   ],
   "source": [
    "\"\"\"try:\n",
    "    open(\"non_existent_file.txt\")\n",
    "except FileNotFoundError as e:\n",
    "    print(f\"FileNotFoundError caught: {e}\")\n",
    "\n",
    "try:\n",
    "    import os\n",
    "    os.chmod(\"jd.txt\", 0o444)\n",
    "    open(\"jd.txt\", \"w\")\n",
    "except PermissionError as e:\n",
    "    print(f\"PermissionError caught: {e}\")\n",
    "\n",
    "try:\n",
    "    import os\n",
    "    os.remove(\"jd.txt\")\n",
    "except FileNotFoundError as e:\n",
    "    print(f\"OSError caught: {e}\")\"\"\""
   ]
  },
  {
   "cell_type": "markdown",
   "id": "086afe55",
   "metadata": {},
   "source": [
    "#### 9) EOF and Runtime Errors\n",
    "#### EOFError: Raised when the input() function hits an end-of-file condition.\n",
    "#### RuntimeError: Raised when an error is detected that doesn’t fall in any of the other categories.\n",
    "#### NotImplementedError: Raised when an abstract method that needs to be implemented in an inherited class is not implemented.\n",
    "#### RecursionError: Raised when the maximum recursion depth is exceeded."
   ]
  },
  {
   "cell_type": "code",
   "execution_count": 419,
   "id": "3f1324cb",
   "metadata": {},
   "outputs": [
    {
     "name": "stdout",
     "output_type": "stream",
     "text": [
      "Press Ctrl+D or Ctrl+Z to trigger EOFError: awsdftg\n",
      "RuntimeError caught: Runtime error\n"
     ]
    }
   ],
   "source": [
    "try:\n",
    "    input(\"Press Ctrl+D or Ctrl+Z to trigger EOFError: \")\n",
    "except EOFError as e:\n",
    "    print(f\"EOFError caught: {e}\")\n",
    "\n",
    "try:\n",
    "    raise RuntimeError(\"Runtime error\")\n",
    "except RuntimeError as e:\n",
    "    print(f\"RuntimeError caught: {e}\")"
   ]
  },
  {
   "cell_type": "markdown",
   "id": "e88647e4",
   "metadata": {},
   "source": [
    "#### 10) Name and Memory Errors\n",
    "#### NameError: Raised when a local or global name is not found.\n",
    "#### UnboundLocalError: Raised when a local variable is referenced before it has been assigned a value.\n",
    "#### MemoryError: Raised when an operation runs out of memory."
   ]
  },
  {
   "cell_type": "code",
   "execution_count": 420,
   "id": "ba01a2c7",
   "metadata": {},
   "outputs": [
    {
     "data": {
      "text/plain": [
       "'try:\\n    print(undefined_variable)\\nexcept NameError as e:\\n    print(f\"NameError caught: {e}\")\\n\\ntry:\\n    def recursive_call():\\n        return recursive_call()\\n    recursive_call()\\nexcept RecursionError as e:\\n    print(f\"RecursionError caught: {e}\")\\n\\ntry:\\n    a = []\\n    while True:\\n        a.append(\\' \\' * 10**6)  # This will eventually raise a MemoryError\\nexcept MemoryError as e:\\n    print(f\"MemoryError caught: {e}\")'"
      ]
     },
     "execution_count": 420,
     "metadata": {},
     "output_type": "execute_result"
    }
   ],
   "source": [
    "\"\"\"try:\n",
    "    print(undefined_variable)\n",
    "except NameError as e:\n",
    "    print(f\"NameError caught: {e}\")\n",
    "\n",
    "try:\n",
    "    def recursive_call():\n",
    "        return recursive_call()\n",
    "    recursive_call()\n",
    "except RecursionError as e:\n",
    "    print(f\"RecursionError caught: {e}\")\n",
    "\n",
    "try:\n",
    "    a = []\n",
    "    while True:\n",
    "        a.append(' ' * 10**6)  # This will eventually raise a MemoryError\n",
    "except MemoryError as e:\n",
    "    print(f\"MemoryError caught: {e}\")\"\"\"\n"
   ]
  },
  {
   "cell_type": "markdown",
   "id": "dda31041",
   "metadata": {},
   "source": [
    "#### 11) Type and Value Errors\n",
    "#### TypeError: Raised when an operation or function is applied to an object of inappropriate type.\n",
    "#### ValueError: Raised when a function gets an argument of the correct type but an inappropriate value.\n",
    "#### UnicodeError: Raised when a Unicode-related encoding or decoding error occurs.\n",
    "#### UnicodeDecodeError\n",
    "#### UnicodeEncodeError\n",
    "#### UnicodeTranslateError"
   ]
  },
  {
   "cell_type": "code",
   "execution_count": 421,
   "id": "659f1de5",
   "metadata": {},
   "outputs": [
    {
     "name": "stdout",
     "output_type": "stream",
     "text": [
      "TypeError caught: can only concatenate str (not \"int\") to str\n",
      "ValueError caught: invalid literal for int() with base 10: 'hello'\n",
      "UnicodeDecodeError caught: 'utf-8' codec can't decode byte 0xff in position 0: invalid start byte\n"
     ]
    }
   ],
   "source": [
    "try:\n",
    "    'abc' + 1\n",
    "except TypeError as e:\n",
    "    print(f\"TypeError caught: {e}\")\n",
    "\n",
    "try:\n",
    "    int(\"hello\")\n",
    "except ValueError as e:\n",
    "    print(f\"ValueError caught: {e}\")\n",
    "\n",
    "try:\n",
    "    bytes(\"hello\", \"utf-16\").decode(\"utf-8\")\n",
    "except UnicodeDecodeError as e:\n",
    "    print(f\"UnicodeDecodeError caught: {e}\")"
   ]
  },
  {
   "cell_type": "markdown",
   "id": "4625e679",
   "metadata": {},
   "source": [
    "#### 12) Other Errors\n",
    "#### SyntaxError: Raised when the parser encounters a syntax error.\n",
    "#### IndentationError: Raised when there is an incorrect indentation.\n",
    "#### TabError: Raised when indentation contains tabs and spaces mixed in an inconsistent manner.\n",
    "#### SystemError: Raised when the interpreter detects an internal error.\n",
    "#### ReferenceError: Raised when a weak reference proxy is used to access a garbage collected referent.\n",
    "#### RuntimeWarning: Base class for warnings about dubious runtime behavior.\n",
    "#### SyntaxWarning: Base class for warnings about dubious syntax.\n",
    "#### UserWarning: Base class for warnings generated by user code.\n",
    "#### DeprecationWarning: Base class for warnings about deprecated features.\n",
    "#### PendingDeprecationWarning: Base class for warnings about features that will be deprecated in the future.\n",
    "#### ImportWarning: Base class for warnings triggered during the import process.\n",
    "#### UnicodeWarning: Base class for warnings related to Unicode.\n",
    "#### BytesWarning: Base class for warnings related to bytes and bytearray.\n",
    "#### ResourceWarning: Base class for warnings related to resource usage."
   ]
  },
  {
   "cell_type": "code",
   "execution_count": 422,
   "id": "22b4137d",
   "metadata": {},
   "outputs": [
    {
     "name": "stdout",
     "output_type": "stream",
     "text": [
      "SyntaxError caught: invalid syntax (<string>, line 1)\n",
      "SystemError caught: System error\n"
     ]
    }
   ],
   "source": [
    "try:\n",
    "    eval('x === x')\n",
    "except SyntaxError as e:\n",
    "    print(f\"SyntaxError caught: {e}\")\n",
    "\n",
    "try:\n",
    "    raise SystemError(\"System error\")\n",
    "except SystemError as e:\n",
    "    print(f\"SystemError caught: {e}\")\n"
   ]
  },
  {
   "cell_type": "code",
   "execution_count": 423,
   "id": "6c610bd5",
   "metadata": {},
   "outputs": [
    {
     "name": "stderr",
     "output_type": "stream",
     "text": [
      "C:\\Users\\Raja\\AppData\\Local\\Temp\\ipykernel_18108\\1063646144.py:4: UserWarning: This is a warning\n",
      "  warnings.warn(\"This is a warning\", UserWarning)\n"
     ]
    }
   ],
   "source": [
    "import warnings\n",
    "\n",
    "try:\n",
    "    warnings.warn(\"This is a warning\", UserWarning)\n",
    "except UserWarning as e:\n",
    "    print(f\"UserWarning caught: {e}\")"
   ]
  },
  {
   "cell_type": "markdown",
   "id": "78da9e3c",
   "metadata": {},
   "source": [
    "#### 25) File Handling\n",
    "\n",
    "#### File handling in Python refers to the process of working with files—reading from and writing to files. It involves several operations like opening a file, reading its content, writing data to it, and closing it. Python provides built-in functions and methods to perform these operations, making file handling straightforward and efficient.\n",
    "\n",
    "#### Key Operations in File Handling\n",
    "#### Opening a File: Using the open() function to open a file in a specific mode (e.g., read, write, append).\n",
    "#### Reading from a File: Using methods like read(), readline(), or readlines() to read content from a file.\n",
    "#### Writing to a File: Using methods like write() or writelines() to write content to a file.\n",
    "#### Closing a File: Using the close() method to close the file and free up system resources.\n",
    "\n",
    "#### File Modes\n",
    "#### When opening a file, you can specify the mode in which the file should be opened. Common modes include:\n",
    "#### 'r': Read (default mode). Opens the file for reading.\n",
    "#### 'w': Write. Opens the file for writing (creates a new file or truncates an existing file).\n",
    "#### 'a': Append. Opens the file for writing, appending to the end of the file if it exists.\n",
    "#### 'b': Binary mode. Used in conjunction with other modes to handle binary files (e.g., 'rb', 'wb').\n",
    "#### 't': Text mode (default mode). Used in conjunction with other modes to handle text files (e.g., 'rt', 'wt').\n",
    "#### 'x': Exclusive creation. Creates a new file and fails if the file already exists.\n",
    "\n",
    "#### File Handling: The process of reading from and writing to files in Python.\n",
    "#### Key Operations:\n",
    "#### Opening a file: Using open().\n",
    "#### Reading from a file: Using read(), readline(), readlines().\n",
    "#### Writing to a file: Using write(), writelines().\n",
    "#### Closing a file: Using close().\n",
    "#### Using the with statement: Ensures automatic file closure.\n",
    "#### File Modes: 'r', 'w', 'a', 'b', 't', 'x'."
   ]
  },
  {
   "cell_type": "code",
   "execution_count": 424,
   "id": "dc8cdef1",
   "metadata": {},
   "outputs": [
    {
     "name": "stdout",
     "output_type": "stream",
     "text": [
      "Hello, world!\n",
      "This is a file handling example in Python.\n",
      "\n"
     ]
    }
   ],
   "source": [
    "# Open a file for writing\n",
    "file = open(\"example.txt\", \"w\")\n",
    "\n",
    "# Write some data to the file\n",
    "file.write(\"Hello, world!\\n\")\n",
    "file.write(\"This is a file handling example in Python.\\n\")\n",
    "\n",
    "# Close the file\n",
    "file.close()\n",
    "\n",
    "# Open the file for reading\n",
    "file = open(\"example.txt\", \"r\")\n",
    "\n",
    "# Read the content of the file\n",
    "content = file.read()\n",
    "print(content)\n",
    "\n",
    "# Close the file\n",
    "file.close()"
   ]
  },
  {
   "cell_type": "markdown",
   "id": "f32ce453",
   "metadata": {},
   "source": [
    "#### Using the with Statement\n",
    "#### Using the with statement to open files is recommended because it ensures proper resource management. The file is automatically closed when the block inside the with statement is exited, even if an exception occurs."
   ]
  },
  {
   "cell_type": "code",
   "execution_count": 425,
   "id": "3ad885c8",
   "metadata": {},
   "outputs": [
    {
     "name": "stdout",
     "output_type": "stream",
     "text": [
      "IN THE COURT OF SHRI AMIT NAIN, CIVIL JUDGE (JUNIOR DIVISION), FARIDABAD, HARYANA\n",
      "CIVIL SUIT NO. C.S./2947/2023\n",
      "IN THE MATTER OF:\n",
      "C. K. Bera,\t\t\t\t\t\t\t     â€¦.. Plaintiff\n",
      "Versus:\n",
      "Prashanta Kumar Pal,\t\t\t\t\tâ€¦.. Defendants\n",
      "Date of Hearing: 24.04.2024\n",
      "APPLICATION ON BEHALF OF THE PARTIES TO THE PRESENT SUIT UNDER ORDER XXIII RULE 3 READ WITH SECTION 151 CPC FOR RECORDING OF COMPROMISE OF THE PARTIES.\n",
      "\n",
      "RESPECTFULLY SHOWETH:\n",
      "1.\tThat the present suit is pending adjudication before this Honâ€™ble Court and is now fixed for hearing in the matter on 24.04.2023.\n",
      "2.\tThat the present matter is related with the conflicts arises between the parties those are closed relatives to each other. Therefore, with the active intervention of the common relatives to the parties, the parties of the present suit has been finally arrived with the compromise regarding their present conflicts regarding their respective properties and a Memorandum of Mutual Understanding/Compromise Deed Dated ____________ has been executed between them. The Memorandum of Mutual Understanding/Compromise Deed is enclosed herewith as Annexure â€“ C/1for perusal of this Honâ€™ble Court.\n",
      "3.\tThat in terms of the compromise arrived between the parties to the present suit the suit has been adjusted wholly by a lawful Memorandum of Mutual Understanding/Compromise Deed in writing which has been signed by the parties. \n",
      "4.\tThat since the parties to the present suit has shorted out their conflicts related to their respective properties; no fruitful purpose shall be solved in continuing the proceeding further in the matter. The compromise of the parties is required to be recorded and a compromise decree is required to be passed in the present matter in terms of their compromise.\n",
      "It is therefore respectfully prayed that the statement of the parties regarding their compromise as arrived between them in terms of Memorandum of Mutual Understanding/Compromise Deed dated _____________ may kindly be recorded and a compromise decree be passed in terms of such compromise in the interest of justice.\n",
      "\n",
      "\n",
      "\n",
      "Such other further order/direction which this Honâ€™ble Court deems fit and proper in the present circumstances of the matter may also be passes in favour of the parties in the interest of justice.\n",
      "\n",
      "PLAINTIFF\t\t\t\t\t     DEFENDANT\n",
      "THROUGH:\t\t\t\tTHROUGH:\n",
      "\t\tADVOCATE\t\t\t\t      ADVOCATE\n",
      "Faridabad,\n",
      "Dated: ___.___.2024.\n",
      "\n",
      "\n",
      "\n",
      "\n",
      "\n",
      "\n",
      "\n",
      "\n",
      "\n",
      "\n",
      "\n",
      "\n",
      "\n",
      "\n",
      "\n",
      "\n",
      "\n",
      "IN THE COURT OF SHRI AMIT NAIN, CIVIL JUDGE (JUNIOR DIVISION), FARIDABAD, HARYANA\n",
      "CIVIL SUIT NO. C.S./2947/2023\n",
      "IN THE MATTER OF:\n",
      "C. K. Bera,\t\t\t\t\t\t\t     â€¦.. Plaintiff\n",
      "Versus:\n",
      "Prashanta Kumar Pal,\t\t\t\t\tâ€¦.. Defendants\n",
      "Affidavit\n",
      "\n",
      "Affidavit of C. K. Bera, aged about 63 years, S/o. Late Shri R.K. Bera, 10 â€“ E, Todermal Road Railway Quarters, Bangali Market, New Delhi â€“ 110001, Presently Residing at House No. 256, Chauhan Colony, Gali no.-4, Palla No.-1, Faridabad, Haryana.\n",
      "\n",
      "I, the above-named deponent do hereby solemnly affirm and declare as under: -\t\n",
      "\n",
      "(I)That the deponent being the plaintiff in the present matter fully conversant with the facts and circumstance of the case, as such, is competent to swear this affidavit.\n",
      "\n",
      "(II)That the contents of the accompanying application Under Order XXIII Rule 3 Read With Section 151 CPC are true and correct to the knowledge and belief of the deponent as this same has been drafted by my council under my instructions. That the contents of the accompanying application may kindly be read and treated as part and parcel of this affidavit as the same has not been reproduced for the sake of gravity.\n",
      "\n",
      "\n",
      "Deponent\n",
      "\n",
      "Verification: -\n",
      "\n",
      "Verified at Faridabad, Haryana, on this ____ day of February, 2024, that the contents of the above affidavit are true and correct to my knowledge and belief as no part of its false and nothing has been concealed therefore.\n",
      "\n",
      "Deponent\n",
      "\n",
      "\n",
      "\n",
      "\n",
      "\n",
      "\n",
      "\n",
      "\n",
      "\n",
      "\n",
      "\n",
      "\n",
      "\n",
      "\n",
      "IN THE COURT OF SHRI AMIT NAIN, CIVIL JUDGE (JUNIOR DIVISION), FARIDABAD, HARYANA\n",
      "CIVIL SUIT NO. C.S./2947/2023\n",
      "IN THE MATTER OF:\n",
      "C. K. Bera,\t\t\t\t\t\t\t     â€¦.. Plaintiff\n",
      "Versus:\n",
      "Prashanta Kumar Pal,\t\t\t\t\tâ€¦.. Defendants\n",
      "Affidavit\n",
      "\n",
      "Affidavit of Prasanta Kumar Pal, aged about 57 years, S/o. Late Shri B N Pal, Resident of House No. 250/8, Gali No. 8, Saraswati Colony, Sehatpur Extension, Faridabad, Haryana.\n",
      "\n",
      "I, the above-named deponent do hereby solemnly affirm and declare as under: -\t\n",
      "\n",
      "(I)That the deponent being the plaintiff in the present matter fully conversant with the facts and circumstance of the case, as such, is competent to swear this affidavit.\n",
      "\n",
      "(II)That the contents of the accompanying application Under Order XXIII Rule 3 Read With Section 151 CPC are true and correct to the knowledge and belief of the deponent as this same has been drafted by my council under my instructions. That the contents of the\n",
      "\n",
      "\n",
      "accompanying application may kindly be read and treated as part and parcel of this affidavit as the same has not been reproduced for the sake of gravity.\n",
      "\n",
      "\n",
      "Deponent\n",
      "\n",
      "Verification: -\n",
      "\n",
      "Verified at Faridabad, Haryana, on this ____ day of February, 2024, that the contents of the above affidavit are true and correct to my knowledge and belief as no part of its false and nothing has been concealed therefore.\n",
      "\n",
      "Deponent\n",
      "\n",
      "\n",
      "\n"
     ]
    }
   ],
   "source": [
    "# Writing to a file using the with statement\n",
    "with open(\"example.txt\", \"w\") as file:\n",
    "    file.write(\"Hello, world!\\n\")\n",
    "    file.write(\"This is a file handling example in Python.\\n\")\n",
    "\n",
    "# Reading from a file using the with statement\n",
    "with open(\"jd.txt\", \"r\") as file:\n",
    "    content = file.read()\n",
    "    print(content)"
   ]
  },
  {
   "cell_type": "markdown",
   "id": "e684a3a4",
   "metadata": {},
   "source": [
    "##### In Python, file handling can be broadly categorized based on the mode of operation (read, write, append) and the type of file (text, binary). Here are the main types:\n",
    "\n",
    "#### Based on Mode of Operation\n",
    "\n",
    "#### Read Mode ('r'):\n",
    "#### Text Read ('r'): Opens a file for reading text. File must exist.\n",
    "#### Binary Read ('rb'): Opens a file for reading in binary mode. File must exist.\n",
    "\n",
    "#### Write Mode ('w'):\n",
    "#### Text Write ('w'): Opens a file for writing text. Creates a new file or truncates an existing file.\n",
    "#### Binary Write ('wb'): Opens a file for writing in binary mode. Creates a new file or truncates an existing file.\n",
    "\n",
    "#### Append Mode ('a'):\n",
    "#### Text Append ('a'): Opens a file for appending text. Creates a new file if it does not exist.\n",
    "#### Binary Append ('ab'): Opens a file for appending in binary mode. Creates a new file if it does not exist.\n",
    "\n",
    "#### Exclusive Creation ('x'):\n",
    "#### Text Exclusive Create ('x'): Opens a file for exclusive creation in text mode. Fails if the file already exists.\n",
    "#### Binary Exclusive Create ('xb'): Opens a file for exclusive creation in binary mode. Fails if the file already exists.\n",
    "\n",
    "#### Read and Write Modes:\n",
    "#### Read and Write ('r+'): Opens a file for both reading and writing. File must exist.\n",
    "#### Binary Read and Write ('rb+'): Opens a file for both reading and writing in binary mode. File must exist.\n",
    "#### Write and Read ('w+'): Opens a file for both writing and reading. Creates a new file or truncates an existing file.\n",
    "#### Binary Write and Read ('wb+'): Opens a file for both writing and reading in binary mode. Creates a new file or truncates an existing file.\n",
    "#### Append and Read ('a+'): Opens a file for both appending and reading. Creates a new file if it does not exist.\n",
    "#### Binary Append and Read ('ab+'): Opens a file for both appending and reading in binary mode. Creates a new file if it does not exist.\n",
    "\n",
    "#### Based on Type of File\n",
    "#### Text Files: Files that contain human-readable characters. Typically used for storing text data such as plain text files, CSV files, and logs.\n",
    "#### Handled using modes like 'r', 'w', 'a', 'r+', 'w+', 'a+'.\n",
    "#### Binary Files: Files that contain binary data, which may not be human-readable. Typically used for storing images, videos, executables, and other binary data.\n",
    "#### Handled using modes like 'rb', 'wb', 'ab', 'rb+', 'wb+', 'ab+'."
   ]
  },
  {
   "cell_type": "code",
   "execution_count": 426,
   "id": "93498bcd",
   "metadata": {},
   "outputs": [
    {
     "name": "stdout",
     "output_type": "stream",
     "text": [
      "Hello, world!\n",
      "This is a file handling example in Python.\n",
      "\n"
     ]
    }
   ],
   "source": [
    "# Reading from a text file\n",
    "with open(\"example.txt\", \"r\") as file:\n",
    "    content = file.read()\n",
    "    print(content)"
   ]
  },
  {
   "cell_type": "code",
   "execution_count": 427,
   "id": "9b58055c",
   "metadata": {},
   "outputs": [],
   "source": [
    "# Writing to a text file\n",
    "with open(\"example.txt\", \"w\") as file:\n",
    "    file.write(\"Hello, world!\\n\")"
   ]
  },
  {
   "cell_type": "code",
   "execution_count": 428,
   "id": "14f03a78",
   "metadata": {},
   "outputs": [],
   "source": [
    "# Appending to a text file\n",
    "with open(\"example.txt\", \"a\") as file:\n",
    "    file.write(\"Appending this line.\\n\")"
   ]
  },
  {
   "cell_type": "code",
   "execution_count": 429,
   "id": "d245c26c",
   "metadata": {},
   "outputs": [
    {
     "data": {
      "text/plain": [
       "'with open(\"t234.txt\", \"x\") as file:\\n    file.write(\"This is a new file.\\n\")'"
      ]
     },
     "execution_count": 429,
     "metadata": {},
     "output_type": "execute_result"
    }
   ],
   "source": [
    "# Creating a new text file (fails if file exists)\n",
    "\"\"\"with open(\"t234.txt\", \"x\") as file:\n",
    "    file.write(\"This is a new file.\\n\")\"\"\""
   ]
  },
  {
   "cell_type": "code",
   "execution_count": 430,
   "id": "8a79b23b",
   "metadata": {},
   "outputs": [
    {
     "name": "stdout",
     "output_type": "stream",
     "text": [
      "Hello, world!\n",
      "Appending this line.\n",
      "\n"
     ]
    }
   ],
   "source": [
    "# Reading and writing to a text file\n",
    "with open(\"example.txt\", \"r+\") as file:\n",
    "    content = file.read()\n",
    "    file.write(\"\\nAdding new content.\")\n",
    "    print(content)"
   ]
  },
  {
   "cell_type": "code",
   "execution_count": 431,
   "id": "698d5d3c",
   "metadata": {},
   "outputs": [],
   "source": [
    "# Writing to a binary file\n",
    "with open(\"example.bin\", \"wb\") as file:\n",
    "    file.write(b\"\\x00\\x01\\x02\\x03\")"
   ]
  },
  {
   "cell_type": "code",
   "execution_count": 432,
   "id": "62488691",
   "metadata": {},
   "outputs": [
    {
     "name": "stdout",
     "output_type": "stream",
     "text": [
      "b'\\x00\\x01\\x02\\x03'\n"
     ]
    }
   ],
   "source": [
    "# Reading from a binary file\n",
    "with open(\"example.bin\", \"rb\") as file:\n",
    "    data = file.read()\n",
    "    print(data)"
   ]
  },
  {
   "cell_type": "markdown",
   "id": "4b2090cf",
   "metadata": {},
   "source": [
    "#### Using seek and tell\n",
    "#### seek(offset, whence) is used to change the file's current position. The whence argument is optional and defaults to 0 (absolute file positioning); other values are 1 (seek relative to the current position) and 2 (seek relative to the file's end).\n",
    "#### tell() returns the current position in the file.\n",
    "\n",
    "#### Zipping and Unzipping Files\n",
    "#### Python's zipfile module allows for working with ZIP files. You can create ZIP files (zipping) and extract files from ZIP archives (unzipping).\n",
    "\n",
    "#### Using seek and tell: Demonstrates how to navigate through the file and get the current position.\n",
    "#### Zipping Files: Creates a ZIP file (example.zip) containing the example.txt file.\n",
    "#### Unzipping Files: Extracts the contents of the ZIP file into the extracted_files directory."
   ]
  },
  {
   "cell_type": "code",
   "execution_count": 433,
   "id": "b9ca8007",
   "metadata": {},
   "outputs": [
    {
     "name": "stdout",
     "output_type": "stream",
     "text": [
      "Current position: 0\n",
      "Hello\n",
      "Current position: 5\n",
      "Position after seek to start: 0\n",
      "Position after seek to 7th byte: 7\n",
      "world\n",
      "Position after seek to end: 49\n",
      "File zipped successfully.\n",
      "Files unzipped successfully.\n"
     ]
    }
   ],
   "source": [
    "import zipfile\n",
    "\n",
    "# Step 1: Create a sample file\n",
    "with open(\"example.txt\", \"w\") as file:\n",
    "    file.write(\"Hello, world!\\nThis is a file handling example.\\n\")\n",
    "\n",
    "# Step 2: Demonstrate seek and tell\n",
    "with open(\"example.txt\", \"r\") as file:\n",
    "    print(f\"Current position: {file.tell()}\")\n",
    "    print(file.read(5))  # Read first 5 characters\n",
    "    print(f\"Current position: {file.tell()}\")\n",
    "\n",
    "    file.seek(0)  # Move to the beginning of the file\n",
    "    print(f\"Position after seek to start: {file.tell()}\")\n",
    "\n",
    "    file.seek(7)  # Move to the 7th byte\n",
    "    print(f\"Position after seek to 7th byte: {file.tell()}\")\n",
    "    print(file.read(5))  # Read next 5 characters\n",
    "\n",
    "    file.seek(0, 2)  # Move to the end of the file\n",
    "    print(f\"Position after seek to end: {file.tell()}\")\n",
    "\n",
    "# Step 3: Zip the file\n",
    "with zipfile.ZipFile(\"example.zip\", \"w\") as zipf:\n",
    "    zipf.write(\"example.txt\")\n",
    "\n",
    "print(\"File zipped successfully.\")\n",
    "\n",
    "# Step 4: Unzip the file\n",
    "with zipfile.ZipFile(\"example.zip\", \"r\") as zipf:\n",
    "    zipf.extractall(\"extracted_files\")\n",
    "\n",
    "print(\"Files unzipped successfully.\")"
   ]
  },
  {
   "cell_type": "markdown",
   "id": "bfd0a994",
   "metadata": {},
   "source": [
    "### 26) Regular Expressions\n",
    "\n",
    "#### In Python, regular expressions (regex) are a powerful tool for matching patterns within strings. They are used for searching, extracting, and manipulating string data. Python provides the re module, which contains functions and classes for working with regular expressions.\n",
    "#### Definition\n",
    "#### A regular expression is a sequence of characters that defines a search pattern. This pattern can be used to match, search, replace, and manipulate strings based on specific criteria.\n",
    "\n",
    "#### The re Module\n",
    "#### The re module in Python provides support for regular expressions. Here are some common functions and methods:\n",
    "\n",
    "#### re.compile(pattern): Compiles a regular expression pattern into a regex object.\n",
    "#### re.search(pattern, string): Searches for the first occurrence of the pattern in the string.\n",
    "#### re.match(pattern, string): Checks for a match only at the beginning of the string.\n",
    "#### re.findall(pattern, string): Finds all occurrences of the pattern in the string and returns them as a list.\n",
    "#### re.finditer(pattern, string): Finds all occurrences of the pattern in the string and returns them as an iterator of match objects.\n",
    "#### re.sub(pattern, repl, string): Replaces occurrences of the pattern in the string with repl.\n",
    "#### The re.split function splits a string by the occurrences of the specified pattern. It is similar to the str.split method but allows you to use regular expressions as delimiters.\n",
    "\n",
    "#### \\d+: A regular expression pattern where \\d matches any digit and + indicates one or more occurrences of the preceding element.\n",
    "#### re.compile(r'\\d+'): Compiles the pattern into a regex object for reuse.\n",
    "#### re.search(r'\\d+', ...): Searches for the first sequence of digits in the string.\n",
    "#### re.match(r'The', ...): Matches the word \"The\" at the beginning of the string.\n",
    "#### re.findall(r'\\d+', ...): Finds all sequences of digits in the string.\n",
    "#### re.finditer(r'\\d+', ...): Returns an iterator yielding match objects for all sequences of digits.\n",
    "#### re.sub(r'\\d+', '#', ...): Replaces all sequences of digits with a hash symbol #.\n",
    "#### The re.split function splits a string by the occurrences of the specified pattern. It is similar to the str.split method but allows you to use regular expressions as delimiters.\n",
    "#### Regular expressions are a versatile tool in text processing and can handle complex pattern matching requirements effectively."
   ]
  },
  {
   "cell_type": "code",
   "execution_count": 434,
   "id": "7c04fc3b",
   "metadata": {},
   "outputs": [
    {
     "name": "stdout",
     "output_type": "stream",
     "text": [
      "Found a match: 123\n",
      "Match found: The\n",
      "All matches: ['123', '45678']\n",
      "Match found: 123 at position 20-23\n",
      "Match found: 45678 at position 44-49\n",
      "Replaced string: The house number is # and the zip code is #\n",
      "['The', 'quick', 'brown', 'fox', 'jumps', 'over', 'the', 'lazy', 'dog']\n"
     ]
    }
   ],
   "source": [
    "import re\n",
    "pattern = re.compile(r'\\d+')\n",
    "# Searching for the first occurrence of a pattern\n",
    "match = re.search(r'\\d+', 'The house number is 123 and the zip code is 45678')\n",
    "if match:\n",
    "    print(f\"Found a match: {match.group()}\")\n",
    "# Matching a pattern at the beginning of the string\n",
    "match = re.match(r'The', 'The house number is 123')\n",
    "if match:\n",
    "    print(f\"Match found: {match.group()}\")\n",
    "# Finding all occurrences of a pattern\n",
    "matches = re.findall(r'\\d+', 'The house number is 123 and the zip code is 45678')\n",
    "print(f\"All matches: {matches}\")\n",
    "# Iterating over all matches\n",
    "for match in re.finditer(r'\\d+', 'The house number is 123 and the zip code is 45678'):\n",
    "    print(f\"Match found: {match.group()} at position {match.start()}-{match.end()}\")\n",
    "# Replacing a pattern in a string\n",
    "result = re.sub(r'\\d+', '#', 'The house number is 123 and the zip code is 45678')\n",
    "print(f\"Replaced string: {result}\")\n",
    "\n",
    "text = \"The quick brown fox jumps over the lazy dog\"\n",
    "# Split by whitespace\n",
    "result = re.split(r'\\s+', text)\n",
    "print(result)"
   ]
  },
  {
   "cell_type": "markdown",
   "id": "06233eee",
   "metadata": {},
   "source": [
    "#### Certainly! Sequence characters in regular expressions are special characters that represent a sequence of characters or a character class. Here's a list of common sequence characters in regular expressions along with examples of each in Python:\n",
    "\n",
    "#### 1) \\d: Matches any decimal digit; equivalent to [0-9]."
   ]
  },
  {
   "cell_type": "code",
   "execution_count": 435,
   "id": "00c7c40b",
   "metadata": {},
   "outputs": [
    {
     "name": "stdout",
     "output_type": "stream",
     "text": [
      "['1', '2', '3', '4', '5']\n"
     ]
    }
   ],
   "source": [
    "import re\n",
    "\n",
    "text = \"The code is 12345\"\n",
    "matches = re.findall(r'\\d', text)\n",
    "print(matches)  "
   ]
  },
  {
   "cell_type": "markdown",
   "id": "7a091de0",
   "metadata": {},
   "source": [
    "#### 2) \\D: Matches any character that is not a decimal digit; equivalent to [^0-9]."
   ]
  },
  {
   "cell_type": "code",
   "execution_count": 436,
   "id": "47b94652",
   "metadata": {},
   "outputs": [
    {
     "name": "stdout",
     "output_type": "stream",
     "text": [
      "['T', 'h', 'e', ' ', 'c', 'o', 'd', 'e', ' ', 'i', 's', ' ']\n"
     ]
    }
   ],
   "source": [
    "import re\n",
    "\n",
    "text = \"The code is 12345\"\n",
    "matches = re.findall(r'\\D', text)\n",
    "print(matches)  "
   ]
  },
  {
   "cell_type": "markdown",
   "id": "d2bd5401",
   "metadata": {},
   "source": [
    "#### 3) \\w: Matches any alphanumeric character; equivalent to [a-zA-Z0-9_]."
   ]
  },
  {
   "cell_type": "code",
   "execution_count": 437,
   "id": "9fb77879",
   "metadata": {},
   "outputs": [
    {
     "name": "stdout",
     "output_type": "stream",
     "text": [
      "['T', 'h', 'e', 'c', 'o', 'd', 'e', 'i', 's', '1', '2', '3', '4', '5', '_', 'a', 'b', 'c', '_', 'D', 'E', 'F']\n"
     ]
    }
   ],
   "source": [
    "import re\n",
    "\n",
    "text = \"The code is 12345_abc_DEF\"\n",
    "matches = re.findall(r'\\w', text)\n",
    "print(matches)  "
   ]
  },
  {
   "cell_type": "markdown",
   "id": "247ca41a",
   "metadata": {},
   "source": [
    "#### 4) \\W: Matches any character that is not alphanumeric; equivalent to [^a-zA-Z0-9_]"
   ]
  },
  {
   "cell_type": "code",
   "execution_count": 438,
   "id": "4b098011",
   "metadata": {},
   "outputs": [
    {
     "name": "stdout",
     "output_type": "stream",
     "text": [
      "[' ', ' ', ' ']\n"
     ]
    }
   ],
   "source": [
    "import re\n",
    "\n",
    "text = \"The code is 12345_abc_DEF\"\n",
    "matches = re.findall(r'\\W', text)\n",
    "print(matches)  "
   ]
  },
  {
   "cell_type": "markdown",
   "id": "750d97e7",
   "metadata": {},
   "source": [
    "#### 5) \\s: Matches any whitespace character; equivalent to [\\t\\n\\r\\f\\v]."
   ]
  },
  {
   "cell_type": "code",
   "execution_count": 439,
   "id": "8725f525",
   "metadata": {},
   "outputs": [
    {
     "name": "stdout",
     "output_type": "stream",
     "text": [
      "['\\t', '\\n', '\\r', '\\x0c', '\\x0b']\n"
     ]
    }
   ],
   "source": [
    "import re\n",
    "\n",
    "text = \"The\\tcode\\nis\\r12345\\fabc\\vDEF\"\n",
    "matches = re.findall(r'\\s', text)\n",
    "print(matches)  "
   ]
  },
  {
   "cell_type": "markdown",
   "id": "700844fa",
   "metadata": {},
   "source": [
    "#### 6) \\S: Matches any character that is not a whitespace character; equivalent to [^\\t\\n\\r\\f\\v]."
   ]
  },
  {
   "cell_type": "code",
   "execution_count": 440,
   "id": "819989ed",
   "metadata": {},
   "outputs": [
    {
     "name": "stdout",
     "output_type": "stream",
     "text": [
      "['T', 'h', 'e', 'c', 'o', 'd', 'e', 'i', 's', '1', '2', '3', '4', '5', 'a', 'b', 'c', 'D', 'E', 'F']\n"
     ]
    }
   ],
   "source": [
    "import re\n",
    "\n",
    "text = \"The\\tcode\\nis\\r12345\\fabc\\vDEF\"\n",
    "matches = re.findall(r'\\S', text)\n",
    "print(matches) "
   ]
  },
  {
   "cell_type": "markdown",
   "id": "a7ead361",
   "metadata": {},
   "source": [
    "#### 7) .: Matches any character except a newline character (\\n)."
   ]
  },
  {
   "cell_type": "code",
   "execution_count": 441,
   "id": "cfab1c00",
   "metadata": {},
   "outputs": [
    {
     "name": "stdout",
     "output_type": "stream",
     "text": [
      "['T', 'h', 'e', ' ', 'c', 'o', 'd', 'e', ' ', 'i', 's', ' ', '1', '2', '3', '4', '5']\n"
     ]
    }
   ],
   "source": [
    "import re\n",
    "\n",
    "text = \"The code is 12345\"\n",
    "matches = re.findall(r'.', text)\n",
    "print(matches) "
   ]
  },
  {
   "cell_type": "markdown",
   "id": "2f8b3740",
   "metadata": {},
   "source": [
    "#### 8) \\b: Matches a word boundary. It represents the position between a word character (a-z, A-Z, 0-9, or underscore) and a non-word character, or vice versa."
   ]
  },
  {
   "cell_type": "code",
   "execution_count": 442,
   "id": "845b01db",
   "metadata": {},
   "outputs": [
    {
     "name": "stdout",
     "output_type": "stream",
     "text": [
      "['The']\n"
     ]
    }
   ],
   "source": [
    "import re\n",
    "\n",
    "text = \"The code is 12345\"\n",
    "matches = re.findall(r'\\b\\w{3}\\b', text)\n",
    "print(matches)  "
   ]
  },
  {
   "cell_type": "markdown",
   "id": "6a2d6d39",
   "metadata": {},
   "source": [
    "#### 9) \\A: Matches the start of the string."
   ]
  },
  {
   "cell_type": "code",
   "execution_count": 443,
   "id": "cd7237ce",
   "metadata": {},
   "outputs": [
    {
     "name": "stdout",
     "output_type": "stream",
     "text": [
      "['The']\n"
     ]
    }
   ],
   "source": [
    "import re\n",
    "\n",
    "text = \"The code is 12345\"\n",
    "matches = re.findall(r'\\AThe', text)\n",
    "print(matches)  "
   ]
  },
  {
   "cell_type": "markdown",
   "id": "d664b54f",
   "metadata": {},
   "source": [
    "#### 10) \\Z: Matches the end of the string."
   ]
  },
  {
   "cell_type": "code",
   "execution_count": 444,
   "id": "bdd25c71",
   "metadata": {},
   "outputs": [
    {
     "name": "stdout",
     "output_type": "stream",
     "text": [
      "['12345']\n"
     ]
    }
   ],
   "source": [
    "import re\n",
    "\n",
    "text = \"The code is 12345\"\n",
    "matches = re.findall(r'12345\\Z', text)\n",
    "print(matches)  "
   ]
  },
  {
   "cell_type": "markdown",
   "id": "30d812df",
   "metadata": {},
   "source": [
    "#### Certainly! Here are examples of using various special characters in regular expressions with Python:\n",
    "\n",
    "#### 1) .: Matches any character except a newline character (\\n)."
   ]
  },
  {
   "cell_type": "code",
   "execution_count": 445,
   "id": "2dbad7bf",
   "metadata": {},
   "outputs": [
    {
     "name": "stdout",
     "output_type": "stream",
     "text": [
      "['T', 'h', 'e', ' ', 'c', 'o', 'd', 'e', ' ', 'i', 's', ' ', '1', '2', '3', '4', '5']\n"
     ]
    }
   ],
   "source": [
    "import re\n",
    "\n",
    "text = \"The code is 12345\"\n",
    "matches = re.findall(r'.', text)\n",
    "print(matches)  "
   ]
  },
  {
   "cell_type": "markdown",
   "id": "3c3ee6c2",
   "metadata": {},
   "source": [
    "#### 2) ^: Matches the start of the string."
   ]
  },
  {
   "cell_type": "code",
   "execution_count": 446,
   "id": "bfca353f",
   "metadata": {},
   "outputs": [
    {
     "name": "stdout",
     "output_type": "stream",
     "text": [
      "['The']\n"
     ]
    }
   ],
   "source": [
    "import re\n",
    "\n",
    "text = \"The code is 12345\"\n",
    "matches = re.findall(r'^The', text)\n",
    "print(matches) "
   ]
  },
  {
   "cell_type": "markdown",
   "id": "df7d5786",
   "metadata": {},
   "source": [
    "#### 3) $: Matches the end of the string."
   ]
  },
  {
   "cell_type": "code",
   "execution_count": 447,
   "id": "04f24dc1",
   "metadata": {},
   "outputs": [
    {
     "name": "stdout",
     "output_type": "stream",
     "text": [
      "['12345']\n"
     ]
    }
   ],
   "source": [
    "import re\n",
    "\n",
    "text = \"The code is 12345\"\n",
    "matches = re.findall(r'12345$', text)\n",
    "print(matches)  "
   ]
  },
  {
   "cell_type": "markdown",
   "id": "841d475e",
   "metadata": {},
   "source": [
    "#### 4) *: Matches zero or more occurrences of the preceding element."
   ]
  },
  {
   "cell_type": "code",
   "execution_count": 448,
   "id": "caca03f5",
   "metadata": {},
   "outputs": [
    {
     "name": "stdout",
     "output_type": "stream",
     "text": [
      "['abbc']\n"
     ]
    }
   ],
   "source": [
    "import re\n",
    "\n",
    "text = \"abbc\"\n",
    "matches = re.findall(r'ab*c', text)\n",
    "print(matches)  "
   ]
  },
  {
   "cell_type": "markdown",
   "id": "2fb07dc2",
   "metadata": {},
   "source": [
    "#### 5) +: Matches one or more occurrences of the preceding element."
   ]
  },
  {
   "cell_type": "code",
   "execution_count": 449,
   "id": "b9f32350",
   "metadata": {},
   "outputs": [
    {
     "name": "stdout",
     "output_type": "stream",
     "text": [
      "['abbc']\n"
     ]
    }
   ],
   "source": [
    "import re\n",
    "\n",
    "text = \"abbc\"\n",
    "matches = re.findall(r'ab+c', text)\n",
    "print(matches) "
   ]
  },
  {
   "cell_type": "markdown",
   "id": "1c126351",
   "metadata": {},
   "source": [
    "#### 6) ?: Matches zero or one occurrence of the preceding element."
   ]
  },
  {
   "cell_type": "code",
   "execution_count": 450,
   "id": "af7ce863",
   "metadata": {},
   "outputs": [
    {
     "name": "stdout",
     "output_type": "stream",
     "text": [
      "['color']\n"
     ]
    }
   ],
   "source": [
    "import re\n",
    "\n",
    "text = \"color\"\n",
    "matches = re.findall(r'colou?r', text)\n",
    "print(matches)  "
   ]
  },
  {
   "cell_type": "markdown",
   "id": "e39ca207",
   "metadata": {},
   "source": [
    "#### 7) {}: Matches exactly the specified number of occurrences of the preceding element."
   ]
  },
  {
   "cell_type": "code",
   "execution_count": 451,
   "id": "ee519d27",
   "metadata": {},
   "outputs": [
    {
     "name": "stdout",
     "output_type": "stream",
     "text": [
      "[]\n"
     ]
    }
   ],
   "source": [
    "import re\n",
    "\n",
    "text = \"abbbbc\"\n",
    "matches = re.findall(r'ab{2}c', text)\n",
    "print(matches)  "
   ]
  },
  {
   "cell_type": "markdown",
   "id": "17a4e82a",
   "metadata": {},
   "source": [
    "#### 8) []: Matches any single character within the brackets."
   ]
  },
  {
   "cell_type": "code",
   "execution_count": 452,
   "id": "1e36267c",
   "metadata": {},
   "outputs": [
    {
     "name": "stdout",
     "output_type": "stream",
     "text": [
      "['h', 'e', 'c', 'o', 'd', 'e', 'i', 's']\n"
     ]
    }
   ],
   "source": [
    "import re\n",
    "\n",
    "text = \"The code is 12345\"\n",
    "matches = re.findall(r'[a-z]', text)\n",
    "print(matches)  "
   ]
  },
  {
   "cell_type": "markdown",
   "id": "64f148f2",
   "metadata": {},
   "source": [
    "#### 9) |: Acts as an OR operator, matching either the expression before or after the pipe."
   ]
  },
  {
   "cell_type": "code",
   "execution_count": 453,
   "id": "c4cf6ac1",
   "metadata": {},
   "outputs": [
    {
     "name": "stdout",
     "output_type": "stream",
     "text": [
      "['The', 'code']\n"
     ]
    }
   ],
   "source": [
    "import re\n",
    "\n",
    "text = \"The code is 12345\"\n",
    "matches = re.findall(r'The|code', text)\n",
    "print(matches)  "
   ]
  },
  {
   "cell_type": "markdown",
   "id": "63da82a8",
   "metadata": {},
   "source": [
    "#### 10) \\: Escapes special characters, allowing you to match them literally."
   ]
  },
  {
   "cell_type": "code",
   "execution_count": 454,
   "id": "1e993f69",
   "metadata": {},
   "outputs": [
    {
     "name": "stdout",
     "output_type": "stream",
     "text": [
      "['12345']\n"
     ]
    }
   ],
   "source": [
    "import re\n",
    "\n",
    "text = \"The code is 12345\"\n",
    "matches = re.findall(r'\\d+', text)\n",
    "print(matches)  "
   ]
  },
  {
   "cell_type": "markdown",
   "id": "021374d5",
   "metadata": {},
   "source": [
    "### 27) Date and Time\n",
    "\n",
    "#### In Python, date and time handling is facilitated by the datetime module, which provides classes for manipulating dates and times. It allows you to create, manipulate, format, and perform arithmetic operations on dates, times, and time intervals.\n",
    "\n",
    "#### datetime Module\n",
    "#### The datetime module includes several classes:\n",
    "\n",
    "#### datetime: Represents a specific date and time.\n",
    "\n",
    "#### date: Represents a date (year, month, and day).\n",
    "\n",
    "#### time: Represents a time (hour, minute, second, microsecond).\n",
    "\n",
    "#### timedelta: Represents the difference between two dates or times."
   ]
  },
  {
   "cell_type": "markdown",
   "id": "fd54e4c8",
   "metadata": {},
   "source": [
    "#### 1) Current Date and Time"
   ]
  },
  {
   "cell_type": "code",
   "execution_count": 455,
   "id": "9f287dbb",
   "metadata": {},
   "outputs": [
    {
     "name": "stdout",
     "output_type": "stream",
     "text": [
      "Current Date and Time: 2024-05-20 15:15:02.291028\n"
     ]
    }
   ],
   "source": [
    "import datetime\n",
    "\n",
    "current_datetime = datetime.datetime.now()\n",
    "print(\"Current Date and Time:\", current_datetime)"
   ]
  },
  {
   "cell_type": "markdown",
   "id": "898fcaee",
   "metadata": {},
   "source": [
    "#### 2) Date Formatting"
   ]
  },
  {
   "cell_type": "code",
   "execution_count": 456,
   "id": "df739fbd",
   "metadata": {},
   "outputs": [
    {
     "name": "stdout",
     "output_type": "stream",
     "text": [
      "Formatted Date: 2024-05-20\n"
     ]
    }
   ],
   "source": [
    "import datetime\n",
    "\n",
    "current_date = datetime.date.today()\n",
    "formatted_date = current_date.strftime(\"%Y-%m-%d\")\n",
    "print(\"Formatted Date:\", formatted_date)"
   ]
  },
  {
   "cell_type": "markdown",
   "id": "5b251adc",
   "metadata": {},
   "source": [
    "#### 3) Creating a datetime Object"
   ]
  },
  {
   "cell_type": "code",
   "execution_count": 457,
   "id": "72f06c42",
   "metadata": {},
   "outputs": [
    {
     "name": "stdout",
     "output_type": "stream",
     "text": [
      "Custom DateTime: 2022-05-17 10:30:00\n"
     ]
    }
   ],
   "source": [
    "import datetime\n",
    "\n",
    "custom_datetime = datetime.datetime(2022, 5, 17, 10, 30, 0)\n",
    "print(\"Custom DateTime:\", custom_datetime)"
   ]
  },
  {
   "cell_type": "markdown",
   "id": "f8c0b615",
   "metadata": {},
   "source": [
    "#### 4) Arithmetic Operations with timedelta"
   ]
  },
  {
   "cell_type": "code",
   "execution_count": 458,
   "id": "264824f7",
   "metadata": {},
   "outputs": [
    {
     "name": "stdout",
     "output_type": "stream",
     "text": [
      "New DateTime after 7 days: 2024-05-27 15:15:02.673655\n"
     ]
    }
   ],
   "source": [
    "import datetime\n",
    "\n",
    "current_datetime = datetime.datetime.now()\n",
    "delta = datetime.timedelta(days=7)\n",
    "new_datetime = current_datetime + delta\n",
    "print(\"New DateTime after 7 days:\", new_datetime)"
   ]
  },
  {
   "cell_type": "markdown",
   "id": "f970a957",
   "metadata": {},
   "source": [
    "#### 5) Parsing Dates from Strings"
   ]
  },
  {
   "cell_type": "code",
   "execution_count": 459,
   "id": "0d083d66",
   "metadata": {},
   "outputs": [
    {
     "name": "stdout",
     "output_type": "stream",
     "text": [
      "Parsed Date: 2022-05-17 00:00:00\n"
     ]
    }
   ],
   "source": [
    "import datetime\n",
    "\n",
    "date_str = \"2022-05-17\"\n",
    "parsed_date = datetime.datetime.strptime(date_str, \"%Y-%m-%d\")\n",
    "print(\"Parsed Date:\", parsed_date)"
   ]
  },
  {
   "cell_type": "markdown",
   "id": "ea2ca4fc",
   "metadata": {},
   "source": [
    "#### 6) Extracting Components from a datetime Object"
   ]
  },
  {
   "cell_type": "code",
   "execution_count": 460,
   "id": "c7ffb991",
   "metadata": {},
   "outputs": [
    {
     "name": "stdout",
     "output_type": "stream",
     "text": [
      "Year: 2024\n",
      "Month: 5\n",
      "Day: 20\n",
      "Hour: 15\n",
      "Minute: 15\n",
      "Second: 3\n",
      "Microsecond: 14096\n"
     ]
    }
   ],
   "source": [
    "import datetime\n",
    "\n",
    "current_datetime = datetime.datetime.now()\n",
    "year = current_datetime.year\n",
    "month = current_datetime.month\n",
    "day = current_datetime.day\n",
    "hour = current_datetime.hour\n",
    "minute = current_datetime.minute\n",
    "second = current_datetime.second\n",
    "microsecond = current_datetime.microsecond\n",
    "\n",
    "print(\"Year:\", year)\n",
    "print(\"Month:\", month)\n",
    "print(\"Day:\", day)\n",
    "print(\"Hour:\", hour)\n",
    "print(\"Minute:\", minute)\n",
    "print(\"Second:\", second)\n",
    "print(\"Microsecond:\", microsecond)"
   ]
  },
  {
   "cell_type": "markdown",
   "id": "670d1167",
   "metadata": {},
   "source": [
    "#### 7) Date and Time format Codes\n",
    "\n",
    "#### 1) %Y: Year with century as a decimal number."
   ]
  },
  {
   "cell_type": "code",
   "execution_count": 461,
   "id": "c6d0807e",
   "metadata": {},
   "outputs": [
    {
     "name": "stdout",
     "output_type": "stream",
     "text": [
      "Current Year: 2024\n"
     ]
    }
   ],
   "source": [
    "import datetime\n",
    "\n",
    "current_datetime = datetime.datetime.now()\n",
    "formatted_year = current_datetime.strftime(\"%Y\")\n",
    "print(\"Current Year:\", formatted_year)"
   ]
  },
  {
   "cell_type": "markdown",
   "id": "5baadb5b",
   "metadata": {},
   "source": [
    "#### 2) %m: Month as a zero-padded decimal number."
   ]
  },
  {
   "cell_type": "code",
   "execution_count": 462,
   "id": "b49c6385",
   "metadata": {},
   "outputs": [
    {
     "name": "stdout",
     "output_type": "stream",
     "text": [
      "Current Month: 05\n"
     ]
    }
   ],
   "source": [
    "import datetime\n",
    "\n",
    "current_datetime = datetime.datetime.now()\n",
    "formatted_month = current_datetime.strftime(\"%m\")\n",
    "print(\"Current Month:\", formatted_month)"
   ]
  },
  {
   "cell_type": "markdown",
   "id": "3af0cca6",
   "metadata": {},
   "source": [
    "#### 3) %d: Day of the month as a zero-padded decimal number."
   ]
  },
  {
   "cell_type": "code",
   "execution_count": 463,
   "id": "adf6f9f7",
   "metadata": {},
   "outputs": [
    {
     "name": "stdout",
     "output_type": "stream",
     "text": [
      "Current Day: 20\n"
     ]
    }
   ],
   "source": [
    "import datetime\n",
    "\n",
    "current_datetime = datetime.datetime.now()\n",
    "formatted_day = current_datetime.strftime(\"%d\")\n",
    "print(\"Current Day:\", formatted_day)"
   ]
  },
  {
   "cell_type": "markdown",
   "id": "cdd5a20e",
   "metadata": {},
   "source": [
    "#### 4) %H: Hour (24-hour clock) as a zero-padded decimal number."
   ]
  },
  {
   "cell_type": "code",
   "execution_count": 464,
   "id": "721e11c9",
   "metadata": {},
   "outputs": [
    {
     "name": "stdout",
     "output_type": "stream",
     "text": [
      "Current Hour (24-hour clock): 15\n"
     ]
    }
   ],
   "source": [
    "import datetime\n",
    "\n",
    "current_datetime = datetime.datetime.now()\n",
    "formatted_hour = current_datetime.strftime(\"%H\")\n",
    "print(\"Current Hour (24-hour clock):\", formatted_hour)"
   ]
  },
  {
   "cell_type": "markdown",
   "id": "54392ec2",
   "metadata": {},
   "source": [
    "#### 5) %M: Minute as a zero-padded decimal number."
   ]
  },
  {
   "cell_type": "code",
   "execution_count": 465,
   "id": "ebf61ef4",
   "metadata": {},
   "outputs": [
    {
     "name": "stdout",
     "output_type": "stream",
     "text": [
      "Current Minute: 15\n"
     ]
    }
   ],
   "source": [
    "import datetime\n",
    "\n",
    "current_datetime = datetime.datetime.now()\n",
    "formatted_minute = current_datetime.strftime(\"%M\")\n",
    "print(\"Current Minute:\", formatted_minute)"
   ]
  },
  {
   "cell_type": "markdown",
   "id": "bbcf5aae",
   "metadata": {},
   "source": [
    "#### 6) %S: Second as a zero-padded decimal number."
   ]
  },
  {
   "cell_type": "code",
   "execution_count": 466,
   "id": "75854f4b",
   "metadata": {},
   "outputs": [
    {
     "name": "stdout",
     "output_type": "stream",
     "text": [
      "Current Second: 04\n"
     ]
    }
   ],
   "source": [
    "import datetime\n",
    "\n",
    "current_datetime = datetime.datetime.now()\n",
    "formatted_second = current_datetime.strftime(\"%S\")\n",
    "print(\"Current Second:\", formatted_second)"
   ]
  },
  {
   "cell_type": "markdown",
   "id": "43efae5b",
   "metadata": {},
   "source": [
    "#### 7) %f: Microsecond as a decimal number, zero-padded on the left."
   ]
  },
  {
   "cell_type": "code",
   "execution_count": 467,
   "id": "a8983f32",
   "metadata": {},
   "outputs": [
    {
     "name": "stdout",
     "output_type": "stream",
     "text": [
      "Current Microsecond: 231732\n"
     ]
    }
   ],
   "source": [
    "import datetime\n",
    "\n",
    "current_datetime = datetime.datetime.now()\n",
    "formatted_microsecond = current_datetime.strftime(\"%f\")\n",
    "print(\"Current Microsecond:\", formatted_microsecond)"
   ]
  },
  {
   "cell_type": "markdown",
   "id": "9fa50547",
   "metadata": {},
   "source": [
    "#### 8) %a: Weekday abbreviated name (e.g., Mon)."
   ]
  },
  {
   "cell_type": "code",
   "execution_count": 468,
   "id": "22f650cf",
   "metadata": {},
   "outputs": [
    {
     "name": "stdout",
     "output_type": "stream",
     "text": [
      "Abbreviated Weekday Name: Mon\n"
     ]
    }
   ],
   "source": [
    "import datetime\n",
    "\n",
    "current_datetime = datetime.datetime.now()\n",
    "formatted_weekday = current_datetime.strftime(\"%a\")\n",
    "print(\"Abbreviated Weekday Name:\", formatted_weekday)"
   ]
  },
  {
   "cell_type": "markdown",
   "id": "811012ad",
   "metadata": {},
   "source": [
    "#### 9) %A: Weekday full name (e.g., Monday)."
   ]
  },
  {
   "cell_type": "code",
   "execution_count": 469,
   "id": "8acda604",
   "metadata": {},
   "outputs": [
    {
     "name": "stdout",
     "output_type": "stream",
     "text": [
      "Full Weekday Name: Monday\n"
     ]
    }
   ],
   "source": [
    "import datetime\n",
    "\n",
    "current_datetime = datetime.datetime.now()\n",
    "formatted_weekday = current_datetime.strftime(\"%A\")\n",
    "print(\"Full Weekday Name:\", formatted_weekday)"
   ]
  },
  {
   "cell_type": "markdown",
   "id": "1c0aa7b1",
   "metadata": {},
   "source": [
    "#### 10) %b: Month abbreviated name (e.g., Jan)."
   ]
  },
  {
   "cell_type": "code",
   "execution_count": 470,
   "id": "b5fb7af3",
   "metadata": {},
   "outputs": [
    {
     "name": "stdout",
     "output_type": "stream",
     "text": [
      "Abbreviated Month Name: May\n"
     ]
    }
   ],
   "source": [
    "import datetime\n",
    "\n",
    "current_datetime = datetime.datetime.now()\n",
    "formatted_month = current_datetime.strftime(\"%b\")\n",
    "print(\"Abbreviated Month Name:\", formatted_month)"
   ]
  },
  {
   "cell_type": "markdown",
   "id": "48aef410",
   "metadata": {},
   "source": [
    "#### 11) %B: Month full name (e.g., January)."
   ]
  },
  {
   "cell_type": "code",
   "execution_count": 471,
   "id": "8c5fe158",
   "metadata": {},
   "outputs": [
    {
     "name": "stdout",
     "output_type": "stream",
     "text": [
      "Full Month Name: May\n"
     ]
    }
   ],
   "source": [
    "import datetime\n",
    "\n",
    "current_datetime = datetime.datetime.now()\n",
    "formatted_month = current_datetime.strftime(\"%B\")\n",
    "print(\"Full Month Name:\", formatted_month)"
   ]
  },
  {
   "cell_type": "markdown",
   "id": "e0b52145",
   "metadata": {},
   "source": [
    "#### 12) %c: Locale's appropriate date and time representation."
   ]
  },
  {
   "cell_type": "code",
   "execution_count": 472,
   "id": "9e3d1304",
   "metadata": {},
   "outputs": [
    {
     "name": "stdout",
     "output_type": "stream",
     "text": [
      "Locale's Date and Time Representation: Mon May 20 15:15:05 2024\n"
     ]
    }
   ],
   "source": [
    "import datetime\n",
    "\n",
    "current_datetime = datetime.datetime.now()\n",
    "formatted_datetime = current_datetime.strftime(\"%c\")\n",
    "print(\"Locale's Date and Time Representation:\", formatted_datetime)"
   ]
  },
  {
   "cell_type": "markdown",
   "id": "439829b5",
   "metadata": {},
   "source": [
    "#### 13) %x: Locale's appropriate date representation."
   ]
  },
  {
   "cell_type": "code",
   "execution_count": 473,
   "id": "75ab16a9",
   "metadata": {},
   "outputs": [
    {
     "name": "stdout",
     "output_type": "stream",
     "text": [
      "Locale's Date Representation: 05/20/24\n"
     ]
    }
   ],
   "source": [
    "import datetime\n",
    "\n",
    "current_datetime = datetime.datetime.now()\n",
    "formatted_date = current_datetime.strftime(\"%x\")\n",
    "print(\"Locale's Date Representation:\", formatted_date)"
   ]
  },
  {
   "cell_type": "markdown",
   "id": "e8c98679",
   "metadata": {},
   "source": [
    "#### 14) %X: Locale's appropriate time representation."
   ]
  },
  {
   "cell_type": "code",
   "execution_count": 474,
   "id": "1dd427a5",
   "metadata": {},
   "outputs": [
    {
     "name": "stdout",
     "output_type": "stream",
     "text": [
      "Locale's Time Representation: 15:15:05\n"
     ]
    }
   ],
   "source": [
    "import datetime\n",
    "\n",
    "current_datetime = datetime.datetime.now()\n",
    "formatted_time = current_datetime.strftime(\"%X\")\n",
    "print(\"Locale's Time Representation:\", formatted_time)"
   ]
  },
  {
   "cell_type": "markdown",
   "id": "2c390ad1",
   "metadata": {},
   "source": [
    "#### 15) %w: Weekday as a decimal number, where 0 represents Sunday and 6 represents Saturday."
   ]
  },
  {
   "cell_type": "code",
   "execution_count": 475,
   "id": "8799a535",
   "metadata": {},
   "outputs": [
    {
     "name": "stdout",
     "output_type": "stream",
     "text": [
      "Weekday Number (0-6, Sunday=0): 1\n"
     ]
    }
   ],
   "source": [
    "import datetime\n",
    "\n",
    "current_datetime = datetime.datetime.now()\n",
    "weekday_number = current_datetime.strftime(\"%w\")\n",
    "print(\"Weekday Number (0-6, Sunday=0):\", weekday_number)"
   ]
  },
  {
   "cell_type": "markdown",
   "id": "00d71e9b",
   "metadata": {},
   "source": [
    "#### 16) %y: Year without century as a zero-padded decimal number (00-99)."
   ]
  },
  {
   "cell_type": "code",
   "execution_count": 476,
   "id": "e5496034",
   "metadata": {},
   "outputs": [
    {
     "name": "stdout",
     "output_type": "stream",
     "text": [
      "Short Year (00-99): 24\n"
     ]
    }
   ],
   "source": [
    "import datetime\n",
    "\n",
    "current_datetime = datetime.datetime.now()\n",
    "year_short = current_datetime.strftime(\"%y\")\n",
    "print(\"Short Year (00-99):\", year_short)"
   ]
  },
  {
   "cell_type": "markdown",
   "id": "28a51582",
   "metadata": {},
   "source": [
    "#### 17) %I: Hour (12-hour clock) as a zero-padded decimal number."
   ]
  },
  {
   "cell_type": "code",
   "execution_count": 477,
   "id": "eeee261a",
   "metadata": {},
   "outputs": [
    {
     "name": "stdout",
     "output_type": "stream",
     "text": [
      "Hour (12-hour clock, 01-12): 03\n"
     ]
    }
   ],
   "source": [
    "import datetime\n",
    "\n",
    "current_datetime = datetime.datetime.now()\n",
    "hour_12 = current_datetime.strftime(\"%I\")\n",
    "print(\"Hour (12-hour clock, 01-12):\", hour_12)"
   ]
  },
  {
   "cell_type": "markdown",
   "id": "c2ed02bc",
   "metadata": {},
   "source": [
    "#### 18) %p: Locale's equivalent of either AM or PM."
   ]
  },
  {
   "cell_type": "code",
   "execution_count": 478,
   "id": "94a63ada",
   "metadata": {},
   "outputs": [
    {
     "name": "stdout",
     "output_type": "stream",
     "text": [
      "AM/PM indicator: PM\n"
     ]
    }
   ],
   "source": [
    "import datetime\n",
    "\n",
    "current_datetime = datetime.datetime.now()\n",
    "am_pm = current_datetime.strftime(\"%p\")\n",
    "print(\"AM/PM indicator:\", am_pm)"
   ]
  },
  {
   "cell_type": "markdown",
   "id": "aff0fad5",
   "metadata": {},
   "source": [
    "#### 19) %Z: Time zone name (empty string if the object is naive)."
   ]
  },
  {
   "cell_type": "code",
   "execution_count": 479,
   "id": "9855d993",
   "metadata": {},
   "outputs": [
    {
     "name": "stdout",
     "output_type": "stream",
     "text": [
      "Time Zone Name: \n"
     ]
    }
   ],
   "source": [
    "import datetime\n",
    "\n",
    "current_datetime = datetime.datetime.now()\n",
    "timezone_name = current_datetime.strftime(\"%Z\")\n",
    "print(\"Time Zone Name:\", timezone_name)"
   ]
  },
  {
   "cell_type": "markdown",
   "id": "cf723e3c",
   "metadata": {},
   "source": [
    "#### 20) %j: Day of the year as a zero-padded decimal number (001-366)."
   ]
  },
  {
   "cell_type": "code",
   "execution_count": 480,
   "id": "6ff40fa2",
   "metadata": {},
   "outputs": [
    {
     "name": "stdout",
     "output_type": "stream",
     "text": [
      "Day of the Year (001-366): 141\n"
     ]
    }
   ],
   "source": [
    "import datetime\n",
    "\n",
    "current_datetime = datetime.datetime.now()\n",
    "day_of_year = current_datetime.strftime(\"%j\")\n",
    "print(\"Day of the Year (001-366):\", day_of_year)"
   ]
  },
  {
   "cell_type": "markdown",
   "id": "c0b8221b",
   "metadata": {},
   "source": [
    "#### 21) %U: Week number of the year (Sunday as the first day of the week) as a zero-padded decimal number. All days in a new year preceding the first Sunday are considered to be in week 0."
   ]
  },
  {
   "cell_type": "code",
   "execution_count": 481,
   "id": "ffc9f9f5",
   "metadata": {},
   "outputs": [
    {
     "name": "stdout",
     "output_type": "stream",
     "text": [
      "Week Number (Sunday as first day, 00-53): 20\n"
     ]
    }
   ],
   "source": [
    "import datetime\n",
    "\n",
    "current_datetime = datetime.datetime.now()\n",
    "week_number = current_datetime.strftime(\"%U\")\n",
    "print(\"Week Number (Sunday as first day, 00-53):\", week_number)"
   ]
  },
  {
   "cell_type": "markdown",
   "id": "496f206e",
   "metadata": {},
   "source": [
    "#### 22) %W: Week number of the year (Monday as the first day of the week) as a zero-padded decimal number. All days in a new year preceding the first Monday are considered to be in week 0."
   ]
  },
  {
   "cell_type": "code",
   "execution_count": 482,
   "id": "355ecb2e",
   "metadata": {},
   "outputs": [
    {
     "name": "stdout",
     "output_type": "stream",
     "text": [
      "Week Number (Monday as first day, 00-53): 21\n"
     ]
    }
   ],
   "source": [
    "import datetime\n",
    "\n",
    "current_datetime = datetime.datetime.now()\n",
    "week_number = current_datetime.strftime(\"%W\")\n",
    "print(\"Week Number (Monday as first day, 00-53):\", week_number)"
   ]
  },
  {
   "cell_type": "markdown",
   "id": "87f42b66",
   "metadata": {},
   "source": [
    "#### 23) %%: A literal '%' character."
   ]
  },
  {
   "cell_type": "code",
   "execution_count": 483,
   "id": "760efc5f",
   "metadata": {},
   "outputs": [
    {
     "name": "stdout",
     "output_type": "stream",
     "text": [
      "Literal Percent Sign: %\n"
     ]
    }
   ],
   "source": [
    "import datetime\n",
    "\n",
    "current_datetime = datetime.datetime.now()\n",
    "literal_percent = current_datetime.strftime(\"%%\")\n",
    "print(\"Literal Percent Sign:\", literal_percent)"
   ]
  },
  {
   "cell_type": "markdown",
   "id": "6ce96034",
   "metadata": {},
   "source": [
    "### 28) Threads\n",
    "\n",
    "#### In Python, a thread is a lightweight subprocess, also known as a \"lightweight process.\" Threads exist within a process and share the same memory space, allowing them to communicate and cooperate with one another efficiently. Threads are commonly used to perform concurrent operations, enabling the execution of multiple tasks simultaneously within a single program.\n",
    "\n",
    "#### Threads in Python\n",
    "#### Python provides a built-in module called threading for working with threads. The threading module allows you to create, control, and synchronize threads in your Python programs."
   ]
  },
  {
   "cell_type": "code",
   "execution_count": 484,
   "id": "d5437d4e",
   "metadata": {},
   "outputs": [
    {
     "name": "stdout",
     "output_type": "stream",
     "text": [
      "Thread: Thread-5  -  1\n",
      "Thread: Thread-5  -  2\n",
      "Thread: Thread-5  -  3\n",
      "Thread: Thread-5  -  4\n",
      "Thread: Thread-5  -  5\n",
      "Thread finished execution.\n"
     ]
    }
   ],
   "source": [
    "import threading\n",
    "import time\n",
    "\n",
    "def print_numbers():\n",
    "    for i in range(1, 6):\n",
    "        print(\"Thread:\", threading.current_thread().name, \" - \", i)\n",
    "        time.sleep(1)\n",
    "\n",
    "# Create a thread\n",
    "thread = threading.Thread(target=print_numbers)\n",
    "\n",
    "# Start the thread\n",
    "thread.start()\n",
    "\n",
    "# Wait for the thread to finish\n",
    "thread.join()\n",
    "\n",
    "print(\"Thread finished execution.\")"
   ]
  },
  {
   "cell_type": "markdown",
   "id": "1d2ad9c0",
   "metadata": {},
   "source": [
    "#### Benefits of Using Threads\n",
    "#### Using threads in Python offers several benefits:\n",
    "#### Concurrency: Threads allow multiple tasks to run concurrently, improving the overall performance of the program.\n",
    "#### Responsiveness: By running time-consuming tasks in separate threads, the main thread remains responsive to user input or other events.\n",
    "#### Resource Sharing: Threads within the same process can share resources such as memory, enabling efficient communication and data sharing.\n",
    "\n",
    "#### Considerations\n",
    "#### While threading can be useful, it's important to be aware of potential issues such as:\n",
    "#### Race Conditions: Concurrent access to shared resources can lead to race conditions and data corruption if not properly synchronized.\n",
    "#### Global Interpreter Lock (GIL): In CPython, the global interpreter lock limits the execution of Python bytecode to one thread at a time, which can impact the performance of multithreaded programs that are CPU-bound.\n",
    "\n",
    "#### Alternatives\n",
    "#### In addition to the threading module, Python also provides the multiprocessing module for creating processes, which can be used as an alternative to threads. Processes have their own memory space and are not subject to the limitations of the GIL, making them suitable for CPU-bound tasks."
   ]
  },
  {
   "cell_type": "markdown",
   "id": "797d2004",
   "metadata": {},
   "source": [
    "#### In Python, there is typically one type of thread provided by the threading module, which is the primary module for working with threads. However, in practice, threads can be categorized based on their behavior or purpose within a program. Here are some common types of threads in Python:\n",
    "\n",
    "#### Main Thread: This is the initial thread that is created when a Python program starts executing. It is responsible for executing the main entry point of the program and managing other threads.\n",
    "\n",
    "#### Worker Threads: These are threads created by the main thread to perform specific tasks concurrently. Worker threads are typically used to offload time-consuming operations such as I/O-bound or CPU-bound tasks, thereby improving the responsiveness and performance of the program.\n",
    "\n",
    "#### Daemon Threads: Daemon threads are threads that run in the background and do not prevent the program from exiting when all non-daemon threads have finished executing. They are often used for tasks such as monitoring or periodic cleanup operations.\n",
    "\n",
    "#### Producer-Consumer Threads: In concurrent programming, producer-consumer threads are a common pattern where one or more threads produce data, while one or more other threads consume and process that data. This pattern is often used in scenarios such as message queues, task scheduling, or data processing pipelines.\n",
    "\n",
    "#### Reader-Writer Threads: This is another common concurrency pattern where multiple threads need to access a shared resource. Reader threads can read the resource concurrently, while writer threads modify the resource. However, multiple writers should not modify the resource simultaneously, and writers should have exclusive access to the resource while writing.\n",
    "\n",
    "#### GUI Threads: In graphical user interface (GUI) programming, the main thread is often responsible for handling user input events, updating the UI, and responding to user interactions. Other threads may be used for background processing or long-running tasks to keep the UI responsive.\n",
    "\n",
    "#### Networking Threads: In network programming, threads are often used to handle concurrent network connections or perform asynchronous I/O operations. Each thread may be responsible for managing one or more network sockets and handling incoming or outgoing data."
   ]
  },
  {
   "cell_type": "markdown",
   "id": "7c979093",
   "metadata": {},
   "source": [
    "#### 1) Main Thread:"
   ]
  },
  {
   "cell_type": "code",
   "execution_count": 485,
   "id": "e896d53a",
   "metadata": {},
   "outputs": [
    {
     "name": "stdout",
     "output_type": "stream",
     "text": [
      "Main thread: MainThread\n"
     ]
    }
   ],
   "source": [
    "import threading\n",
    "\n",
    "def main():\n",
    "    print(\"Main thread:\", threading.current_thread().name)\n",
    "\n",
    "if __name__ == \"__main__\":\n",
    "    main()"
   ]
  },
  {
   "cell_type": "markdown",
   "id": "20a57f52",
   "metadata": {},
   "source": [
    "#### 2) Worker Threads:"
   ]
  },
  {
   "cell_type": "code",
   "execution_count": 486,
   "id": "6ebe9fa3",
   "metadata": {},
   "outputs": [
    {
     "name": "stdout",
     "output_type": "stream",
     "text": [
      "Worker thread: Thread-6\n",
      "Main thread continues to execute...\n",
      "Worker thread finished\n",
      "Main thread finished\n"
     ]
    }
   ],
   "source": [
    "import threading\n",
    "import time\n",
    "\n",
    "def worker():\n",
    "    print(\"Worker thread:\", threading.current_thread().name)\n",
    "    time.sleep(2)\n",
    "    print(\"Worker thread finished\")\n",
    "\n",
    "if __name__ == \"__main__\":\n",
    "    thread = threading.Thread(target=worker)\n",
    "    thread.start()\n",
    "    print(\"Main thread continues to execute...\")\n",
    "    thread.join()\n",
    "    print(\"Main thread finished\")"
   ]
  },
  {
   "cell_type": "markdown",
   "id": "d5c5200a",
   "metadata": {},
   "source": [
    "#### 3) Daemon Threads:"
   ]
  },
  {
   "cell_type": "code",
   "execution_count": 487,
   "id": "e17d77b6",
   "metadata": {},
   "outputs": [
    {
     "name": "stdout",
     "output_type": "stream",
     "text": [
      "Daemon thread:Main thread continues to execute...\n",
      " Thread-7\n",
      "Daemon thread finished\n",
      "Main thread finished (Daemon thread may still be running)\n"
     ]
    }
   ],
   "source": [
    "import threading\n",
    "import time\n",
    "\n",
    "def daemon():\n",
    "    print(\"Daemon thread:\", threading.current_thread().name)\n",
    "    time.sleep(1)\n",
    "    print(\"Daemon thread finished\")\n",
    "\n",
    "if __name__ == \"__main__\":\n",
    "    thread = threading.Thread(target=daemon)\n",
    "    thread.daemon = True\n",
    "    thread.start()\n",
    "    print(\"Main thread continues to execute...\")\n",
    "    time.sleep(2)\n",
    "    print(\"Main thread finished (Daemon thread may still be running)\")"
   ]
  },
  {
   "cell_type": "markdown",
   "id": "10db89a7",
   "metadata": {},
   "source": [
    "#### 4) Producer-Consumer Threads:"
   ]
  },
  {
   "cell_type": "code",
   "execution_count": 488,
   "id": "24d505d9",
   "metadata": {},
   "outputs": [
    {
     "data": {
      "text/plain": [
       "'import threading\\nimport queue\\nimport time\\n\\ndef producer(queue):\\n    for i in range(5):\\n        print(\"Producing\", i)\\n        queue.put(i)\\n        time.sleep(1)\\n\\ndef consumer(queue):\\n    while True:\\n        item = queue.get()\\n        print(\"Consuming\", item)\\n        time.sleep(2)\\n\\nif __name__ == \"__main__\":\\n    queue = queue.Queue()\\n    producer_thread = threading.Thread(target=producer, args=(queue,))\\n    consumer_thread = threading.Thread(target=consumer, args=(queue,))\\n    producer_thread.start()\\n    consumer_thread.start()\\n    producer_thread.join()\\n    consumer_thread.join()'"
      ]
     },
     "execution_count": 488,
     "metadata": {},
     "output_type": "execute_result"
    }
   ],
   "source": [
    "\"\"\"import threading\n",
    "import queue\n",
    "import time\n",
    "\n",
    "def producer(queue):\n",
    "    for i in range(5):\n",
    "        print(\"Producing\", i)\n",
    "        queue.put(i)\n",
    "        time.sleep(1)\n",
    "\n",
    "def consumer(queue):\n",
    "    while True:\n",
    "        item = queue.get()\n",
    "        print(\"Consuming\", item)\n",
    "        time.sleep(2)\n",
    "\n",
    "if __name__ == \"__main__\":\n",
    "    queue = queue.Queue()\n",
    "    producer_thread = threading.Thread(target=producer, args=(queue,))\n",
    "    consumer_thread = threading.Thread(target=consumer, args=(queue,))\n",
    "    producer_thread.start()\n",
    "    consumer_thread.start()\n",
    "    producer_thread.join()\n",
    "    consumer_thread.join()\"\"\""
   ]
  },
  {
   "cell_type": "markdown",
   "id": "0b6b18c4",
   "metadata": {},
   "source": [
    "#### 5) Reader-Writer Threads (Using RLock):"
   ]
  },
  {
   "cell_type": "code",
   "execution_count": 489,
   "id": "065913e2",
   "metadata": {},
   "outputs": [
    {
     "name": "stdout",
     "output_type": "stream",
     "text": [
      "Reading value: 0\n",
      "Writing value: 0\n",
      "Reading value: 0\n",
      "Writing value: 1\n",
      "Reading value: 1\n",
      "Reading value: 1\n",
      "Writing value: 2\n",
      "Reading value: 2\n",
      "Writing value: 3\n",
      "Writing value: 4\n"
     ]
    }
   ],
   "source": [
    "import threading\n",
    "import time\n",
    "\n",
    "class SharedResource:\n",
    "    def __init__(self):\n",
    "        self.lock = threading.RLock()\n",
    "        self.value = 0\n",
    "\n",
    "    def read(self):\n",
    "        with self.lock:\n",
    "            print(\"Reading value:\", self.value)\n",
    "\n",
    "    def write(self, value):\n",
    "        with self.lock:\n",
    "            print(\"Writing value:\", value)\n",
    "            self.value = value\n",
    "\n",
    "def reader(shared_resource):\n",
    "    for _ in range(5):\n",
    "        shared_resource.read()\n",
    "        time.sleep(1)\n",
    "\n",
    "def writer(shared_resource):\n",
    "    for i in range(5):\n",
    "        shared_resource.write(i)\n",
    "        time.sleep(2)\n",
    "\n",
    "if __name__ == \"__main__\":\n",
    "    shared_resource = SharedResource()\n",
    "    reader_thread = threading.Thread(target=reader, args=(shared_resource,))\n",
    "    writer_thread = threading.Thread(target=writer, args=(shared_resource,))\n",
    "    reader_thread.start()\n",
    "    writer_thread.start()\n",
    "    reader_thread.join()\n",
    "    writer_thread.join()"
   ]
  },
  {
   "cell_type": "markdown",
   "id": "16afa7a3",
   "metadata": {},
   "source": [
    "#### 6) GUI Thread (Tkinter):"
   ]
  },
  {
   "cell_type": "code",
   "execution_count": 490,
   "id": "db9f709a",
   "metadata": {},
   "outputs": [],
   "source": [
    "import threading\n",
    "import tkinter as tk\n",
    "\n",
    "def create_gui():\n",
    "    root = tk.Tk()\n",
    "    root.title(\"GUI Thread Example\")\n",
    "    label = tk.Label(root, text=\"This is a GUI created in a separate thread!\")\n",
    "    label.pack()\n",
    "    root.mainloop()\n",
    "\n",
    "if __name__ == \"__main__\":\n",
    "    gui_thread = threading.Thread(target=create_gui)\n",
    "    gui_thread.start()"
   ]
  },
  {
   "cell_type": "markdown",
   "id": "ca9d9a8e",
   "metadata": {},
   "source": [
    "#### 7) Network Thread (Socket):"
   ]
  },
  {
   "cell_type": "code",
   "execution_count": 491,
   "id": "8725c9d2",
   "metadata": {},
   "outputs": [
    {
     "name": "stderr",
     "output_type": "stream",
     "text": [
      "Exception in thread Thread-11:\n",
      "Traceback (most recent call last):\n",
      "  File \"C:\\Users\\Raja\\anaconda3\\lib\\threading.py\", line 980, in _bootstrap_inner\n"
     ]
    }
   ],
   "source": [
    "import threading\n",
    "import socket\n",
    "import time\n",
    "\n",
    "def client_handler():\n",
    "    client_socket = socket.socket(socket.AF_INET, socket.SOCK_STREAM)\n",
    "    server_address = ('localhost', 8888)\n",
    "    client_socket.connect(server_address)\n",
    "    while True:\n",
    "        try:\n",
    "            message = \"Hello from client\"\n",
    "            client_socket.sendall(message.encode())\n",
    "            data = client_socket.recv(1024)\n",
    "            print(\"Received:\", data.decode())\n",
    "            time.sleep(2)\n",
    "        except KeyboardInterrupt:\n",
    "            print(\"Client closing...\")\n",
    "            client_socket.close()\n",
    "            break\n",
    "\n",
    "def server_handler():\n",
    "    server_socket = socket.socket(socket.AF_INET, socket.SOCK_STREAM)\n",
    "    server_address = ('localhost', 8888)\n",
    "    server_socket.bind(server_address)\n",
    "    server_socket.listen(5)\n",
    "    print(\"Server listening on\", server_address)\n",
    "    while True:\n",
    "        client_socket, client_address = server_socket.accept()\n",
    "        print(\"Connection from:\", client_address)\n",
    "        while True:\n",
    "            data = client_socket.recv(1024)\n",
    "            if not data:\n",
    "                break\n",
    "            print(\"Received:\", data.decode())\n",
    "            message = \"Hello from server\"\n",
    "            client_socket.sendall(message.encode())\n",
    "        client_socket.close()\n",
    "\n",
    "if __name__ == \"__main__\":\n",
    "    server_thread = threading.Thread(target=server_handler)\n",
    "    client_thread = threading.Thread(target=client_handler)\n",
    "    server_thread.start()\n",
    "    client_thread.start()"
   ]
  },
  {
   "cell_type": "markdown",
   "id": "0e3000d1",
   "metadata": {},
   "source": [
    "#### In the context of Python (and programming in general), \"single-tasking\" and \"multi-tasking\" refer to different approaches to handling tasks and processes within a program or system.\n",
    "\n",
    "#### 1) Single-tasking:\n",
    "\n",
    "#### Single-tasking refers to the execution of only one task or process at a time. In a single-tasking environment, the CPU executes instructions from one task until it completes or yields control. Once the task is finished, the CPU moves on to the next task in the queue.\n",
    "\n",
    "#### In Python, single-tasking can be achieved using synchronous programming techniques, where each task is executed sequentially, one after the other. For example, executing a series of function calls or operations in a linear fashion without concurrency."
   ]
  },
  {
   "cell_type": "code",
   "execution_count": 492,
   "id": "e570de6a",
   "metadata": {},
   "outputs": [
    {
     "name": "stderr",
     "output_type": "stream",
     "text": [
      "    self.run()\n",
      "  File \"C:\\Users\\Raja\\anaconda3\\lib\\threading.py\", line 917, in run\n",
      "    self._target(*self._args, **self._kwargs)\n",
      "  File \"C:\\Users\\Raja\\AppData\\Local\\Temp\\ipykernel_18108\\92300425.py\", line 24, in server_handler\n",
      "OSError: [WinError 10048] Only one usage of each socket address (protocol/network address/port) is normally permitted\n"
     ]
    },
    {
     "name": "stdout",
     "output_type": "stream",
     "text": [
      "Task 1 executing...\n",
      "Task 2 executing...\n"
     ]
    }
   ],
   "source": [
    "def task1():\n",
    "    print(\"Task 1 executing...\")\n",
    "    # Perform task 1 operations\n",
    "\n",
    "def task2():\n",
    "    print(\"Task 2 executing...\")\n",
    "    # Perform task 2 operations\n",
    "\n",
    "if __name__ == \"__main__\":\n",
    "    task1()\n",
    "    task2()"
   ]
  },
  {
   "cell_type": "markdown",
   "id": "92b3bdb8",
   "metadata": {},
   "source": [
    "#### 2) Multi-tasking:\n",
    "\n",
    "#### Multi-tasking refers to the ability to execute multiple tasks or processes concurrently. In a multi-tasking environment, the CPU switches between tasks, allowing them to progress simultaneously. This can be achieved through parallelism or concurrency.\n",
    "\n",
    "#### In Python, multi-tasking can be implemented using various techniques such as threading, multiprocessing, asynchronous programming, or using external libraries/frameworks for parallel computing."
   ]
  },
  {
   "cell_type": "code",
   "execution_count": 493,
   "id": "38ddbfc7",
   "metadata": {},
   "outputs": [
    {
     "name": "stdout",
     "output_type": "stream",
     "text": [
      "Task 1 executing...\n",
      "Task 2 executing...\n",
      "Task 2 finished\n",
      "Task 1 finished\n"
     ]
    }
   ],
   "source": [
    "import threading\n",
    "import time\n",
    "\n",
    "def task1():\n",
    "    print(\"Task 1 executing...\")\n",
    "    time.sleep(2)  # Simulate task 1 taking time\n",
    "    print(\"Task 1 finished\")\n",
    "\n",
    "def task2():\n",
    "    print(\"Task 2 executing...\")\n",
    "    time.sleep(1)  # Simulate task 2 taking time\n",
    "    print(\"Task 2 finished\")\n",
    "\n",
    "if __name__ == \"__main__\":\n",
    "    thread1 = threading.Thread(target=task1)\n",
    "    thread2 = threading.Thread(target=task2)\n",
    "    thread1.start()\n",
    "    thread2.start()\n",
    "    thread1.join()\n",
    "    thread2.join()"
   ]
  },
  {
   "cell_type": "markdown",
   "id": "ce5accac",
   "metadata": {},
   "source": [
    "#### Thread synchronization in Python refers to the coordination and control of multiple threads to ensure orderly execution and proper access to shared resources. In a multi-threaded environment, where multiple threads execute concurrently, thread synchronization mechanisms are essential for preventing race conditions, data corruption, and other concurrency issues.\n",
    "\n",
    "#### Thread synchronization mechanisms allow threads to coordinate their activities, communicate with each other, and ensure that critical sections of code are executed atomically or in a controlled manner. This helps maintain consistency and integrity in shared data structures and resources accessed by multiple threads.\n",
    "\n",
    "#### Python provides several built-in mechanisms for thread synchronization, including:\n",
    "\n",
    "#### 1) Locks (Mutexes):\n",
    "\n",
    "#### Locks, also known as mutexes (mutual exclusion locks), are the most common synchronization mechanism used to control access to shared resources. A lock allows only one thread at a time to acquire exclusive access to a critical section of code or a shared resource. Other threads attempting to acquire the lock will be blocked until the lock is released."
   ]
  },
  {
   "cell_type": "code",
   "execution_count": 494,
   "id": "2042006d",
   "metadata": {},
   "outputs": [],
   "source": [
    "import threading\n",
    "\n",
    "# Create a lock\n",
    "lock = threading.Lock()\n",
    "\n",
    "def critical_section():\n",
    "    # Acquire the lock\n",
    "    lock.acquire()\n",
    "    try:\n",
    "        # Critical section - shared resource accessed here\n",
    "        pass\n",
    "    finally:\n",
    "        # Release the lock\n",
    "        lock.release()"
   ]
  },
  {
   "cell_type": "code",
   "execution_count": 495,
   "id": "d61da1e8",
   "metadata": {},
   "outputs": [
    {
     "name": "stdout",
     "output_type": "stream",
     "text": [
      "Entered critical section\n",
      "Entered critical section\n",
      "Entered critical section\n",
      "Entered critical section\n",
      "Entered critical section\n"
     ]
    }
   ],
   "source": [
    "import threading\n",
    "\n",
    "# Create a lock\n",
    "lock = threading.Lock()\n",
    "\n",
    "def critical_section():\n",
    "    # Acquire the lock\n",
    "    lock.acquire()\n",
    "    try:\n",
    "        # Critical section - shared resource accessed here\n",
    "        print(\"Entered critical section\")\n",
    "    finally:\n",
    "        # Release the lock\n",
    "        lock.release()\n",
    "\n",
    "# Create multiple threads accessing the critical section\n",
    "threads = []\n",
    "for _ in range(5):\n",
    "    thread = threading.Thread(target=critical_section)\n",
    "    threads.append(thread)\n",
    "    thread.start()\n",
    "\n",
    "# Wait for all threads to finish\n",
    "for thread in threads:\n",
    "    thread.join()"
   ]
  },
  {
   "cell_type": "markdown",
   "id": "445182bb",
   "metadata": {},
   "source": [
    "#### 2) Condition Variables:\n",
    "\n",
    "#### Condition variables allow threads to wait for a certain condition to become true before proceeding. They are often used in producer-consumer scenarios or other situations where threads need to wait for specific events or states to occur."
   ]
  },
  {
   "cell_type": "code",
   "execution_count": 496,
   "id": "974eaa9f",
   "metadata": {},
   "outputs": [],
   "source": [
    "import threading\n",
    "\n",
    "# Create a condition variable\n",
    "condition = threading.Condition()\n",
    "\n",
    "def producer():\n",
    "    with condition:\n",
    "        # Produce item\n",
    "        condition.notify()  # Notify waiting consumers\n",
    "\n",
    "def consumer():\n",
    "    with condition:\n",
    "        while not condition_predicate():\n",
    "            condition.wait()  # Wait until condition is met\n",
    "        # Consume item"
   ]
  },
  {
   "cell_type": "code",
   "execution_count": 497,
   "id": "1209a56f",
   "metadata": {},
   "outputs": [
    {
     "name": "stdout",
     "output_type": "stream",
     "text": [
      "Produced item\n",
      "Consumed item: New item\n"
     ]
    }
   ],
   "source": [
    "import threading\n",
    "\n",
    "# Create a condition variable\n",
    "condition = threading.Condition()\n",
    "\n",
    "# Shared resource\n",
    "shared_resource = []\n",
    "\n",
    "def producer():\n",
    "    global shared_resource\n",
    "    with condition:\n",
    "        # Produce item\n",
    "        shared_resource.append(\"New item\")\n",
    "        print(\"Produced item\")\n",
    "        # Notify waiting consumers\n",
    "        condition.notify()\n",
    "\n",
    "def consumer():\n",
    "    global shared_resource\n",
    "    with condition:\n",
    "        while not shared_resource:\n",
    "            # Wait until there are items to consume\n",
    "            condition.wait()\n",
    "        # Consume item\n",
    "        item = shared_resource.pop()\n",
    "        print(\"Consumed item:\", item)\n",
    "\n",
    "# Create producer and consumer threads\n",
    "producer_thread = threading.Thread(target=producer)\n",
    "consumer_thread = threading.Thread(target=consumer)\n",
    "\n",
    "# Start threads\n",
    "producer_thread.start()\n",
    "consumer_thread.start()\n",
    "\n",
    "# Wait for threads to finish\n",
    "producer_thread.join()\n",
    "consumer_thread.join()"
   ]
  },
  {
   "cell_type": "markdown",
   "id": "d8d22ea2",
   "metadata": {},
   "source": [
    "#### 3) Semaphores:\n",
    "\n",
    "#### Semaphores are a more generalized synchronization primitive that can be used to control access to a finite number of resources. They maintain a count of available resources and allow threads to acquire or release resources based on the count"
   ]
  },
  {
   "cell_type": "code",
   "execution_count": 498,
   "id": "42c26fa1",
   "metadata": {},
   "outputs": [],
   "source": [
    "import threading\n",
    "\n",
    "# Create a semaphore with initial count\n",
    "semaphore = threading.Semaphore(value=5)\n",
    "\n",
    "def task():\n",
    "    # Acquire semaphore\n",
    "    semaphore.acquire()\n",
    "    try:\n",
    "        # Critical section - shared resource accessed here\n",
    "        pass\n",
    "    finally:\n",
    "        # Release semaphore\n",
    "        semaphore.release()"
   ]
  },
  {
   "cell_type": "code",
   "execution_count": 499,
   "id": "225a33ef",
   "metadata": {},
   "outputs": [
    {
     "name": "stdout",
     "output_type": "stream",
     "text": [
      "Entered critical section\n",
      "Entered critical section\n",
      "Entered critical section\n",
      "Entered critical section\n",
      "Entered critical section\n"
     ]
    }
   ],
   "source": [
    "import threading\n",
    "\n",
    "# Create a semaphore with initial count\n",
    "semaphore = threading.Semaphore(value=2)\n",
    "\n",
    "def task():\n",
    "    # Acquire semaphore\n",
    "    semaphore.acquire()\n",
    "    try:\n",
    "        # Critical section - shared resource accessed here\n",
    "        print(\"Entered critical section\")\n",
    "    finally:\n",
    "        # Release semaphore\n",
    "        semaphore.release()\n",
    "\n",
    "# Create multiple threads accessing the critical section\n",
    "threads = []\n",
    "for _ in range(5):\n",
    "    thread = threading.Thread(target=task)\n",
    "    threads.append(thread)\n",
    "    thread.start()\n",
    "\n",
    "# Wait for all threads to finish\n",
    "for thread in threads:\n",
    "    thread.join()"
   ]
  },
  {
   "cell_type": "markdown",
   "id": "dd41e75f",
   "metadata": {},
   "source": [
    "#### 4) Event Objects:\n",
    "\n",
    "#### Event objects are used to communicate between threads by signaling events or states. Threads can wait for an event to be set by one thread before proceeding."
   ]
  },
  {
   "cell_type": "code",
   "execution_count": 500,
   "id": "d5d5b895",
   "metadata": {},
   "outputs": [],
   "source": [
    "import threading\n",
    "\n",
    "# Create an event object\n",
    "event = threading.Event()\n",
    "\n",
    "def wait_for_event():\n",
    "    # Wait for event to be set\n",
    "    event.wait()\n",
    "    # Event is set, continue execution\n",
    "\n",
    "def set_event():\n",
    "    # Set the event\n",
    "    event.set()"
   ]
  },
  {
   "cell_type": "code",
   "execution_count": 501,
   "id": "1837140f",
   "metadata": {},
   "outputs": [
    {
     "name": "stdout",
     "output_type": "stream",
     "text": [
      "Waiting for event to be setSetting event\n",
      "\n",
      "Event set, continuing execution\n"
     ]
    }
   ],
   "source": [
    "import threading\n",
    "import time\n",
    "\n",
    "# Create an event object\n",
    "event = threading.Event()\n",
    "\n",
    "def wait_for_event():\n",
    "    print(\"Waiting for event to be set\")\n",
    "    # Wait for event to be set\n",
    "    event.wait()\n",
    "    print(\"Event set, continuing execution\")\n",
    "\n",
    "def set_event():\n",
    "    print(\"Setting event\")\n",
    "    # Set the event\n",
    "    event.set()\n",
    "    time.sleep(2)  # Simulate some work\n",
    "    event.clear()  # Clear the event for future use\n",
    "\n",
    "# Create threads\n",
    "wait_thread = threading.Thread(target=wait_for_event)\n",
    "set_thread = threading.Thread(target=set_event)\n",
    "\n",
    "# Start threads\n",
    "wait_thread.start()\n",
    "set_thread.start()\n",
    "\n",
    "# Wait for threads to finish\n",
    "wait_thread.join()\n",
    "set_thread.join()"
   ]
  },
  {
   "cell_type": "markdown",
   "id": "27aebd37",
   "metadata": {},
   "source": [
    "#### To avoid deadlock in Python, you need to ensure that threads acquire locks in a consistent order. Here's an example demonstrating how to avoid deadlock by enforcing a lock ordering:\n",
    "\n",
    "#### In this example:\n",
    "\n",
    "#### The acquire_locks function acquires locks lock1 and lock2 in a specific order based on their memory addresses.\n",
    "#### Both task1 and task2 functions acquire locks in the same order to prevent deadlock.\n",
    "#### release_locks releases locks in reverse order of acquisition.\n",
    "#### By enforcing a consistent lock acquisition order across all threads, we avoid the possibility of deadlock."
   ]
  },
  {
   "cell_type": "code",
   "execution_count": 502,
   "id": "52bb21ae",
   "metadata": {},
   "outputs": [
    {
     "name": "stdout",
     "output_type": "stream",
     "text": [
      "Thread-29 acquired <locked _thread.lock object at 0x0000016D4D3155A0>\n",
      "Thread-29 acquired <locked _thread.lock object at 0x0000016D4D315ED0>\n",
      "Thread-29Thread-30 acquired <locked _thread.lock object at 0x0000016D4D3155A0>\n",
      " released <locked _thread.lock object at 0x0000016D4D3155A0>\n",
      "Thread-29 released <unlocked _thread.lock object at 0x0000016D4D315ED0>\n",
      "Thread-30 acquired <locked _thread.lock object at 0x0000016D4D315ED0>\n",
      "Thread-30 released <unlocked _thread.lock object at 0x0000016D4D3155A0>\n",
      "Thread-30 released <unlocked _thread.lock object at 0x0000016D4D315ED0>\n",
      "Main thread finished\n"
     ]
    }
   ],
   "source": [
    "import threading\n",
    "import time\n",
    "\n",
    "# Locks\n",
    "lock1 = threading.Lock()\n",
    "lock2 = threading.Lock()\n",
    "\n",
    "def acquire_locks(lock1, lock2):\n",
    "    # Acquire locks in a specific order\n",
    "    locks = [lock1, lock2]\n",
    "    locks.sort(key=lambda x: id(x))\n",
    "    for lock in locks:\n",
    "        lock.acquire()\n",
    "        print(threading.current_thread().name, \"acquired\", lock)\n",
    "\n",
    "def release_locks(lock1, lock2):\n",
    "    for lock in [lock1, lock2]:\n",
    "        lock.release()\n",
    "        print(threading.current_thread().name, \"released\", lock)\n",
    "\n",
    "def task1():\n",
    "    acquire_locks(lock1, lock2)\n",
    "    time.sleep(1)  # Simulate work\n",
    "    release_locks(lock1, lock2)\n",
    "\n",
    "def task2():\n",
    "    acquire_locks(lock1, lock2)\n",
    "    time.sleep(1)  # Simulate work\n",
    "    release_locks(lock1, lock2)\n",
    "\n",
    "# Create threads\n",
    "thread1 = threading.Thread(target=task1)\n",
    "thread2 = threading.Thread(target=task2)\n",
    "\n",
    "# Start threads\n",
    "thread1.start()\n",
    "thread2.start()\n",
    "\n",
    "# Wait for threads to finish\n",
    "thread1.join()\n",
    "thread2.join()\n",
    "\n",
    "print(\"Main thread finished\")\n"
   ]
  },
  {
   "cell_type": "markdown",
   "id": "28fea35b",
   "metadata": {},
   "source": [
    "#### In this example:\n",
    "\n",
    "#### The producer function produces items and adds them to the shared_resource.\n",
    "#### The consumer function consumes items from the shared_resource.\n",
    "#### The condition variable is used for communication between the producer and consumer threads.\n",
    "#### When the producer produces an item, it notifies the waiting consumer thread using condition.notify().\n",
    "#### The consumer thread waits for items to be available using condition.wait() and consumes them when notified by the producer.\n",
    "#### This example demonstrates how notify and wait methods of the Condition object can be used for thread communication and synchronization in Python."
   ]
  },
  {
   "cell_type": "code",
   "execution_count": 503,
   "id": "f5e24d6d",
   "metadata": {},
   "outputs": [
    {
     "data": {
      "text/plain": [
       "'import threading\\nimport time\\n\\n# Shared resource\\nshared_resource = []\\n\\n# Condition variable for communication\\ncondition = threading.Condition()\\n\\ndef producer():\\n    global shared_resource\\n    for i in range(5):\\n        with condition:\\n            # Produce item\\n            item = \"Item \" + str(i)\\n            shared_resource.append(item)\\n            print(\"Produced:\", item)\\n            # Notify waiting consumers\\n            condition.notify()\\n        time.sleep(1)\\n\\ndef consumer():\\n    global shared_resource\\n    while True:\\n        with condition:\\n            while not shared_resource:\\n                # Wait until there are items to consume\\n                print(\"Waiting for items to consume...\")\\n                condition.wait()\\n            # Consume item\\n            item = shared_resource.pop(0)\\n            print(\"Consumed:\", item)\\n        time.sleep(2)\\n\\n# Create producer and consumer threads\\nproducer_thread = threading.Thread(target=producer)\\nconsumer_thread = threading.Thread(target=consumer)\\n\\n# Start threads\\nproducer_thread.start()\\nconsumer_thread.start()\\n\\n# Wait for threads to finish\\nproducer_thread.join()\\nconsumer_thread.join()\\n\\nprint(\"Main thread finished\")'"
      ]
     },
     "execution_count": 503,
     "metadata": {},
     "output_type": "execute_result"
    }
   ],
   "source": [
    "\"\"\"import threading\n",
    "import time\n",
    "\n",
    "# Shared resource\n",
    "shared_resource = []\n",
    "\n",
    "# Condition variable for communication\n",
    "condition = threading.Condition()\n",
    "\n",
    "def producer():\n",
    "    global shared_resource\n",
    "    for i in range(5):\n",
    "        with condition:\n",
    "            # Produce item\n",
    "            item = \"Item \" + str(i)\n",
    "            shared_resource.append(item)\n",
    "            print(\"Produced:\", item)\n",
    "            # Notify waiting consumers\n",
    "            condition.notify()\n",
    "        time.sleep(1)\n",
    "\n",
    "def consumer():\n",
    "    global shared_resource\n",
    "    while True:\n",
    "        with condition:\n",
    "            while not shared_resource:\n",
    "                # Wait until there are items to consume\n",
    "                print(\"Waiting for items to consume...\")\n",
    "                condition.wait()\n",
    "            # Consume item\n",
    "            item = shared_resource.pop(0)\n",
    "            print(\"Consumed:\", item)\n",
    "        time.sleep(2)\n",
    "\n",
    "# Create producer and consumer threads\n",
    "producer_thread = threading.Thread(target=producer)\n",
    "consumer_thread = threading.Thread(target=consumer)\n",
    "\n",
    "# Start threads\n",
    "producer_thread.start()\n",
    "consumer_thread.start()\n",
    "\n",
    "# Wait for threads to finish\n",
    "producer_thread.join()\n",
    "consumer_thread.join()\n",
    "\n",
    "print(\"Main thread finished\")\"\"\""
   ]
  },
  {
   "cell_type": "markdown",
   "id": "bbe9834b",
   "metadata": {},
   "source": [
    "### 29) Data Base Connectivity\n",
    "\n",
    "#### Database connectivity in Python refers to the ability of a Python program to interact with a database management system (DBMS) to perform various operations such as querying, inserting, updating, and deleting data in a database.\n",
    "\n",
    "#### Python provides several libraries and modules for database connectivity, each with its own set of features and capabilities. Some of the popular libraries for database connectivity in Python include:\n",
    "\n",
    "#### 1) Python Standard Library:\n",
    "#### The sqlite3 module in the Python standard library provides a lightweight and built-in SQL database engine that allows Python programs to interact with SQLite databases without requiring additional installations.\n",
    "\n",
    "#### 2) Third-party Libraries:\n",
    "#### MySQL Connector/Python: A MySQL driver for Python that provides connectivity to MySQL databases.\n",
    "#### psycopg2: A PostgreSQL adapter for Python that allows Python programs to interact with PostgreSQL databases.\n",
    "#### cx_Oracle: A Python extension module that enables access to Oracle databases from Python.\n",
    "#### pyodbc: A Python DB API 2 module for ODBC (Open Database Connectivity) that allows Python programs to connect to any database supporting ODBC, such as Microsoft SQL Server, Oracle, and others.\n",
    "#### SQLAlchemy: A SQL toolkit and Object-Relational Mapping (ORM) library for Python that provides a high-level interface for database operations, including connectivity, querying, and ORM features.\n",
    "\n",
    "#### 3) Object-Relational Mapping (ORM) Libraries:\n",
    "#### ORM libraries such as SQLAlchemy, Django ORM, and Peewee provide a higher-level abstraction over database operations by allowing developers to work with database entities as Python objects, abstracting away the underlying SQL queries."
   ]
  },
  {
   "cell_type": "code",
   "execution_count": 504,
   "id": "d0c7f6cb",
   "metadata": {},
   "outputs": [
    {
     "name": "stdout",
     "output_type": "stream",
     "text": [
      "[('2024-05-22', 'BUY', 'GOOGL', 100.0, 1000.25)]\n"
     ]
    }
   ],
   "source": [
    "import sqlite3\n",
    "\n",
    "# Connect to SQLite database (creates a new database if it doesn't exist)\n",
    "conn = sqlite3.connect('example.db')\n",
    "\n",
    "# Create a cursor object to execute SQL commands\n",
    "cursor = conn.cursor()\n",
    "\n",
    "# Create a new table\n",
    "cursor.execute('''CREATE TABLE IF NOT EXISTS stocks\n",
    "                  (date TEXT, trans TEXT, symbol TEXT, qty REAL, price REAL)''')\n",
    "\n",
    "# Insert a row of data\n",
    "cursor.execute(\"INSERT INTO stocks VALUES ('2024-05-22', 'BUY', 'GOOGL', 100, 1000.25)\")\n",
    "\n",
    "# Save (commit) the changes\n",
    "conn.commit()\n",
    "\n",
    "# Fetch data\n",
    "cursor.execute(\"SELECT * FROM stocks\")\n",
    "print(cursor.fetchall())\n",
    "\n",
    "# Close the connection\n",
    "conn.close()"
   ]
  },
  {
   "cell_type": "markdown",
   "id": "87e75a00",
   "metadata": {},
   "source": [
    "#### 1) Connecting to a Database:"
   ]
  },
  {
   "cell_type": "code",
   "execution_count": 505,
   "id": "364c424f",
   "metadata": {},
   "outputs": [],
   "source": [
    "import sqlite3\n",
    "\n",
    "# Connect to SQLite database (creates a new database if it doesn't exist)\n",
    "conn = sqlite3.connect('example.db')"
   ]
  },
  {
   "cell_type": "markdown",
   "id": "17083a69",
   "metadata": {},
   "source": [
    "#### 2) Creating a Table:"
   ]
  },
  {
   "cell_type": "code",
   "execution_count": 506,
   "id": "60ee55f8",
   "metadata": {},
   "outputs": [
    {
     "data": {
      "text/plain": [
       "<sqlite3.Cursor at 0x16d4d31ac70>"
      ]
     },
     "execution_count": 506,
     "metadata": {},
     "output_type": "execute_result"
    }
   ],
   "source": [
    "# Create a cursor object to execute SQL commands\n",
    "cursor = conn.cursor()\n",
    "\n",
    "# Create a new table\n",
    "cursor.execute('''CREATE TABLE IF NOT EXISTS stocks\n",
    "                  (date TEXT, trans TEXT, symbol TEXT, qty REAL, price REAL)''')"
   ]
  },
  {
   "cell_type": "markdown",
   "id": "80381b75",
   "metadata": {},
   "source": [
    "#### 3) Inserting Data:"
   ]
  },
  {
   "cell_type": "code",
   "execution_count": 507,
   "id": "4a2d8a38",
   "metadata": {},
   "outputs": [],
   "source": [
    "# Insert a row of data\n",
    "cursor.execute(\"INSERT INTO stocks VALUES ('2024-05-22', 'BUY', 'GOOGL', 100, 1000.25)\")\n",
    "\n",
    "# Save (commit) the changes\n",
    "conn.commit()"
   ]
  },
  {
   "cell_type": "markdown",
   "id": "d9df8807",
   "metadata": {},
   "source": [
    "#### 4) Updating Data:"
   ]
  },
  {
   "cell_type": "code",
   "execution_count": 508,
   "id": "cca9713c",
   "metadata": {},
   "outputs": [],
   "source": [
    "# Update data\n",
    "cursor.execute(\"UPDATE stocks SET qty = 200 WHERE symbol = 'GOOGL'\")\n",
    "\n",
    "# Save (commit) the changes\n",
    "conn.commit()"
   ]
  },
  {
   "cell_type": "markdown",
   "id": "0774e811",
   "metadata": {},
   "source": [
    "#### 5) Deleting Data:"
   ]
  },
  {
   "cell_type": "code",
   "execution_count": 509,
   "id": "19ab6c45",
   "metadata": {},
   "outputs": [],
   "source": [
    "# Delete data\n",
    "cursor.execute(\"DELETE FROM stocks WHERE symbol = 'GOOGL'\")\n",
    "\n",
    "# Save (commit) the changes\n",
    "conn.commit()"
   ]
  },
  {
   "cell_type": "markdown",
   "id": "44bbaa08",
   "metadata": {},
   "source": [
    "#### 6) Querying Data:"
   ]
  },
  {
   "cell_type": "code",
   "execution_count": 510,
   "id": "310b74a7",
   "metadata": {},
   "outputs": [],
   "source": [
    "# Fetch data\n",
    "cursor.execute(\"SELECT * FROM stocks\")\n",
    "rows = cursor.fetchall()\n",
    "for row in rows:\n",
    "    print(row)"
   ]
  },
  {
   "cell_type": "markdown",
   "id": "8218050d",
   "metadata": {},
   "source": [
    "#### 7) Closing the Connection:"
   ]
  },
  {
   "cell_type": "code",
   "execution_count": 511,
   "id": "ca5715df",
   "metadata": {},
   "outputs": [],
   "source": [
    "# Close the connection\n",
    "conn.close()"
   ]
  },
  {
   "cell_type": "code",
   "execution_count": null,
   "id": "19644f48",
   "metadata": {},
   "outputs": [],
   "source": []
  }
 ],
 "metadata": {
  "kernelspec": {
   "display_name": "Python 3 (ipykernel)",
   "language": "python",
   "name": "python3"
  },
  "language_info": {
   "codemirror_mode": {
    "name": "ipython",
    "version": 3
   },
   "file_extension": ".py",
   "mimetype": "text/x-python",
   "name": "python",
   "nbconvert_exporter": "python",
   "pygments_lexer": "ipython3",
   "version": "3.9.13"
  }
 },
 "nbformat": 4,
 "nbformat_minor": 5
}
